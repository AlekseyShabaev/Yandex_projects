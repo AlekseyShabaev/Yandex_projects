{
 "cells": [
  {
   "cell_type": "markdown",
   "metadata": {
    "id": "-VFbjcb3Awb7"
   },
   "source": [
    "# Исследование объявлений о продаже квартир\n",
    "\n",
    "В нашем распоряжении данные сервиса Яндекс Недвижимость — архив объявлений о продаже квартир в Санкт-Петербурге и соседних населённых пунктах за несколько лет. Нам нужно научиться определять рыночную стоимость объектов недвижимости. Для этого проведем исследовательский анализ данных и установим параметры, влияющие на цену объектов. Это позволит построить автоматизированную систему: она отследит аномалии и мошенническую деятельность.\n",
    "\n",
    "По каждой квартире на продажу доступны два вида данных. Первые вписаны пользователем, вторые — получены автоматически на основе картографических данных. Например, расстояние до центра, аэропорта и других объектов — эти данные автоматически получены из геосервисов. Количество парков и водоёмов также заполняется без участия пользователя."
   ]
  },
  {
   "cell_type": "markdown",
   "metadata": {
    "id": "aeFLH07FAwb9"
   },
   "source": [
    "### Загрузка данных и изучение общей информации"
   ]
  },
  {
   "cell_type": "code",
   "execution_count": 1,
   "metadata": {
    "id": "7MZxY65pAwb9"
   },
   "outputs": [
    {
     "data": {
      "text/html": [
       "<div>\n",
       "<style scoped>\n",
       "    .dataframe tbody tr th:only-of-type {\n",
       "        vertical-align: middle;\n",
       "    }\n",
       "\n",
       "    .dataframe tbody tr th {\n",
       "        vertical-align: top;\n",
       "    }\n",
       "\n",
       "    .dataframe thead th {\n",
       "        text-align: right;\n",
       "    }\n",
       "</style>\n",
       "<table border=\"1\" class=\"dataframe\">\n",
       "  <thead>\n",
       "    <tr style=\"text-align: right;\">\n",
       "      <th></th>\n",
       "      <th>total_images</th>\n",
       "      <th>last_price</th>\n",
       "      <th>total_area</th>\n",
       "      <th>first_day_exposition</th>\n",
       "      <th>rooms</th>\n",
       "      <th>ceiling_height</th>\n",
       "      <th>floors_total</th>\n",
       "      <th>living_area</th>\n",
       "      <th>floor</th>\n",
       "      <th>is_apartment</th>\n",
       "      <th>...</th>\n",
       "      <th>kitchen_area</th>\n",
       "      <th>balcony</th>\n",
       "      <th>locality_name</th>\n",
       "      <th>airports_nearest</th>\n",
       "      <th>cityCenters_nearest</th>\n",
       "      <th>parks_around3000</th>\n",
       "      <th>parks_nearest</th>\n",
       "      <th>ponds_around3000</th>\n",
       "      <th>ponds_nearest</th>\n",
       "      <th>days_exposition</th>\n",
       "    </tr>\n",
       "  </thead>\n",
       "  <tbody>\n",
       "    <tr>\n",
       "      <th>0</th>\n",
       "      <td>20</td>\n",
       "      <td>13000000.0</td>\n",
       "      <td>108.00</td>\n",
       "      <td>2019-03-07T00:00:00</td>\n",
       "      <td>3</td>\n",
       "      <td>2.70</td>\n",
       "      <td>16.0</td>\n",
       "      <td>51.00</td>\n",
       "      <td>8</td>\n",
       "      <td>NaN</td>\n",
       "      <td>...</td>\n",
       "      <td>25.00</td>\n",
       "      <td>NaN</td>\n",
       "      <td>Санкт-Петербург</td>\n",
       "      <td>18863.0</td>\n",
       "      <td>16028.0</td>\n",
       "      <td>1.0</td>\n",
       "      <td>482.0</td>\n",
       "      <td>2.0</td>\n",
       "      <td>755.0</td>\n",
       "      <td>NaN</td>\n",
       "    </tr>\n",
       "    <tr>\n",
       "      <th>1</th>\n",
       "      <td>7</td>\n",
       "      <td>3350000.0</td>\n",
       "      <td>40.40</td>\n",
       "      <td>2018-12-04T00:00:00</td>\n",
       "      <td>1</td>\n",
       "      <td>NaN</td>\n",
       "      <td>11.0</td>\n",
       "      <td>18.60</td>\n",
       "      <td>1</td>\n",
       "      <td>NaN</td>\n",
       "      <td>...</td>\n",
       "      <td>11.00</td>\n",
       "      <td>2.0</td>\n",
       "      <td>посёлок Шушары</td>\n",
       "      <td>12817.0</td>\n",
       "      <td>18603.0</td>\n",
       "      <td>0.0</td>\n",
       "      <td>NaN</td>\n",
       "      <td>0.0</td>\n",
       "      <td>NaN</td>\n",
       "      <td>81.0</td>\n",
       "    </tr>\n",
       "    <tr>\n",
       "      <th>2</th>\n",
       "      <td>10</td>\n",
       "      <td>5196000.0</td>\n",
       "      <td>56.00</td>\n",
       "      <td>2015-08-20T00:00:00</td>\n",
       "      <td>2</td>\n",
       "      <td>NaN</td>\n",
       "      <td>5.0</td>\n",
       "      <td>34.30</td>\n",
       "      <td>4</td>\n",
       "      <td>NaN</td>\n",
       "      <td>...</td>\n",
       "      <td>8.30</td>\n",
       "      <td>0.0</td>\n",
       "      <td>Санкт-Петербург</td>\n",
       "      <td>21741.0</td>\n",
       "      <td>13933.0</td>\n",
       "      <td>1.0</td>\n",
       "      <td>90.0</td>\n",
       "      <td>2.0</td>\n",
       "      <td>574.0</td>\n",
       "      <td>558.0</td>\n",
       "    </tr>\n",
       "    <tr>\n",
       "      <th>3</th>\n",
       "      <td>0</td>\n",
       "      <td>64900000.0</td>\n",
       "      <td>159.00</td>\n",
       "      <td>2015-07-24T00:00:00</td>\n",
       "      <td>3</td>\n",
       "      <td>NaN</td>\n",
       "      <td>14.0</td>\n",
       "      <td>NaN</td>\n",
       "      <td>9</td>\n",
       "      <td>NaN</td>\n",
       "      <td>...</td>\n",
       "      <td>NaN</td>\n",
       "      <td>0.0</td>\n",
       "      <td>Санкт-Петербург</td>\n",
       "      <td>28098.0</td>\n",
       "      <td>6800.0</td>\n",
       "      <td>2.0</td>\n",
       "      <td>84.0</td>\n",
       "      <td>3.0</td>\n",
       "      <td>234.0</td>\n",
       "      <td>424.0</td>\n",
       "    </tr>\n",
       "    <tr>\n",
       "      <th>4</th>\n",
       "      <td>2</td>\n",
       "      <td>10000000.0</td>\n",
       "      <td>100.00</td>\n",
       "      <td>2018-06-19T00:00:00</td>\n",
       "      <td>2</td>\n",
       "      <td>3.03</td>\n",
       "      <td>14.0</td>\n",
       "      <td>32.00</td>\n",
       "      <td>13</td>\n",
       "      <td>NaN</td>\n",
       "      <td>...</td>\n",
       "      <td>41.00</td>\n",
       "      <td>NaN</td>\n",
       "      <td>Санкт-Петербург</td>\n",
       "      <td>31856.0</td>\n",
       "      <td>8098.0</td>\n",
       "      <td>2.0</td>\n",
       "      <td>112.0</td>\n",
       "      <td>1.0</td>\n",
       "      <td>48.0</td>\n",
       "      <td>121.0</td>\n",
       "    </tr>\n",
       "    <tr>\n",
       "      <th>5</th>\n",
       "      <td>10</td>\n",
       "      <td>2890000.0</td>\n",
       "      <td>30.40</td>\n",
       "      <td>2018-09-10T00:00:00</td>\n",
       "      <td>1</td>\n",
       "      <td>NaN</td>\n",
       "      <td>12.0</td>\n",
       "      <td>14.40</td>\n",
       "      <td>5</td>\n",
       "      <td>NaN</td>\n",
       "      <td>...</td>\n",
       "      <td>9.10</td>\n",
       "      <td>NaN</td>\n",
       "      <td>городской посёлок Янино-1</td>\n",
       "      <td>NaN</td>\n",
       "      <td>NaN</td>\n",
       "      <td>NaN</td>\n",
       "      <td>NaN</td>\n",
       "      <td>NaN</td>\n",
       "      <td>NaN</td>\n",
       "      <td>55.0</td>\n",
       "    </tr>\n",
       "    <tr>\n",
       "      <th>6</th>\n",
       "      <td>6</td>\n",
       "      <td>3700000.0</td>\n",
       "      <td>37.30</td>\n",
       "      <td>2017-11-02T00:00:00</td>\n",
       "      <td>1</td>\n",
       "      <td>NaN</td>\n",
       "      <td>26.0</td>\n",
       "      <td>10.60</td>\n",
       "      <td>6</td>\n",
       "      <td>NaN</td>\n",
       "      <td>...</td>\n",
       "      <td>14.40</td>\n",
       "      <td>1.0</td>\n",
       "      <td>посёлок Парголово</td>\n",
       "      <td>52996.0</td>\n",
       "      <td>19143.0</td>\n",
       "      <td>0.0</td>\n",
       "      <td>NaN</td>\n",
       "      <td>0.0</td>\n",
       "      <td>NaN</td>\n",
       "      <td>155.0</td>\n",
       "    </tr>\n",
       "    <tr>\n",
       "      <th>7</th>\n",
       "      <td>5</td>\n",
       "      <td>7915000.0</td>\n",
       "      <td>71.60</td>\n",
       "      <td>2019-04-18T00:00:00</td>\n",
       "      <td>2</td>\n",
       "      <td>NaN</td>\n",
       "      <td>24.0</td>\n",
       "      <td>NaN</td>\n",
       "      <td>22</td>\n",
       "      <td>NaN</td>\n",
       "      <td>...</td>\n",
       "      <td>18.90</td>\n",
       "      <td>2.0</td>\n",
       "      <td>Санкт-Петербург</td>\n",
       "      <td>23982.0</td>\n",
       "      <td>11634.0</td>\n",
       "      <td>0.0</td>\n",
       "      <td>NaN</td>\n",
       "      <td>0.0</td>\n",
       "      <td>NaN</td>\n",
       "      <td>NaN</td>\n",
       "    </tr>\n",
       "    <tr>\n",
       "      <th>8</th>\n",
       "      <td>20</td>\n",
       "      <td>2900000.0</td>\n",
       "      <td>33.16</td>\n",
       "      <td>2018-05-23T00:00:00</td>\n",
       "      <td>1</td>\n",
       "      <td>NaN</td>\n",
       "      <td>27.0</td>\n",
       "      <td>15.43</td>\n",
       "      <td>26</td>\n",
       "      <td>NaN</td>\n",
       "      <td>...</td>\n",
       "      <td>8.81</td>\n",
       "      <td>NaN</td>\n",
       "      <td>посёлок Мурино</td>\n",
       "      <td>NaN</td>\n",
       "      <td>NaN</td>\n",
       "      <td>NaN</td>\n",
       "      <td>NaN</td>\n",
       "      <td>NaN</td>\n",
       "      <td>NaN</td>\n",
       "      <td>189.0</td>\n",
       "    </tr>\n",
       "    <tr>\n",
       "      <th>9</th>\n",
       "      <td>18</td>\n",
       "      <td>5400000.0</td>\n",
       "      <td>61.00</td>\n",
       "      <td>2017-02-26T00:00:00</td>\n",
       "      <td>3</td>\n",
       "      <td>2.50</td>\n",
       "      <td>9.0</td>\n",
       "      <td>43.60</td>\n",
       "      <td>7</td>\n",
       "      <td>NaN</td>\n",
       "      <td>...</td>\n",
       "      <td>6.50</td>\n",
       "      <td>2.0</td>\n",
       "      <td>Санкт-Петербург</td>\n",
       "      <td>50898.0</td>\n",
       "      <td>15008.0</td>\n",
       "      <td>0.0</td>\n",
       "      <td>NaN</td>\n",
       "      <td>0.0</td>\n",
       "      <td>NaN</td>\n",
       "      <td>289.0</td>\n",
       "    </tr>\n",
       "  </tbody>\n",
       "</table>\n",
       "<p>10 rows × 22 columns</p>\n",
       "</div>"
      ],
      "text/plain": [
       "   total_images  last_price  total_area first_day_exposition  rooms  \\\n",
       "0            20  13000000.0      108.00  2019-03-07T00:00:00      3   \n",
       "1             7   3350000.0       40.40  2018-12-04T00:00:00      1   \n",
       "2            10   5196000.0       56.00  2015-08-20T00:00:00      2   \n",
       "3             0  64900000.0      159.00  2015-07-24T00:00:00      3   \n",
       "4             2  10000000.0      100.00  2018-06-19T00:00:00      2   \n",
       "5            10   2890000.0       30.40  2018-09-10T00:00:00      1   \n",
       "6             6   3700000.0       37.30  2017-11-02T00:00:00      1   \n",
       "7             5   7915000.0       71.60  2019-04-18T00:00:00      2   \n",
       "8            20   2900000.0       33.16  2018-05-23T00:00:00      1   \n",
       "9            18   5400000.0       61.00  2017-02-26T00:00:00      3   \n",
       "\n",
       "   ceiling_height  floors_total  living_area  floor is_apartment  ...  \\\n",
       "0            2.70          16.0        51.00      8          NaN  ...   \n",
       "1             NaN          11.0        18.60      1          NaN  ...   \n",
       "2             NaN           5.0        34.30      4          NaN  ...   \n",
       "3             NaN          14.0          NaN      9          NaN  ...   \n",
       "4            3.03          14.0        32.00     13          NaN  ...   \n",
       "5             NaN          12.0        14.40      5          NaN  ...   \n",
       "6             NaN          26.0        10.60      6          NaN  ...   \n",
       "7             NaN          24.0          NaN     22          NaN  ...   \n",
       "8             NaN          27.0        15.43     26          NaN  ...   \n",
       "9            2.50           9.0        43.60      7          NaN  ...   \n",
       "\n",
       "   kitchen_area  balcony              locality_name  airports_nearest  \\\n",
       "0         25.00      NaN            Санкт-Петербург           18863.0   \n",
       "1         11.00      2.0             посёлок Шушары           12817.0   \n",
       "2          8.30      0.0            Санкт-Петербург           21741.0   \n",
       "3           NaN      0.0            Санкт-Петербург           28098.0   \n",
       "4         41.00      NaN            Санкт-Петербург           31856.0   \n",
       "5          9.10      NaN  городской посёлок Янино-1               NaN   \n",
       "6         14.40      1.0          посёлок Парголово           52996.0   \n",
       "7         18.90      2.0            Санкт-Петербург           23982.0   \n",
       "8          8.81      NaN             посёлок Мурино               NaN   \n",
       "9          6.50      2.0            Санкт-Петербург           50898.0   \n",
       "\n",
       "  cityCenters_nearest  parks_around3000  parks_nearest  ponds_around3000  \\\n",
       "0             16028.0               1.0          482.0               2.0   \n",
       "1             18603.0               0.0            NaN               0.0   \n",
       "2             13933.0               1.0           90.0               2.0   \n",
       "3              6800.0               2.0           84.0               3.0   \n",
       "4              8098.0               2.0          112.0               1.0   \n",
       "5                 NaN               NaN            NaN               NaN   \n",
       "6             19143.0               0.0            NaN               0.0   \n",
       "7             11634.0               0.0            NaN               0.0   \n",
       "8                 NaN               NaN            NaN               NaN   \n",
       "9             15008.0               0.0            NaN               0.0   \n",
       "\n",
       "   ponds_nearest  days_exposition  \n",
       "0          755.0              NaN  \n",
       "1            NaN             81.0  \n",
       "2          574.0            558.0  \n",
       "3          234.0            424.0  \n",
       "4           48.0            121.0  \n",
       "5            NaN             55.0  \n",
       "6            NaN            155.0  \n",
       "7            NaN              NaN  \n",
       "8            NaN            189.0  \n",
       "9            NaN            289.0  \n",
       "\n",
       "[10 rows x 22 columns]"
      ]
     },
     "metadata": {},
     "output_type": "display_data"
    },
    {
     "name": "stdout",
     "output_type": "stream",
     "text": [
      "<class 'pandas.core.frame.DataFrame'>\n",
      "RangeIndex: 23699 entries, 0 to 23698\n",
      "Data columns (total 22 columns):\n",
      " #   Column                Non-Null Count  Dtype  \n",
      "---  ------                --------------  -----  \n",
      " 0   total_images          23699 non-null  int64  \n",
      " 1   last_price            23699 non-null  float64\n",
      " 2   total_area            23699 non-null  float64\n",
      " 3   first_day_exposition  23699 non-null  object \n",
      " 4   rooms                 23699 non-null  int64  \n",
      " 5   ceiling_height        14504 non-null  float64\n",
      " 6   floors_total          23613 non-null  float64\n",
      " 7   living_area           21796 non-null  float64\n",
      " 8   floor                 23699 non-null  int64  \n",
      " 9   is_apartment          2775 non-null   object \n",
      " 10  studio                23699 non-null  bool   \n",
      " 11  open_plan             23699 non-null  bool   \n",
      " 12  kitchen_area          21421 non-null  float64\n",
      " 13  balcony               12180 non-null  float64\n",
      " 14  locality_name         23650 non-null  object \n",
      " 15  airports_nearest      18157 non-null  float64\n",
      " 16  cityCenters_nearest   18180 non-null  float64\n",
      " 17  parks_around3000      18181 non-null  float64\n",
      " 18  parks_nearest         8079 non-null   float64\n",
      " 19  ponds_around3000      18181 non-null  float64\n",
      " 20  ponds_nearest         9110 non-null   float64\n",
      " 21  days_exposition       20518 non-null  float64\n",
      "dtypes: bool(2), float64(14), int64(3), object(3)\n",
      "memory usage: 3.7+ MB\n"
     ]
    },
    {
     "data": {
      "text/plain": [
       "total_images                0\n",
       "last_price                  0\n",
       "total_area                  0\n",
       "first_day_exposition        0\n",
       "rooms                       0\n",
       "ceiling_height           9195\n",
       "floors_total               86\n",
       "living_area              1903\n",
       "floor                       0\n",
       "is_apartment            20924\n",
       "studio                      0\n",
       "open_plan                   0\n",
       "kitchen_area             2278\n",
       "balcony                 11519\n",
       "locality_name              49\n",
       "airports_nearest         5542\n",
       "cityCenters_nearest      5519\n",
       "parks_around3000         5518\n",
       "parks_nearest           15620\n",
       "ponds_around3000         5518\n",
       "ponds_nearest           14589\n",
       "days_exposition          3181\n",
       "dtype: int64"
      ]
     },
     "metadata": {},
     "output_type": "display_data"
    },
    {
     "data": {
      "text/plain": [
       "None"
      ]
     },
     "metadata": {},
     "output_type": "display_data"
    },
    {
     "data": {
      "image/png": "[encoded data removed]",
      "text/plain": [
       "<Figure size 1440x1800 with 20 Axes>"
      ]
     },
     "metadata": {
      "needs_background": "light"
     },
     "output_type": "display_data"
    }
   ],
   "source": [
    "import pandas as pd\n",
    "import matplotlib.pyplot as plt\n",
    "data = pd.read_csv('/datasets/real_estate_data.csv', sep = '\\t' )\n",
    "\n",
    "display(data.head(10))\n",
    "data.hist(figsize=(20,25))\n",
    "display(data.isna().sum(),data.info())#смотрим в каких столбцах есть пропуски\n",
    "\n",
    "\n"
   ]
  },
  {
   "cell_type": "markdown",
   "metadata": {},
   "source": [
    "При изучении данных были обнаружены пропущенные значаения\n",
    "    "
   ]
  },
  {
   "cell_type": "markdown",
   "metadata": {
    "id": "-O5NtivEAwb9"
   },
   "source": [
    "### Предобработка данных"
   ]
  },
  {
   "cell_type": "markdown",
   "metadata": {},
   "source": [
    "<h5> 2.1 Работа с пропусками  <a class=\"tocSkip\"></h5"
   ]
  },
  {
   "cell_type": "code",
   "execution_count": 2,
   "metadata": {
    "id": "7v3vAeTuAwb-"
   },
   "outputs": [
    {
     "name": "stdout",
     "output_type": "stream",
     "text": [
      "20924\n",
      "0\n",
      "1903\n",
      "0\n"
     ]
    }
   ],
   "source": [
    "\n",
    "data['ceiling_height'] = data['ceiling_height'].fillna(data['ceiling_height'].median())#заполняем пропуски медианым значением\n",
    "\n",
    "data['balcony'] = data['balcony'].fillna(value='0')#заполняем пропуски \n",
    "\n",
    "\n",
    "print(data['is_apartment'].isna().sum())\n",
    "data['is_apartment'] = data['is_apartment'].fillna(False)\n",
    "print(data['is_apartment'].isna().sum())\n",
    "\n",
    "print(data['living_area'].isna().sum())\n",
    "data['living_area'] = data['living_area'].fillna((data['total_area']/data['living_area']).median())\n",
    "print(data['living_area'].isna().sum())\n"
   ]
  },
  {
   "cell_type": "markdown",
   "metadata": {},
   "source": [
    "В столбце 'balcony' были пропущенные значения, скорее всего они появились в последствии воздействия человеческого фактора, так же как и в столбце 'ceiling_height',скорее всего люди просто не знали или же просто не указали.    \n",
    "    "
   ]
  },
  {
   "cell_type": "markdown",
   "metadata": {},
   "source": [
    "<h5> 2.2 Переименование столбцов  <a class=\"tocSkip\"></h5\n",
    "    "
   ]
  },
  {
   "cell_type": "code",
   "execution_count": 3,
   "metadata": {},
   "outputs": [
    {
     "data": {
      "text/plain": [
       "Index(['total_images', 'last_price', 'total_area', 'first_day_exposition',\n",
       "       'rooms', 'ceiling_height', 'floors_total', 'living_area', 'floor',\n",
       "       'is_apartment', 'studio', 'open_plan', 'kitchen_area', 'balcony',\n",
       "       'locality_name', 'airports_nearest', 'city_centers_nearest',\n",
       "       'parks_around_3000', 'parks_nearest', 'ponds_around_3000',\n",
       "       'ponds_nearest', 'days_exposition'],\n",
       "      dtype='object')"
      ]
     },
     "execution_count": 3,
     "metadata": {},
     "output_type": "execute_result"
    }
   ],
   "source": [
    "data = data.rename(columns={'cityCenters_nearest' : 'city_centers_nearest'})\n",
    "data = data.rename(columns={'parks_around3000' : 'parks_around_3000'})\n",
    "data = data.rename(columns={'ponds_around3000' : 'ponds_around_3000'})#Переименовываю столбцы\n",
    "data.columns#Проверяю работу кода"
   ]
  },
  {
   "cell_type": "markdown",
   "metadata": {},
   "source": [
    "<h5> 2.3 Работа с типом данных  <a class=\"tocSkip\"></h5\n",
    "    \n",
    "    "
   ]
  },
  {
   "cell_type": "code",
   "execution_count": 4,
   "metadata": {},
   "outputs": [
    {
     "name": "stdout",
     "output_type": "stream",
     "text": [
      "<class 'pandas.core.frame.DataFrame'>\n",
      "RangeIndex: 23699 entries, 0 to 23698\n",
      "Data columns (total 22 columns):\n",
      " #   Column                Non-Null Count  Dtype         \n",
      "---  ------                --------------  -----         \n",
      " 0   total_images          23699 non-null  int64         \n",
      " 1   last_price            23699 non-null  Int64         \n",
      " 2   total_area            23699 non-null  int64         \n",
      " 3   first_day_exposition  23699 non-null  datetime64[ns]\n",
      " 4   rooms                 23699 non-null  int64         \n",
      " 5   ceiling_height        23699 non-null  float64       \n",
      " 6   floors_total          23613 non-null  Int64         \n",
      " 7   living_area           23699 non-null  float64       \n",
      " 8   floor                 23699 non-null  int64         \n",
      " 9   is_apartment          23699 non-null  bool          \n",
      " 10  studio                23699 non-null  bool          \n",
      " 11  open_plan             23699 non-null  bool          \n",
      " 12  kitchen_area          21421 non-null  float64       \n",
      " 13  balcony               23699 non-null  int64         \n",
      " 14  locality_name         23650 non-null  object        \n",
      " 15  airports_nearest      18157 non-null  Int64         \n",
      " 16  city_centers_nearest  18180 non-null  Int64         \n",
      " 17  parks_around_3000     18181 non-null  Int64         \n",
      " 18  parks_nearest         8079 non-null   Int64         \n",
      " 19  ponds_around_3000     18181 non-null  Int64         \n",
      " 20  ponds_nearest         9110 non-null   Int64         \n",
      " 21  days_exposition       20518 non-null  float64       \n",
      "dtypes: Int64(8), bool(3), datetime64[ns](1), float64(4), int64(5), object(1)\n",
      "memory usage: 3.7+ MB\n"
     ]
    }
   ],
   "source": [
    "data['first_day_exposition'] = pd.to_datetime(data['first_day_exposition'])\n",
    "data['floors_total'] = data['floors_total'].astype('Int64')\n",
    "data['balcony'] = data['balcony'].astype('int64')\n",
    "data['airports_nearest'] = data['airports_nearest'].astype('Int64')\n",
    "data['city_centers_nearest'] = data['city_centers_nearest'].astype('Int64')\n",
    "data['parks_around_3000'] = data['parks_around_3000'].astype('Int64')\n",
    "data['parks_nearest'] = data['parks_nearest'].astype('Int64')\n",
    "data['ponds_around_3000'] = data['ponds_around_3000'].astype('Int64')\n",
    "data['ponds_nearest'] = data['ponds_nearest'].astype('Int64')\n",
    "data['days_exposition'].astype('Int64',errors='ignore')\n",
    "data['total_area'] = data['total_area'].astype('int64')\n",
    "data['last_price'] = data['last_price'].astype('Int64')\n",
    "data.info()"
   ]
  },
  {
   "cell_type": "markdown",
   "metadata": {},
   "source": [
    "\n",
    "\n",
    "В столбце first_day_exposition изменил тип данных, может потребуется в дальнейшем.\n",
    "В остальных столбцах, по моему мнению более подходит Int64,может потребоваться для улучшения структуры данных, повышения эффективности работы с ними и обеспечения корректности вычислений...    "
   ]
  },
  {
   "cell_type": "markdown",
   "metadata": {},
   "source": [
    "<h5> 2.4 Работа с дубликатами и уникальными значениями<a class=\"tocSkip\"></h5"
   ]
  },
  {
   "cell_type": "code",
   "execution_count": 5,
   "metadata": {},
   "outputs": [
    {
     "name": "stdout",
     "output_type": "stream",
     "text": [
      "364\n",
      "321\n",
      "[  2.7    2.65   3.03   2.5    2.67   2.56   3.05   2.75   2.6    2.9\n",
      "   2.8    2.55   3.     3.2    2.61   3.25   3.45   2.77   2.85   2.64\n",
      "   2.57   4.15   3.5    3.3    2.71   4.     2.47   2.73   2.84   3.1\n",
      "   2.34   3.4    3.06   2.72   2.54   2.51   2.78   2.76  25.     2.58\n",
      "   3.7    2.52   5.2    2.87   2.66   2.59   2.     2.45   3.6    2.92\n",
      "   3.11   3.13   3.8    3.15   3.55   3.16   3.62   3.12   2.53   2.74\n",
      "   2.96   2.46   5.3    5.     2.79   2.95   4.06   2.94   3.82   3.54\n",
      "   3.53   2.83   4.7    2.4    3.38   3.01   5.6    3.65   3.9    3.18\n",
      "   3.35   2.3    3.57   2.48   2.62   2.82   3.98   2.63   3.83   3.52\n",
      "   3.95   3.75   2.88   3.67   3.87   3.66   3.85   3.86   4.19   3.24\n",
      "   4.8    4.5    4.2    3.36  32.     3.08   3.68   3.07   3.37   3.09\n",
      "   8.     3.26   3.34   2.81   3.44   2.97   3.14   4.37   2.68   3.22\n",
      "   3.27  27.     4.1    2.93   3.46  24.     3.47   3.33   3.63   3.32\n",
      "  26.     1.2    8.3    2.98   2.86   3.17   4.4    3.28   3.04   4.45\n",
      "   5.5    3.84   3.23   3.02   3.21   3.43   3.78   4.3    3.39   2.69\n",
      "   3.31   4.65   3.56   2.2    3.51   3.93   3.42   2.99   3.49  14.\n",
      "   4.14   2.91   3.88   1.75   4.25   3.29  20.     2.25   3.76   3.69\n",
      "   6.    22.6    2.89   3.58   5.8   27.5    2.49   4.9    3.48  10.3\n",
      "   1.   100.     3.59]\n",
      "[ 2.7   2.65  3.03  2.5   2.67  2.56  3.05  2.75  2.6   2.9   2.8   2.55\n",
      "  3.    3.2   2.61  3.25  3.45  2.77  2.85  2.64  2.57  4.15  3.5   3.3\n",
      "  2.71  4.    2.47  2.73  2.84  3.1   2.34  3.4   3.06  2.72  2.54  2.51\n",
      "  2.78  2.76  2.58  3.7   2.52  5.2   2.87  2.66  2.59  2.    2.45  3.6\n",
      "  2.92  3.11  3.13  3.8   3.15  3.55  3.16  3.62  3.12  2.53  2.74  2.96\n",
      "  2.46  5.3   5.    2.79  2.95  4.06  2.94  3.82  3.54  3.53  2.83  4.7\n",
      "  2.4   3.38  3.01  5.6   3.65  3.9   3.18  3.35  2.3   3.57  2.48  2.62\n",
      "  2.82  3.98  2.63  3.83  3.52  3.95  3.75  2.88  3.67  3.87  3.66  3.85\n",
      "  3.86  4.19  3.24  4.8   4.5   4.2   3.36  3.08  3.68  3.07  3.37  3.09\n",
      "  8.    3.26  3.34  2.81  3.44  2.97  3.14  4.37  2.68  3.22  3.27  4.1\n",
      "  2.93  3.46  3.47  3.33  3.63  3.32  1.2   8.3   2.98  2.86  3.17  4.4\n",
      "  3.28  3.04  4.45  5.5   3.84  3.23  3.02  3.21  3.43  3.78  4.3   3.39\n",
      "  2.69  3.31  4.65  3.56  2.2   3.51  3.93  3.42  2.99  3.49 14.    4.14\n",
      "  2.91  3.88  1.75  4.25  3.29  2.25  3.76  3.69  6.    2.26  2.89  3.58\n",
      "  5.8   2.49  4.9   3.48 10.3   1.   10.    3.59]\n"
     ]
    }
   ],
   "source": [
    "print(data['locality_name'].nunique())\n",
    "data['locality_name'] = data['locality_name'].str.lower()\n",
    "data['locality_name'] = (\n",
    "    data['locality_name']\n",
    "    .str.replace('ё', 'е')\n",
    "    .replace(['городской поселок', 'поселок городского типа', 'коттеджный поселок'], 'поселок', regex=True)\n",
    ") \n",
    "print(data['locality_name'].nunique())\n",
    "\n",
    "print(data['ceiling_height'].unique())\n",
    "data['ceiling_height'] = data['ceiling_height'].replace([100,27.5,22.6,20,26,24,27,32,25], [10.0,2.75,2.26,2.0,2.6,2.4,2.7,3.2,2.5])\n",
    "print(data['ceiling_height'].unique())\n",
    "\n",
    "\n"
   ]
  },
  {
   "cell_type": "markdown",
   "metadata": {
    "id": "QCcvyY6YAwb-"
   },
   "source": [
    "### Добавьте в таблицу новые столбцы"
   ]
  },
  {
   "cell_type": "code",
   "execution_count": 6,
   "metadata": {
    "id": "Z8eJek3IAwb-"
   },
   "outputs": [
    {
     "name": "stdout",
     "output_type": "stream",
     "text": [
      "   total_images  last_price  total_area first_day_exposition  rooms  \\\n",
      "0            20    13000000         108           2019-03-07      3   \n",
      "1             7     3350000          40           2018-12-04      1   \n",
      "2            10     5196000          56           2015-08-20      2   \n",
      "3             0    64900000         159           2015-07-24      3   \n",
      "4             2    10000000         100           2018-06-19      2   \n",
      "\n",
      "   ceiling_height  floors_total  living_area  floor  is_apartment  ...  \\\n",
      "0            2.70            16    51.000000      8         False  ...   \n",
      "1            2.65            11    18.600000      1         False  ...   \n",
      "2            2.65             5    34.300000      4         False  ...   \n",
      "3            2.65            14     1.760998      9         False  ...   \n",
      "4            3.03            14    32.000000     13         False  ...   \n",
      "\n",
      "   parks_nearest  ponds_around_3000  ponds_nearest  days_exposition  \\\n",
      "0            482                  2            755              NaN   \n",
      "1           <NA>                  0           <NA>             81.0   \n",
      "2             90                  2            574            558.0   \n",
      "3             84                  3            234            424.0   \n",
      "4            112                  1             48            121.0   \n",
      "\n",
      "  price_of_one_square_meter  day_weekday  year  month  floor_category  \\\n",
      "0                    120370            3  2019      3          другой   \n",
      "1                     83750            1  2018     12          первый   \n",
      "2                     92785            3  2015      8          другой   \n",
      "3                    408176            4  2015      7          другой   \n",
      "4                    100000            1  2018      6          другой   \n",
      "\n",
      "   city_center_distance_km  \n",
      "0                   16.028  \n",
      "1                   18.603  \n",
      "2                   13.933  \n",
      "3                      6.8  \n",
      "4                    8.098  \n",
      "\n",
      "[5 rows x 28 columns]\n",
      "       total_images    last_price    total_area         rooms  ceiling_height  \\\n",
      "count  23699.000000  2.369900e+04  23699.000000  23699.000000    23699.000000   \n",
      "mean       9.858475  6.541549e+06     60.120511      2.070636        2.698721   \n",
      "std        5.682529  1.088701e+07     35.665822      1.078405        0.253208   \n",
      "min        0.000000  1.219000e+04     12.000000      0.000000        1.000000   \n",
      "25%        6.000000  3.400000e+06     40.000000      1.000000        2.600000   \n",
      "50%        9.000000  4.650000e+06     52.000000      2.000000        2.650000   \n",
      "75%       14.000000  6.800000e+06     69.000000      3.000000        2.700000   \n",
      "max       50.000000  7.630000e+08    900.000000     19.000000       14.000000   \n",
      "\n",
      "       floors_total   living_area         floor  kitchen_area       balcony  \\\n",
      "count  23699.000000  23699.000000  23699.000000  21421.000000  23699.000000   \n",
      "mean      10.635090     31.832336      5.892358     10.569807      0.591080   \n",
      "std        6.616396     22.919921      4.885249      5.905438      0.959298   \n",
      "min        0.000000      1.760998      1.000000      1.300000      0.000000   \n",
      "25%        5.000000     17.800000      2.000000      7.000000      0.000000   \n",
      "50%        9.000000     29.000000      4.000000      9.100000      0.000000   \n",
      "75%       16.000000     41.100000      8.000000     12.000000      1.000000   \n",
      "max       60.000000    409.700000     33.000000    112.000000      5.000000   \n",
      "\n",
      "       ...  parks_around_3000  parks_nearest  ponds_around_3000  \\\n",
      "count  ...       18181.000000    8079.000000       18181.000000   \n",
      "mean   ...           0.611408     490.804555           0.770255   \n",
      "std    ...           0.802074     342.317995           0.938346   \n",
      "min    ...           0.000000       1.000000           0.000000   \n",
      "25%    ...           0.000000     288.000000           0.000000   \n",
      "50%    ...           0.000000     455.000000           1.000000   \n",
      "75%    ...           1.000000     612.000000           1.000000   \n",
      "max    ...           3.000000    3190.000000           3.000000   \n",
      "\n",
      "       ponds_nearest  days_exposition  price_of_one_square_meter  \\\n",
      "count    9110.000000     20518.000000               2.369900e+04   \n",
      "mean      517.980900       180.888634               9.987371e+04   \n",
      "std       277.720643       219.727988               5.041842e+04   \n",
      "min        13.000000         1.000000               1.110000e+02   \n",
      "25%       294.000000        45.000000               7.698500e+04   \n",
      "50%       502.000000        95.000000               9.545400e+04   \n",
      "75%       729.000000       232.000000               1.148640e+05   \n",
      "max      1344.000000      1580.000000               1.907500e+06   \n",
      "\n",
      "        day_weekday          year         month  city_center_distance_km  \n",
      "count  23699.000000  23699.000000  23699.000000             18180.000000  \n",
      "mean       2.569307   2017.367146      6.400101                14.191278  \n",
      "std        1.789082      1.039771      3.491561                 8.608386  \n",
      "min        0.000000   2014.000000      1.000000                 0.181000  \n",
      "25%        1.000000   2017.000000      3.000000                 9.238000  \n",
      "50%        3.000000   2017.000000      6.000000                13.098500  \n",
      "75%        4.000000   2018.000000     10.000000                16.293000  \n",
      "max        6.000000   2019.000000     12.000000                65.968000  \n",
      "\n",
      "[8 rows x 22 columns]\n"
     ]
    }
   ],
   "source": [
    "data['price_of_one_square_meter'] = data['last_price']/data['total_area']\n",
    "data['price_of_one_square_meter'] = data['price_of_one_square_meter'].astype('int64')\n",
    "data['day_weekday'] = data['first_day_exposition'].dt.weekday\n",
    "data['year'] = pd.DatetimeIndex(data['first_day_exposition']).year\n",
    "data['month'] = pd.DatetimeIndex(data['first_day_exposition']).month\n",
    "data['floors_total'] = data['floors_total'].fillna(value=0)\n",
    "def floor_defenition(data):\n",
    "    if data['floor'] == 1:\n",
    "        return 'первый'\n",
    "    elif (data['floors_total']==data['floor']) & (data['floor'] != 1):\n",
    "        return 'последний'\n",
    "    else:\n",
    "        return 'другой'\n",
    "data['floor_category'] = data.apply(floor_defenition, axis=1) \n",
    "\n",
    "data['city_center_distance_km'] = data['city_centers_nearest']/1000\n",
    "\n",
    "print(data.head())\n",
    "print(data.describe())\n"
   ]
  },
  {
   "cell_type": "markdown",
   "metadata": {
    "id": "pPyxrKWTAwb-"
   },
   "source": [
    "### Исследовательский анализ данных"
   ]
  },
  {
   "cell_type": "markdown",
   "metadata": {},
   "source": [
    "<h5> 4.1 Изучение и описание параметров <a class=\"tocSkip\"></h5"
   ]
  },
  {
   "cell_type": "code",
   "execution_count": 7,
   "metadata": {
    "id": "V2f0D3kLAwb-"
   },
   "outputs": [
    {
     "data": {
      "text/plain": [
       "count    23699.000000\n",
       "mean        60.120511\n",
       "std         35.665822\n",
       "min         12.000000\n",
       "25%         40.000000\n",
       "50%         52.000000\n",
       "75%         69.000000\n",
       "max        900.000000\n",
       "Name: total_area, dtype: float64"
      ]
     },
     "execution_count": 7,
     "metadata": {},
     "output_type": "execute_result"
    },
    {
     "data": {
      "image/png": "[encoded data removed]",
      "text/plain": [
       "<Figure size 432x288 with 1 Axes>"
      ]
     },
     "metadata": {
      "needs_background": "light"
     },
     "output_type": "display_data"
    }
   ],
   "source": [
    "#data.describe()\n",
    "\n",
    "data['total_area'].hist(bins=50)\n",
    "data['total_area'].describe()\n"
   ]
  },
  {
   "cell_type": "markdown",
   "metadata": {},
   "source": [
    "\n",
    "Наибольшее число обьявлений о продажи квартир  имеют 50 м.кв жилой площади что соответствует 2х комнатной квартире, что похоже на правду.  "
   ]
  },
  {
   "cell_type": "code",
   "execution_count": 8,
   "metadata": {},
   "outputs": [
    {
     "data": {
      "text/plain": [
       "count    23699.000000\n",
       "mean        31.832336\n",
       "std         22.919921\n",
       "min          1.760998\n",
       "25%         17.800000\n",
       "50%         29.000000\n",
       "75%         41.100000\n",
       "max        409.700000\n",
       "Name: living_area, dtype: float64"
      ]
     },
     "execution_count": 8,
     "metadata": {},
     "output_type": "execute_result"
    },
    {
     "data": {
      "image/png": "[encoded data removed]",
      "text/plain": [
       "<Figure size 432x288 with 1 Axes>"
      ]
     },
     "metadata": {
      "needs_background": "light"
     },
     "output_type": "display_data"
    }
   ],
   "source": [
    "data['living_area'].hist(bins=50)\n",
    "data['living_area'].describe()\n"
   ]
  },
  {
   "cell_type": "markdown",
   "metadata": {},
   "source": [
    "\n",
    "Наибольшее число обьявлений о продажи квартир  имеют 30 м.кв жилой площади что тоже похоже на правду"
   ]
  },
  {
   "cell_type": "code",
   "execution_count": 9,
   "metadata": {},
   "outputs": [
    {
     "data": {
      "text/plain": [
       "count    21421.000000\n",
       "mean        10.569807\n",
       "std          5.905438\n",
       "min          1.300000\n",
       "25%          7.000000\n",
       "50%          9.100000\n",
       "75%         12.000000\n",
       "max        112.000000\n",
       "Name: kitchen_area, dtype: float64"
      ]
     },
     "execution_count": 9,
     "metadata": {},
     "output_type": "execute_result"
    },
    {
     "data": {
      "image/png": "[encoded data removed]",
      "text/plain": [
       "<Figure size 432x288 with 1 Axes>"
      ]
     },
     "metadata": {
      "needs_background": "light"
     },
     "output_type": "display_data"
    }
   ],
   "source": [
    "data['kitchen_area'].hist(bins=50)\n",
    "data['kitchen_area'].describe()\n"
   ]
  },
  {
   "cell_type": "markdown",
   "metadata": {},
   "source": [
    "\n",
    "Самая маленькая площадь кухни-3.2кв.м, средняя-9,6кв.м медиана-9кв.м."
   ]
  },
  {
   "cell_type": "code",
   "execution_count": 10,
   "metadata": {},
   "outputs": [
    {
     "data": {
      "text/plain": [
       "count    2.369900e+04\n",
       "mean     6.541549e+06\n",
       "std      1.088701e+07\n",
       "min      1.219000e+04\n",
       "25%      3.400000e+06\n",
       "50%      4.650000e+06\n",
       "75%      6.800000e+06\n",
       "max      7.630000e+08\n",
       "Name: last_price, dtype: float64"
      ]
     },
     "execution_count": 10,
     "metadata": {},
     "output_type": "execute_result"
    },
    {
     "data": {
      "image/png": "[encoded data removed]",
      "text/plain": [
       "<Figure size 432x288 with 1 Axes>"
      ]
     },
     "metadata": {
      "needs_background": "light"
     },
     "output_type": "display_data"
    }
   ],
   "source": [
    "data['last_price'].hist(bins=50)\n",
    "data['last_price'].describe()\n",
    "\n"
   ]
  },
  {
   "cell_type": "code",
   "execution_count": 11,
   "metadata": {},
   "outputs": [
    {
     "data": {
      "text/plain": [
       "count    23699.000000\n",
       "mean         2.070636\n",
       "std          1.078405\n",
       "min          0.000000\n",
       "25%          1.000000\n",
       "50%          2.000000\n",
       "75%          3.000000\n",
       "max         19.000000\n",
       "Name: rooms, dtype: float64"
      ]
     },
     "execution_count": 11,
     "metadata": {},
     "output_type": "execute_result"
    },
    {
     "data": {
      "image/png": "[encoded data removed]",
      "text/plain": [
       "<Figure size 432x288 with 1 Axes>"
      ]
     },
     "metadata": {
      "needs_background": "light"
     },
     "output_type": "display_data"
    }
   ],
   "source": [
    "data['rooms'].hist(bins=50)\n",
    "data['rooms'].describe()"
   ]
  },
  {
   "cell_type": "markdown",
   "metadata": {},
   "source": [
    "\n",
    "Минимальное кол-во комнат - 1, среднее - 2"
   ]
  },
  {
   "cell_type": "code",
   "execution_count": 12,
   "metadata": {},
   "outputs": [
    {
     "data": {
      "text/plain": [
       "count    23699.000000\n",
       "mean         2.698721\n",
       "std          0.253208\n",
       "min          1.000000\n",
       "25%          2.600000\n",
       "50%          2.650000\n",
       "75%          2.700000\n",
       "max         14.000000\n",
       "Name: ceiling_height, dtype: float64"
      ]
     },
     "execution_count": 12,
     "metadata": {},
     "output_type": "execute_result"
    },
    {
     "data": {
      "image/png": "[encoded data removed]",
      "text/plain": [
       "<Figure size 432x288 with 1 Axes>"
      ]
     },
     "metadata": {
      "needs_background": "light"
     },
     "output_type": "display_data"
    }
   ],
   "source": [
    "data['ceiling_height'].hist(bins=50)\n",
    "data['ceiling_height'].describe()"
   ]
  },
  {
   "cell_type": "markdown",
   "metadata": {},
   "source": [
    "\n",
    "минимальное значение 2м среднее 2,65 ,  скорее всего зависит от времени строительства, в разное время разные стандарты."
   ]
  },
  {
   "cell_type": "code",
   "execution_count": 13,
   "metadata": {},
   "outputs": [
    {
     "data": {
      "text/plain": [
       "count      23699\n",
       "unique         3\n",
       "top       другой\n",
       "freq       17446\n",
       "Name: floor_category, dtype: object"
      ]
     },
     "execution_count": 13,
     "metadata": {},
     "output_type": "execute_result"
    },
    {
     "data": {
      "image/png": "[encoded data removed]",
      "text/plain": [
       "<Figure size 432x288 with 1 Axes>"
      ]
     },
     "metadata": {
      "needs_background": "light"
     },
     "output_type": "display_data"
    }
   ],
   "source": [
    "data['floor_category'].hist(bins=50)\n",
    "data['floor_category'].describe()"
   ]
  },
  {
   "cell_type": "markdown",
   "metadata": {},
   "source": [
    "\n",
    "нечего добавить, все впорядке"
   ]
  },
  {
   "cell_type": "code",
   "execution_count": 14,
   "metadata": {},
   "outputs": [
    {
     "data": {
      "text/plain": [
       "count    23699.000000\n",
       "mean        10.635090\n",
       "std          6.616396\n",
       "min          0.000000\n",
       "25%          5.000000\n",
       "50%          9.000000\n",
       "75%         16.000000\n",
       "max         60.000000\n",
       "Name: floors_total, dtype: float64"
      ]
     },
     "execution_count": 14,
     "metadata": {},
     "output_type": "execute_result"
    },
    {
     "data": {
      "image/png": "[encoded data removed]",
      "text/plain": [
       "<Figure size 432x288 with 1 Axes>"
      ]
     },
     "metadata": {
      "needs_background": "light"
     },
     "output_type": "display_data"
    }
   ],
   "source": [
    "data['floors_total'].hist(bins=50)\n",
    "data['floors_total'].describe()"
   ]
  },
  {
   "cell_type": "markdown",
   "metadata": {},
   "source": [
    "\n",
    "Большое количество обычных многоэтажек из спальных районов, все впорядке."
   ]
  },
  {
   "cell_type": "code",
   "execution_count": 15,
   "metadata": {},
   "outputs": [
    {
     "data": {
      "text/plain": [
       "count    18180.000000\n",
       "mean     14191.277833\n",
       "std       8608.386210\n",
       "min        181.000000\n",
       "25%       9238.000000\n",
       "50%      13098.500000\n",
       "75%      16293.000000\n",
       "max      65968.000000\n",
       "Name: city_centers_nearest, dtype: float64"
      ]
     },
     "execution_count": 15,
     "metadata": {},
     "output_type": "execute_result"
    },
    {
     "data": {
      "image/png": "[encoded data removed]",
      "text/plain": [
       "<Figure size 432x288 with 1 Axes>"
      ]
     },
     "metadata": {
      "needs_background": "light"
     },
     "output_type": "display_data"
    }
   ],
   "source": [
    "data['city_centers_nearest'].hist(bins=50)\n",
    "data['city_centers_nearest'].describe()"
   ]
  },
  {
   "cell_type": "markdown",
   "metadata": {},
   "source": [
    "\n",
    "Большое кол-во обьявлений в 13км от центра, что похоже на правду."
   ]
  },
  {
   "cell_type": "code",
   "execution_count": 16,
   "metadata": {},
   "outputs": [
    {
     "data": {
      "text/plain": [
       "count    8079.000000\n",
       "mean      490.804555\n",
       "std       342.317995\n",
       "min         1.000000\n",
       "25%       288.000000\n",
       "50%       455.000000\n",
       "75%       612.000000\n",
       "max      3190.000000\n",
       "Name: parks_nearest, dtype: float64"
      ]
     },
     "execution_count": 16,
     "metadata": {},
     "output_type": "execute_result"
    },
    {
     "data": {
      "image/png": "[encoded data removed]",
      "text/plain": [
       "<Figure size 432x288 with 1 Axes>"
      ]
     },
     "metadata": {
      "needs_background": "light"
     },
     "output_type": "display_data"
    }
   ],
   "source": [
    "data['parks_nearest'].hist(bins=50)\n",
    "data['parks_nearest'].describe()"
   ]
  },
  {
   "cell_type": "markdown",
   "metadata": {},
   "source": [
    "\n",
    "С данными все впорядке."
   ]
  },
  {
   "cell_type": "markdown",
   "metadata": {},
   "source": [
    "\n",
    "Данные изучены, аномалий не обнаружены."
   ]
  },
  {
   "cell_type": "markdown",
   "metadata": {},
   "source": [
    "<h5> 4.2 Как быстро продавались квартиры<a class=\"tocSkip\"></h5"
   ]
  },
  {
   "cell_type": "code",
   "execution_count": 17,
   "metadata": {},
   "outputs": [
    {
     "data": {
      "image/png": "[encoded data removed]",
      "text/plain": [
       "<Figure size 432x288 with 1 Axes>"
      ]
     },
     "metadata": {
      "needs_background": "light"
     },
     "output_type": "display_data"
    },
    {
     "name": "stdout",
     "output_type": "stream",
     "text": [
      "Среднее кол-во дней на сайте 180.88863436982163\n",
      "Медианое кол-во дней на сайте 95.0\n"
     ]
    },
    {
     "data": {
      "text/plain": [
       "count    20518.000000\n",
       "mean       180.888634\n",
       "std        219.727988\n",
       "min          1.000000\n",
       "25%         45.000000\n",
       "50%         95.000000\n",
       "75%        232.000000\n",
       "max       1580.000000\n",
       "Name: days_exposition, dtype: float64"
      ]
     },
     "execution_count": 17,
     "metadata": {},
     "output_type": "execute_result"
    }
   ],
   "source": [
    "data['days_exposition'].plot(bins=150, kind='hist', range=(0,300), label='Продажи квартир', legend=True, title='График продаж квартир')\n",
    "plt.show()\n",
    "\n",
    "print('Среднее кол-во дней на сайте', data['days_exposition'].mean())\n",
    "print('Медианое кол-во дней на сайте', data['days_exposition'].median())\n",
    "data['days_exposition'].describe()"
   ]
  },
  {
   "cell_type": "markdown",
   "metadata": {},
   "source": [
    "\n",
    " Исходя из даных можно предположить что, быстрыми продажами можно считать все что находиться в пределах до первого квартиля( менее 25%),а необычно долгими, за третьим (75% и более).Есть всплески в районе 45 и 60 дней, скорее всего в эти сроки происходит автоматическое снятие объявлений с публикации"
   ]
  },
  {
   "cell_type": "markdown",
   "metadata": {},
   "source": [
    "<h5> 4.3 Определение факторов, которые больше всего влияют на общую (полную) стоимость объекта<a class=\"tocSkip\"></h5"
   ]
  },
  {
   "cell_type": "markdown",
   "metadata": {},
   "source": [
    "<h5> Зависимость цены от площади <a class=\"tocSkip\"></h5"
   ]
  },
  {
   "cell_type": "code",
   "execution_count": 18,
   "metadata": {},
   "outputs": [
    {
     "data": {
      "text/plain": [
       "<AxesSubplot:title={'center':'График зависимости цены от площади'}, xlabel='площадь', ylabel='цена'>"
      ]
     },
     "execution_count": 18,
     "metadata": {},
     "output_type": "execute_result"
    },
    {
     "data": {
      "image/png": "[encoded data removed]",
      "text/plain": [
       "<Figure size 648x360 with 1 Axes>"
      ]
     },
     "metadata": {
      "needs_background": "light"
     },
     "output_type": "display_data"
    }
   ],
   "source": [
    "def total_group(total):\n",
    "    if total <= 50:\n",
    "        return 'менее 50 кв.м'\n",
    "    if total <= 100:\n",
    "        return 'до 100 кв.м'\n",
    "    if total <= 200:\n",
    "        return 'до 200 кв.м'\n",
    "    if total <= 300:\n",
    "        return 'до 300 кв.м'\n",
    "    return 'Очень большая квартира'\n",
    "data['total_group'] = data['total_area'].apply(total_group)\n",
    "area_table_group = data.pivot_table(index='total_group', values='last_price', aggfunc='median').sort_values(by='last_price')\n",
    "area_table_group.plot(figsize=(9,5),grid=True, label='Зависимость цены от площади', legend=True, title='График зависимости цены от площади',xlabel='площадь',ylabel='цена')"
   ]
  },
  {
   "cell_type": "markdown",
   "metadata": {},
   "source": [
    " Чем меньше площадь тем меньше цена, чем больше площадь тем больше цена.    "
   ]
  },
  {
   "cell_type": "markdown",
   "metadata": {},
   "source": [
    "<h5> Зависимость цены от жилой площади <a class=\"tocSkip\"></h5"
   ]
  },
  {
   "cell_type": "code",
   "execution_count": 19,
   "metadata": {},
   "outputs": [
    {
     "data": {
      "text/plain": [
       "<AxesSubplot:title={'center':'График зависимости цены от жилой площади'}, xlabel=' жилая площадь', ylabel='цена'>"
      ]
     },
     "execution_count": 19,
     "metadata": {},
     "output_type": "execute_result"
    },
    {
     "data": {
      "image/png": "[encoded data removed]",
      "text/plain": [
       "<Figure size 648x360 with 1 Axes>"
      ]
     },
     "metadata": {
      "needs_background": "light"
     },
     "output_type": "display_data"
    }
   ],
   "source": [
    "def living_group(living):\n",
    "    if living <= 50:\n",
    "        return 'менее 50 кв.м'\n",
    "    if living <= 100:\n",
    "        return 'до 100 кв.м'\n",
    "    if living <= 200:\n",
    "        return 'до 200 кв.м'\n",
    "    if living <= 300:\n",
    "        return 'до 300 кв.м'\n",
    "    return 'очень большая жилая площадь'\n",
    "data['living_group'] = data['living_area'].apply(living_group)\n",
    "living_area_table_group = data.pivot_table(index='living_group', values='last_price', aggfunc='median').sort_values(by='last_price')\n",
    "living_area_table_group.plot(figsize=(9,5),grid=True,label='Зависимость цены от жилой площади', legend=True, title='График зависимости цены от жилой площади',xlabel=' жилая площадь',ylabel='цена')\n"
   ]
  },
  {
   "cell_type": "markdown",
   "metadata": {},
   "source": [
    "Чем больше жилая площадь тем выше цена, однако, на нее может влиять и расположение квартиры."
   ]
  },
  {
   "cell_type": "markdown",
   "metadata": {},
   "source": [
    "<h5> Зависимость цены от площади кухни <a class=\"tocSkip\"></h5"
   ]
  },
  {
   "cell_type": "code",
   "execution_count": 20,
   "metadata": {},
   "outputs": [
    {
     "data": {
      "text/plain": [
       "<AxesSubplot:title={'center':'График зависимости цены от площади кухни'}, xlabel='площадь кухни', ylabel='цена'>"
      ]
     },
     "execution_count": 20,
     "metadata": {},
     "output_type": "execute_result"
    },
    {
     "data": {
      "image/png": "[encoded data removed]",
      "text/plain": [
       "<Figure size 648x360 with 1 Axes>"
      ]
     },
     "metadata": {
      "needs_background": "light"
     },
     "output_type": "display_data"
    }
   ],
   "source": [
    "def kitchen_group(kitchen):\n",
    "    if kitchen <= 5:\n",
    "        return 'менее 5 кв.м'\n",
    "    if kitchen <= 10:\n",
    "        return 'до 10 кв.м'\n",
    "    if kitchen <= 30:\n",
    "        return 'до 30 кв.м'\n",
    "    if kitchen <= 50:\n",
    "        return 'до 50 кв.м'\n",
    "    return 'Очень большая площадь кухни'\n",
    "data['kitchen_group'] = data['kitchen_area'].apply(kitchen_group)\n",
    "living_area_table_group = data.pivot_table(index='kitchen_group', values='last_price', aggfunc='median').sort_values(by='last_price')\n",
    "living_area_table_group.plot(figsize=(9,5),grid=True,label='Зависимость цены от площади кухни', legend=True, title='График зависимости цены от площади кухни',xlabel='площадь кухни',ylabel='цена')\n"
   ]
  },
  {
   "cell_type": "markdown",
   "metadata": {},
   "source": [
    "\n",
    "Существует некоторая зависимость цены от площади кухни, но я думаю это не основопологающий фактор зависимости цен,ведь все упираеться в площадь, а кухню можно и переделать)"
   ]
  },
  {
   "cell_type": "markdown",
   "metadata": {},
   "source": [
    "<h5> Зависимость цены от количества комнат <a class=\"tocSkip\"></h5"
   ]
  },
  {
   "cell_type": "code",
   "execution_count": 21,
   "metadata": {},
   "outputs": [
    {
     "data": {
      "text/plain": [
       "<AxesSubplot:title={'center':'График зависимости цены от комнат'}, xlabel='комнаты', ylabel='цена'>"
      ]
     },
     "execution_count": 21,
     "metadata": {},
     "output_type": "execute_result"
    },
    {
     "data": {
      "image/png": "[encoded data removed]",
      "text/plain": [
       "<Figure size 648x360 with 1 Axes>"
      ]
     },
     "metadata": {
      "needs_background": "light"
     },
     "output_type": "display_data"
    }
   ],
   "source": [
    "def rooms_group(rooms):\n",
    "    if rooms <= 2:\n",
    "        return 'до 2 комнат'\n",
    "    if rooms <= 4:\n",
    "        return 'до 4 комнат'\n",
    "    if rooms <= 6:\n",
    "        return 'до 6 комнат'\n",
    "    if rooms <= 10:\n",
    "        return 'до 10 комнат'\n",
    "    return 'Очень большая квартира'\n",
    "data['rooms_group'] = data['rooms'].apply(rooms_group)\n",
    "living_area_table_group = data.pivot_table(index='rooms_group', values='last_price', aggfunc='median').sort_values(by='last_price')\n",
    "living_area_table_group.plot(figsize=(9,5),grid=True,label='Зависимость цены от комнат', legend=True, title='График зависимости цены от комнат',xlabel='комнаты',ylabel='цена')\n"
   ]
  },
  {
   "cell_type": "markdown",
   "metadata": {},
   "source": [
    "\n",
    " Как видим чем больше комнат(тем больше площадь) тем выше цена."
   ]
  },
  {
   "cell_type": "markdown",
   "metadata": {},
   "source": [
    "<h5> Зависимость цены от этажа<a class=\"tocSkip\"></h5"
   ]
  },
  {
   "cell_type": "code",
   "execution_count": 22,
   "metadata": {},
   "outputs": [
    {
     "data": {
      "image/png": "[encoded data removed]",
      "text/plain": [
       "<Figure size 648x360 with 1 Axes>"
      ]
     },
     "metadata": {
      "needs_background": "light"
     },
     "output_type": "display_data"
    }
   ],
   "source": [
    "floor_category_table_group = data.pivot_table(index='floor_category', values='last_price', aggfunc='median').sort_values(by='last_price')\n",
    "floor_category_table_group.plot(figsize=(9,5),grid=True,label='Зависимость цены от этажа', legend=True, title='График зависимости цены от этажа',xlabel='этаж',ylabel='цена')\n",
    "plt.show()\n"
   ]
  },
  {
   "cell_type": "markdown",
   "metadata": {},
   "source": [
    "\n",
    "\n",
    "Первый этаж цениться меньше всего, другие этажи самые ценные, последний расположился в середине.    "
   ]
  },
  {
   "cell_type": "markdown",
   "metadata": {},
   "source": [
    "<h5> Зависимость цены от дата размещения (день недели, месяц, год)<a class=\"tocSkip\"></h5"
   ]
  },
  {
   "cell_type": "code",
   "execution_count": 23,
   "metadata": {},
   "outputs": [
    {
     "data": {
      "image/png": "[encoded data removed]",
      "text/plain": [
       "<Figure size 648x360 with 1 Axes>"
      ]
     },
     "metadata": {
      "needs_background": "light"
     },
     "output_type": "display_data"
    },
    {
     "data": {
      "image/png": "[encoded data removed]",
      "text/plain": [
       "<Figure size 648x360 with 1 Axes>"
      ]
     },
     "metadata": {
      "needs_background": "light"
     },
     "output_type": "display_data"
    },
    {
     "data": {
      "image/png": "[encoded data removed]",
      "text/plain": [
       "<Figure size 648x360 with 1 Axes>"
      ]
     },
     "metadata": {
      "needs_background": "light"
     },
     "output_type": "display_data"
    }
   ],
   "source": [
    "day_table_group = data.pivot_table(index='day_weekday', values='last_price', aggfunc='median').sort_values(by='last_price')\n",
    "day_table_group.sort_values(by='day_weekday').plot(figsize=(9,5),grid=True)\n",
    "month_table_group = data.pivot_table(index='month', values='last_price', aggfunc='median').sort_values(by='last_price')\n",
    "month_table_group.sort_values(by='month').plot(figsize=(9,5),grid=True)\n",
    "plt.show()\n",
    "year_table_group = data.pivot_table(index='year', values='last_price', aggfunc='median').sort_values(by='last_price')\n",
    "year_table_group.sort_values(by='year').plot(figsize=(9,5),grid=True)\n",
    "plt.show()"
   ]
  },
  {
   "cell_type": "markdown",
   "metadata": {},
   "source": [
    "Из года в год ситуация меняеться, можно предположить что это связано с экономической, политической и т.д ситуациями."
   ]
  },
  {
   "cell_type": "markdown",
   "metadata": {},
   "source": [
    "<h5> Считаем среднюю цену одного квадратного метра в 10 населённых пунктах с наибольшим числом объявлений<a class=\"tocSkip\"></h5"
   ]
  },
  {
   "cell_type": "code",
   "execution_count": 24,
   "metadata": {},
   "outputs": [
    {
     "data": {
      "text/plain": [
       "санкт-петербург      15721\n",
       "поселок мурино         556\n",
       "поселок шушары         440\n",
       "всеволожск             398\n",
       "пушкин                 369\n",
       "колпино                338\n",
       "поселок парголово      327\n",
       "гатчина                307\n",
       "деревня кудрово        299\n",
       "выборг                 237\n",
       "Name: locality_name, dtype: int64"
      ]
     },
     "metadata": {},
     "output_type": "display_data"
    },
    {
     "name": "stdout",
     "output_type": "stream",
     "text": [
      "Средняя стоимость кв.м в 10 н.п с наибольшим числом обьявлений                    last_price\n",
      "locality_name                \n",
      "всеволожск          3450000.0\n",
      "выборг              2897000.0\n",
      "гатчина             3100000.0\n",
      "деревня кудрово     3790000.0\n",
      "колпино             3600000.0\n",
      "поселок мурино      3400000.0\n",
      "поселок парголово   4100000.0\n",
      "поселок шушары      3950000.0\n",
      "пушкин              5180000.0\n",
      "санкт-петербург     5500000.0\n",
      "\n",
      "Город с самой высокой стоимость кв.м                  last_price\n",
      "locality_name              \n",
      "санкт-петербург   5500000.0\n",
      "\n",
      "Город с самой низкой ценой кв.м                last_price\n",
      "locality_name            \n",
      "выборг          2897000.0\n"
     ]
    }
   ],
   "source": [
    "ten_locality_name = data['locality_name'].value_counts().head(10)\n",
    "display(ten_locality_name)\n",
    "top_ten_loc_name = data[data['locality_name'].isin(ten_locality_name.index)]\n",
    "top_ten_pivot_table = top_ten_loc_name.pivot_table(index='locality_name', values='last_price', aggfunc='median')\n",
    "print('Средняя стоимость кв.м в 10 н.п с наибольшим числом обьявлений', top_ten_pivot_table)\n",
    "print(\"\")\n",
    "print('Город с самой высокой стоимость кв.м', top_ten_pivot_table.query('last_price == last_price.max()'))\n",
    "print(\"\")\n",
    "print('Город с самой низкой ценой кв.м', top_ten_pivot_table.query('last_price == last_price.min()'))\n"
   ]
  },
  {
   "cell_type": "markdown",
   "metadata": {},
   "source": [
    "\n",
    " Цена меняется в зависимости от расположения обьекта.Чем больше,красивее, премиальнее, тем выше цена."
   ]
  },
  {
   "cell_type": "markdown",
   "metadata": {},
   "source": [
    "<h5> Квартиры в Санкт-Петербурге и их средняя стоимость на разном удалении от центра<a class=\"tocSkip\"></h5"
   ]
  },
  {
   "cell_type": "code",
   "execution_count": 25,
   "metadata": {},
   "outputs": [
    {
     "name": "stdout",
     "output_type": "stream",
     "text": [
      "                      last_price\n",
      "city_centers_nearest            \n",
      "0                     11750000.0\n",
      "1                     10835000.0\n",
      "2                      9500000.0\n",
      "3                      8500000.0\n",
      "4                      9900000.0\n",
      "5                      8920262.0\n",
      "6                      8005000.0\n",
      "7                      7500000.0\n",
      "8                      6500000.0\n",
      "9                      5000000.0\n",
      "10                     5000000.0\n",
      "11                     5000000.0\n",
      "12                     5000000.0\n",
      "13                     5200000.0\n",
      "14                     4900000.0\n",
      "15                     4800000.0\n",
      "16                     4650000.0\n",
      "17                     4450000.0\n",
      "18                     4410000.0\n",
      "19                     4499500.0\n",
      "20                     6045000.0\n",
      "21                     4700000.0\n",
      "22                     5000000.0\n",
      "23                     3940000.0\n",
      "24                     3480000.0\n",
      "25                     3420000.0\n",
      "26                     3975000.0\n",
      "27                     8300000.0\n",
      "28                     4775000.0\n",
      "29                     4200000.0\n"
     ]
    },
    {
     "name": "stderr",
     "output_type": "stream",
     "text": [
      "/opt/conda/lib/python3.9/site-packages/pandas/core/indexing.py:1676: SettingWithCopyWarning: \n",
      "A value is trying to be set on a copy of a slice from a DataFrame.\n",
      "Try using .loc[row_indexer,col_indexer] = value instead\n",
      "\n",
      "See the caveats in the documentation: https://pandas.pydata.org/pandas-docs/stable/user_guide/indexing.html#returning-a-view-versus-a-copy\n",
      "  self._setitem_single_column(ilocs[0], value, pi)\n"
     ]
    },
    {
     "data": {
      "image/png": "[encoded data removed]",
      "text/plain": [
       "<Figure size 648x360 with 1 Axes>"
      ]
     },
     "metadata": {
      "needs_background": "light"
     },
     "output_type": "display_data"
    }
   ],
   "source": [
    "saint_piter_price = data.query('locality_name == \"санкт-петербург\"')\n",
    "\n",
    "saint_piter_price.loc[:,'city_centers_nearest'] = saint_piter_price['city_centers_nearest'].dropna()\n",
    "saint_piter_price.loc[:,'city_centers_nearest'] = saint_piter_price['city_centers_nearest'] / 1000\n",
    "saint_piter_price.loc[:,'city_centers_nearest'] = saint_piter_price['city_centers_nearest'].astype('Int64')\n",
    "\n",
    "piter_center_price = saint_piter_price.pivot_table(index='city_centers_nearest', values='last_price', aggfunc='median').sort_values(by='city_centers_nearest',ascending=True)\n",
    "print(piter_center_price)\n",
    "piter_center_price.plot(figsize=(9,5),grid=True,label='Квартиры в Санкт-Петербурге и их средняя стоимость на разном удалении от центра', legend=True, title='Квартиры в Санкт-Петербурге и их средняя стоимость на разном удалении от центра',xlabel='удаление от центра',ylabel='цена')\n",
    "plt.show()\n"
   ]
  },
  {
   "cell_type": "markdown",
   "metadata": {},
   "source": [
    "\n",
    "Как мы видим, чем ближе к центру тем выше цена, чем дальше от центра тем ниже цена, но есть зависимость от других факторов, например от площади обьекта.    \n",
    " "
   ]
  },
  {
   "cell_type": "markdown",
   "metadata": {},
   "source": [
    "Посчитал данные по каждому километру,высокие цены держаться до 2,3км-9225000, это говорит о том что чем ближе к центру тем лучше качество жизни,ближе магазины, развлекательные центры и т.д ,сооответствено и цены на жилье выше.\n",
    "       "
   ]
  },
  {
   "cell_type": "markdown",
   "metadata": {},
   "source": [
    " Цены держат высокий уровень от центра(11750000) до 2 км(9500000), что вполне логично, развлекательные центры и все прочее в шаговой доступности, ну и премиальный район.Чем далее от центра тем ниже цены.    "
   ]
  },
  {
   "cell_type": "markdown",
   "metadata": {
    "id": "h7VpzkIDAwb-"
   },
   "source": [
    "### Общий вывод"
   ]
  },
  {
   "cell_type": "markdown",
   "metadata": {},
   "source": [
    "\n",
    "Исходя из результатов можно сделать вывод, что существует множество факторов влияющих на цену квартиры, по моему мнению определяющие факторы это конечно жилая площадь и общая площадь, но нельзя исключать и другие факторы, такие как расположение обьекта(в каком городе находиться, если есть центр, то растояние от него) и т.д.Например в Санкт-Петербурге самая высокая цена за кв.м (5500000), а в Выборге самая низкая(2897000).Так же есть зависимость от года размещения,например в 2014 были самые высокие цены, а с 2016-2018 был спад, далее ситуация опять начала меняться и цены пошли вверх, это говорит о том что существуют еще и внешние факторы такие как политическая,мировая,экономическая обстановки.\n"
   ]
  }
 ],
 "metadata": {
  "ExecuteTimeLog": [
   {
    "duration": 769,
    "start_time": "2024-05-04T11:07:37.344Z"
   },
   {
    "duration": 116,
    "start_time": "2024-05-04T11:08:35.107Z"
   },
   {
    "duration": 111,
    "start_time": "2024-05-04T11:09:00.785Z"
   },
   {
    "duration": 533,
    "start_time": "2024-05-04T11:10:26.536Z"
   },
   {
    "duration": 111,
    "start_time": "2024-05-04T11:13:56.263Z"
   },
   {
    "duration": 132,
    "start_time": "2024-05-04T11:16:00.415Z"
   },
   {
    "duration": 129,
    "start_time": "2024-05-04T11:17:14.193Z"
   },
   {
    "duration": 66,
    "start_time": "2024-05-04T11:24:21.090Z"
   },
   {
    "duration": 108,
    "start_time": "2024-05-04T11:25:05.160Z"
   },
   {
    "duration": 118,
    "start_time": "2024-05-04T11:25:11.620Z"
   },
   {
    "duration": 103,
    "start_time": "2024-05-04T11:25:38.007Z"
   },
   {
    "duration": 149,
    "start_time": "2024-05-04T11:28:12.092Z"
   },
   {
    "duration": 1799,
    "start_time": "2024-05-05T00:14:31.050Z"
   },
   {
    "duration": 953,
    "start_time": "2024-05-05T00:14:52.123Z"
   },
   {
    "duration": 1867,
    "start_time": "2024-05-05T00:15:18.705Z"
   },
   {
    "duration": 23,
    "start_time": "2024-05-05T00:21:33.917Z"
   },
   {
    "duration": 8,
    "start_time": "2024-05-05T00:22:07.623Z"
   },
   {
    "duration": 157,
    "start_time": "2024-05-05T00:28:48.443Z"
   },
   {
    "duration": 1924,
    "start_time": "2024-05-05T00:28:59.106Z"
   },
   {
    "duration": 1944,
    "start_time": "2024-05-05T00:32:07.081Z"
   },
   {
    "duration": 7,
    "start_time": "2024-05-05T01:02:36.555Z"
   },
   {
    "duration": 9,
    "start_time": "2024-05-05T01:02:57.333Z"
   },
   {
    "duration": 12,
    "start_time": "2024-05-05T01:03:19.186Z"
   },
   {
    "duration": 10,
    "start_time": "2024-05-05T01:03:29.673Z"
   },
   {
    "duration": 9,
    "start_time": "2024-05-05T01:03:35.302Z"
   },
   {
    "duration": 9,
    "start_time": "2024-05-05T01:03:56.117Z"
   },
   {
    "duration": 8,
    "start_time": "2024-05-05T01:04:20.982Z"
   },
   {
    "duration": 11,
    "start_time": "2024-05-05T01:06:53.395Z"
   },
   {
    "duration": 10,
    "start_time": "2024-05-05T01:14:12.377Z"
   },
   {
    "duration": 7,
    "start_time": "2024-05-05T01:14:35.220Z"
   },
   {
    "duration": 11,
    "start_time": "2024-05-05T01:14:40.842Z"
   },
   {
    "duration": 20,
    "start_time": "2024-05-05T01:16:22.612Z"
   },
   {
    "duration": 777,
    "start_time": "2024-05-05T01:41:03.884Z"
   },
   {
    "duration": 729,
    "start_time": "2024-05-05T01:41:37.218Z"
   },
   {
    "duration": 37,
    "start_time": "2024-05-05T01:42:21.285Z"
   },
   {
    "duration": 56,
    "start_time": "2024-05-05T02:00:28.182Z"
   },
   {
    "duration": 980,
    "start_time": "2024-05-05T02:01:53.256Z"
   },
   {
    "duration": 1077,
    "start_time": "2024-05-05T02:06:20.495Z"
   },
   {
    "duration": 941,
    "start_time": "2024-05-05T02:07:16.932Z"
   },
   {
    "duration": 959,
    "start_time": "2024-05-05T02:08:32.762Z"
   },
   {
    "duration": 1884,
    "start_time": "2024-05-05T02:08:48.067Z"
   },
   {
    "duration": 1575,
    "start_time": "2024-05-05T02:08:49.953Z"
   },
   {
    "duration": 1248,
    "start_time": "2024-05-05T02:09:03.081Z"
   },
   {
    "duration": 1045,
    "start_time": "2024-05-05T02:09:26.243Z"
   },
   {
    "duration": 956,
    "start_time": "2024-05-05T02:09:40.904Z"
   },
   {
    "duration": 1980,
    "start_time": "2024-05-05T02:09:51.697Z"
   },
   {
    "duration": 1492,
    "start_time": "2024-05-05T02:09:56.184Z"
   },
   {
    "duration": 970,
    "start_time": "2024-05-05T02:10:13.994Z"
   },
   {
    "duration": 1755,
    "start_time": "2024-05-05T02:10:19.660Z"
   },
   {
    "duration": 1203,
    "start_time": "2024-05-05T02:10:21.417Z"
   },
   {
    "duration": 1877,
    "start_time": "2024-05-05T02:10:33.081Z"
   },
   {
    "duration": 976,
    "start_time": "2024-05-05T02:10:36.332Z"
   },
   {
    "duration": 1749,
    "start_time": "2024-05-05T02:12:25.569Z"
   },
   {
    "duration": 13,
    "start_time": "2024-05-05T02:24:36.416Z"
   },
   {
    "duration": 18,
    "start_time": "2024-05-05T02:25:14.089Z"
   },
   {
    "duration": 12,
    "start_time": "2024-05-05T02:25:40.519Z"
   },
   {
    "duration": 1995,
    "start_time": "2024-05-05T02:25:52.557Z"
   },
   {
    "duration": 11,
    "start_time": "2024-05-05T02:25:54.553Z"
   },
   {
    "duration": 17,
    "start_time": "2024-05-05T02:26:14.131Z"
   },
   {
    "duration": 12,
    "start_time": "2024-05-05T02:26:27.554Z"
   },
   {
    "duration": 1754,
    "start_time": "2024-05-05T02:26:33.888Z"
   },
   {
    "duration": 11,
    "start_time": "2024-05-05T02:26:35.644Z"
   },
   {
    "duration": 1738,
    "start_time": "2024-05-05T02:26:53.452Z"
   },
   {
    "duration": 25,
    "start_time": "2024-05-05T02:26:55.192Z"
   },
   {
    "duration": 48,
    "start_time": "2024-05-05T10:16:09.807Z"
   },
   {
    "duration": 3206,
    "start_time": "2024-05-05T10:16:23.392Z"
   },
   {
    "duration": 25,
    "start_time": "2024-05-05T10:16:26.600Z"
   },
   {
    "duration": 11,
    "start_time": "2024-05-05T10:16:26.626Z"
   },
   {
    "duration": 26,
    "start_time": "2024-05-05T10:16:40.632Z"
   },
   {
    "duration": 9,
    "start_time": "2024-05-05T10:17:33.348Z"
   },
   {
    "duration": 52,
    "start_time": "2024-05-05T11:05:01.149Z"
   },
   {
    "duration": 98,
    "start_time": "2024-05-05T11:05:41.659Z"
   },
   {
    "duration": 47,
    "start_time": "2024-05-05T11:05:53.583Z"
   },
   {
    "duration": 9,
    "start_time": "2024-05-05T11:10:01.134Z"
   },
   {
    "duration": 25,
    "start_time": "2024-05-05T11:10:24.940Z"
   },
   {
    "duration": 32,
    "start_time": "2024-05-05T11:10:36.572Z"
   },
   {
    "duration": 54,
    "start_time": "2024-05-05T11:17:42.952Z"
   },
   {
    "duration": 22,
    "start_time": "2024-05-05T11:18:43.824Z"
   },
   {
    "duration": 90,
    "start_time": "2024-05-05T11:19:58.888Z"
   },
   {
    "duration": 35,
    "start_time": "2024-05-05T11:20:21.531Z"
   },
   {
    "duration": 29,
    "start_time": "2024-05-05T11:27:16.801Z"
   },
   {
    "duration": 27,
    "start_time": "2024-05-05T11:28:11.420Z"
   },
   {
    "duration": 19,
    "start_time": "2024-05-05T11:28:37.700Z"
   },
   {
    "duration": 19,
    "start_time": "2024-05-05T11:29:09.364Z"
   },
   {
    "duration": 18,
    "start_time": "2024-05-05T11:29:24.813Z"
   },
   {
    "duration": 20,
    "start_time": "2024-05-05T11:29:52.681Z"
   },
   {
    "duration": 18,
    "start_time": "2024-05-05T11:30:43.249Z"
   },
   {
    "duration": 79,
    "start_time": "2024-05-05T11:31:28.860Z"
   },
   {
    "duration": 19,
    "start_time": "2024-05-05T11:31:38.224Z"
   },
   {
    "duration": 15,
    "start_time": "2024-05-05T11:37:00.303Z"
   },
   {
    "duration": 28,
    "start_time": "2024-05-05T11:50:12.883Z"
   },
   {
    "duration": 22,
    "start_time": "2024-05-05T11:53:06.205Z"
   },
   {
    "duration": 27,
    "start_time": "2024-05-05T11:53:16.559Z"
   },
   {
    "duration": 2217,
    "start_time": "2024-05-05T11:54:12.583Z"
   },
   {
    "duration": 25,
    "start_time": "2024-05-05T11:54:14.802Z"
   },
   {
    "duration": 8,
    "start_time": "2024-05-05T11:54:14.829Z"
   },
   {
    "duration": 42,
    "start_time": "2024-05-05T11:54:14.839Z"
   },
   {
    "duration": 23,
    "start_time": "2024-05-05T11:54:47.784Z"
   },
   {
    "duration": 31,
    "start_time": "2024-05-05T11:55:10.814Z"
   },
   {
    "duration": 17,
    "start_time": "2024-05-05T11:55:23.902Z"
   },
   {
    "duration": 2376,
    "start_time": "2024-05-05T11:55:58.313Z"
   },
   {
    "duration": 13,
    "start_time": "2024-05-05T11:56:41.989Z"
   },
   {
    "duration": 13,
    "start_time": "2024-05-05T11:56:47.582Z"
   },
   {
    "duration": 25,
    "start_time": "2024-05-05T11:56:53.565Z"
   },
   {
    "duration": 25,
    "start_time": "2024-05-05T11:57:45.727Z"
   },
   {
    "duration": 38,
    "start_time": "2024-05-05T11:58:50.856Z"
   },
   {
    "duration": 9,
    "start_time": "2024-05-05T11:58:59.757Z"
   },
   {
    "duration": 25,
    "start_time": "2024-05-05T11:59:05.517Z"
   },
   {
    "duration": 37,
    "start_time": "2024-05-05T12:00:54.047Z"
   },
   {
    "duration": 11,
    "start_time": "2024-05-05T12:05:07.859Z"
   },
   {
    "duration": 10,
    "start_time": "2024-05-05T12:05:17.806Z"
   },
   {
    "duration": 39,
    "start_time": "2024-05-05T12:05:20.856Z"
   },
   {
    "duration": 49,
    "start_time": "2024-05-05T12:06:34.944Z"
   },
   {
    "duration": 153,
    "start_time": "2024-05-05T12:06:45.299Z"
   },
   {
    "duration": 42,
    "start_time": "2024-05-05T12:07:11.726Z"
   },
   {
    "duration": 33,
    "start_time": "2024-05-05T12:08:53.942Z"
   },
   {
    "duration": 35,
    "start_time": "2024-05-05T12:09:03.487Z"
   },
   {
    "duration": 33,
    "start_time": "2024-05-05T12:09:18.552Z"
   },
   {
    "duration": 34,
    "start_time": "2024-05-05T12:09:33.134Z"
   },
   {
    "duration": 34,
    "start_time": "2024-05-05T12:09:51.401Z"
   },
   {
    "duration": 33,
    "start_time": "2024-05-05T12:10:01.473Z"
   },
   {
    "duration": 2225,
    "start_time": "2024-05-05T13:11:34.141Z"
   },
   {
    "duration": 13,
    "start_time": "2024-05-05T13:11:36.368Z"
   },
   {
    "duration": 11,
    "start_time": "2024-05-05T13:11:36.383Z"
   },
   {
    "duration": 36,
    "start_time": "2024-05-05T13:11:36.396Z"
   },
   {
    "duration": 25,
    "start_time": "2024-05-05T13:11:57.167Z"
   },
   {
    "duration": 36,
    "start_time": "2024-05-05T13:12:42.696Z"
   },
   {
    "duration": 158,
    "start_time": "2024-05-05T13:13:43.394Z"
   },
   {
    "duration": 25,
    "start_time": "2024-05-05T13:14:35.359Z"
   },
   {
    "duration": 2203,
    "start_time": "2024-05-05T13:35:05.552Z"
   },
   {
    "duration": 2268,
    "start_time": "2024-05-05T13:52:29.197Z"
   },
   {
    "duration": 9,
    "start_time": "2024-05-05T13:52:31.467Z"
   },
   {
    "duration": 27,
    "start_time": "2024-05-05T13:52:31.478Z"
   },
   {
    "duration": 30,
    "start_time": "2024-05-05T13:52:31.507Z"
   },
   {
    "duration": 151,
    "start_time": "2024-05-05T13:52:49.559Z"
   },
   {
    "duration": 2213,
    "start_time": "2024-05-05T13:53:33.926Z"
   },
   {
    "duration": 21,
    "start_time": "2024-05-05T13:53:36.140Z"
   },
   {
    "duration": 12,
    "start_time": "2024-05-05T13:53:36.163Z"
   },
   {
    "duration": 44,
    "start_time": "2024-05-05T13:53:36.176Z"
   },
   {
    "duration": 140,
    "start_time": "2024-05-05T13:53:48.799Z"
   },
   {
    "duration": 27,
    "start_time": "2024-05-05T13:53:55.734Z"
   },
   {
    "duration": 203,
    "start_time": "2024-05-05T15:09:13.590Z"
   },
   {
    "duration": 28,
    "start_time": "2024-05-05T15:09:27.220Z"
   },
   {
    "duration": 26,
    "start_time": "2024-05-05T15:10:45.074Z"
   },
   {
    "duration": 6,
    "start_time": "2024-05-05T15:12:07.733Z"
   },
   {
    "duration": 3275,
    "start_time": "2024-05-05T22:47:55.435Z"
   },
   {
    "duration": 22,
    "start_time": "2024-05-05T22:47:58.713Z"
   },
   {
    "duration": 28,
    "start_time": "2024-05-05T22:47:58.738Z"
   },
   {
    "duration": 58,
    "start_time": "2024-05-05T22:47:58.768Z"
   },
   {
    "duration": 91,
    "start_time": "2024-05-05T22:54:37.742Z"
   },
   {
    "duration": 6,
    "start_time": "2024-05-05T22:54:48.100Z"
   },
   {
    "duration": 7,
    "start_time": "2024-05-05T23:00:45.357Z"
   },
   {
    "duration": 7,
    "start_time": "2024-05-05T23:01:37.444Z"
   },
   {
    "duration": 8,
    "start_time": "2024-05-05T23:07:46.524Z"
   },
   {
    "duration": 5,
    "start_time": "2024-05-05T23:07:55.539Z"
   },
   {
    "duration": 10,
    "start_time": "2024-05-05T23:08:24.650Z"
   },
   {
    "duration": 6,
    "start_time": "2024-05-05T23:08:39.577Z"
   },
   {
    "duration": 16,
    "start_time": "2024-05-05T23:12:31.213Z"
   },
   {
    "duration": 20,
    "start_time": "2024-05-05T23:12:41.779Z"
   },
   {
    "duration": 34,
    "start_time": "2024-05-05T23:14:14.553Z"
   },
   {
    "duration": 30,
    "start_time": "2024-05-05T23:14:36.856Z"
   },
   {
    "duration": 28,
    "start_time": "2024-05-05T23:14:52.578Z"
   },
   {
    "duration": 30,
    "start_time": "2024-05-05T23:15:02.576Z"
   },
   {
    "duration": 28,
    "start_time": "2024-05-05T23:15:10.204Z"
   },
   {
    "duration": 29,
    "start_time": "2024-05-05T23:16:32.908Z"
   },
   {
    "duration": 56,
    "start_time": "2024-05-05T23:19:53.344Z"
   },
   {
    "duration": 39,
    "start_time": "2024-05-05T23:25:34.600Z"
   },
   {
    "duration": 30,
    "start_time": "2024-05-05T23:27:07.736Z"
   },
   {
    "duration": 41,
    "start_time": "2024-05-05T23:27:23.124Z"
   },
   {
    "duration": 31,
    "start_time": "2024-05-05T23:27:36.196Z"
   },
   {
    "duration": 28,
    "start_time": "2024-05-05T23:27:53.338Z"
   },
   {
    "duration": 31,
    "start_time": "2024-05-05T23:27:59.581Z"
   },
   {
    "duration": 42,
    "start_time": "2024-05-05T23:28:12.907Z"
   },
   {
    "duration": 72,
    "start_time": "2024-05-05T23:28:20.104Z"
   },
   {
    "duration": 40,
    "start_time": "2024-05-05T23:28:23.098Z"
   },
   {
    "duration": 114,
    "start_time": "2024-05-05T23:41:29.069Z"
   },
   {
    "duration": 131,
    "start_time": "2024-05-05T23:42:43.602Z"
   },
   {
    "duration": 92,
    "start_time": "2024-05-05T23:44:01.489Z"
   },
   {
    "duration": 89,
    "start_time": "2024-05-05T23:44:41.909Z"
   },
   {
    "duration": 114,
    "start_time": "2024-05-05T23:45:32.536Z"
   },
   {
    "duration": 111,
    "start_time": "2024-05-05T23:45:52.933Z"
   },
   {
    "duration": 92,
    "start_time": "2024-05-05T23:46:06.660Z"
   },
   {
    "duration": 2480,
    "start_time": "2024-05-05T23:46:13.129Z"
   },
   {
    "duration": 13,
    "start_time": "2024-05-05T23:46:15.611Z"
   },
   {
    "duration": 12,
    "start_time": "2024-05-05T23:46:15.626Z"
   },
   {
    "duration": 57,
    "start_time": "2024-05-05T23:46:15.639Z"
   },
   {
    "duration": 115,
    "start_time": "2024-05-05T23:46:15.698Z"
   },
   {
    "duration": 93,
    "start_time": "2024-05-05T23:46:41.907Z"
   },
   {
    "duration": 2322,
    "start_time": "2024-05-05T23:46:45.492Z"
   },
   {
    "duration": 13,
    "start_time": "2024-05-05T23:46:47.816Z"
   },
   {
    "duration": 11,
    "start_time": "2024-05-05T23:46:47.830Z"
   },
   {
    "duration": 58,
    "start_time": "2024-05-05T23:46:47.842Z"
   },
   {
    "duration": 112,
    "start_time": "2024-05-05T23:46:47.902Z"
   },
   {
    "duration": 124,
    "start_time": "2024-05-05T23:47:41.852Z"
   },
   {
    "duration": 2423,
    "start_time": "2024-05-05T23:49:04.479Z"
   },
   {
    "duration": 12,
    "start_time": "2024-05-05T23:49:06.904Z"
   },
   {
    "duration": 24,
    "start_time": "2024-05-05T23:49:06.917Z"
   },
   {
    "duration": 63,
    "start_time": "2024-05-05T23:49:06.943Z"
   },
   {
    "duration": 165,
    "start_time": "2024-05-05T23:49:07.007Z"
   },
   {
    "duration": 42,
    "start_time": "2024-05-05T23:49:32.294Z"
   },
   {
    "duration": 2414,
    "start_time": "2024-05-05T23:49:36.875Z"
   },
   {
    "duration": 12,
    "start_time": "2024-05-05T23:49:39.291Z"
   },
   {
    "duration": 14,
    "start_time": "2024-05-05T23:49:39.304Z"
   },
   {
    "duration": 34,
    "start_time": "2024-05-05T23:49:39.319Z"
   },
   {
    "duration": 55,
    "start_time": "2024-05-05T23:49:39.355Z"
   },
   {
    "duration": 27,
    "start_time": "2024-05-05T23:50:59.820Z"
   },
   {
    "duration": 30,
    "start_time": "2024-05-05T23:57:11.127Z"
   },
   {
    "duration": 27,
    "start_time": "2024-05-05T23:57:31.070Z"
   },
   {
    "duration": 30,
    "start_time": "2024-05-05T23:58:15.432Z"
   },
   {
    "duration": 30,
    "start_time": "2024-05-06T00:01:37.658Z"
   },
   {
    "duration": 30,
    "start_time": "2024-05-06T00:02:18.582Z"
   },
   {
    "duration": 32,
    "start_time": "2024-05-06T00:02:32.760Z"
   },
   {
    "duration": 35,
    "start_time": "2024-05-06T00:02:55.024Z"
   },
   {
    "duration": 36,
    "start_time": "2024-05-06T00:03:19.811Z"
   },
   {
    "duration": 45,
    "start_time": "2024-05-06T00:03:43.187Z"
   },
   {
    "duration": 37,
    "start_time": "2024-05-06T00:03:56.073Z"
   },
   {
    "duration": 31,
    "start_time": "2024-05-06T00:04:19.305Z"
   },
   {
    "duration": 36,
    "start_time": "2024-05-06T00:04:31.948Z"
   },
   {
    "duration": 40,
    "start_time": "2024-05-06T00:04:48.533Z"
   },
   {
    "duration": 42,
    "start_time": "2024-05-06T03:39:03.639Z"
   },
   {
    "duration": 2683,
    "start_time": "2024-05-06T03:39:06.825Z"
   },
   {
    "duration": 15,
    "start_time": "2024-05-06T03:39:09.509Z"
   },
   {
    "duration": 10,
    "start_time": "2024-05-06T03:39:09.525Z"
   },
   {
    "duration": 26,
    "start_time": "2024-05-06T03:39:09.536Z"
   },
   {
    "duration": 75,
    "start_time": "2024-05-06T03:39:09.563Z"
   },
   {
    "duration": 74,
    "start_time": "2024-05-06T03:53:25.226Z"
   },
   {
    "duration": 86,
    "start_time": "2024-05-06T03:55:53.105Z"
   },
   {
    "duration": 69,
    "start_time": "2024-05-06T04:27:48.675Z"
   },
   {
    "duration": 70,
    "start_time": "2024-05-06T04:28:07.852Z"
   },
   {
    "duration": 70,
    "start_time": "2024-05-06T04:31:12.927Z"
   },
   {
    "duration": 61,
    "start_time": "2024-05-06T04:34:25.892Z"
   },
   {
    "duration": 70,
    "start_time": "2024-05-06T04:34:32.410Z"
   },
   {
    "duration": 93,
    "start_time": "2024-05-06T04:35:06.668Z"
   },
   {
    "duration": 104,
    "start_time": "2024-05-06T04:46:15.522Z"
   },
   {
    "duration": 839,
    "start_time": "2024-05-06T04:46:53.386Z"
   },
   {
    "duration": 80,
    "start_time": "2024-05-06T04:47:06.883Z"
   },
   {
    "duration": 82,
    "start_time": "2024-05-06T04:47:33.863Z"
   },
   {
    "duration": 73,
    "start_time": "2024-05-06T04:47:52.414Z"
   },
   {
    "duration": 75,
    "start_time": "2024-05-06T04:48:47.859Z"
   },
   {
    "duration": 72,
    "start_time": "2024-05-06T04:49:19.507Z"
   },
   {
    "duration": 82,
    "start_time": "2024-05-06T04:49:48.571Z"
   },
   {
    "duration": 23,
    "start_time": "2024-05-06T04:58:38.449Z"
   },
   {
    "duration": 1800,
    "start_time": "2024-05-06T04:58:53.082Z"
   },
   {
    "duration": 17,
    "start_time": "2024-05-06T04:58:54.884Z"
   },
   {
    "duration": 7,
    "start_time": "2024-05-06T04:58:54.903Z"
   },
   {
    "duration": 31,
    "start_time": "2024-05-06T04:58:54.911Z"
   },
   {
    "duration": 0,
    "start_time": "2024-05-06T04:58:54.944Z"
   },
   {
    "duration": 22,
    "start_time": "2024-05-06T04:59:01.457Z"
   },
   {
    "duration": 22,
    "start_time": "2024-05-06T04:59:06.990Z"
   },
   {
    "duration": 75,
    "start_time": "2024-05-06T04:59:19.051Z"
   },
   {
    "duration": 23,
    "start_time": "2024-05-06T05:01:05.351Z"
   },
   {
    "duration": 22,
    "start_time": "2024-05-06T05:02:44.528Z"
   },
   {
    "duration": 84,
    "start_time": "2024-05-06T05:03:37.109Z"
   },
   {
    "duration": 25,
    "start_time": "2024-05-06T05:03:52.961Z"
   },
   {
    "duration": 23,
    "start_time": "2024-05-06T05:04:12.272Z"
   },
   {
    "duration": 22,
    "start_time": "2024-05-06T05:04:48.602Z"
   },
   {
    "duration": 38,
    "start_time": "2024-05-06T05:04:57.355Z"
   },
   {
    "duration": 25,
    "start_time": "2024-05-06T05:05:05.188Z"
   },
   {
    "duration": 79,
    "start_time": "2024-05-06T05:10:11.422Z"
   },
   {
    "duration": 77,
    "start_time": "2024-05-06T05:12:10.201Z"
   },
   {
    "duration": 773,
    "start_time": "2024-05-06T05:12:41.826Z"
   },
   {
    "duration": 76,
    "start_time": "2024-05-06T05:12:54.453Z"
   },
   {
    "duration": 79,
    "start_time": "2024-05-06T05:13:10.453Z"
   },
   {
    "duration": 77,
    "start_time": "2024-05-06T05:13:28.350Z"
   },
   {
    "duration": 90,
    "start_time": "2024-05-06T05:13:44.983Z"
   },
   {
    "duration": 21,
    "start_time": "2024-05-06T05:19:11.679Z"
   },
   {
    "duration": 9,
    "start_time": "2024-05-06T05:20:03.721Z"
   },
   {
    "duration": 25,
    "start_time": "2024-05-06T05:20:08.298Z"
   },
   {
    "duration": 80,
    "start_time": "2024-05-06T05:20:27.790Z"
   },
   {
    "duration": 23,
    "start_time": "2024-05-06T05:26:00.166Z"
   },
   {
    "duration": 6,
    "start_time": "2024-05-06T05:26:37.355Z"
   },
   {
    "duration": 52,
    "start_time": "2024-05-06T05:26:41.050Z"
   },
   {
    "duration": 75,
    "start_time": "2024-05-06T05:29:13.981Z"
   },
   {
    "duration": 82,
    "start_time": "2024-05-06T05:30:19.617Z"
   },
   {
    "duration": 79,
    "start_time": "2024-05-06T05:32:57.911Z"
   },
   {
    "duration": 88,
    "start_time": "2024-05-06T05:33:14.719Z"
   },
   {
    "duration": 84,
    "start_time": "2024-05-06T05:33:54.804Z"
   },
   {
    "duration": 81,
    "start_time": "2024-05-06T05:34:11.674Z"
   },
   {
    "duration": 17,
    "start_time": "2024-05-06T05:35:02.882Z"
   },
   {
    "duration": 1749,
    "start_time": "2024-05-06T05:35:20.996Z"
   },
   {
    "duration": 760,
    "start_time": "2024-05-06T05:35:22.746Z"
   },
   {
    "duration": 0,
    "start_time": "2024-05-06T05:35:23.508Z"
   },
   {
    "duration": 0,
    "start_time": "2024-05-06T05:35:23.509Z"
   },
   {
    "duration": 0,
    "start_time": "2024-05-06T05:35:23.510Z"
   },
   {
    "duration": 773,
    "start_time": "2024-05-06T05:35:30.371Z"
   },
   {
    "duration": 12,
    "start_time": "2024-05-06T05:36:02.527Z"
   },
   {
    "duration": 1196,
    "start_time": "2024-05-06T05:36:08.704Z"
   },
   {
    "duration": 1953,
    "start_time": "2024-05-06T05:36:18.914Z"
   },
   {
    "duration": 19,
    "start_time": "2024-05-06T05:36:20.869Z"
   },
   {
    "duration": 15,
    "start_time": "2024-05-06T05:36:20.890Z"
   },
   {
    "duration": 23,
    "start_time": "2024-05-06T05:36:20.906Z"
   },
   {
    "duration": 0,
    "start_time": "2024-05-06T05:36:20.931Z"
   },
   {
    "duration": 93,
    "start_time": "2024-05-06T05:36:26.232Z"
   },
   {
    "duration": 767,
    "start_time": "2024-05-06T05:36:53.109Z"
   },
   {
    "duration": 1835,
    "start_time": "2024-05-06T05:37:08.356Z"
   },
   {
    "duration": 12,
    "start_time": "2024-05-06T05:37:10.193Z"
   },
   {
    "duration": 14,
    "start_time": "2024-05-06T05:37:10.206Z"
   },
   {
    "duration": 27,
    "start_time": "2024-05-06T05:37:10.221Z"
   },
   {
    "duration": 136,
    "start_time": "2024-05-06T05:37:10.249Z"
   },
   {
    "duration": 86,
    "start_time": "2024-05-06T05:37:21.672Z"
   },
   {
    "duration": 101,
    "start_time": "2024-05-06T05:38:07.740Z"
   },
   {
    "duration": 87,
    "start_time": "2024-05-06T05:38:29.554Z"
   },
   {
    "duration": 91,
    "start_time": "2024-05-06T05:38:54.315Z"
   },
   {
    "duration": 5,
    "start_time": "2024-05-06T05:54:51.347Z"
   },
   {
    "duration": 6,
    "start_time": "2024-05-06T05:55:08.112Z"
   },
   {
    "duration": 6,
    "start_time": "2024-05-06T05:55:19.018Z"
   },
   {
    "duration": 6,
    "start_time": "2024-05-06T05:55:40.860Z"
   },
   {
    "duration": 7,
    "start_time": "2024-05-06T05:55:53.959Z"
   },
   {
    "duration": 6,
    "start_time": "2024-05-06T05:59:03.714Z"
   },
   {
    "duration": 9,
    "start_time": "2024-05-06T06:00:58.673Z"
   },
   {
    "duration": 11,
    "start_time": "2024-05-06T06:01:09.534Z"
   },
   {
    "duration": 11,
    "start_time": "2024-05-06T06:01:22.567Z"
   },
   {
    "duration": 49,
    "start_time": "2024-05-06T11:30:32.190Z"
   },
   {
    "duration": 3515,
    "start_time": "2024-05-06T11:30:37.166Z"
   },
   {
    "duration": 13,
    "start_time": "2024-05-06T11:30:40.683Z"
   },
   {
    "duration": 18,
    "start_time": "2024-05-06T11:30:40.698Z"
   },
   {
    "duration": 38,
    "start_time": "2024-05-06T11:30:40.718Z"
   },
   {
    "duration": 116,
    "start_time": "2024-05-06T11:30:40.759Z"
   },
   {
    "duration": 27,
    "start_time": "2024-05-06T11:30:40.877Z"
   },
   {
    "duration": 31,
    "start_time": "2024-05-06T11:30:53.310Z"
   },
   {
    "duration": 135,
    "start_time": "2024-05-06T11:57:53.336Z"
   },
   {
    "duration": 504,
    "start_time": "2024-05-06T11:58:14.514Z"
   },
   {
    "duration": 1240,
    "start_time": "2024-05-06T12:00:32.073Z"
   },
   {
    "duration": 2381,
    "start_time": "2024-05-06T12:00:39.504Z"
   },
   {
    "duration": 1225,
    "start_time": "2024-05-06T12:00:41.886Z"
   },
   {
    "duration": 0,
    "start_time": "2024-05-06T12:00:43.112Z"
   },
   {
    "duration": 0,
    "start_time": "2024-05-06T12:00:43.114Z"
   },
   {
    "duration": 0,
    "start_time": "2024-05-06T12:00:43.115Z"
   },
   {
    "duration": 0,
    "start_time": "2024-05-06T12:00:43.116Z"
   },
   {
    "duration": 1239,
    "start_time": "2024-05-06T12:00:57.069Z"
   },
   {
    "duration": 10,
    "start_time": "2024-05-06T12:01:17.313Z"
   },
   {
    "duration": 15,
    "start_time": "2024-05-06T12:01:30.295Z"
   },
   {
    "duration": 2372,
    "start_time": "2024-05-06T12:01:58.907Z"
   },
   {
    "duration": 13,
    "start_time": "2024-05-06T12:02:01.281Z"
   },
   {
    "duration": 59,
    "start_time": "2024-05-06T12:02:01.296Z"
   },
   {
    "duration": 88,
    "start_time": "2024-05-06T12:02:01.356Z"
   },
   {
    "duration": 183,
    "start_time": "2024-05-06T12:02:01.446Z"
   },
   {
    "duration": 535,
    "start_time": "2024-05-06T12:02:01.630Z"
   },
   {
    "duration": 386,
    "start_time": "2024-05-06T12:02:07.360Z"
   },
   {
    "duration": 382,
    "start_time": "2024-05-06T12:02:22.183Z"
   },
   {
    "duration": 129,
    "start_time": "2024-05-06T12:10:07.543Z"
   },
   {
    "duration": 1577,
    "start_time": "2024-05-06T12:10:48.364Z"
   },
   {
    "duration": 434,
    "start_time": "2024-05-06T12:11:19.837Z"
   },
   {
    "duration": 391,
    "start_time": "2024-05-06T12:11:37.645Z"
   },
   {
    "duration": 421,
    "start_time": "2024-05-06T12:13:32.015Z"
   },
   {
    "duration": 362,
    "start_time": "2024-05-06T12:13:41.323Z"
   },
   {
    "duration": 434,
    "start_time": "2024-05-06T12:14:59.088Z"
   },
   {
    "duration": 405,
    "start_time": "2024-05-06T12:16:39.457Z"
   },
   {
    "duration": 376,
    "start_time": "2024-05-06T12:16:45.376Z"
   },
   {
    "duration": 393,
    "start_time": "2024-05-06T12:16:58.750Z"
   },
   {
    "duration": 414,
    "start_time": "2024-05-06T12:21:04.787Z"
   },
   {
    "duration": 3432,
    "start_time": "2024-05-06T22:33:56.934Z"
   },
   {
    "duration": 15,
    "start_time": "2024-05-06T22:34:00.368Z"
   },
   {
    "duration": 85,
    "start_time": "2024-05-06T22:34:00.384Z"
   },
   {
    "duration": 104,
    "start_time": "2024-05-06T22:34:00.471Z"
   },
   {
    "duration": 171,
    "start_time": "2024-05-06T22:34:00.577Z"
   },
   {
    "duration": 426,
    "start_time": "2024-05-06T22:34:00.750Z"
   },
   {
    "duration": 485,
    "start_time": "2024-05-06T22:35:53.809Z"
   },
   {
    "duration": 233,
    "start_time": "2024-05-06T22:58:18.422Z"
   },
   {
    "duration": 77,
    "start_time": "2024-05-06T23:03:45.759Z"
   },
   {
    "duration": 147,
    "start_time": "2024-05-06T23:04:23.808Z"
   },
   {
    "duration": 333,
    "start_time": "2024-05-06T23:04:35.696Z"
   },
   {
    "duration": 342,
    "start_time": "2024-05-06T23:07:06.191Z"
   },
   {
    "duration": 1563,
    "start_time": "2024-05-06T23:08:58.791Z"
   },
   {
    "duration": 458,
    "start_time": "2024-05-06T23:09:17.068Z"
   },
   {
    "duration": 636,
    "start_time": "2024-05-06T23:10:16.750Z"
   },
   {
    "duration": 114,
    "start_time": "2024-05-06T23:12:00.915Z"
   },
   {
    "duration": 135,
    "start_time": "2024-05-06T23:12:35.612Z"
   },
   {
    "duration": 120,
    "start_time": "2024-05-06T23:13:43.340Z"
   },
   {
    "duration": 568,
    "start_time": "2024-05-06T23:13:47.144Z"
   },
   {
    "duration": 104,
    "start_time": "2024-05-06T23:14:40.942Z"
   },
   {
    "duration": 106,
    "start_time": "2024-05-06T23:16:56.116Z"
   },
   {
    "duration": 2470,
    "start_time": "2024-05-06T23:17:08.544Z"
   },
   {
    "duration": 13,
    "start_time": "2024-05-06T23:17:11.016Z"
   },
   {
    "duration": 10,
    "start_time": "2024-05-06T23:17:11.030Z"
   },
   {
    "duration": 63,
    "start_time": "2024-05-06T23:17:11.041Z"
   },
   {
    "duration": 121,
    "start_time": "2024-05-06T23:17:11.106Z"
   },
   {
    "duration": 410,
    "start_time": "2024-05-06T23:17:11.229Z"
   },
   {
    "duration": 585,
    "start_time": "2024-05-06T23:17:11.641Z"
   },
   {
    "duration": 1224,
    "start_time": "2024-05-06T23:17:17.186Z"
   },
   {
    "duration": 1125,
    "start_time": "2024-05-06T23:17:27.434Z"
   },
   {
    "duration": 1146,
    "start_time": "2024-05-06T23:17:36.455Z"
   },
   {
    "duration": 2535,
    "start_time": "2024-05-06T23:17:42.472Z"
   },
   {
    "duration": 14,
    "start_time": "2024-05-06T23:17:45.009Z"
   },
   {
    "duration": 110,
    "start_time": "2024-05-06T23:17:45.025Z"
   },
   {
    "duration": 62,
    "start_time": "2024-05-06T23:17:45.138Z"
   },
   {
    "duration": 115,
    "start_time": "2024-05-06T23:17:45.203Z"
   },
   {
    "duration": 519,
    "start_time": "2024-05-06T23:17:45.320Z"
   },
   {
    "duration": 610,
    "start_time": "2024-05-06T23:17:45.841Z"
   },
   {
    "duration": 2452,
    "start_time": "2024-05-06T23:17:58.487Z"
   },
   {
    "duration": 2484,
    "start_time": "2024-05-06T23:18:29.150Z"
   },
   {
    "duration": 106,
    "start_time": "2024-05-06T23:19:56.802Z"
   },
   {
    "duration": 494,
    "start_time": "2024-05-06T23:20:01.602Z"
   },
   {
    "duration": 98,
    "start_time": "2024-05-06T23:20:18.479Z"
   },
   {
    "duration": 499,
    "start_time": "2024-05-06T23:20:23.610Z"
   },
   {
    "duration": 100,
    "start_time": "2024-05-06T23:23:04.150Z"
   },
   {
    "duration": 620,
    "start_time": "2024-05-06T23:23:07.366Z"
   },
   {
    "duration": 253,
    "start_time": "2024-05-06T23:32:20.475Z"
   },
   {
    "duration": 2406,
    "start_time": "2024-05-06T23:32:27.162Z"
   },
   {
    "duration": 12,
    "start_time": "2024-05-06T23:32:29.572Z"
   },
   {
    "duration": 19,
    "start_time": "2024-05-06T23:32:29.585Z"
   },
   {
    "duration": 37,
    "start_time": "2024-05-06T23:32:29.605Z"
   },
   {
    "duration": 120,
    "start_time": "2024-05-06T23:32:29.644Z"
   },
   {
    "duration": 441,
    "start_time": "2024-05-06T23:32:29.765Z"
   },
   {
    "duration": 572,
    "start_time": "2024-05-06T23:32:30.208Z"
   },
   {
    "duration": 574,
    "start_time": "2024-05-06T23:32:41.848Z"
   },
   {
    "duration": 839,
    "start_time": "2024-05-06T23:32:53.038Z"
   },
   {
    "duration": 819,
    "start_time": "2024-05-06T23:33:00.677Z"
   },
   {
    "duration": 935,
    "start_time": "2024-05-06T23:33:58.068Z"
   },
   {
    "duration": 816,
    "start_time": "2024-05-06T23:34:25.800Z"
   },
   {
    "duration": 920,
    "start_time": "2024-05-06T23:34:56.263Z"
   },
   {
    "duration": 847,
    "start_time": "2024-05-06T23:35:29.359Z"
   },
   {
    "duration": 934,
    "start_time": "2024-05-06T23:35:45.030Z"
   },
   {
    "duration": 87,
    "start_time": "2024-05-06T23:36:25.450Z"
   },
   {
    "duration": 810,
    "start_time": "2024-05-06T23:36:35.908Z"
   },
   {
    "duration": 806,
    "start_time": "2024-05-06T23:36:54.789Z"
   },
   {
    "duration": 3313,
    "start_time": "2024-05-07T10:46:08.525Z"
   },
   {
    "duration": 14,
    "start_time": "2024-05-07T10:46:11.840Z"
   },
   {
    "duration": 26,
    "start_time": "2024-05-07T10:46:11.856Z"
   },
   {
    "duration": 47,
    "start_time": "2024-05-07T10:46:11.884Z"
   },
   {
    "duration": 111,
    "start_time": "2024-05-07T10:46:11.933Z"
   },
   {
    "duration": 441,
    "start_time": "2024-05-07T10:46:12.046Z"
   },
   {
    "duration": 835,
    "start_time": "2024-05-07T10:46:12.488Z"
   },
   {
    "duration": 746,
    "start_time": "2024-05-07T10:46:55.599Z"
   },
   {
    "duration": 1036,
    "start_time": "2024-05-07T10:49:53.732Z"
   },
   {
    "duration": 966,
    "start_time": "2024-05-07T10:50:06.275Z"
   },
   {
    "duration": 1008,
    "start_time": "2024-05-07T10:50:32.175Z"
   },
   {
    "duration": 982,
    "start_time": "2024-05-07T10:50:47.191Z"
   },
   {
    "duration": 1030,
    "start_time": "2024-05-07T10:50:55.874Z"
   },
   {
    "duration": 988,
    "start_time": "2024-05-07T10:51:04.458Z"
   },
   {
    "duration": 1042,
    "start_time": "2024-05-07T10:51:10.957Z"
   },
   {
    "duration": 967,
    "start_time": "2024-05-07T10:51:22.408Z"
   },
   {
    "duration": 1478,
    "start_time": "2024-05-07T10:53:28.172Z"
   },
   {
    "duration": 1494,
    "start_time": "2024-05-07T10:54:09.061Z"
   },
   {
    "duration": 2281,
    "start_time": "2024-05-07T10:54:55.026Z"
   },
   {
    "duration": 12,
    "start_time": "2024-05-07T10:54:57.309Z"
   },
   {
    "duration": 20,
    "start_time": "2024-05-07T10:54:57.323Z"
   },
   {
    "duration": 59,
    "start_time": "2024-05-07T10:54:57.345Z"
   },
   {
    "duration": 137,
    "start_time": "2024-05-07T10:54:57.405Z"
   },
   {
    "duration": 408,
    "start_time": "2024-05-07T10:54:57.544Z"
   },
   {
    "duration": 1536,
    "start_time": "2024-05-07T10:54:57.954Z"
   },
   {
    "duration": 1416,
    "start_time": "2024-05-07T10:55:42.818Z"
   },
   {
    "duration": 1367,
    "start_time": "2024-05-07T10:57:55.891Z"
   },
   {
    "duration": 698,
    "start_time": "2024-05-07T10:58:59.099Z"
   },
   {
    "duration": 2279,
    "start_time": "2024-05-07T10:59:08.976Z"
   },
   {
    "duration": 12,
    "start_time": "2024-05-07T10:59:11.257Z"
   },
   {
    "duration": 35,
    "start_time": "2024-05-07T10:59:11.271Z"
   },
   {
    "duration": 59,
    "start_time": "2024-05-07T10:59:11.308Z"
   },
   {
    "duration": 126,
    "start_time": "2024-05-07T10:59:11.370Z"
   },
   {
    "duration": 721,
    "start_time": "2024-05-07T10:59:11.498Z"
   },
   {
    "duration": 0,
    "start_time": "2024-05-07T10:59:12.222Z"
   },
   {
    "duration": 144,
    "start_time": "2024-05-07T11:04:51.171Z"
   },
   {
    "duration": 474,
    "start_time": "2024-05-07T11:06:47.232Z"
   },
   {
    "duration": 1427,
    "start_time": "2024-05-07T11:17:29.452Z"
   },
   {
    "duration": 222,
    "start_time": "2024-05-07T11:17:54.661Z"
   },
   {
    "duration": 228,
    "start_time": "2024-05-07T11:19:08.396Z"
   },
   {
    "duration": 228,
    "start_time": "2024-05-07T11:20:04.592Z"
   },
   {
    "duration": 236,
    "start_time": "2024-05-07T11:20:48.629Z"
   },
   {
    "duration": 91,
    "start_time": "2024-05-07T11:20:59.835Z"
   },
   {
    "duration": 67,
    "start_time": "2024-05-07T11:21:08.580Z"
   },
   {
    "duration": 1298,
    "start_time": "2024-05-07T11:22:30.046Z"
   },
   {
    "duration": 77,
    "start_time": "2024-05-07T11:22:42.375Z"
   },
   {
    "duration": 233,
    "start_time": "2024-05-07T11:22:52.102Z"
   },
   {
    "duration": 80,
    "start_time": "2024-05-07T11:23:13.107Z"
   },
   {
    "duration": 73,
    "start_time": "2024-05-07T11:23:17.426Z"
   },
   {
    "duration": 236,
    "start_time": "2024-05-07T11:23:38.005Z"
   },
   {
    "duration": 353,
    "start_time": "2024-05-07T11:29:35.095Z"
   },
   {
    "duration": 302,
    "start_time": "2024-05-07T11:30:11.295Z"
   },
   {
    "duration": 13,
    "start_time": "2024-05-07T11:53:54.404Z"
   },
   {
    "duration": 180,
    "start_time": "2024-05-07T11:54:40.419Z"
   },
   {
    "duration": 153,
    "start_time": "2024-05-07T11:55:43.533Z"
   },
   {
    "duration": 177,
    "start_time": "2024-05-07T11:56:02.502Z"
   },
   {
    "duration": 182,
    "start_time": "2024-05-07T11:59:51.225Z"
   },
   {
    "duration": 175,
    "start_time": "2024-05-07T12:00:41.628Z"
   },
   {
    "duration": 3245,
    "start_time": "2024-05-07T23:10:36.748Z"
   },
   {
    "duration": 14,
    "start_time": "2024-05-07T23:10:39.995Z"
   },
   {
    "duration": 28,
    "start_time": "2024-05-07T23:10:40.011Z"
   },
   {
    "duration": 52,
    "start_time": "2024-05-07T23:10:40.040Z"
   },
   {
    "duration": 117,
    "start_time": "2024-05-07T23:10:40.094Z"
   },
   {
    "duration": 384,
    "start_time": "2024-05-07T23:10:40.213Z"
   },
   {
    "duration": 142,
    "start_time": "2024-05-07T23:10:40.598Z"
   },
   {
    "duration": 287,
    "start_time": "2024-05-07T23:10:40.742Z"
   },
   {
    "duration": 270,
    "start_time": "2024-05-07T23:10:41.031Z"
   },
   {
    "duration": 242,
    "start_time": "2024-05-07T23:11:56.309Z"
   },
   {
    "duration": 366,
    "start_time": "2024-05-07T23:13:03.434Z"
   },
   {
    "duration": 161,
    "start_time": "2024-05-07T23:28:27.782Z"
   },
   {
    "duration": 170,
    "start_time": "2024-05-07T23:29:04.756Z"
   },
   {
    "duration": 163,
    "start_time": "2024-05-07T23:32:56.900Z"
   },
   {
    "duration": 181,
    "start_time": "2024-05-07T23:37:19.931Z"
   },
   {
    "duration": 1130,
    "start_time": "2024-05-07T23:42:55.038Z"
   },
   {
    "duration": 163,
    "start_time": "2024-05-07T23:43:30.249Z"
   },
   {
    "duration": 197,
    "start_time": "2024-05-07T23:47:26.357Z"
   },
   {
    "duration": 180,
    "start_time": "2024-05-07T23:58:35.630Z"
   },
   {
    "duration": 265,
    "start_time": "2024-05-07T23:58:43.862Z"
   },
   {
    "duration": 208,
    "start_time": "2024-05-07T23:58:49.814Z"
   },
   {
    "duration": 93,
    "start_time": "2024-05-08T00:00:01.212Z"
   },
   {
    "duration": 176,
    "start_time": "2024-05-08T00:00:09.198Z"
   },
   {
    "duration": 150,
    "start_time": "2024-05-08T00:00:31.379Z"
   },
   {
    "duration": 139,
    "start_time": "2024-05-08T00:00:38.911Z"
   },
   {
    "duration": 151,
    "start_time": "2024-05-08T00:00:47.127Z"
   },
   {
    "duration": 147,
    "start_time": "2024-05-08T00:00:50.683Z"
   },
   {
    "duration": 2392,
    "start_time": "2024-05-08T00:00:59.018Z"
   },
   {
    "duration": 12,
    "start_time": "2024-05-08T00:01:01.412Z"
   },
   {
    "duration": 92,
    "start_time": "2024-05-08T00:01:01.425Z"
   },
   {
    "duration": 103,
    "start_time": "2024-05-08T00:01:01.519Z"
   },
   {
    "duration": 178,
    "start_time": "2024-05-08T00:01:01.624Z"
   },
   {
    "duration": 443,
    "start_time": "2024-05-08T00:01:01.804Z"
   },
   {
    "duration": 164,
    "start_time": "2024-05-08T00:01:02.249Z"
   },
   {
    "duration": 328,
    "start_time": "2024-05-08T00:01:02.415Z"
   },
   {
    "duration": 302,
    "start_time": "2024-05-08T00:01:02.744Z"
   },
   {
    "duration": 215,
    "start_time": "2024-05-08T00:01:03.050Z"
   },
   {
    "duration": 182,
    "start_time": "2024-05-08T00:01:03.266Z"
   },
   {
    "duration": 185,
    "start_time": "2024-05-08T00:01:03.450Z"
   },
   {
    "duration": 45,
    "start_time": "2024-05-08T07:42:58.867Z"
   },
   {
    "duration": 3029,
    "start_time": "2024-05-08T07:43:24.209Z"
   },
   {
    "duration": 19,
    "start_time": "2024-05-08T07:43:27.241Z"
   },
   {
    "duration": 18,
    "start_time": "2024-05-08T07:43:27.261Z"
   },
   {
    "duration": 43,
    "start_time": "2024-05-08T07:43:27.282Z"
   },
   {
    "duration": 97,
    "start_time": "2024-05-08T07:43:27.326Z"
   },
   {
    "duration": 381,
    "start_time": "2024-05-08T07:43:27.425Z"
   },
   {
    "duration": 137,
    "start_time": "2024-05-08T07:43:27.808Z"
   },
   {
    "duration": 361,
    "start_time": "2024-05-08T07:43:27.947Z"
   },
   {
    "duration": 149,
    "start_time": "2024-05-08T07:43:28.310Z"
   },
   {
    "duration": 188,
    "start_time": "2024-05-08T07:43:28.461Z"
   },
   {
    "duration": 160,
    "start_time": "2024-05-08T07:43:28.650Z"
   },
   {
    "duration": 166,
    "start_time": "2024-05-08T07:43:28.811Z"
   },
   {
    "duration": 146,
    "start_time": "2024-05-08T07:52:28.004Z"
   },
   {
    "duration": 195,
    "start_time": "2024-05-08T07:52:57.642Z"
   },
   {
    "duration": 193,
    "start_time": "2024-05-08T07:53:09.236Z"
   },
   {
    "duration": 146,
    "start_time": "2024-05-08T07:53:29.172Z"
   },
   {
    "duration": 158,
    "start_time": "2024-05-08T07:53:35.385Z"
   },
   {
    "duration": 155,
    "start_time": "2024-05-08T07:53:49.436Z"
   },
   {
    "duration": 199,
    "start_time": "2024-05-08T07:55:32.233Z"
   },
   {
    "duration": 157,
    "start_time": "2024-05-08T07:55:48.403Z"
   },
   {
    "duration": 149,
    "start_time": "2024-05-08T07:56:03.215Z"
   },
   {
    "duration": 161,
    "start_time": "2024-05-08T08:00:02.296Z"
   },
   {
    "duration": 148,
    "start_time": "2024-05-08T08:00:07.516Z"
   },
   {
    "duration": 141,
    "start_time": "2024-05-08T08:00:39.507Z"
   },
   {
    "duration": 177,
    "start_time": "2024-05-08T08:03:28.738Z"
   },
   {
    "duration": 158,
    "start_time": "2024-05-08T08:09:59.241Z"
   },
   {
    "duration": 3492,
    "start_time": "2024-05-08T10:35:46.129Z"
   },
   {
    "duration": 15,
    "start_time": "2024-05-08T10:35:49.624Z"
   },
   {
    "duration": 12,
    "start_time": "2024-05-08T10:35:49.641Z"
   },
   {
    "duration": 38,
    "start_time": "2024-05-08T10:35:49.655Z"
   },
   {
    "duration": 104,
    "start_time": "2024-05-08T10:35:49.696Z"
   },
   {
    "duration": 412,
    "start_time": "2024-05-08T10:35:49.801Z"
   },
   {
    "duration": 161,
    "start_time": "2024-05-08T10:35:50.215Z"
   },
   {
    "duration": 374,
    "start_time": "2024-05-08T10:35:50.378Z"
   },
   {
    "duration": 288,
    "start_time": "2024-05-08T10:35:50.754Z"
   },
   {
    "duration": 182,
    "start_time": "2024-05-08T10:35:51.043Z"
   },
   {
    "duration": 184,
    "start_time": "2024-05-08T10:35:51.227Z"
   },
   {
    "duration": 181,
    "start_time": "2024-05-08T10:35:51.413Z"
   },
   {
    "duration": 164,
    "start_time": "2024-05-08T10:37:52.382Z"
   },
   {
    "duration": 349,
    "start_time": "2024-05-08T10:41:22.075Z"
   },
   {
    "duration": 190,
    "start_time": "2024-05-08T10:43:49.765Z"
   },
   {
    "duration": 170,
    "start_time": "2024-05-08T10:46:15.372Z"
   },
   {
    "duration": 614,
    "start_time": "2024-05-08T10:46:55.183Z"
   },
   {
    "duration": 154,
    "start_time": "2024-05-08T10:49:35.415Z"
   },
   {
    "duration": 503,
    "start_time": "2024-05-08T10:49:59.471Z"
   },
   {
    "duration": 489,
    "start_time": "2024-05-08T10:53:35.380Z"
   },
   {
    "duration": 144,
    "start_time": "2024-05-08T10:53:42.261Z"
   },
   {
    "duration": 2402,
    "start_time": "2024-05-08T10:53:47.429Z"
   },
   {
    "duration": 20,
    "start_time": "2024-05-08T10:53:49.834Z"
   },
   {
    "duration": 25,
    "start_time": "2024-05-08T10:53:49.856Z"
   },
   {
    "duration": 38,
    "start_time": "2024-05-08T10:53:49.884Z"
   },
   {
    "duration": 143,
    "start_time": "2024-05-08T10:53:49.924Z"
   },
   {
    "duration": 404,
    "start_time": "2024-05-08T10:53:50.068Z"
   },
   {
    "duration": 160,
    "start_time": "2024-05-08T10:53:50.473Z"
   },
   {
    "duration": 423,
    "start_time": "2024-05-08T10:53:50.634Z"
   },
   {
    "duration": 186,
    "start_time": "2024-05-08T10:53:51.059Z"
   },
   {
    "duration": 215,
    "start_time": "2024-05-08T10:53:51.248Z"
   },
   {
    "duration": 207,
    "start_time": "2024-05-08T10:53:51.465Z"
   },
   {
    "duration": 182,
    "start_time": "2024-05-08T10:53:51.674Z"
   },
   {
    "duration": 160,
    "start_time": "2024-05-08T10:53:51.858Z"
   },
   {
    "duration": 556,
    "start_time": "2024-05-08T10:53:52.019Z"
   },
   {
    "duration": 68,
    "start_time": "2024-05-08T11:11:04.465Z"
   },
   {
    "duration": 9,
    "start_time": "2024-05-08T11:11:22.058Z"
   },
   {
    "duration": 10,
    "start_time": "2024-05-08T11:14:33.269Z"
   },
   {
    "duration": 11,
    "start_time": "2024-05-08T11:14:41.101Z"
   },
   {
    "duration": 14,
    "start_time": "2024-05-08T11:15:15.482Z"
   },
   {
    "duration": 27,
    "start_time": "2024-05-08T11:20:40.570Z"
   },
   {
    "duration": 33,
    "start_time": "2024-05-08T11:22:08.433Z"
   },
   {
    "duration": 32,
    "start_time": "2024-05-08T11:23:47.893Z"
   },
   {
    "duration": 32,
    "start_time": "2024-05-08T11:24:19.321Z"
   },
   {
    "duration": 30,
    "start_time": "2024-05-08T11:26:49.781Z"
   },
   {
    "duration": 30,
    "start_time": "2024-05-08T11:29:40.931Z"
   },
   {
    "duration": 41,
    "start_time": "2024-05-08T11:30:05.459Z"
   },
   {
    "duration": 30,
    "start_time": "2024-05-08T11:30:41.742Z"
   },
   {
    "duration": 30,
    "start_time": "2024-05-08T11:31:05.968Z"
   },
   {
    "duration": 42,
    "start_time": "2024-05-08T11:31:15.170Z"
   },
   {
    "duration": 30,
    "start_time": "2024-05-08T11:32:52.162Z"
   },
   {
    "duration": 43,
    "start_time": "2024-05-08T11:34:25.530Z"
   },
   {
    "duration": 37,
    "start_time": "2024-05-08T11:34:43.525Z"
   },
   {
    "duration": 32,
    "start_time": "2024-05-08T11:36:18.209Z"
   },
   {
    "duration": 100,
    "start_time": "2024-05-08T11:44:07.332Z"
   },
   {
    "duration": 28,
    "start_time": "2024-05-08T11:45:43.258Z"
   },
   {
    "duration": 12,
    "start_time": "2024-05-08T11:46:19.590Z"
   },
   {
    "duration": 25,
    "start_time": "2024-05-08T11:46:28.136Z"
   },
   {
    "duration": 32,
    "start_time": "2024-05-08T11:48:03.213Z"
   },
   {
    "duration": 13,
    "start_time": "2024-05-08T11:49:24.047Z"
   },
   {
    "duration": 19,
    "start_time": "2024-05-08T11:57:34.212Z"
   },
   {
    "duration": 21,
    "start_time": "2024-05-08T11:57:58.175Z"
   },
   {
    "duration": 26,
    "start_time": "2024-05-08T11:58:07.590Z"
   },
   {
    "duration": 40,
    "start_time": "2024-05-08T11:59:02.483Z"
   },
   {
    "duration": 28,
    "start_time": "2024-05-08T11:59:31.238Z"
   },
   {
    "duration": 26,
    "start_time": "2024-05-08T11:59:45.055Z"
   },
   {
    "duration": 33,
    "start_time": "2024-05-08T12:03:07.522Z"
   },
   {
    "duration": 2773,
    "start_time": "2024-05-08T22:59:42.227Z"
   },
   {
    "duration": 14,
    "start_time": "2024-05-08T22:59:45.002Z"
   },
   {
    "duration": 18,
    "start_time": "2024-05-08T22:59:45.018Z"
   },
   {
    "duration": 61,
    "start_time": "2024-05-08T22:59:45.037Z"
   },
   {
    "duration": 162,
    "start_time": "2024-05-08T22:59:45.100Z"
   },
   {
    "duration": 380,
    "start_time": "2024-05-08T22:59:45.263Z"
   },
   {
    "duration": 120,
    "start_time": "2024-05-08T22:59:45.644Z"
   },
   {
    "duration": 270,
    "start_time": "2024-05-08T22:59:45.765Z"
   },
   {
    "duration": 223,
    "start_time": "2024-05-08T22:59:46.037Z"
   },
   {
    "duration": 198,
    "start_time": "2024-05-08T22:59:46.261Z"
   },
   {
    "duration": 155,
    "start_time": "2024-05-08T22:59:46.461Z"
   },
   {
    "duration": 144,
    "start_time": "2024-05-08T22:59:46.618Z"
   },
   {
    "duration": 127,
    "start_time": "2024-05-08T22:59:46.763Z"
   },
   {
    "duration": 403,
    "start_time": "2024-05-08T22:59:46.892Z"
   },
   {
    "duration": 31,
    "start_time": "2024-05-08T22:59:47.297Z"
   },
   {
    "duration": 26,
    "start_time": "2024-05-08T22:59:47.330Z"
   },
   {
    "duration": 27,
    "start_time": "2024-05-08T23:03:25.423Z"
   },
   {
    "duration": 26,
    "start_time": "2024-05-08T23:04:39.306Z"
   },
   {
    "duration": 23,
    "start_time": "2024-05-08T23:05:41.947Z"
   },
   {
    "duration": 155,
    "start_time": "2024-05-08T23:07:07.148Z"
   },
   {
    "duration": 56,
    "start_time": "2024-05-08T23:09:11.812Z"
   },
   {
    "duration": 278,
    "start_time": "2024-05-08T23:09:44.435Z"
   },
   {
    "duration": 271,
    "start_time": "2024-05-08T23:09:53.892Z"
   },
   {
    "duration": 254,
    "start_time": "2024-05-08T23:10:13.995Z"
   },
   {
    "duration": 249,
    "start_time": "2024-05-08T23:10:31.668Z"
   },
   {
    "duration": 133,
    "start_time": "2024-05-08T23:12:49.662Z"
   },
   {
    "duration": 0,
    "start_time": "2024-05-08T23:34:15.876Z"
   },
   {
    "duration": 0,
    "start_time": "2024-05-08T23:34:15.877Z"
   },
   {
    "duration": 0,
    "start_time": "2024-05-08T23:34:15.878Z"
   },
   {
    "duration": 0,
    "start_time": "2024-05-08T23:34:15.879Z"
   },
   {
    "duration": 0,
    "start_time": "2024-05-08T23:34:15.879Z"
   },
   {
    "duration": 0,
    "start_time": "2024-05-08T23:34:15.880Z"
   },
   {
    "duration": 0,
    "start_time": "2024-05-08T23:34:15.881Z"
   },
   {
    "duration": 0,
    "start_time": "2024-05-08T23:34:15.882Z"
   },
   {
    "duration": 0,
    "start_time": "2024-05-08T23:34:15.882Z"
   },
   {
    "duration": 0,
    "start_time": "2024-05-08T23:34:15.883Z"
   },
   {
    "duration": 0,
    "start_time": "2024-05-08T23:34:15.884Z"
   },
   {
    "duration": 0,
    "start_time": "2024-05-08T23:34:15.885Z"
   },
   {
    "duration": 0,
    "start_time": "2024-05-08T23:34:15.886Z"
   },
   {
    "duration": 0,
    "start_time": "2024-05-08T23:34:15.886Z"
   },
   {
    "duration": 0,
    "start_time": "2024-05-08T23:34:15.887Z"
   },
   {
    "duration": 0,
    "start_time": "2024-05-08T23:34:15.903Z"
   },
   {
    "duration": 707,
    "start_time": "2024-05-08T23:34:18.863Z"
   },
   {
    "duration": 1899,
    "start_time": "2024-05-08T23:34:31.373Z"
   },
   {
    "duration": 11,
    "start_time": "2024-05-08T23:34:33.273Z"
   },
   {
    "duration": 23,
    "start_time": "2024-05-08T23:34:33.285Z"
   },
   {
    "duration": 47,
    "start_time": "2024-05-08T23:34:33.310Z"
   },
   {
    "duration": 100,
    "start_time": "2024-05-08T23:34:33.358Z"
   },
   {
    "duration": 448,
    "start_time": "2024-05-08T23:34:33.460Z"
   },
   {
    "duration": 136,
    "start_time": "2024-05-08T23:34:33.910Z"
   },
   {
    "duration": 262,
    "start_time": "2024-05-08T23:34:34.048Z"
   },
   {
    "duration": 158,
    "start_time": "2024-05-08T23:34:34.312Z"
   },
   {
    "duration": 154,
    "start_time": "2024-05-08T23:34:34.473Z"
   },
   {
    "duration": 164,
    "start_time": "2024-05-08T23:34:34.629Z"
   },
   {
    "duration": 150,
    "start_time": "2024-05-08T23:34:34.795Z"
   },
   {
    "duration": 125,
    "start_time": "2024-05-08T23:34:34.946Z"
   },
   {
    "duration": 403,
    "start_time": "2024-05-08T23:34:35.072Z"
   },
   {
    "duration": 35,
    "start_time": "2024-05-08T23:34:35.476Z"
   },
   {
    "duration": 1859,
    "start_time": "2024-05-08T23:47:17.943Z"
   },
   {
    "duration": 13,
    "start_time": "2024-05-08T23:47:19.803Z"
   },
   {
    "duration": 19,
    "start_time": "2024-05-08T23:47:19.818Z"
   },
   {
    "duration": 28,
    "start_time": "2024-05-08T23:47:19.838Z"
   },
   {
    "duration": 96,
    "start_time": "2024-05-08T23:47:19.868Z"
   },
   {
    "duration": 376,
    "start_time": "2024-05-08T23:47:19.965Z"
   },
   {
    "duration": 140,
    "start_time": "2024-05-08T23:47:20.342Z"
   },
   {
    "duration": 253,
    "start_time": "2024-05-08T23:47:20.483Z"
   },
   {
    "duration": 159,
    "start_time": "2024-05-08T23:47:20.737Z"
   },
   {
    "duration": 171,
    "start_time": "2024-05-08T23:47:20.897Z"
   },
   {
    "duration": 177,
    "start_time": "2024-05-08T23:47:21.070Z"
   },
   {
    "duration": 159,
    "start_time": "2024-05-08T23:47:21.248Z"
   },
   {
    "duration": 139,
    "start_time": "2024-05-08T23:47:21.409Z"
   },
   {
    "duration": 411,
    "start_time": "2024-05-08T23:47:21.550Z"
   },
   {
    "duration": 27,
    "start_time": "2024-05-08T23:47:21.963Z"
   },
   {
    "duration": 1892,
    "start_time": "2024-05-08T23:50:40.786Z"
   },
   {
    "duration": 22,
    "start_time": "2024-05-08T23:50:42.680Z"
   },
   {
    "duration": 12,
    "start_time": "2024-05-08T23:50:42.703Z"
   },
   {
    "duration": 34,
    "start_time": "2024-05-08T23:50:42.716Z"
   },
   {
    "duration": 104,
    "start_time": "2024-05-08T23:50:42.752Z"
   },
   {
    "duration": 332,
    "start_time": "2024-05-08T23:50:42.859Z"
   },
   {
    "duration": 120,
    "start_time": "2024-05-08T23:50:43.193Z"
   },
   {
    "duration": 252,
    "start_time": "2024-05-08T23:50:43.315Z"
   },
   {
    "duration": 154,
    "start_time": "2024-05-08T23:50:43.568Z"
   },
   {
    "duration": 153,
    "start_time": "2024-05-08T23:50:43.724Z"
   },
   {
    "duration": 171,
    "start_time": "2024-05-08T23:50:43.878Z"
   },
   {
    "duration": 147,
    "start_time": "2024-05-08T23:50:44.050Z"
   },
   {
    "duration": 140,
    "start_time": "2024-05-08T23:50:44.198Z"
   },
   {
    "duration": 405,
    "start_time": "2024-05-08T23:50:44.340Z"
   },
   {
    "duration": 28,
    "start_time": "2024-05-08T23:50:44.747Z"
   },
   {
    "duration": 168,
    "start_time": "2024-05-08T23:52:56.763Z"
   },
   {
    "duration": 67149,
    "start_time": "2024-05-08T23:59:18.344Z"
   },
   {
    "duration": 157,
    "start_time": "2024-05-09T00:02:48.005Z"
   },
   {
    "duration": 66232,
    "start_time": "2024-05-09T00:04:23.814Z"
   },
   {
    "duration": 138,
    "start_time": "2024-05-09T00:42:03.426Z"
   },
   {
    "duration": 66959,
    "start_time": "2024-05-09T00:42:19.889Z"
   },
   {
    "duration": 124,
    "start_time": "2024-05-09T00:44:32.741Z"
   },
   {
    "duration": 215,
    "start_time": "2024-05-09T00:44:56.178Z"
   },
   {
    "duration": 221,
    "start_time": "2024-05-09T00:45:39.592Z"
   },
   {
    "duration": 219,
    "start_time": "2024-05-09T00:45:52.764Z"
   },
   {
    "duration": 211,
    "start_time": "2024-05-09T00:45:58.101Z"
   },
   {
    "duration": 209,
    "start_time": "2024-05-09T00:46:07.115Z"
   },
   {
    "duration": 232,
    "start_time": "2024-05-09T00:46:21.137Z"
   },
   {
    "duration": 120,
    "start_time": "2024-05-09T00:46:38.575Z"
   },
   {
    "duration": 143,
    "start_time": "2024-05-09T00:46:43.131Z"
   },
   {
    "duration": 147,
    "start_time": "2024-05-09T00:46:58.002Z"
   },
   {
    "duration": 124,
    "start_time": "2024-05-09T00:49:20.686Z"
   },
   {
    "duration": 136,
    "start_time": "2024-05-09T00:49:28.478Z"
   },
   {
    "duration": 100,
    "start_time": "2024-05-09T00:50:57.412Z"
   },
   {
    "duration": 658,
    "start_time": "2024-05-09T00:53:32.938Z"
   },
   {
    "duration": 129,
    "start_time": "2024-05-09T00:53:52.420Z"
   },
   {
    "duration": 34,
    "start_time": "2024-05-09T00:55:08.795Z"
   },
   {
    "duration": 960,
    "start_time": "2024-05-09T00:56:12.868Z"
   },
   {
    "duration": 28,
    "start_time": "2024-05-09T00:56:27.088Z"
   },
   {
    "duration": 145,
    "start_time": "2024-05-09T00:58:27.297Z"
   },
   {
    "duration": 26,
    "start_time": "2024-05-09T01:01:36.254Z"
   },
   {
    "duration": 120,
    "start_time": "2024-05-09T01:01:49.509Z"
   },
   {
    "duration": 428,
    "start_time": "2024-05-09T01:04:25.269Z"
   },
   {
    "duration": 277,
    "start_time": "2024-05-09T01:05:33.584Z"
   },
   {
    "duration": 1050,
    "start_time": "2024-05-09T01:05:52.047Z"
   },
   {
    "duration": 387,
    "start_time": "2024-05-09T01:06:46.492Z"
   },
   {
    "duration": 403,
    "start_time": "2024-05-09T01:07:38.706Z"
   },
   {
    "duration": 50,
    "start_time": "2024-05-09T22:42:13.644Z"
   },
   {
    "duration": 3246,
    "start_time": "2024-05-09T22:42:18.699Z"
   },
   {
    "duration": 14,
    "start_time": "2024-05-09T22:42:21.947Z"
   },
   {
    "duration": 18,
    "start_time": "2024-05-09T22:42:21.963Z"
   },
   {
    "duration": 52,
    "start_time": "2024-05-09T22:42:21.982Z"
   },
   {
    "duration": 115,
    "start_time": "2024-05-09T22:42:22.037Z"
   },
   {
    "duration": 397,
    "start_time": "2024-05-09T22:42:22.154Z"
   },
   {
    "duration": 156,
    "start_time": "2024-05-09T22:42:22.553Z"
   },
   {
    "duration": 293,
    "start_time": "2024-05-09T22:42:22.710Z"
   },
   {
    "duration": 244,
    "start_time": "2024-05-09T22:42:23.005Z"
   },
   {
    "duration": 172,
    "start_time": "2024-05-09T22:42:23.251Z"
   },
   {
    "duration": 191,
    "start_time": "2024-05-09T22:42:23.425Z"
   },
   {
    "duration": 186,
    "start_time": "2024-05-09T22:42:23.618Z"
   },
   {
    "duration": 157,
    "start_time": "2024-05-09T22:42:23.806Z"
   },
   {
    "duration": 516,
    "start_time": "2024-05-09T22:42:23.965Z"
   },
   {
    "duration": 32,
    "start_time": "2024-05-09T22:42:24.483Z"
   },
   {
    "duration": 175,
    "start_time": "2024-05-09T22:42:24.516Z"
   },
   {
    "duration": 158,
    "start_time": "2024-05-09T22:42:59.968Z"
   },
   {
    "duration": 74,
    "start_time": "2024-05-09T23:15:42.105Z"
   },
   {
    "duration": 73,
    "start_time": "2024-05-09T23:16:01.510Z"
   },
   {
    "duration": 68,
    "start_time": "2024-05-09T23:16:26.676Z"
   },
   {
    "duration": 39,
    "start_time": "2024-05-09T23:16:34.805Z"
   },
   {
    "duration": 32,
    "start_time": "2024-05-09T23:16:50.988Z"
   },
   {
    "duration": 33,
    "start_time": "2024-05-09T23:17:07.251Z"
   },
   {
    "duration": 2270,
    "start_time": "2024-05-09T23:47:48.027Z"
   },
   {
    "duration": 13,
    "start_time": "2024-05-09T23:47:50.299Z"
   },
   {
    "duration": 14,
    "start_time": "2024-05-09T23:47:50.313Z"
   },
   {
    "duration": 57,
    "start_time": "2024-05-09T23:47:50.329Z"
   },
   {
    "duration": 115,
    "start_time": "2024-05-09T23:47:50.388Z"
   },
   {
    "duration": 483,
    "start_time": "2024-05-09T23:47:50.505Z"
   },
   {
    "duration": 169,
    "start_time": "2024-05-09T23:47:50.990Z"
   },
   {
    "duration": 301,
    "start_time": "2024-05-09T23:47:51.161Z"
   },
   {
    "duration": 164,
    "start_time": "2024-05-09T23:47:51.463Z"
   },
   {
    "duration": 183,
    "start_time": "2024-05-09T23:47:51.629Z"
   },
   {
    "duration": 182,
    "start_time": "2024-05-09T23:47:51.814Z"
   },
   {
    "duration": 185,
    "start_time": "2024-05-09T23:47:51.997Z"
   },
   {
    "duration": 144,
    "start_time": "2024-05-09T23:47:52.183Z"
   },
   {
    "duration": 520,
    "start_time": "2024-05-09T23:47:52.329Z"
   },
   {
    "duration": 40,
    "start_time": "2024-05-09T23:47:52.850Z"
   },
   {
    "duration": 234,
    "start_time": "2024-05-09T23:47:52.892Z"
   },
   {
    "duration": 3116,
    "start_time": "2024-05-10T22:48:04.293Z"
   },
   {
    "duration": 13,
    "start_time": "2024-05-10T22:48:07.410Z"
   },
   {
    "duration": 10,
    "start_time": "2024-05-10T22:48:07.425Z"
   },
   {
    "duration": 35,
    "start_time": "2024-05-10T22:48:07.437Z"
   },
   {
    "duration": 103,
    "start_time": "2024-05-10T22:48:07.474Z"
   },
   {
    "duration": 386,
    "start_time": "2024-05-10T22:48:07.578Z"
   },
   {
    "duration": 140,
    "start_time": "2024-05-10T22:48:07.966Z"
   },
   {
    "duration": 297,
    "start_time": "2024-05-10T22:48:08.108Z"
   },
   {
    "duration": 242,
    "start_time": "2024-05-10T22:48:08.407Z"
   },
   {
    "duration": 183,
    "start_time": "2024-05-10T22:48:08.650Z"
   },
   {
    "duration": 175,
    "start_time": "2024-05-10T22:48:08.835Z"
   },
   {
    "duration": 167,
    "start_time": "2024-05-10T22:48:09.012Z"
   },
   {
    "duration": 151,
    "start_time": "2024-05-10T22:48:09.181Z"
   },
   {
    "duration": 456,
    "start_time": "2024-05-10T22:48:09.335Z"
   },
   {
    "duration": 29,
    "start_time": "2024-05-10T22:48:09.793Z"
   },
   {
    "duration": 181,
    "start_time": "2024-05-10T22:48:09.823Z"
   },
   {
    "duration": 3301,
    "start_time": "2024-05-11T05:17:42.579Z"
   },
   {
    "duration": 10,
    "start_time": "2024-05-11T05:17:45.882Z"
   },
   {
    "duration": 35,
    "start_time": "2024-05-11T05:17:45.893Z"
   },
   {
    "duration": 130,
    "start_time": "2024-05-11T05:17:45.931Z"
   },
   {
    "duration": 0,
    "start_time": "2024-05-11T05:17:46.063Z"
   },
   {
    "duration": 0,
    "start_time": "2024-05-11T05:17:46.064Z"
   },
   {
    "duration": 0,
    "start_time": "2024-05-11T05:17:46.066Z"
   },
   {
    "duration": 0,
    "start_time": "2024-05-11T05:17:46.067Z"
   },
   {
    "duration": 0,
    "start_time": "2024-05-11T05:17:46.068Z"
   },
   {
    "duration": 0,
    "start_time": "2024-05-11T05:17:46.069Z"
   },
   {
    "duration": 0,
    "start_time": "2024-05-11T05:17:46.070Z"
   },
   {
    "duration": 0,
    "start_time": "2024-05-11T05:17:46.071Z"
   },
   {
    "duration": 0,
    "start_time": "2024-05-11T05:17:46.072Z"
   },
   {
    "duration": 0,
    "start_time": "2024-05-11T05:17:46.073Z"
   },
   {
    "duration": 0,
    "start_time": "2024-05-11T05:17:46.074Z"
   },
   {
    "duration": 0,
    "start_time": "2024-05-11T05:17:46.076Z"
   },
   {
    "duration": 32,
    "start_time": "2024-05-11T05:18:19.785Z"
   },
   {
    "duration": 5,
    "start_time": "2024-05-11T05:18:50.353Z"
   },
   {
    "duration": 30,
    "start_time": "2024-05-11T05:19:03.219Z"
   },
   {
    "duration": 10,
    "start_time": "2024-05-11T05:20:17.792Z"
   },
   {
    "duration": 11,
    "start_time": "2024-05-11T05:20:28.958Z"
   },
   {
    "duration": 12,
    "start_time": "2024-05-11T05:20:42.516Z"
   },
   {
    "duration": 26,
    "start_time": "2024-05-11T05:23:47.794Z"
   },
   {
    "duration": 30,
    "start_time": "2024-05-11T05:24:25.948Z"
   },
   {
    "duration": 103,
    "start_time": "2024-05-11T05:24:56.267Z"
   },
   {
    "duration": 11,
    "start_time": "2024-05-11T05:26:17.365Z"
   },
   {
    "duration": 12,
    "start_time": "2024-05-11T05:27:42.660Z"
   },
   {
    "duration": 12,
    "start_time": "2024-05-11T05:27:57.450Z"
   },
   {
    "duration": 101,
    "start_time": "2024-05-11T05:29:03.129Z"
   },
   {
    "duration": 97,
    "start_time": "2024-05-11T05:29:08.729Z"
   },
   {
    "duration": 96,
    "start_time": "2024-05-11T05:29:19.014Z"
   },
   {
    "duration": 106,
    "start_time": "2024-05-11T05:30:30.023Z"
   },
   {
    "duration": 95,
    "start_time": "2024-05-11T05:30:51.682Z"
   },
   {
    "duration": 100,
    "start_time": "2024-05-11T05:33:45.636Z"
   },
   {
    "duration": 98,
    "start_time": "2024-05-11T05:34:01.822Z"
   },
   {
    "duration": 99,
    "start_time": "2024-05-11T05:34:58.059Z"
   },
   {
    "duration": 102,
    "start_time": "2024-05-11T05:35:12.172Z"
   },
   {
    "duration": 2155,
    "start_time": "2024-05-11T05:35:17.561Z"
   },
   {
    "duration": 15,
    "start_time": "2024-05-11T05:35:19.718Z"
   },
   {
    "duration": 28,
    "start_time": "2024-05-11T05:35:19.734Z"
   },
   {
    "duration": 140,
    "start_time": "2024-05-11T05:35:19.765Z"
   },
   {
    "duration": 0,
    "start_time": "2024-05-11T05:35:19.907Z"
   },
   {
    "duration": 0,
    "start_time": "2024-05-11T05:35:19.908Z"
   },
   {
    "duration": 0,
    "start_time": "2024-05-11T05:35:19.909Z"
   },
   {
    "duration": 0,
    "start_time": "2024-05-11T05:35:19.910Z"
   },
   {
    "duration": 0,
    "start_time": "2024-05-11T05:35:19.911Z"
   },
   {
    "duration": 0,
    "start_time": "2024-05-11T05:35:19.912Z"
   },
   {
    "duration": 0,
    "start_time": "2024-05-11T05:35:19.913Z"
   },
   {
    "duration": 0,
    "start_time": "2024-05-11T05:35:19.914Z"
   },
   {
    "duration": 0,
    "start_time": "2024-05-11T05:35:19.915Z"
   },
   {
    "duration": 0,
    "start_time": "2024-05-11T05:35:19.915Z"
   },
   {
    "duration": 0,
    "start_time": "2024-05-11T05:35:19.917Z"
   },
   {
    "duration": 0,
    "start_time": "2024-05-11T05:35:19.918Z"
   },
   {
    "duration": 103,
    "start_time": "2024-05-11T05:35:40.992Z"
   },
   {
    "duration": 27,
    "start_time": "2024-05-11T05:37:08.590Z"
   },
   {
    "duration": 29,
    "start_time": "2024-05-11T05:37:16.495Z"
   },
   {
    "duration": 22,
    "start_time": "2024-05-11T05:39:41.784Z"
   },
   {
    "duration": 29,
    "start_time": "2024-05-11T05:40:32.356Z"
   },
   {
    "duration": 29,
    "start_time": "2024-05-11T05:40:57.958Z"
   },
   {
    "duration": 27,
    "start_time": "2024-05-11T05:41:25.137Z"
   },
   {
    "duration": 32,
    "start_time": "2024-05-11T05:41:32.746Z"
   },
   {
    "duration": 24,
    "start_time": "2024-05-11T05:41:46.449Z"
   },
   {
    "duration": 30,
    "start_time": "2024-05-11T05:41:51.302Z"
   },
   {
    "duration": 83,
    "start_time": "2024-05-11T05:41:59.919Z"
   },
   {
    "duration": 27,
    "start_time": "2024-05-11T05:42:06.555Z"
   },
   {
    "duration": 32,
    "start_time": "2024-05-11T05:42:44.489Z"
   },
   {
    "duration": 29,
    "start_time": "2024-05-11T05:44:09.389Z"
   },
   {
    "duration": 27,
    "start_time": "2024-05-11T05:45:58.719Z"
   },
   {
    "duration": 2222,
    "start_time": "2024-05-11T05:46:17.643Z"
   },
   {
    "duration": 10,
    "start_time": "2024-05-11T05:46:19.866Z"
   },
   {
    "duration": 21,
    "start_time": "2024-05-11T05:46:19.877Z"
   },
   {
    "duration": 33,
    "start_time": "2024-05-11T05:46:19.900Z"
   },
   {
    "duration": 117,
    "start_time": "2024-05-11T05:46:19.934Z"
   },
   {
    "duration": 439,
    "start_time": "2024-05-11T05:46:20.053Z"
   },
   {
    "duration": 0,
    "start_time": "2024-05-11T05:46:20.493Z"
   },
   {
    "duration": 0,
    "start_time": "2024-05-11T05:46:20.495Z"
   },
   {
    "duration": 0,
    "start_time": "2024-05-11T05:46:20.496Z"
   },
   {
    "duration": 0,
    "start_time": "2024-05-11T05:46:20.498Z"
   },
   {
    "duration": 0,
    "start_time": "2024-05-11T05:46:20.500Z"
   },
   {
    "duration": 0,
    "start_time": "2024-05-11T05:46:20.502Z"
   },
   {
    "duration": 0,
    "start_time": "2024-05-11T05:46:20.503Z"
   },
   {
    "duration": 0,
    "start_time": "2024-05-11T05:46:20.505Z"
   },
   {
    "duration": 0,
    "start_time": "2024-05-11T05:46:20.507Z"
   },
   {
    "duration": 0,
    "start_time": "2024-05-11T05:46:20.508Z"
   },
   {
    "duration": 126,
    "start_time": "2024-05-11T05:48:00.999Z"
   },
   {
    "duration": 100,
    "start_time": "2024-05-11T05:49:36.206Z"
   },
   {
    "duration": 93,
    "start_time": "2024-05-11T05:50:09.284Z"
   },
   {
    "duration": 97,
    "start_time": "2024-05-11T05:50:20.251Z"
   },
   {
    "duration": 29,
    "start_time": "2024-05-11T05:53:12.265Z"
   },
   {
    "duration": 109,
    "start_time": "2024-05-11T05:53:15.960Z"
   },
   {
    "duration": 31,
    "start_time": "2024-05-11T05:54:11.320Z"
   },
   {
    "duration": 28,
    "start_time": "2024-05-11T05:59:33.922Z"
   },
   {
    "duration": 1278,
    "start_time": "2024-05-11T06:05:34.029Z"
   },
   {
    "duration": 97,
    "start_time": "2024-05-11T06:05:59.223Z"
   },
   {
    "duration": 478,
    "start_time": "2024-05-11T06:13:03.895Z"
   },
   {
    "duration": 2261,
    "start_time": "2024-05-11T06:13:22.845Z"
   },
   {
    "duration": 13,
    "start_time": "2024-05-11T06:13:25.108Z"
   },
   {
    "duration": 9,
    "start_time": "2024-05-11T06:13:25.123Z"
   },
   {
    "duration": 44,
    "start_time": "2024-05-11T06:13:25.133Z"
   },
   {
    "duration": 103,
    "start_time": "2024-05-11T06:13:25.179Z"
   },
   {
    "duration": 405,
    "start_time": "2024-05-11T06:13:25.283Z"
   },
   {
    "duration": 150,
    "start_time": "2024-05-11T06:13:25.690Z"
   },
   {
    "duration": 334,
    "start_time": "2024-05-11T06:13:25.842Z"
   },
   {
    "duration": 159,
    "start_time": "2024-05-11T06:13:26.177Z"
   },
   {
    "duration": 176,
    "start_time": "2024-05-11T06:13:26.337Z"
   },
   {
    "duration": 177,
    "start_time": "2024-05-11T06:13:26.514Z"
   },
   {
    "duration": 163,
    "start_time": "2024-05-11T06:13:26.693Z"
   },
   {
    "duration": 146,
    "start_time": "2024-05-11T06:13:26.858Z"
   },
   {
    "duration": 588,
    "start_time": "2024-05-11T06:13:27.006Z"
   },
   {
    "duration": 32,
    "start_time": "2024-05-11T06:13:27.596Z"
   },
   {
    "duration": 160,
    "start_time": "2024-05-11T06:13:27.629Z"
   },
   {
    "duration": 383,
    "start_time": "2024-05-11T06:14:23.703Z"
   },
   {
    "duration": 6,
    "start_time": "2024-05-11T06:31:02.367Z"
   },
   {
    "duration": 34,
    "start_time": "2024-05-11T06:31:06.447Z"
   },
   {
    "duration": 102,
    "start_time": "2024-05-11T06:31:21.799Z"
   },
   {
    "duration": 1258,
    "start_time": "2024-05-11T06:34:32.858Z"
   },
   {
    "duration": 105,
    "start_time": "2024-05-11T06:34:51.998Z"
   },
   {
    "duration": 98,
    "start_time": "2024-05-11T06:36:19.622Z"
   },
   {
    "duration": 98,
    "start_time": "2024-05-11T06:36:43.156Z"
   },
   {
    "duration": 107,
    "start_time": "2024-05-11T06:37:54.455Z"
   },
   {
    "duration": 101,
    "start_time": "2024-05-11T06:49:58.923Z"
   },
   {
    "duration": 113,
    "start_time": "2024-05-11T06:50:59.944Z"
   },
   {
    "duration": 97,
    "start_time": "2024-05-11T06:51:11.357Z"
   },
   {
    "duration": 91,
    "start_time": "2024-05-11T06:51:57.337Z"
   },
   {
    "duration": 2238,
    "start_time": "2024-05-11T06:52:07.495Z"
   },
   {
    "duration": 10,
    "start_time": "2024-05-11T06:52:09.735Z"
   },
   {
    "duration": 34,
    "start_time": "2024-05-11T06:52:09.747Z"
   },
   {
    "duration": 48,
    "start_time": "2024-05-11T06:52:09.783Z"
   },
   {
    "duration": 123,
    "start_time": "2024-05-11T06:52:09.833Z"
   },
   {
    "duration": 429,
    "start_time": "2024-05-11T06:52:09.957Z"
   },
   {
    "duration": 0,
    "start_time": "2024-05-11T06:52:10.388Z"
   },
   {
    "duration": 0,
    "start_time": "2024-05-11T06:52:10.389Z"
   },
   {
    "duration": 0,
    "start_time": "2024-05-11T06:52:10.389Z"
   },
   {
    "duration": 0,
    "start_time": "2024-05-11T06:52:10.390Z"
   },
   {
    "duration": 0,
    "start_time": "2024-05-11T06:52:10.392Z"
   },
   {
    "duration": 0,
    "start_time": "2024-05-11T06:52:10.392Z"
   },
   {
    "duration": 0,
    "start_time": "2024-05-11T06:52:10.393Z"
   },
   {
    "duration": 0,
    "start_time": "2024-05-11T06:52:10.395Z"
   },
   {
    "duration": 1,
    "start_time": "2024-05-11T06:52:10.395Z"
   },
   {
    "duration": 0,
    "start_time": "2024-05-11T06:52:10.396Z"
   },
   {
    "duration": 91,
    "start_time": "2024-05-11T06:52:52.711Z"
   },
   {
    "duration": 447,
    "start_time": "2024-05-11T06:59:42.031Z"
   },
   {
    "duration": 2401,
    "start_time": "2024-05-11T06:59:47.999Z"
   },
   {
    "duration": 9,
    "start_time": "2024-05-11T06:59:50.402Z"
   },
   {
    "duration": 24,
    "start_time": "2024-05-11T06:59:50.413Z"
   },
   {
    "duration": 139,
    "start_time": "2024-05-11T06:59:50.439Z"
   },
   {
    "duration": 132,
    "start_time": "2024-05-11T06:59:50.580Z"
   },
   {
    "duration": 358,
    "start_time": "2024-05-11T06:59:50.714Z"
   },
   {
    "duration": 0,
    "start_time": "2024-05-11T06:59:51.073Z"
   },
   {
    "duration": 0,
    "start_time": "2024-05-11T06:59:51.075Z"
   },
   {
    "duration": 0,
    "start_time": "2024-05-11T06:59:51.076Z"
   },
   {
    "duration": 0,
    "start_time": "2024-05-11T06:59:51.077Z"
   },
   {
    "duration": 0,
    "start_time": "2024-05-11T06:59:51.078Z"
   },
   {
    "duration": 0,
    "start_time": "2024-05-11T06:59:51.079Z"
   },
   {
    "duration": 0,
    "start_time": "2024-05-11T06:59:51.080Z"
   },
   {
    "duration": 0,
    "start_time": "2024-05-11T06:59:51.081Z"
   },
   {
    "duration": 0,
    "start_time": "2024-05-11T06:59:51.082Z"
   },
   {
    "duration": 0,
    "start_time": "2024-05-11T06:59:51.083Z"
   },
   {
    "duration": 10,
    "start_time": "2024-05-11T07:00:48.820Z"
   },
   {
    "duration": 8,
    "start_time": "2024-05-11T07:01:11.001Z"
   },
   {
    "duration": 8,
    "start_time": "2024-05-11T07:02:39.672Z"
   },
   {
    "duration": 19,
    "start_time": "2024-05-11T07:02:52.074Z"
   },
   {
    "duration": 7,
    "start_time": "2024-05-11T07:03:46.911Z"
   },
   {
    "duration": 7,
    "start_time": "2024-05-11T07:04:07.174Z"
   },
   {
    "duration": 9,
    "start_time": "2024-05-11T07:04:45.240Z"
   },
   {
    "duration": 8,
    "start_time": "2024-05-11T07:05:13.514Z"
   },
   {
    "duration": 8,
    "start_time": "2024-05-11T07:05:44.531Z"
   },
   {
    "duration": 5,
    "start_time": "2024-05-11T07:07:05.611Z"
   },
   {
    "duration": 30,
    "start_time": "2024-05-11T07:09:30.343Z"
   },
   {
    "duration": 369,
    "start_time": "2024-05-11T07:09:51.741Z"
   },
   {
    "duration": 1126,
    "start_time": "2024-05-11T07:12:30.584Z"
   },
   {
    "duration": 350,
    "start_time": "2024-05-11T07:12:40.180Z"
   },
   {
    "duration": 371,
    "start_time": "2024-05-11T07:12:51.496Z"
   },
   {
    "duration": 445,
    "start_time": "2024-05-11T07:13:01.044Z"
   },
   {
    "duration": 355,
    "start_time": "2024-05-11T07:13:12.634Z"
   },
   {
    "duration": 365,
    "start_time": "2024-05-11T07:13:33.244Z"
   },
   {
    "duration": 355,
    "start_time": "2024-05-11T07:14:17.390Z"
   },
   {
    "duration": 363,
    "start_time": "2024-05-11T07:14:38.211Z"
   },
   {
    "duration": 2261,
    "start_time": "2024-05-11T07:14:41.181Z"
   },
   {
    "duration": 9,
    "start_time": "2024-05-11T07:14:43.444Z"
   },
   {
    "duration": 11,
    "start_time": "2024-05-11T07:14:43.454Z"
   },
   {
    "duration": 51,
    "start_time": "2024-05-11T07:14:43.467Z"
   },
   {
    "duration": 115,
    "start_time": "2024-05-11T07:14:43.520Z"
   },
   {
    "duration": 441,
    "start_time": "2024-05-11T07:14:43.636Z"
   },
   {
    "duration": 0,
    "start_time": "2024-05-11T07:14:44.079Z"
   },
   {
    "duration": 0,
    "start_time": "2024-05-11T07:14:44.080Z"
   },
   {
    "duration": 0,
    "start_time": "2024-05-11T07:14:44.081Z"
   },
   {
    "duration": 0,
    "start_time": "2024-05-11T07:14:44.081Z"
   },
   {
    "duration": 0,
    "start_time": "2024-05-11T07:14:44.083Z"
   },
   {
    "duration": 0,
    "start_time": "2024-05-11T07:14:44.084Z"
   },
   {
    "duration": 0,
    "start_time": "2024-05-11T07:14:44.085Z"
   },
   {
    "duration": 0,
    "start_time": "2024-05-11T07:14:44.086Z"
   },
   {
    "duration": 0,
    "start_time": "2024-05-11T07:14:44.087Z"
   },
   {
    "duration": 0,
    "start_time": "2024-05-11T07:14:44.088Z"
   },
   {
    "duration": 339,
    "start_time": "2024-05-11T07:15:20.495Z"
   },
   {
    "duration": 327,
    "start_time": "2024-05-11T07:15:43.496Z"
   },
   {
    "duration": 433,
    "start_time": "2024-05-11T07:16:01.539Z"
   },
   {
    "duration": 504,
    "start_time": "2024-05-11T07:16:28.488Z"
   },
   {
    "duration": 123,
    "start_time": "2024-05-11T07:17:52.103Z"
   },
   {
    "duration": 308,
    "start_time": "2024-05-11T07:18:16.676Z"
   },
   {
    "duration": 428,
    "start_time": "2024-05-11T07:21:06.875Z"
   },
   {
    "duration": 462,
    "start_time": "2024-05-11T07:21:52.152Z"
   },
   {
    "duration": 429,
    "start_time": "2024-05-11T07:22:10.476Z"
   },
   {
    "duration": 554,
    "start_time": "2024-05-11T07:25:04.297Z"
   },
   {
    "duration": 163,
    "start_time": "2024-05-11T07:27:12.845Z"
   },
   {
    "duration": 15,
    "start_time": "2024-05-11T07:28:47.569Z"
   },
   {
    "duration": 21,
    "start_time": "2024-05-11T07:29:03.987Z"
   },
   {
    "duration": 13,
    "start_time": "2024-05-11T07:29:16.640Z"
   },
   {
    "duration": 12,
    "start_time": "2024-05-11T07:29:24.344Z"
   },
   {
    "duration": 198,
    "start_time": "2024-05-11T07:29:32.338Z"
   },
   {
    "duration": 13,
    "start_time": "2024-05-11T07:30:15.328Z"
   },
   {
    "duration": 7,
    "start_time": "2024-05-11T07:31:51.243Z"
   },
   {
    "duration": 183,
    "start_time": "2024-05-11T07:32:01.007Z"
   },
   {
    "duration": 171,
    "start_time": "2024-05-11T07:32:34.598Z"
   },
   {
    "duration": 187,
    "start_time": "2024-05-11T07:32:59.820Z"
   },
   {
    "duration": 167,
    "start_time": "2024-05-11T07:33:28.271Z"
   },
   {
    "duration": 173,
    "start_time": "2024-05-11T07:34:57.338Z"
   },
   {
    "duration": 178,
    "start_time": "2024-05-11T07:35:36.200Z"
   },
   {
    "duration": 264,
    "start_time": "2024-05-11T07:37:06.633Z"
   },
   {
    "duration": 191,
    "start_time": "2024-05-11T07:37:10.078Z"
   },
   {
    "duration": 141,
    "start_time": "2024-05-11T07:38:25.486Z"
   },
   {
    "duration": 170,
    "start_time": "2024-05-11T07:42:50.850Z"
   },
   {
    "duration": 173,
    "start_time": "2024-05-11T07:42:57.293Z"
   },
   {
    "duration": 186,
    "start_time": "2024-05-11T07:43:51.186Z"
   },
   {
    "duration": 177,
    "start_time": "2024-05-11T07:44:46.629Z"
   },
   {
    "duration": 188,
    "start_time": "2024-05-11T07:45:05.680Z"
   },
   {
    "duration": 176,
    "start_time": "2024-05-11T07:45:30.945Z"
   },
   {
    "duration": 183,
    "start_time": "2024-05-11T07:45:39.117Z"
   },
   {
    "duration": 180,
    "start_time": "2024-05-11T07:45:51.077Z"
   },
   {
    "duration": 176,
    "start_time": "2024-05-11T07:46:26.105Z"
   },
   {
    "duration": 193,
    "start_time": "2024-05-11T07:46:37.858Z"
   },
   {
    "duration": 253,
    "start_time": "2024-05-11T07:46:52.463Z"
   },
   {
    "duration": 179,
    "start_time": "2024-05-11T07:47:25.879Z"
   },
   {
    "duration": 171,
    "start_time": "2024-05-11T07:47:40.440Z"
   },
   {
    "duration": 169,
    "start_time": "2024-05-11T07:48:07.712Z"
   },
   {
    "duration": 165,
    "start_time": "2024-05-11T07:48:24.937Z"
   },
   {
    "duration": 179,
    "start_time": "2024-05-11T07:48:47.595Z"
   },
   {
    "duration": 177,
    "start_time": "2024-05-11T07:49:23.064Z"
   },
   {
    "duration": 171,
    "start_time": "2024-05-11T07:49:50.751Z"
   },
   {
    "duration": 2343,
    "start_time": "2024-05-11T07:50:06.892Z"
   },
   {
    "duration": 10,
    "start_time": "2024-05-11T07:50:09.237Z"
   },
   {
    "duration": 47,
    "start_time": "2024-05-11T07:50:09.249Z"
   },
   {
    "duration": 35,
    "start_time": "2024-05-11T07:50:09.299Z"
   },
   {
    "duration": 137,
    "start_time": "2024-05-11T07:50:09.336Z"
   },
   {
    "duration": 484,
    "start_time": "2024-05-11T07:50:09.474Z"
   },
   {
    "duration": 147,
    "start_time": "2024-05-11T07:50:09.959Z"
   },
   {
    "duration": 584,
    "start_time": "2024-05-11T07:50:10.108Z"
   },
   {
    "duration": 198,
    "start_time": "2024-05-11T07:50:10.694Z"
   },
   {
    "duration": 171,
    "start_time": "2024-05-11T07:50:10.894Z"
   },
   {
    "duration": 208,
    "start_time": "2024-05-11T07:50:11.066Z"
   },
   {
    "duration": 171,
    "start_time": "2024-05-11T07:50:11.275Z"
   },
   {
    "duration": 153,
    "start_time": "2024-05-11T07:50:11.448Z"
   },
   {
    "duration": 478,
    "start_time": "2024-05-11T07:50:11.602Z"
   },
   {
    "duration": 38,
    "start_time": "2024-05-11T07:50:12.082Z"
   },
   {
    "duration": 173,
    "start_time": "2024-05-11T07:50:12.121Z"
   },
   {
    "duration": 174,
    "start_time": "2024-05-11T07:50:29.810Z"
   },
   {
    "duration": 166,
    "start_time": "2024-05-11T07:56:37.540Z"
   },
   {
    "duration": 273,
    "start_time": "2024-05-11T07:57:04.907Z"
   },
   {
    "duration": 156,
    "start_time": "2024-05-11T07:59:07.375Z"
   },
   {
    "duration": 164,
    "start_time": "2024-05-11T08:00:10.377Z"
   },
   {
    "duration": 155,
    "start_time": "2024-05-11T08:00:44.283Z"
   },
   {
    "duration": 161,
    "start_time": "2024-05-11T08:01:13.663Z"
   },
   {
    "duration": 53,
    "start_time": "2024-05-11T08:22:49.507Z"
   },
   {
    "duration": 136,
    "start_time": "2024-05-11T08:23:02.713Z"
   },
   {
    "duration": 161,
    "start_time": "2024-05-11T08:24:01.084Z"
   },
   {
    "duration": 136,
    "start_time": "2024-05-11T08:24:14.312Z"
   },
   {
    "duration": 153,
    "start_time": "2024-05-11T08:25:23.128Z"
   },
   {
    "duration": 160,
    "start_time": "2024-05-11T08:26:21.443Z"
   },
   {
    "duration": 2334,
    "start_time": "2024-05-11T08:26:24.571Z"
   },
   {
    "duration": 10,
    "start_time": "2024-05-11T08:26:26.907Z"
   },
   {
    "duration": 14,
    "start_time": "2024-05-11T08:26:26.919Z"
   },
   {
    "duration": 55,
    "start_time": "2024-05-11T08:26:26.936Z"
   },
   {
    "duration": 121,
    "start_time": "2024-05-11T08:26:26.993Z"
   },
   {
    "duration": 462,
    "start_time": "2024-05-11T08:26:27.115Z"
   },
   {
    "duration": 150,
    "start_time": "2024-05-11T08:26:27.579Z"
   },
   {
    "duration": 588,
    "start_time": "2024-05-11T08:26:27.730Z"
   },
   {
    "duration": 188,
    "start_time": "2024-05-11T08:26:28.320Z"
   },
   {
    "duration": 183,
    "start_time": "2024-05-11T08:26:28.511Z"
   },
   {
    "duration": 175,
    "start_time": "2024-05-11T08:26:28.696Z"
   },
   {
    "duration": 179,
    "start_time": "2024-05-11T08:26:28.873Z"
   },
   {
    "duration": 156,
    "start_time": "2024-05-11T08:26:29.054Z"
   },
   {
    "duration": 499,
    "start_time": "2024-05-11T08:26:29.211Z"
   },
   {
    "duration": 36,
    "start_time": "2024-05-11T08:26:29.712Z"
   },
   {
    "duration": 190,
    "start_time": "2024-05-11T08:26:29.751Z"
   },
   {
    "duration": 81,
    "start_time": "2024-05-11T08:29:10.924Z"
   },
   {
    "duration": 172,
    "start_time": "2024-05-11T08:30:05.908Z"
   },
   {
    "duration": 184,
    "start_time": "2024-05-11T08:30:58.425Z"
   },
   {
    "duration": 171,
    "start_time": "2024-05-11T08:35:14.327Z"
   },
   {
    "duration": 78,
    "start_time": "2024-05-11T08:35:45.518Z"
   },
   {
    "duration": 613,
    "start_time": "2024-05-11T08:36:03.046Z"
   },
   {
    "duration": 187,
    "start_time": "2024-05-11T08:36:12.083Z"
   },
   {
    "duration": 187,
    "start_time": "2024-05-11T08:36:46.423Z"
   },
   {
    "duration": 193,
    "start_time": "2024-05-11T08:37:07.982Z"
   },
   {
    "duration": 196,
    "start_time": "2024-05-11T08:37:22.308Z"
   },
   {
    "duration": 206,
    "start_time": "2024-05-11T08:46:29.902Z"
   },
   {
    "duration": 10,
    "start_time": "2024-05-11T09:04:01.328Z"
   },
   {
    "duration": 13,
    "start_time": "2024-05-11T09:04:38.191Z"
   },
   {
    "duration": 137,
    "start_time": "2024-05-11T09:04:50.688Z"
   },
   {
    "duration": 134,
    "start_time": "2024-05-11T09:05:06.765Z"
   },
   {
    "duration": 133,
    "start_time": "2024-05-11T09:06:22.517Z"
   },
   {
    "duration": 378,
    "start_time": "2024-05-11T09:09:52.767Z"
   },
   {
    "duration": 142,
    "start_time": "2024-05-11T09:10:28.650Z"
   },
   {
    "duration": 139,
    "start_time": "2024-05-11T09:19:36.152Z"
   },
   {
    "duration": 148,
    "start_time": "2024-05-11T09:21:10.454Z"
   },
   {
    "duration": 139,
    "start_time": "2024-05-11T09:21:50.365Z"
   },
   {
    "duration": 123,
    "start_time": "2024-05-11T09:22:40.632Z"
   },
   {
    "duration": 1089,
    "start_time": "2024-05-11T09:23:24.262Z"
   },
   {
    "duration": 160,
    "start_time": "2024-05-11T09:23:28.993Z"
   },
   {
    "duration": 2392,
    "start_time": "2024-05-11T09:23:50.167Z"
   },
   {
    "duration": 9,
    "start_time": "2024-05-11T09:23:52.561Z"
   },
   {
    "duration": 23,
    "start_time": "2024-05-11T09:23:52.572Z"
   },
   {
    "duration": 36,
    "start_time": "2024-05-11T09:23:52.596Z"
   },
   {
    "duration": 139,
    "start_time": "2024-05-11T09:23:52.635Z"
   },
   {
    "duration": 481,
    "start_time": "2024-05-11T09:23:52.776Z"
   },
   {
    "duration": 166,
    "start_time": "2024-05-11T09:23:53.259Z"
   },
   {
    "duration": 149,
    "start_time": "2024-05-11T09:23:53.427Z"
   },
   {
    "duration": 140,
    "start_time": "2024-05-11T09:23:53.578Z"
   },
   {
    "duration": 167,
    "start_time": "2024-05-11T09:23:53.720Z"
   },
   {
    "duration": 612,
    "start_time": "2024-05-11T09:23:53.891Z"
   },
   {
    "duration": 200,
    "start_time": "2024-05-11T09:23:54.505Z"
   },
   {
    "duration": 191,
    "start_time": "2024-05-11T09:23:54.707Z"
   },
   {
    "duration": 191,
    "start_time": "2024-05-11T09:23:54.902Z"
   },
   {
    "duration": 177,
    "start_time": "2024-05-11T09:23:55.094Z"
   },
   {
    "duration": 159,
    "start_time": "2024-05-11T09:23:55.272Z"
   },
   {
    "duration": 477,
    "start_time": "2024-05-11T09:23:55.433Z"
   },
   {
    "duration": 36,
    "start_time": "2024-05-11T09:23:55.911Z"
   },
   {
    "duration": 258,
    "start_time": "2024-05-11T09:23:55.948Z"
   },
   {
    "duration": 35,
    "start_time": "2024-05-11T09:24:29.480Z"
   },
   {
    "duration": 159,
    "start_time": "2024-05-11T09:24:36.702Z"
   },
   {
    "duration": 2440,
    "start_time": "2024-05-11T09:24:40.202Z"
   },
   {
    "duration": 8,
    "start_time": "2024-05-11T09:24:42.644Z"
   },
   {
    "duration": 28,
    "start_time": "2024-05-11T09:24:42.654Z"
   },
   {
    "duration": 32,
    "start_time": "2024-05-11T09:24:42.684Z"
   },
   {
    "duration": 124,
    "start_time": "2024-05-11T09:24:42.718Z"
   },
   {
    "duration": 614,
    "start_time": "2024-05-11T09:24:42.844Z"
   },
   {
    "duration": 161,
    "start_time": "2024-05-11T09:24:43.460Z"
   },
   {
    "duration": 157,
    "start_time": "2024-05-11T09:24:43.622Z"
   },
   {
    "duration": 147,
    "start_time": "2024-05-11T09:24:43.780Z"
   },
   {
    "duration": 185,
    "start_time": "2024-05-11T09:24:43.929Z"
   },
   {
    "duration": 487,
    "start_time": "2024-05-11T09:24:44.116Z"
   },
   {
    "duration": 194,
    "start_time": "2024-05-11T09:24:44.605Z"
   },
   {
    "duration": 189,
    "start_time": "2024-05-11T09:24:44.801Z"
   },
   {
    "duration": 203,
    "start_time": "2024-05-11T09:24:44.993Z"
   },
   {
    "duration": 202,
    "start_time": "2024-05-11T09:24:45.198Z"
   },
   {
    "duration": 156,
    "start_time": "2024-05-11T09:24:45.402Z"
   },
   {
    "duration": 624,
    "start_time": "2024-05-11T09:24:45.560Z"
   },
   {
    "duration": 35,
    "start_time": "2024-05-11T09:24:46.186Z"
   },
   {
    "duration": 214,
    "start_time": "2024-05-11T09:24:46.223Z"
   },
   {
    "duration": 35,
    "start_time": "2024-05-11T09:25:07.736Z"
   },
   {
    "duration": 141,
    "start_time": "2024-05-11T09:25:55.662Z"
   },
   {
    "duration": 132,
    "start_time": "2024-05-11T09:26:48.924Z"
   },
   {
    "duration": 127,
    "start_time": "2024-05-11T09:27:49.482Z"
   },
   {
    "duration": 151,
    "start_time": "2024-05-11T09:28:57.774Z"
   },
   {
    "duration": 167,
    "start_time": "2024-05-11T09:30:09.874Z"
   },
   {
    "duration": 166,
    "start_time": "2024-05-11T09:31:04.386Z"
   },
   {
    "duration": 174,
    "start_time": "2024-05-11T09:36:12.151Z"
   },
   {
    "duration": 185,
    "start_time": "2024-05-11T09:36:41.414Z"
   },
   {
    "duration": 202,
    "start_time": "2024-05-11T09:37:16.756Z"
   },
   {
    "duration": 212,
    "start_time": "2024-05-11T09:37:49.805Z"
   },
   {
    "duration": 79,
    "start_time": "2024-05-11T09:39:15.501Z"
   },
   {
    "duration": 372,
    "start_time": "2024-05-11T09:39:23.212Z"
   },
   {
    "duration": 193,
    "start_time": "2024-05-11T09:39:32.837Z"
   },
   {
    "duration": 201,
    "start_time": "2024-05-11T09:40:16.308Z"
   },
   {
    "duration": 2382,
    "start_time": "2024-05-11T09:40:23.666Z"
   },
   {
    "duration": 10,
    "start_time": "2024-05-11T09:40:26.051Z"
   },
   {
    "duration": 40,
    "start_time": "2024-05-11T09:40:26.063Z"
   },
   {
    "duration": 37,
    "start_time": "2024-05-11T09:40:26.105Z"
   },
   {
    "duration": 127,
    "start_time": "2024-05-11T09:40:26.144Z"
   },
   {
    "duration": 473,
    "start_time": "2024-05-11T09:40:26.273Z"
   },
   {
    "duration": 189,
    "start_time": "2024-05-11T09:40:26.747Z"
   },
   {
    "duration": 193,
    "start_time": "2024-05-11T09:40:26.937Z"
   },
   {
    "duration": 198,
    "start_time": "2024-05-11T09:40:27.131Z"
   },
   {
    "duration": 199,
    "start_time": "2024-05-11T09:40:27.331Z"
   },
   {
    "duration": 161,
    "start_time": "2024-05-11T09:40:27.532Z"
   },
   {
    "duration": 138,
    "start_time": "2024-05-11T09:40:27.695Z"
   },
   {
    "duration": 129,
    "start_time": "2024-05-11T09:40:27.834Z"
   },
   {
    "duration": 172,
    "start_time": "2024-05-11T09:40:27.965Z"
   },
   {
    "duration": 175,
    "start_time": "2024-05-11T09:40:28.138Z"
   },
   {
    "duration": 349,
    "start_time": "2024-05-11T09:40:28.314Z"
   },
   {
    "duration": 437,
    "start_time": "2024-05-11T09:40:28.664Z"
   },
   {
    "duration": 189,
    "start_time": "2024-05-11T09:40:29.102Z"
   },
   {
    "duration": 181,
    "start_time": "2024-05-11T09:40:29.293Z"
   },
   {
    "duration": 176,
    "start_time": "2024-05-11T09:40:29.476Z"
   },
   {
    "duration": 195,
    "start_time": "2024-05-11T09:40:29.654Z"
   },
   {
    "duration": 180,
    "start_time": "2024-05-11T09:40:29.853Z"
   },
   {
    "duration": 500,
    "start_time": "2024-05-11T09:40:30.034Z"
   },
   {
    "duration": 38,
    "start_time": "2024-05-11T09:40:30.535Z"
   },
   {
    "duration": 261,
    "start_time": "2024-05-11T09:40:30.574Z"
   },
   {
    "duration": 181,
    "start_time": "2024-05-11T09:41:44.757Z"
   },
   {
    "duration": 2373,
    "start_time": "2024-05-11T09:41:52.200Z"
   },
   {
    "duration": 8,
    "start_time": "2024-05-11T09:41:54.575Z"
   },
   {
    "duration": 20,
    "start_time": "2024-05-11T09:41:54.591Z"
   },
   {
    "duration": 35,
    "start_time": "2024-05-11T09:41:54.613Z"
   },
   {
    "duration": 121,
    "start_time": "2024-05-11T09:41:54.649Z"
   },
   {
    "duration": 609,
    "start_time": "2024-05-11T09:41:54.772Z"
   },
   {
    "duration": 183,
    "start_time": "2024-05-11T09:41:55.382Z"
   },
   {
    "duration": 190,
    "start_time": "2024-05-11T09:41:55.566Z"
   },
   {
    "duration": 196,
    "start_time": "2024-05-11T09:41:55.758Z"
   },
   {
    "duration": 217,
    "start_time": "2024-05-11T09:41:55.957Z"
   },
   {
    "duration": 145,
    "start_time": "2024-05-11T09:41:56.176Z"
   },
   {
    "duration": 141,
    "start_time": "2024-05-11T09:41:56.322Z"
   },
   {
    "duration": 129,
    "start_time": "2024-05-11T09:41:56.464Z"
   },
   {
    "duration": 158,
    "start_time": "2024-05-11T09:41:56.594Z"
   },
   {
    "duration": 158,
    "start_time": "2024-05-11T09:41:56.754Z"
   },
   {
    "duration": 153,
    "start_time": "2024-05-11T09:41:56.913Z"
   },
   {
    "duration": 441,
    "start_time": "2024-05-11T09:41:57.067Z"
   },
   {
    "duration": 353,
    "start_time": "2024-05-11T09:41:57.510Z"
   },
   {
    "duration": 188,
    "start_time": "2024-05-11T09:41:57.865Z"
   },
   {
    "duration": 171,
    "start_time": "2024-05-11T09:41:58.054Z"
   },
   {
    "duration": 176,
    "start_time": "2024-05-11T09:41:58.226Z"
   },
   {
    "duration": 160,
    "start_time": "2024-05-11T09:41:58.404Z"
   },
   {
    "duration": 484,
    "start_time": "2024-05-11T09:41:58.566Z"
   },
   {
    "duration": 42,
    "start_time": "2024-05-11T09:41:59.051Z"
   },
   {
    "duration": 200,
    "start_time": "2024-05-11T09:41:59.095Z"
   },
   {
    "duration": 197,
    "start_time": "2024-05-11T09:42:26.102Z"
   },
   {
    "duration": 177,
    "start_time": "2024-05-11T09:42:52.546Z"
   },
   {
    "duration": 164,
    "start_time": "2024-05-11T09:43:19.249Z"
   },
   {
    "duration": 197,
    "start_time": "2024-05-11T09:43:28.973Z"
   },
   {
    "duration": 190,
    "start_time": "2024-05-11T09:44:08.583Z"
   },
   {
    "duration": 190,
    "start_time": "2024-05-11T09:44:37.214Z"
   },
   {
    "duration": 65,
    "start_time": "2024-05-11T09:58:40.447Z"
   },
   {
    "duration": 67,
    "start_time": "2024-05-11T09:58:56.074Z"
   },
   {
    "duration": 66,
    "start_time": "2024-05-11T09:59:01.258Z"
   },
   {
    "duration": 65,
    "start_time": "2024-05-11T09:59:22.872Z"
   },
   {
    "duration": 220,
    "start_time": "2024-05-11T10:06:29.625Z"
   },
   {
    "duration": 2158,
    "start_time": "2024-05-11T10:06:42.413Z"
   },
   {
    "duration": 9,
    "start_time": "2024-05-11T10:06:44.573Z"
   },
   {
    "duration": 15,
    "start_time": "2024-05-11T10:06:44.583Z"
   },
   {
    "duration": 200,
    "start_time": "2024-05-11T10:06:44.600Z"
   },
   {
    "duration": 127,
    "start_time": "2024-05-11T10:06:44.802Z"
   },
   {
    "duration": 498,
    "start_time": "2024-05-11T10:06:44.930Z"
   },
   {
    "duration": 188,
    "start_time": "2024-05-11T10:06:45.430Z"
   },
   {
    "duration": 195,
    "start_time": "2024-05-11T10:06:45.619Z"
   },
   {
    "duration": 187,
    "start_time": "2024-05-11T10:06:45.817Z"
   },
   {
    "duration": 218,
    "start_time": "2024-05-11T10:06:46.008Z"
   },
   {
    "duration": 200,
    "start_time": "2024-05-11T10:06:46.228Z"
   },
   {
    "duration": 206,
    "start_time": "2024-05-11T10:06:46.430Z"
   },
   {
    "duration": 180,
    "start_time": "2024-05-11T10:06:46.638Z"
   },
   {
    "duration": 219,
    "start_time": "2024-05-11T10:06:46.820Z"
   },
   {
    "duration": 359,
    "start_time": "2024-05-11T10:06:47.041Z"
   },
   {
    "duration": 202,
    "start_time": "2024-05-11T10:06:47.402Z"
   },
   {
    "duration": 443,
    "start_time": "2024-05-11T10:06:47.605Z"
   },
   {
    "duration": 196,
    "start_time": "2024-05-11T10:06:48.050Z"
   },
   {
    "duration": 189,
    "start_time": "2024-05-11T10:06:48.248Z"
   },
   {
    "duration": 191,
    "start_time": "2024-05-11T10:06:48.439Z"
   },
   {
    "duration": 178,
    "start_time": "2024-05-11T10:06:48.632Z"
   },
   {
    "duration": 145,
    "start_time": "2024-05-11T10:06:48.812Z"
   },
   {
    "duration": 451,
    "start_time": "2024-05-11T10:06:48.958Z"
   },
   {
    "duration": 37,
    "start_time": "2024-05-11T10:06:49.411Z"
   },
   {
    "duration": 222,
    "start_time": "2024-05-11T10:06:49.449Z"
   },
   {
    "duration": 201,
    "start_time": "2024-05-11T10:07:24.910Z"
   },
   {
    "duration": 217,
    "start_time": "2024-05-11T10:07:39.433Z"
   },
   {
    "duration": 437,
    "start_time": "2024-05-11T10:08:01.216Z"
   },
   {
    "duration": 476,
    "start_time": "2024-05-11T10:17:45.045Z"
   },
   {
    "duration": 2424,
    "start_time": "2024-05-11T10:17:50.198Z"
   },
   {
    "duration": 9,
    "start_time": "2024-05-11T10:17:52.624Z"
   },
   {
    "duration": 35,
    "start_time": "2024-05-11T10:17:52.634Z"
   },
   {
    "duration": 44,
    "start_time": "2024-05-11T10:17:52.671Z"
   },
   {
    "duration": 120,
    "start_time": "2024-05-11T10:17:52.717Z"
   },
   {
    "duration": 368,
    "start_time": "2024-05-11T10:17:52.839Z"
   },
   {
    "duration": 0,
    "start_time": "2024-05-11T10:17:53.209Z"
   },
   {
    "duration": 0,
    "start_time": "2024-05-11T10:17:53.210Z"
   },
   {
    "duration": 0,
    "start_time": "2024-05-11T10:17:53.212Z"
   },
   {
    "duration": 0,
    "start_time": "2024-05-11T10:17:53.213Z"
   },
   {
    "duration": 0,
    "start_time": "2024-05-11T10:17:53.214Z"
   },
   {
    "duration": 0,
    "start_time": "2024-05-11T10:17:53.215Z"
   },
   {
    "duration": 0,
    "start_time": "2024-05-11T10:17:53.216Z"
   },
   {
    "duration": 0,
    "start_time": "2024-05-11T10:17:53.217Z"
   },
   {
    "duration": 1,
    "start_time": "2024-05-11T10:17:53.217Z"
   },
   {
    "duration": 0,
    "start_time": "2024-05-11T10:17:53.219Z"
   },
   {
    "duration": 0,
    "start_time": "2024-05-11T10:17:53.220Z"
   },
   {
    "duration": 0,
    "start_time": "2024-05-11T10:17:53.221Z"
   },
   {
    "duration": 0,
    "start_time": "2024-05-11T10:17:53.222Z"
   },
   {
    "duration": 0,
    "start_time": "2024-05-11T10:17:53.223Z"
   },
   {
    "duration": 0,
    "start_time": "2024-05-11T10:17:53.224Z"
   },
   {
    "duration": 0,
    "start_time": "2024-05-11T10:17:53.225Z"
   },
   {
    "duration": 0,
    "start_time": "2024-05-11T10:17:53.226Z"
   },
   {
    "duration": 0,
    "start_time": "2024-05-11T10:17:53.227Z"
   },
   {
    "duration": 0,
    "start_time": "2024-05-11T10:17:53.227Z"
   },
   {
    "duration": 0,
    "start_time": "2024-05-11T10:17:53.229Z"
   },
   {
    "duration": 0,
    "start_time": "2024-05-11T10:17:53.230Z"
   },
   {
    "duration": 493,
    "start_time": "2024-05-11T10:18:30.507Z"
   },
   {
    "duration": 2402,
    "start_time": "2024-05-11T10:18:50.750Z"
   },
   {
    "duration": 9,
    "start_time": "2024-05-11T10:18:53.154Z"
   },
   {
    "duration": 57,
    "start_time": "2024-05-11T10:18:53.164Z"
   },
   {
    "duration": 54,
    "start_time": "2024-05-11T10:18:53.224Z"
   },
   {
    "duration": 115,
    "start_time": "2024-05-11T10:18:53.279Z"
   },
   {
    "duration": 482,
    "start_time": "2024-05-11T10:18:53.395Z"
   },
   {
    "duration": 194,
    "start_time": "2024-05-11T10:18:53.878Z"
   },
   {
    "duration": 190,
    "start_time": "2024-05-11T10:18:54.074Z"
   },
   {
    "duration": 206,
    "start_time": "2024-05-11T10:18:54.266Z"
   },
   {
    "duration": 231,
    "start_time": "2024-05-11T10:18:54.474Z"
   },
   {
    "duration": 211,
    "start_time": "2024-05-11T10:18:54.707Z"
   },
   {
    "duration": 401,
    "start_time": "2024-05-11T10:18:54.919Z"
   },
   {
    "duration": 187,
    "start_time": "2024-05-11T10:18:55.322Z"
   },
   {
    "duration": 63,
    "start_time": "2024-05-11T10:18:55.511Z"
   },
   {
    "duration": 0,
    "start_time": "2024-05-11T10:18:55.576Z"
   },
   {
    "duration": 0,
    "start_time": "2024-05-11T10:18:55.577Z"
   },
   {
    "duration": 0,
    "start_time": "2024-05-11T10:18:55.579Z"
   },
   {
    "duration": 0,
    "start_time": "2024-05-11T10:18:55.580Z"
   },
   {
    "duration": 0,
    "start_time": "2024-05-11T10:18:55.581Z"
   },
   {
    "duration": 0,
    "start_time": "2024-05-11T10:18:55.583Z"
   },
   {
    "duration": 0,
    "start_time": "2024-05-11T10:18:55.584Z"
   },
   {
    "duration": 0,
    "start_time": "2024-05-11T10:18:55.586Z"
   },
   {
    "duration": 0,
    "start_time": "2024-05-11T10:18:55.587Z"
   },
   {
    "duration": 0,
    "start_time": "2024-05-11T10:18:55.588Z"
   },
   {
    "duration": 0,
    "start_time": "2024-05-11T10:18:55.590Z"
   },
   {
    "duration": 0,
    "start_time": "2024-05-11T10:18:55.591Z"
   },
   {
    "duration": 0,
    "start_time": "2024-05-11T10:18:55.592Z"
   },
   {
    "duration": 2361,
    "start_time": "2024-05-11T10:19:20.923Z"
   },
   {
    "duration": 9,
    "start_time": "2024-05-11T10:19:23.286Z"
   },
   {
    "duration": 19,
    "start_time": "2024-05-11T10:19:23.296Z"
   },
   {
    "duration": 35,
    "start_time": "2024-05-11T10:19:23.317Z"
   },
   {
    "duration": 128,
    "start_time": "2024-05-11T10:19:23.353Z"
   },
   {
    "duration": 488,
    "start_time": "2024-05-11T10:19:23.483Z"
   },
   {
    "duration": 213,
    "start_time": "2024-05-11T10:19:23.972Z"
   },
   {
    "duration": 184,
    "start_time": "2024-05-11T10:19:24.191Z"
   },
   {
    "duration": 196,
    "start_time": "2024-05-11T10:19:24.376Z"
   },
   {
    "duration": 197,
    "start_time": "2024-05-11T10:19:24.574Z"
   },
   {
    "duration": 196,
    "start_time": "2024-05-11T10:19:24.773Z"
   },
   {
    "duration": 202,
    "start_time": "2024-05-11T10:19:24.970Z"
   },
   {
    "duration": 174,
    "start_time": "2024-05-11T10:19:25.174Z"
   },
   {
    "duration": 203,
    "start_time": "2024-05-11T10:19:25.349Z"
   },
   {
    "duration": 78,
    "start_time": "2024-05-11T10:19:25.553Z"
   },
   {
    "duration": 0,
    "start_time": "2024-05-11T10:19:25.632Z"
   },
   {
    "duration": 0,
    "start_time": "2024-05-11T10:19:25.633Z"
   },
   {
    "duration": 0,
    "start_time": "2024-05-11T10:19:25.634Z"
   },
   {
    "duration": 0,
    "start_time": "2024-05-11T10:19:25.635Z"
   },
   {
    "duration": 0,
    "start_time": "2024-05-11T10:19:25.636Z"
   },
   {
    "duration": 0,
    "start_time": "2024-05-11T10:19:25.638Z"
   },
   {
    "duration": 0,
    "start_time": "2024-05-11T10:19:25.639Z"
   },
   {
    "duration": 0,
    "start_time": "2024-05-11T10:19:25.640Z"
   },
   {
    "duration": 0,
    "start_time": "2024-05-11T10:19:25.641Z"
   },
   {
    "duration": 0,
    "start_time": "2024-05-11T10:19:25.642Z"
   },
   {
    "duration": 0,
    "start_time": "2024-05-11T10:19:25.643Z"
   },
   {
    "duration": 205,
    "start_time": "2024-05-11T10:20:00.588Z"
   },
   {
    "duration": 2621,
    "start_time": "2024-05-11T10:20:10.663Z"
   },
   {
    "duration": 12,
    "start_time": "2024-05-11T10:20:13.286Z"
   },
   {
    "duration": 26,
    "start_time": "2024-05-11T10:20:13.300Z"
   },
   {
    "duration": 34,
    "start_time": "2024-05-11T10:20:13.328Z"
   },
   {
    "duration": 136,
    "start_time": "2024-05-11T10:20:13.364Z"
   },
   {
    "duration": 651,
    "start_time": "2024-05-11T10:20:13.502Z"
   },
   {
    "duration": 194,
    "start_time": "2024-05-11T10:20:14.155Z"
   },
   {
    "duration": 185,
    "start_time": "2024-05-11T10:20:14.351Z"
   },
   {
    "duration": 201,
    "start_time": "2024-05-11T10:20:14.538Z"
   },
   {
    "duration": 212,
    "start_time": "2024-05-11T10:20:14.742Z"
   },
   {
    "duration": 204,
    "start_time": "2024-05-11T10:20:14.956Z"
   },
   {
    "duration": 188,
    "start_time": "2024-05-11T10:20:15.161Z"
   },
   {
    "duration": 179,
    "start_time": "2024-05-11T10:20:15.350Z"
   },
   {
    "duration": 201,
    "start_time": "2024-05-11T10:20:15.530Z"
   },
   {
    "duration": 211,
    "start_time": "2024-05-11T10:20:15.732Z"
   },
   {
    "duration": 208,
    "start_time": "2024-05-11T10:20:15.945Z"
   },
   {
    "duration": 636,
    "start_time": "2024-05-11T10:20:16.155Z"
   },
   {
    "duration": 187,
    "start_time": "2024-05-11T10:20:16.793Z"
   },
   {
    "duration": 185,
    "start_time": "2024-05-11T10:20:16.981Z"
   },
   {
    "duration": 184,
    "start_time": "2024-05-11T10:20:17.167Z"
   },
   {
    "duration": 179,
    "start_time": "2024-05-11T10:20:17.353Z"
   },
   {
    "duration": 158,
    "start_time": "2024-05-11T10:20:17.533Z"
   },
   {
    "duration": 488,
    "start_time": "2024-05-11T10:20:17.693Z"
   },
   {
    "duration": 38,
    "start_time": "2024-05-11T10:20:18.183Z"
   },
   {
    "duration": 701,
    "start_time": "2024-05-11T10:20:18.223Z"
   },
   {
    "duration": 554,
    "start_time": "2024-05-11T10:21:33.788Z"
   },
   {
    "duration": 206,
    "start_time": "2024-05-11T10:22:12.885Z"
   },
   {
    "duration": 195,
    "start_time": "2024-05-11T10:22:24.036Z"
   },
   {
    "duration": 215,
    "start_time": "2024-05-11T10:22:31.099Z"
   },
   {
    "duration": 2446,
    "start_time": "2024-05-11T10:22:37.833Z"
   },
   {
    "duration": 13,
    "start_time": "2024-05-11T10:22:40.281Z"
   },
   {
    "duration": 11,
    "start_time": "2024-05-11T10:22:40.296Z"
   },
   {
    "duration": 32,
    "start_time": "2024-05-11T10:22:40.309Z"
   },
   {
    "duration": 139,
    "start_time": "2024-05-11T10:22:40.343Z"
   },
   {
    "duration": 483,
    "start_time": "2024-05-11T10:22:40.483Z"
   },
   {
    "duration": 188,
    "start_time": "2024-05-11T10:22:40.967Z"
   },
   {
    "duration": 190,
    "start_time": "2024-05-11T10:22:41.157Z"
   },
   {
    "duration": 189,
    "start_time": "2024-05-11T10:22:41.349Z"
   },
   {
    "duration": 208,
    "start_time": "2024-05-11T10:22:41.541Z"
   },
   {
    "duration": 446,
    "start_time": "2024-05-11T10:22:41.751Z"
   },
   {
    "duration": 195,
    "start_time": "2024-05-11T10:22:42.199Z"
   },
   {
    "duration": 185,
    "start_time": "2024-05-11T10:22:42.396Z"
   },
   {
    "duration": 196,
    "start_time": "2024-05-11T10:22:42.583Z"
   },
   {
    "duration": 213,
    "start_time": "2024-05-11T10:22:42.781Z"
   },
   {
    "duration": 192,
    "start_time": "2024-05-11T10:22:42.995Z"
   },
   {
    "duration": 447,
    "start_time": "2024-05-11T10:22:43.191Z"
   },
   {
    "duration": 188,
    "start_time": "2024-05-11T10:22:43.640Z"
   },
   {
    "duration": 178,
    "start_time": "2024-05-11T10:22:43.829Z"
   },
   {
    "duration": 184,
    "start_time": "2024-05-11T10:22:44.009Z"
   },
   {
    "duration": 168,
    "start_time": "2024-05-11T10:22:44.195Z"
   },
   {
    "duration": 150,
    "start_time": "2024-05-11T10:22:44.364Z"
   },
   {
    "duration": 654,
    "start_time": "2024-05-11T10:22:44.516Z"
   },
   {
    "duration": 45,
    "start_time": "2024-05-11T10:22:45.172Z"
   },
   {
    "duration": 91,
    "start_time": "2024-05-11T10:22:45.219Z"
   },
   {
    "duration": 587,
    "start_time": "2024-05-11T10:23:00.143Z"
   },
   {
    "duration": 2185,
    "start_time": "2024-05-11T10:23:05.034Z"
   },
   {
    "duration": 9,
    "start_time": "2024-05-11T10:23:07.221Z"
   },
   {
    "duration": 24,
    "start_time": "2024-05-11T10:23:07.231Z"
   },
   {
    "duration": 217,
    "start_time": "2024-05-11T10:23:07.257Z"
   },
   {
    "duration": 117,
    "start_time": "2024-05-11T10:23:07.476Z"
   },
   {
    "duration": 523,
    "start_time": "2024-05-11T10:23:07.595Z"
   },
   {
    "duration": 204,
    "start_time": "2024-05-11T10:23:08.120Z"
   },
   {
    "duration": 191,
    "start_time": "2024-05-11T10:23:08.326Z"
   },
   {
    "duration": 198,
    "start_time": "2024-05-11T10:23:08.519Z"
   },
   {
    "duration": 216,
    "start_time": "2024-05-11T10:23:08.719Z"
   },
   {
    "duration": 194,
    "start_time": "2024-05-11T10:23:08.937Z"
   },
   {
    "duration": 217,
    "start_time": "2024-05-11T10:23:09.133Z"
   },
   {
    "duration": 183,
    "start_time": "2024-05-11T10:23:09.352Z"
   },
   {
    "duration": 219,
    "start_time": "2024-05-11T10:23:09.536Z"
   },
   {
    "duration": 243,
    "start_time": "2024-05-11T10:23:09.756Z"
   },
   {
    "duration": 430,
    "start_time": "2024-05-11T10:23:10.000Z"
   },
   {
    "duration": 469,
    "start_time": "2024-05-11T10:23:10.432Z"
   },
   {
    "duration": 229,
    "start_time": "2024-05-11T10:23:10.903Z"
   },
   {
    "duration": 217,
    "start_time": "2024-05-11T10:23:11.134Z"
   },
   {
    "duration": 185,
    "start_time": "2024-05-11T10:23:11.353Z"
   },
   {
    "duration": 184,
    "start_time": "2024-05-11T10:23:11.541Z"
   },
   {
    "duration": 158,
    "start_time": "2024-05-11T10:23:11.727Z"
   },
   {
    "duration": 515,
    "start_time": "2024-05-11T10:23:11.892Z"
   },
   {
    "duration": 43,
    "start_time": "2024-05-11T10:23:12.409Z"
   },
   {
    "duration": 769,
    "start_time": "2024-05-11T10:23:12.454Z"
   },
   {
    "duration": 218,
    "start_time": "2024-05-11T10:23:24.442Z"
   },
   {
    "duration": 225,
    "start_time": "2024-05-11T10:23:37.498Z"
   },
   {
    "duration": 2377,
    "start_time": "2024-05-11T10:23:41.248Z"
   },
   {
    "duration": 11,
    "start_time": "2024-05-11T10:23:43.627Z"
   },
   {
    "duration": 13,
    "start_time": "2024-05-11T10:23:43.640Z"
   },
   {
    "duration": 55,
    "start_time": "2024-05-11T10:23:43.655Z"
   },
   {
    "duration": 115,
    "start_time": "2024-05-11T10:23:43.712Z"
   },
   {
    "duration": 487,
    "start_time": "2024-05-11T10:23:43.829Z"
   },
   {
    "duration": 192,
    "start_time": "2024-05-11T10:23:44.318Z"
   },
   {
    "duration": 191,
    "start_time": "2024-05-11T10:23:44.511Z"
   },
   {
    "duration": 197,
    "start_time": "2024-05-11T10:23:44.703Z"
   },
   {
    "duration": 439,
    "start_time": "2024-05-11T10:23:44.902Z"
   },
   {
    "duration": 205,
    "start_time": "2024-05-11T10:23:45.343Z"
   },
   {
    "duration": 199,
    "start_time": "2024-05-11T10:23:45.550Z"
   },
   {
    "duration": 188,
    "start_time": "2024-05-11T10:23:45.751Z"
   },
   {
    "duration": 204,
    "start_time": "2024-05-11T10:23:45.941Z"
   },
   {
    "duration": 224,
    "start_time": "2024-05-11T10:23:46.147Z"
   },
   {
    "duration": 200,
    "start_time": "2024-05-11T10:23:46.373Z"
   },
   {
    "duration": 449,
    "start_time": "2024-05-11T10:23:46.575Z"
   },
   {
    "duration": 204,
    "start_time": "2024-05-11T10:23:47.025Z"
   },
   {
    "duration": 224,
    "start_time": "2024-05-11T10:23:47.231Z"
   },
   {
    "duration": 200,
    "start_time": "2024-05-11T10:23:47.458Z"
   },
   {
    "duration": 187,
    "start_time": "2024-05-11T10:23:47.660Z"
   },
   {
    "duration": 367,
    "start_time": "2024-05-11T10:23:47.848Z"
   },
   {
    "duration": 469,
    "start_time": "2024-05-11T10:23:48.217Z"
   },
   {
    "duration": 44,
    "start_time": "2024-05-11T10:23:48.688Z"
   },
   {
    "duration": 29,
    "start_time": "2024-05-11T10:23:48.734Z"
   },
   {
    "duration": 23,
    "start_time": "2024-05-11T10:23:53.755Z"
   },
   {
    "duration": 586,
    "start_time": "2024-05-11T10:24:06.871Z"
   },
   {
    "duration": 196,
    "start_time": "2024-05-11T10:24:11.560Z"
   },
   {
    "duration": 463,
    "start_time": "2024-05-11T10:32:26.300Z"
   },
   {
    "duration": 484,
    "start_time": "2024-05-11T10:32:41.153Z"
   },
   {
    "duration": 459,
    "start_time": "2024-05-11T10:34:02.175Z"
   },
   {
    "duration": 503,
    "start_time": "2024-05-11T10:34:22.195Z"
   },
   {
    "duration": 389,
    "start_time": "2024-05-11T10:35:10.141Z"
   },
   {
    "duration": 408,
    "start_time": "2024-05-11T10:36:44.023Z"
   },
   {
    "duration": 2400,
    "start_time": "2024-05-11T10:38:55.074Z"
   },
   {
    "duration": 15,
    "start_time": "2024-05-11T10:38:57.476Z"
   },
   {
    "duration": 11,
    "start_time": "2024-05-11T10:38:57.493Z"
   },
   {
    "duration": 38,
    "start_time": "2024-05-11T10:38:57.507Z"
   },
   {
    "duration": 159,
    "start_time": "2024-05-11T10:38:57.546Z"
   },
   {
    "duration": 491,
    "start_time": "2024-05-11T10:38:57.707Z"
   },
   {
    "duration": 188,
    "start_time": "2024-05-11T10:38:58.200Z"
   },
   {
    "duration": 181,
    "start_time": "2024-05-11T10:38:58.391Z"
   },
   {
    "duration": 195,
    "start_time": "2024-05-11T10:38:58.574Z"
   },
   {
    "duration": 210,
    "start_time": "2024-05-11T10:38:58.772Z"
   },
   {
    "duration": 201,
    "start_time": "2024-05-11T10:38:58.983Z"
   },
   {
    "duration": 208,
    "start_time": "2024-05-11T10:38:59.186Z"
   },
   {
    "duration": 177,
    "start_time": "2024-05-11T10:38:59.396Z"
   },
   {
    "duration": 209,
    "start_time": "2024-05-11T10:38:59.574Z"
   },
   {
    "duration": 519,
    "start_time": "2024-05-11T10:38:59.791Z"
   },
   {
    "duration": 231,
    "start_time": "2024-05-11T10:39:00.311Z"
   },
   {
    "duration": 420,
    "start_time": "2024-05-11T10:39:00.544Z"
   },
   {
    "duration": 215,
    "start_time": "2024-05-11T10:39:00.966Z"
   },
   {
    "duration": 213,
    "start_time": "2024-05-11T10:39:01.184Z"
   },
   {
    "duration": 192,
    "start_time": "2024-05-11T10:39:01.399Z"
   },
   {
    "duration": 188,
    "start_time": "2024-05-11T10:39:01.593Z"
   },
   {
    "duration": 171,
    "start_time": "2024-05-11T10:39:01.783Z"
   },
   {
    "duration": 502,
    "start_time": "2024-05-11T10:39:01.956Z"
   },
   {
    "duration": 50,
    "start_time": "2024-05-11T10:39:02.459Z"
   },
   {
    "duration": 727,
    "start_time": "2024-05-11T10:39:02.510Z"
   },
   {
    "duration": 210,
    "start_time": "2024-05-11T10:39:09.635Z"
   },
   {
    "duration": 3249,
    "start_time": "2024-05-11T17:37:17.083Z"
   },
   {
    "duration": 11,
    "start_time": "2024-05-11T17:37:20.335Z"
   },
   {
    "duration": 26,
    "start_time": "2024-05-11T17:37:20.348Z"
   },
   {
    "duration": 37,
    "start_time": "2024-05-11T17:37:20.377Z"
   },
   {
    "duration": 132,
    "start_time": "2024-05-11T17:37:20.415Z"
   },
   {
    "duration": 525,
    "start_time": "2024-05-11T17:37:20.549Z"
   },
   {
    "duration": 204,
    "start_time": "2024-05-11T17:37:21.076Z"
   },
   {
    "duration": 205,
    "start_time": "2024-05-11T17:37:21.281Z"
   },
   {
    "duration": 304,
    "start_time": "2024-05-11T17:37:21.488Z"
   },
   {
    "duration": 239,
    "start_time": "2024-05-11T17:37:21.795Z"
   },
   {
    "duration": 210,
    "start_time": "2024-05-11T17:37:22.036Z"
   },
   {
    "duration": 203,
    "start_time": "2024-05-11T17:37:22.247Z"
   },
   {
    "duration": 210,
    "start_time": "2024-05-11T17:37:22.451Z"
   },
   {
    "duration": 215,
    "start_time": "2024-05-11T17:37:22.663Z"
   },
   {
    "duration": 231,
    "start_time": "2024-05-11T17:37:22.882Z"
   },
   {
    "duration": 246,
    "start_time": "2024-05-11T17:37:23.116Z"
   },
   {
    "duration": 475,
    "start_time": "2024-05-11T17:37:23.364Z"
   },
   {
    "duration": 204,
    "start_time": "2024-05-11T17:37:23.840Z"
   },
   {
    "duration": 194,
    "start_time": "2024-05-11T17:37:24.046Z"
   },
   {
    "duration": 183,
    "start_time": "2024-05-11T17:37:24.241Z"
   },
   {
    "duration": 185,
    "start_time": "2024-05-11T17:37:24.426Z"
   },
   {
    "duration": 199,
    "start_time": "2024-05-11T17:37:24.613Z"
   },
   {
    "duration": 489,
    "start_time": "2024-05-11T17:37:24.815Z"
   },
   {
    "duration": 31,
    "start_time": "2024-05-11T17:37:25.305Z"
   },
   {
    "duration": 415,
    "start_time": "2024-05-11T17:37:25.338Z"
   },
   {
    "duration": 46,
    "start_time": "2024-05-11T17:40:18.145Z"
   },
   {
    "duration": 6,
    "start_time": "2024-05-11T17:40:51.381Z"
   },
   {
    "duration": 19,
    "start_time": "2024-05-11T17:41:42.428Z"
   },
   {
    "duration": 31,
    "start_time": "2024-05-11T17:45:56.429Z"
   },
   {
    "duration": 31,
    "start_time": "2024-05-11T17:46:39.113Z"
   },
   {
    "duration": 209,
    "start_time": "2024-05-11T17:47:09.511Z"
   },
   {
    "duration": 276,
    "start_time": "2024-05-11T17:47:57.860Z"
   },
   {
    "duration": 207,
    "start_time": "2024-05-11T17:49:13.676Z"
   },
   {
    "duration": 53,
    "start_time": "2024-05-11T22:21:30.654Z"
   },
   {
    "duration": 3796,
    "start_time": "2024-05-11T22:21:34.069Z"
   },
   {
    "duration": 14,
    "start_time": "2024-05-11T22:21:37.868Z"
   },
   {
    "duration": 26,
    "start_time": "2024-05-11T22:21:37.885Z"
   },
   {
    "duration": 43,
    "start_time": "2024-05-11T22:21:37.913Z"
   },
   {
    "duration": 52,
    "start_time": "2024-05-11T22:21:37.959Z"
   },
   {
    "duration": 0,
    "start_time": "2024-05-11T22:21:38.013Z"
   },
   {
    "duration": 0,
    "start_time": "2024-05-11T22:21:38.014Z"
   },
   {
    "duration": 0,
    "start_time": "2024-05-11T22:21:38.016Z"
   },
   {
    "duration": 0,
    "start_time": "2024-05-11T22:21:38.017Z"
   },
   {
    "duration": 0,
    "start_time": "2024-05-11T22:21:38.019Z"
   },
   {
    "duration": 0,
    "start_time": "2024-05-11T22:21:38.020Z"
   },
   {
    "duration": 0,
    "start_time": "2024-05-11T22:21:38.022Z"
   },
   {
    "duration": 0,
    "start_time": "2024-05-11T22:21:38.023Z"
   },
   {
    "duration": 0,
    "start_time": "2024-05-11T22:21:38.024Z"
   },
   {
    "duration": 0,
    "start_time": "2024-05-11T22:21:38.026Z"
   },
   {
    "duration": 0,
    "start_time": "2024-05-11T22:21:38.028Z"
   },
   {
    "duration": 0,
    "start_time": "2024-05-11T22:21:38.029Z"
   },
   {
    "duration": 0,
    "start_time": "2024-05-11T22:21:38.031Z"
   },
   {
    "duration": 0,
    "start_time": "2024-05-11T22:21:38.032Z"
   },
   {
    "duration": 0,
    "start_time": "2024-05-11T22:21:38.033Z"
   },
   {
    "duration": 0,
    "start_time": "2024-05-11T22:21:38.072Z"
   },
   {
    "duration": 0,
    "start_time": "2024-05-11T22:21:38.074Z"
   },
   {
    "duration": 0,
    "start_time": "2024-05-11T22:21:38.076Z"
   },
   {
    "duration": 0,
    "start_time": "2024-05-11T22:21:38.078Z"
   },
   {
    "duration": 0,
    "start_time": "2024-05-11T22:21:38.079Z"
   },
   {
    "duration": 10,
    "start_time": "2024-05-11T22:22:16.081Z"
   },
   {
    "duration": 160,
    "start_time": "2024-05-11T22:22:53.873Z"
   },
   {
    "duration": 51,
    "start_time": "2024-05-11T23:42:19.269Z"
   },
   {
    "duration": 2786,
    "start_time": "2024-05-11T23:42:23.670Z"
   },
   {
    "duration": 12,
    "start_time": "2024-05-11T23:42:26.458Z"
   },
   {
    "duration": 25,
    "start_time": "2024-05-11T23:42:26.472Z"
   },
   {
    "duration": 39,
    "start_time": "2024-05-11T23:42:26.499Z"
   },
   {
    "duration": 104,
    "start_time": "2024-05-11T23:42:26.540Z"
   },
   {
    "duration": 430,
    "start_time": "2024-05-11T23:42:26.645Z"
   },
   {
    "duration": 161,
    "start_time": "2024-05-11T23:42:27.076Z"
   },
   {
    "duration": 148,
    "start_time": "2024-05-11T23:42:27.238Z"
   },
   {
    "duration": 235,
    "start_time": "2024-05-11T23:42:27.387Z"
   },
   {
    "duration": 183,
    "start_time": "2024-05-11T23:42:27.624Z"
   },
   {
    "duration": 169,
    "start_time": "2024-05-11T23:42:27.808Z"
   },
   {
    "duration": 154,
    "start_time": "2024-05-11T23:42:27.979Z"
   },
   {
    "duration": 141,
    "start_time": "2024-05-11T23:42:28.134Z"
   },
   {
    "duration": 151,
    "start_time": "2024-05-11T23:42:28.277Z"
   },
   {
    "duration": 165,
    "start_time": "2024-05-11T23:42:28.429Z"
   },
   {
    "duration": 163,
    "start_time": "2024-05-11T23:42:28.595Z"
   },
   {
    "duration": 358,
    "start_time": "2024-05-11T23:42:28.759Z"
   },
   {
    "duration": 213,
    "start_time": "2024-05-11T23:42:29.121Z"
   },
   {
    "duration": 149,
    "start_time": "2024-05-11T23:42:29.336Z"
   },
   {
    "duration": 143,
    "start_time": "2024-05-11T23:42:29.486Z"
   },
   {
    "duration": 158,
    "start_time": "2024-05-11T23:42:29.631Z"
   },
   {
    "duration": 130,
    "start_time": "2024-05-11T23:42:29.791Z"
   },
   {
    "duration": 405,
    "start_time": "2024-05-11T23:42:29.922Z"
   },
   {
    "duration": 38,
    "start_time": "2024-05-11T23:42:30.329Z"
   },
   {
    "duration": 422,
    "start_time": "2024-05-11T23:42:30.369Z"
   },
   {
    "duration": 10,
    "start_time": "2024-05-11T23:43:55.352Z"
   },
   {
    "duration": 7,
    "start_time": "2024-05-11T23:44:19.491Z"
   },
   {
    "duration": 661,
    "start_time": "2024-05-11T23:44:52.477Z"
   },
   {
    "duration": 10,
    "start_time": "2024-05-11T23:45:00.922Z"
   },
   {
    "duration": 9,
    "start_time": "2024-05-11T23:45:24.331Z"
   },
   {
    "duration": 1884,
    "start_time": "2024-05-11T23:45:33.680Z"
   },
   {
    "duration": 10,
    "start_time": "2024-05-11T23:45:35.565Z"
   },
   {
    "duration": 20,
    "start_time": "2024-05-11T23:45:35.576Z"
   },
   {
    "duration": 34,
    "start_time": "2024-05-11T23:45:35.603Z"
   },
   {
    "duration": 115,
    "start_time": "2024-05-11T23:45:35.638Z"
   },
   {
    "duration": 529,
    "start_time": "2024-05-11T23:45:35.754Z"
   },
   {
    "duration": 155,
    "start_time": "2024-05-11T23:45:36.285Z"
   },
   {
    "duration": 153,
    "start_time": "2024-05-11T23:45:36.441Z"
   },
   {
    "duration": 164,
    "start_time": "2024-05-11T23:45:36.595Z"
   },
   {
    "duration": 176,
    "start_time": "2024-05-11T23:45:36.761Z"
   },
   {
    "duration": 193,
    "start_time": "2024-05-11T23:45:36.938Z"
   },
   {
    "duration": 179,
    "start_time": "2024-05-11T23:45:37.133Z"
   },
   {
    "duration": 150,
    "start_time": "2024-05-11T23:45:37.320Z"
   },
   {
    "duration": 229,
    "start_time": "2024-05-11T23:45:37.471Z"
   },
   {
    "duration": 158,
    "start_time": "2024-05-11T23:45:37.712Z"
   },
   {
    "duration": 164,
    "start_time": "2024-05-11T23:45:37.871Z"
   },
   {
    "duration": 310,
    "start_time": "2024-05-11T23:45:38.036Z"
   },
   {
    "duration": 179,
    "start_time": "2024-05-11T23:45:38.348Z"
   },
   {
    "duration": 151,
    "start_time": "2024-05-11T23:45:38.530Z"
   },
   {
    "duration": 155,
    "start_time": "2024-05-11T23:45:38.682Z"
   },
   {
    "duration": 153,
    "start_time": "2024-05-11T23:45:38.839Z"
   },
   {
    "duration": 138,
    "start_time": "2024-05-11T23:45:38.994Z"
   },
   {
    "duration": 462,
    "start_time": "2024-05-11T23:45:39.133Z"
   },
   {
    "duration": 39,
    "start_time": "2024-05-11T23:45:39.597Z"
   },
   {
    "duration": 433,
    "start_time": "2024-05-11T23:45:39.637Z"
   },
   {
    "duration": 9,
    "start_time": "2024-05-11T23:46:41.091Z"
   },
   {
    "duration": 9,
    "start_time": "2024-05-11T23:46:50.678Z"
   },
   {
    "duration": 8,
    "start_time": "2024-05-11T23:48:48.787Z"
   },
   {
    "duration": 8,
    "start_time": "2024-05-11T23:49:06.563Z"
   },
   {
    "duration": 10,
    "start_time": "2024-05-11T23:54:13.190Z"
   },
   {
    "duration": 8,
    "start_time": "2024-05-11T23:54:42.938Z"
   },
   {
    "duration": 17,
    "start_time": "2024-05-11T23:54:51.399Z"
   },
   {
    "duration": 9,
    "start_time": "2024-05-11T23:55:16.134Z"
   },
   {
    "duration": 7,
    "start_time": "2024-05-11T23:57:10.863Z"
   },
   {
    "duration": 11,
    "start_time": "2024-05-11T23:57:23.984Z"
   },
   {
    "duration": 10,
    "start_time": "2024-05-12T00:04:22.929Z"
   },
   {
    "duration": 9,
    "start_time": "2024-05-12T00:05:29.832Z"
   },
   {
    "duration": 18,
    "start_time": "2024-05-12T00:05:35.098Z"
   },
   {
    "duration": 1887,
    "start_time": "2024-05-12T00:05:38.576Z"
   },
   {
    "duration": 14,
    "start_time": "2024-05-12T00:05:40.464Z"
   },
   {
    "duration": 958,
    "start_time": "2024-05-12T00:30:18.371Z"
   },
   {
    "duration": 1973,
    "start_time": "2024-05-12T00:30:30.000Z"
   },
   {
    "duration": 35,
    "start_time": "2024-05-12T00:30:31.975Z"
   },
   {
    "duration": 14,
    "start_time": "2024-05-12T00:30:32.012Z"
   },
   {
    "duration": 142,
    "start_time": "2024-05-12T00:30:32.027Z"
   },
   {
    "duration": 108,
    "start_time": "2024-05-12T00:30:32.170Z"
   },
   {
    "duration": 436,
    "start_time": "2024-05-12T00:30:32.279Z"
   },
   {
    "duration": 163,
    "start_time": "2024-05-12T00:30:32.716Z"
   },
   {
    "duration": 154,
    "start_time": "2024-05-12T00:30:32.880Z"
   },
   {
    "duration": 150,
    "start_time": "2024-05-12T00:30:33.035Z"
   },
   {
    "duration": 181,
    "start_time": "2024-05-12T00:30:33.187Z"
   },
   {
    "duration": 165,
    "start_time": "2024-05-12T00:30:33.370Z"
   },
   {
    "duration": 234,
    "start_time": "2024-05-12T00:30:33.537Z"
   },
   {
    "duration": 159,
    "start_time": "2024-05-12T00:30:33.773Z"
   },
   {
    "duration": 153,
    "start_time": "2024-05-12T00:30:33.933Z"
   },
   {
    "duration": 172,
    "start_time": "2024-05-12T00:30:34.088Z"
   },
   {
    "duration": 169,
    "start_time": "2024-05-12T00:30:34.261Z"
   },
   {
    "duration": 306,
    "start_time": "2024-05-12T00:30:34.432Z"
   },
   {
    "duration": 172,
    "start_time": "2024-05-12T00:30:34.739Z"
   },
   {
    "duration": 168,
    "start_time": "2024-05-12T00:30:34.916Z"
   },
   {
    "duration": 169,
    "start_time": "2024-05-12T00:30:35.085Z"
   },
   {
    "duration": 241,
    "start_time": "2024-05-12T00:30:35.256Z"
   },
   {
    "duration": 139,
    "start_time": "2024-05-12T00:30:35.501Z"
   },
   {
    "duration": 391,
    "start_time": "2024-05-12T00:30:35.641Z"
   },
   {
    "duration": 27,
    "start_time": "2024-05-12T00:30:36.033Z"
   },
   {
    "duration": 459,
    "start_time": "2024-05-12T00:30:36.062Z"
   },
   {
    "duration": 180,
    "start_time": "2024-05-12T00:31:22.073Z"
   },
   {
    "duration": 226,
    "start_time": "2024-05-12T00:34:42.201Z"
   },
   {
    "duration": 187,
    "start_time": "2024-05-12T00:36:43.688Z"
   },
   {
    "duration": 168,
    "start_time": "2024-05-12T00:37:27.662Z"
   },
   {
    "duration": 194,
    "start_time": "2024-05-12T00:38:27.077Z"
   },
   {
    "duration": 173,
    "start_time": "2024-05-12T00:39:04.549Z"
   },
   {
    "duration": 260,
    "start_time": "2024-05-12T00:40:10.153Z"
   },
   {
    "duration": 1851,
    "start_time": "2024-05-12T00:40:15.912Z"
   },
   {
    "duration": 15,
    "start_time": "2024-05-12T00:40:17.765Z"
   },
   {
    "duration": 38,
    "start_time": "2024-05-12T00:40:17.781Z"
   },
   {
    "duration": 139,
    "start_time": "2024-05-12T00:40:17.821Z"
   },
   {
    "duration": 106,
    "start_time": "2024-05-12T00:40:17.962Z"
   },
   {
    "duration": 423,
    "start_time": "2024-05-12T00:40:18.069Z"
   },
   {
    "duration": 158,
    "start_time": "2024-05-12T00:40:18.494Z"
   },
   {
    "duration": 185,
    "start_time": "2024-05-12T00:40:18.653Z"
   },
   {
    "duration": 158,
    "start_time": "2024-05-12T00:40:18.839Z"
   },
   {
    "duration": 169,
    "start_time": "2024-05-12T00:40:18.998Z"
   },
   {
    "duration": 174,
    "start_time": "2024-05-12T00:40:19.169Z"
   },
   {
    "duration": 151,
    "start_time": "2024-05-12T00:40:19.345Z"
   },
   {
    "duration": 219,
    "start_time": "2024-05-12T00:40:19.498Z"
   },
   {
    "duration": 159,
    "start_time": "2024-05-12T00:40:19.720Z"
   },
   {
    "duration": 175,
    "start_time": "2024-05-12T00:40:19.880Z"
   },
   {
    "duration": 174,
    "start_time": "2024-05-12T00:40:20.056Z"
   },
   {
    "duration": 328,
    "start_time": "2024-05-12T00:40:20.232Z"
   },
   {
    "duration": 167,
    "start_time": "2024-05-12T00:40:20.561Z"
   },
   {
    "duration": 160,
    "start_time": "2024-05-12T00:40:20.729Z"
   },
   {
    "duration": 152,
    "start_time": "2024-05-12T00:40:20.890Z"
   },
   {
    "duration": 148,
    "start_time": "2024-05-12T00:40:21.043Z"
   },
   {
    "duration": 228,
    "start_time": "2024-05-12T00:40:21.192Z"
   },
   {
    "duration": 407,
    "start_time": "2024-05-12T00:40:21.421Z"
   },
   {
    "duration": 28,
    "start_time": "2024-05-12T00:40:21.830Z"
   },
   {
    "duration": 53,
    "start_time": "2024-05-12T00:40:21.860Z"
   },
   {
    "duration": 169,
    "start_time": "2024-05-12T00:40:40.729Z"
   },
   {
    "duration": 1896,
    "start_time": "2024-05-12T00:40:45.021Z"
   },
   {
    "duration": 14,
    "start_time": "2024-05-12T00:40:46.919Z"
   },
   {
    "duration": 15,
    "start_time": "2024-05-12T00:40:46.934Z"
   },
   {
    "duration": 27,
    "start_time": "2024-05-12T00:40:46.950Z"
   },
   {
    "duration": 110,
    "start_time": "2024-05-12T00:40:46.979Z"
   },
   {
    "duration": 430,
    "start_time": "2024-05-12T00:40:47.091Z"
   },
   {
    "duration": 143,
    "start_time": "2024-05-12T00:40:47.524Z"
   },
   {
    "duration": 158,
    "start_time": "2024-05-12T00:40:47.668Z"
   },
   {
    "duration": 170,
    "start_time": "2024-05-12T00:40:47.828Z"
   },
   {
    "duration": 166,
    "start_time": "2024-05-12T00:40:48.007Z"
   },
   {
    "duration": 268,
    "start_time": "2024-05-12T00:40:48.175Z"
   },
   {
    "duration": 147,
    "start_time": "2024-05-12T00:40:48.444Z"
   },
   {
    "duration": 158,
    "start_time": "2024-05-12T00:40:48.592Z"
   },
   {
    "duration": 151,
    "start_time": "2024-05-12T00:40:48.753Z"
   },
   {
    "duration": 179,
    "start_time": "2024-05-12T00:40:48.905Z"
   },
   {
    "duration": 178,
    "start_time": "2024-05-12T00:40:49.086Z"
   },
   {
    "duration": 308,
    "start_time": "2024-05-12T00:40:49.265Z"
   },
   {
    "duration": 161,
    "start_time": "2024-05-12T00:40:49.574Z"
   },
   {
    "duration": 159,
    "start_time": "2024-05-12T00:40:49.736Z"
   },
   {
    "duration": 238,
    "start_time": "2024-05-12T00:40:49.896Z"
   },
   {
    "duration": 150,
    "start_time": "2024-05-12T00:40:50.136Z"
   },
   {
    "duration": 166,
    "start_time": "2024-05-12T00:40:50.288Z"
   },
   {
    "duration": 406,
    "start_time": "2024-05-12T00:40:50.455Z"
   },
   {
    "duration": 26,
    "start_time": "2024-05-12T00:40:50.862Z"
   },
   {
    "duration": 189,
    "start_time": "2024-05-12T00:40:50.890Z"
   },
   {
    "duration": 1952,
    "start_time": "2024-05-12T00:47:42.985Z"
   },
   {
    "duration": 14,
    "start_time": "2024-05-12T00:47:44.939Z"
   },
   {
    "duration": 8,
    "start_time": "2024-05-12T00:47:44.954Z"
   },
   {
    "duration": 56,
    "start_time": "2024-05-12T00:47:44.964Z"
   },
   {
    "duration": 133,
    "start_time": "2024-05-12T00:47:45.021Z"
   },
   {
    "duration": 458,
    "start_time": "2024-05-12T00:47:45.156Z"
   },
   {
    "duration": 141,
    "start_time": "2024-05-12T00:47:45.615Z"
   },
   {
    "duration": 163,
    "start_time": "2024-05-12T00:47:45.758Z"
   },
   {
    "duration": 250,
    "start_time": "2024-05-12T00:47:45.923Z"
   },
   {
    "duration": 179,
    "start_time": "2024-05-12T00:47:46.175Z"
   },
   {
    "duration": 167,
    "start_time": "2024-05-12T00:47:46.355Z"
   },
   {
    "duration": 162,
    "start_time": "2024-05-12T00:47:46.524Z"
   },
   {
    "duration": 143,
    "start_time": "2024-05-12T00:47:46.687Z"
   },
   {
    "duration": 165,
    "start_time": "2024-05-12T00:47:46.831Z"
   },
   {
    "duration": 177,
    "start_time": "2024-05-12T00:47:46.997Z"
   },
   {
    "duration": 178,
    "start_time": "2024-05-12T00:47:47.175Z"
   },
   {
    "duration": 391,
    "start_time": "2024-05-12T00:47:47.354Z"
   },
   {
    "duration": 207,
    "start_time": "2024-05-12T00:47:47.746Z"
   },
   {
    "duration": 172,
    "start_time": "2024-05-12T00:47:47.954Z"
   },
   {
    "duration": 155,
    "start_time": "2024-05-12T00:47:48.128Z"
   },
   {
    "duration": 149,
    "start_time": "2024-05-12T00:47:48.285Z"
   },
   {
    "duration": 127,
    "start_time": "2024-05-12T00:47:48.435Z"
   },
   {
    "duration": 394,
    "start_time": "2024-05-12T00:47:48.564Z"
   },
   {
    "duration": 27,
    "start_time": "2024-05-12T00:47:48.959Z"
   },
   {
    "duration": 192,
    "start_time": "2024-05-12T00:47:48.988Z"
   },
   {
    "duration": 3082,
    "start_time": "2024-05-12T21:36:30.979Z"
   },
   {
    "duration": 20,
    "start_time": "2024-05-12T21:36:34.063Z"
   },
   {
    "duration": 10,
    "start_time": "2024-05-12T21:36:34.085Z"
   },
   {
    "duration": 32,
    "start_time": "2024-05-12T21:36:34.097Z"
   },
   {
    "duration": 119,
    "start_time": "2024-05-12T21:36:34.130Z"
   },
   {
    "duration": 531,
    "start_time": "2024-05-12T21:36:34.260Z"
   },
   {
    "duration": 172,
    "start_time": "2024-05-12T21:36:34.793Z"
   },
   {
    "duration": 268,
    "start_time": "2024-05-12T21:36:34.967Z"
   },
   {
    "duration": 191,
    "start_time": "2024-05-12T21:36:35.236Z"
   },
   {
    "duration": 236,
    "start_time": "2024-05-12T21:36:35.431Z"
   },
   {
    "duration": 208,
    "start_time": "2024-05-12T21:36:35.669Z"
   },
   {
    "duration": 196,
    "start_time": "2024-05-12T21:36:35.879Z"
   },
   {
    "duration": 198,
    "start_time": "2024-05-12T21:36:36.078Z"
   },
   {
    "duration": 202,
    "start_time": "2024-05-12T21:36:36.278Z"
   },
   {
    "duration": 217,
    "start_time": "2024-05-12T21:36:36.481Z"
   },
   {
    "duration": 184,
    "start_time": "2024-05-12T21:36:36.700Z"
   },
   {
    "duration": 497,
    "start_time": "2024-05-12T21:36:36.886Z"
   },
   {
    "duration": 187,
    "start_time": "2024-05-12T21:36:37.385Z"
   },
   {
    "duration": 188,
    "start_time": "2024-05-12T21:36:37.574Z"
   },
   {
    "duration": 205,
    "start_time": "2024-05-12T21:36:37.764Z"
   },
   {
    "duration": 189,
    "start_time": "2024-05-12T21:36:37.971Z"
   },
   {
    "duration": 164,
    "start_time": "2024-05-12T21:36:38.162Z"
   },
   {
    "duration": 500,
    "start_time": "2024-05-12T21:36:38.328Z"
   },
   {
    "duration": 117,
    "start_time": "2024-05-12T21:36:38.831Z"
   },
   {
    "duration": 103,
    "start_time": "2024-05-12T21:36:38.961Z"
   },
   {
    "duration": 29,
    "start_time": "2024-05-12T21:37:35.894Z"
   },
   {
    "duration": 193,
    "start_time": "2024-05-12T21:37:45.229Z"
   },
   {
    "duration": 191,
    "start_time": "2024-05-12T21:38:31.048Z"
   },
   {
    "duration": 53,
    "start_time": "2024-05-12T22:59:42.024Z"
   },
   {
    "duration": 3425,
    "start_time": "2024-05-12T22:59:45.356Z"
   },
   {
    "duration": 28,
    "start_time": "2024-05-12T22:59:48.783Z"
   },
   {
    "duration": 12,
    "start_time": "2024-05-12T22:59:48.813Z"
   },
   {
    "duration": 36,
    "start_time": "2024-05-12T22:59:55.466Z"
   },
   {
    "duration": 141,
    "start_time": "2024-05-12T22:59:55.628Z"
   },
   {
    "duration": 534,
    "start_time": "2024-05-12T22:59:55.771Z"
   },
   {
    "duration": 198,
    "start_time": "2024-05-12T22:59:56.306Z"
   },
   {
    "duration": 186,
    "start_time": "2024-05-12T23:00:02.254Z"
   },
   {
    "duration": 306,
    "start_time": "2024-05-12T23:00:02.442Z"
   },
   {
    "duration": 236,
    "start_time": "2024-05-12T23:00:02.750Z"
   },
   {
    "duration": 232,
    "start_time": "2024-05-12T23:00:02.987Z"
   },
   {
    "duration": 212,
    "start_time": "2024-05-12T23:00:03.221Z"
   },
   {
    "duration": 189,
    "start_time": "2024-05-12T23:00:03.434Z"
   },
   {
    "duration": 208,
    "start_time": "2024-05-12T23:00:03.625Z"
   },
   {
    "duration": 233,
    "start_time": "2024-05-12T23:00:03.836Z"
   },
   {
    "duration": 213,
    "start_time": "2024-05-12T23:00:04.071Z"
   },
   {
    "duration": 514,
    "start_time": "2024-05-12T23:00:04.286Z"
   },
   {
    "duration": 207,
    "start_time": "2024-05-12T23:00:04.804Z"
   },
   {
    "duration": 207,
    "start_time": "2024-05-12T23:00:05.013Z"
   },
   {
    "duration": 189,
    "start_time": "2024-05-12T23:00:05.222Z"
   },
   {
    "duration": 190,
    "start_time": "2024-05-12T23:00:05.413Z"
   },
   {
    "duration": 164,
    "start_time": "2024-05-12T23:00:05.605Z"
   },
   {
    "duration": 480,
    "start_time": "2024-05-12T23:00:06.357Z"
   },
   {
    "duration": 32,
    "start_time": "2024-05-12T23:00:06.839Z"
   },
   {
    "duration": 220,
    "start_time": "2024-05-12T23:00:06.883Z"
   },
   {
    "duration": 113,
    "start_time": "2024-05-12T23:10:48.692Z"
   },
   {
    "duration": 118,
    "start_time": "2024-05-12T23:12:03.507Z"
   },
   {
    "duration": 2546,
    "start_time": "2024-05-12T23:12:17.904Z"
   },
   {
    "duration": 38,
    "start_time": "2024-05-12T23:12:20.451Z"
   },
   {
    "duration": 13,
    "start_time": "2024-05-12T23:12:20.493Z"
   },
   {
    "duration": 38,
    "start_time": "2024-05-12T23:12:20.507Z"
   },
   {
    "duration": 167,
    "start_time": "2024-05-12T23:12:20.548Z"
   },
   {
    "duration": 643,
    "start_time": "2024-05-12T23:12:20.717Z"
   },
   {
    "duration": 205,
    "start_time": "2024-05-12T23:12:21.362Z"
   },
   {
    "duration": 210,
    "start_time": "2024-05-12T23:12:21.569Z"
   },
   {
    "duration": 235,
    "start_time": "2024-05-12T23:12:21.782Z"
   },
   {
    "duration": 276,
    "start_time": "2024-05-12T23:12:22.019Z"
   },
   {
    "duration": 220,
    "start_time": "2024-05-12T23:12:22.296Z"
   },
   {
    "duration": 203,
    "start_time": "2024-05-12T23:12:22.518Z"
   },
   {
    "duration": 193,
    "start_time": "2024-05-12T23:12:22.723Z"
   },
   {
    "duration": 220,
    "start_time": "2024-05-12T23:12:22.918Z"
   },
   {
    "duration": 331,
    "start_time": "2024-05-12T23:12:23.139Z"
   },
   {
    "duration": 230,
    "start_time": "2024-05-12T23:12:23.472Z"
   },
   {
    "duration": 437,
    "start_time": "2024-05-12T23:12:23.704Z"
   },
   {
    "duration": 208,
    "start_time": "2024-05-12T23:12:24.143Z"
   },
   {
    "duration": 218,
    "start_time": "2024-05-12T23:12:24.352Z"
   },
   {
    "duration": 194,
    "start_time": "2024-05-12T23:12:24.572Z"
   },
   {
    "duration": 199,
    "start_time": "2024-05-12T23:12:24.768Z"
   },
   {
    "duration": 164,
    "start_time": "2024-05-12T23:12:24.968Z"
   },
   {
    "duration": 663,
    "start_time": "2024-05-12T23:12:25.134Z"
   },
   {
    "duration": 34,
    "start_time": "2024-05-12T23:12:25.799Z"
   },
   {
    "duration": 236,
    "start_time": "2024-05-12T23:12:25.835Z"
   },
   {
    "duration": 117,
    "start_time": "2024-05-12T23:13:09.480Z"
   },
   {
    "duration": 105,
    "start_time": "2024-05-12T23:13:18.057Z"
   },
   {
    "duration": 89,
    "start_time": "2024-05-12T23:14:51.441Z"
   },
   {
    "duration": 87,
    "start_time": "2024-05-12T23:15:51.109Z"
   },
   {
    "duration": 88,
    "start_time": "2024-05-12T23:17:07.137Z"
   },
   {
    "duration": 92,
    "start_time": "2024-05-12T23:18:44.650Z"
   },
   {
    "duration": 2493,
    "start_time": "2024-05-12T23:18:52.377Z"
   },
   {
    "duration": 30,
    "start_time": "2024-05-12T23:18:54.873Z"
   },
   {
    "duration": 10,
    "start_time": "2024-05-12T23:18:54.905Z"
   },
   {
    "duration": 43,
    "start_time": "2024-05-12T23:18:54.916Z"
   },
   {
    "duration": 138,
    "start_time": "2024-05-12T23:18:54.962Z"
   },
   {
    "duration": 643,
    "start_time": "2024-05-12T23:18:55.102Z"
   },
   {
    "duration": 198,
    "start_time": "2024-05-12T23:18:55.746Z"
   },
   {
    "duration": 217,
    "start_time": "2024-05-12T23:18:55.946Z"
   },
   {
    "duration": 236,
    "start_time": "2024-05-12T23:18:56.165Z"
   },
   {
    "duration": 221,
    "start_time": "2024-05-12T23:18:56.403Z"
   },
   {
    "duration": 237,
    "start_time": "2024-05-12T23:18:56.626Z"
   },
   {
    "duration": 200,
    "start_time": "2024-05-12T23:18:56.865Z"
   },
   {
    "duration": 193,
    "start_time": "2024-05-12T23:18:57.066Z"
   },
   {
    "duration": 356,
    "start_time": "2024-05-12T23:18:57.262Z"
   },
   {
    "duration": 224,
    "start_time": "2024-05-12T23:18:57.619Z"
   },
   {
    "duration": 196,
    "start_time": "2024-05-12T23:18:57.845Z"
   },
   {
    "duration": 412,
    "start_time": "2024-05-12T23:18:58.043Z"
   },
   {
    "duration": 219,
    "start_time": "2024-05-12T23:18:58.457Z"
   },
   {
    "duration": 214,
    "start_time": "2024-05-12T23:18:58.677Z"
   },
   {
    "duration": 321,
    "start_time": "2024-05-12T23:18:58.897Z"
   },
   {
    "duration": 208,
    "start_time": "2024-05-12T23:18:59.220Z"
   },
   {
    "duration": 275,
    "start_time": "2024-05-12T23:18:59.430Z"
   },
   {
    "duration": 559,
    "start_time": "2024-05-12T23:18:59.707Z"
   },
   {
    "duration": 50,
    "start_time": "2024-05-12T23:19:00.267Z"
   },
   {
    "duration": 231,
    "start_time": "2024-05-12T23:19:00.319Z"
   },
   {
    "duration": 115,
    "start_time": "2024-05-12T23:20:03.415Z"
   },
   {
    "duration": 151,
    "start_time": "2024-05-12T23:20:44.610Z"
   },
   {
    "duration": 146,
    "start_time": "2024-05-12T23:21:01.233Z"
   },
   {
    "duration": 129,
    "start_time": "2024-05-12T23:21:41.868Z"
   },
   {
    "duration": 107,
    "start_time": "2024-05-12T23:22:11.093Z"
   },
   {
    "duration": 115,
    "start_time": "2024-05-12T23:24:02.710Z"
   },
   {
    "duration": 117,
    "start_time": "2024-05-12T23:24:40.159Z"
   },
   {
    "duration": 2426,
    "start_time": "2024-05-12T23:24:46.914Z"
   },
   {
    "duration": 19,
    "start_time": "2024-05-12T23:24:49.342Z"
   },
   {
    "duration": 25,
    "start_time": "2024-05-12T23:24:49.363Z"
   },
   {
    "duration": 37,
    "start_time": "2024-05-12T23:24:49.390Z"
   },
   {
    "duration": 130,
    "start_time": "2024-05-12T23:24:49.429Z"
   },
   {
    "duration": 134,
    "start_time": "2024-05-12T23:34:17.772Z"
   },
   {
    "duration": 119,
    "start_time": "2024-05-12T23:34:26.139Z"
   },
   {
    "duration": 54,
    "start_time": "2024-05-12T23:34:41.896Z"
   },
   {
    "duration": 2577,
    "start_time": "2024-05-12T23:34:47.934Z"
   },
   {
    "duration": 20,
    "start_time": "2024-05-12T23:34:50.513Z"
   },
   {
    "duration": 9,
    "start_time": "2024-05-12T23:34:50.534Z"
   },
   {
    "duration": 67,
    "start_time": "2024-05-12T23:34:50.545Z"
   },
   {
    "duration": 42,
    "start_time": "2024-05-12T23:34:50.613Z"
   },
   {
    "duration": 640,
    "start_time": "2024-05-12T23:34:50.657Z"
   },
   {
    "duration": 202,
    "start_time": "2024-05-12T23:34:51.299Z"
   },
   {
    "duration": 242,
    "start_time": "2024-05-12T23:34:51.502Z"
   },
   {
    "duration": 204,
    "start_time": "2024-05-12T23:34:51.746Z"
   },
   {
    "duration": 218,
    "start_time": "2024-05-12T23:34:51.952Z"
   },
   {
    "duration": 223,
    "start_time": "2024-05-12T23:34:52.171Z"
   },
   {
    "duration": 365,
    "start_time": "2024-05-12T23:34:52.396Z"
   },
   {
    "duration": 196,
    "start_time": "2024-05-12T23:34:52.763Z"
   },
   {
    "duration": 255,
    "start_time": "2024-05-12T23:34:52.961Z"
   },
   {
    "duration": 243,
    "start_time": "2024-05-12T23:34:53.218Z"
   },
   {
    "duration": 209,
    "start_time": "2024-05-12T23:34:53.463Z"
   },
   {
    "duration": 421,
    "start_time": "2024-05-12T23:34:53.674Z"
   },
   {
    "duration": 201,
    "start_time": "2024-05-12T23:34:54.096Z"
   },
   {
    "duration": 218,
    "start_time": "2024-05-12T23:34:54.299Z"
   },
   {
    "duration": 330,
    "start_time": "2024-05-12T23:34:54.520Z"
   },
   {
    "duration": 215,
    "start_time": "2024-05-12T23:34:54.851Z"
   },
   {
    "duration": 169,
    "start_time": "2024-05-12T23:34:55.068Z"
   },
   {
    "duration": 504,
    "start_time": "2024-05-12T23:34:55.238Z"
   },
   {
    "duration": 52,
    "start_time": "2024-05-12T23:34:55.743Z"
   },
   {
    "duration": 255,
    "start_time": "2024-05-12T23:34:55.796Z"
   },
   {
    "duration": 57,
    "start_time": "2024-05-12T23:35:05.877Z"
   },
   {
    "duration": 131,
    "start_time": "2024-05-12T23:35:14.273Z"
   },
   {
    "duration": 40,
    "start_time": "2024-05-12T23:37:10.162Z"
   },
   {
    "duration": 26,
    "start_time": "2024-05-12T23:37:29.452Z"
   },
   {
    "duration": 2504,
    "start_time": "2024-05-12T23:37:57.926Z"
   },
   {
    "duration": 17,
    "start_time": "2024-05-12T23:38:00.433Z"
   },
   {
    "duration": 65,
    "start_time": "2024-05-12T23:38:00.452Z"
   },
   {
    "duration": 58,
    "start_time": "2024-05-12T23:38:00.519Z"
   },
   {
    "duration": 134,
    "start_time": "2024-05-12T23:38:00.579Z"
   },
   {
    "duration": 658,
    "start_time": "2024-05-12T23:38:00.715Z"
   },
   {
    "duration": 203,
    "start_time": "2024-05-12T23:38:01.375Z"
   },
   {
    "duration": 214,
    "start_time": "2024-05-12T23:38:01.581Z"
   },
   {
    "duration": 327,
    "start_time": "2024-05-12T23:38:01.797Z"
   },
   {
    "duration": 228,
    "start_time": "2024-05-12T23:38:02.129Z"
   },
   {
    "duration": 259,
    "start_time": "2024-05-12T23:38:02.359Z"
   },
   {
    "duration": 226,
    "start_time": "2024-05-12T23:38:02.620Z"
   },
   {
    "duration": 208,
    "start_time": "2024-05-12T23:38:02.847Z"
   },
   {
    "duration": 261,
    "start_time": "2024-05-12T23:38:03.057Z"
   },
   {
    "duration": 236,
    "start_time": "2024-05-12T23:38:03.320Z"
   },
   {
    "duration": 204,
    "start_time": "2024-05-12T23:38:03.558Z"
   },
   {
    "duration": 527,
    "start_time": "2024-05-12T23:38:03.764Z"
   },
   {
    "duration": 212,
    "start_time": "2024-05-12T23:38:04.292Z"
   },
   {
    "duration": 232,
    "start_time": "2024-05-12T23:38:04.505Z"
   },
   {
    "duration": 220,
    "start_time": "2024-05-12T23:38:04.739Z"
   },
   {
    "duration": 202,
    "start_time": "2024-05-12T23:38:04.961Z"
   },
   {
    "duration": 172,
    "start_time": "2024-05-12T23:38:05.166Z"
   },
   {
    "duration": 495,
    "start_time": "2024-05-12T23:38:05.339Z"
   },
   {
    "duration": 66,
    "start_time": "2024-05-12T23:38:05.836Z"
   },
   {
    "duration": 122,
    "start_time": "2024-05-12T23:38:05.903Z"
   },
   {
    "duration": 29,
    "start_time": "2024-05-12T23:38:18.311Z"
   },
   {
    "duration": 43,
    "start_time": "2024-05-12T23:38:46.275Z"
   },
   {
    "duration": 207,
    "start_time": "2024-05-12T23:39:10.939Z"
   },
   {
    "duration": 2624,
    "start_time": "2024-05-12T23:51:13.182Z"
   },
   {
    "duration": 19,
    "start_time": "2024-05-12T23:51:15.809Z"
   },
   {
    "duration": 10,
    "start_time": "2024-05-12T23:51:15.830Z"
   },
   {
    "duration": 205,
    "start_time": "2024-05-12T23:51:15.843Z"
   },
   {
    "duration": 150,
    "start_time": "2024-05-12T23:51:16.050Z"
   },
   {
    "duration": 647,
    "start_time": "2024-05-12T23:51:16.201Z"
   },
   {
    "duration": 196,
    "start_time": "2024-05-12T23:51:16.849Z"
   },
   {
    "duration": 202,
    "start_time": "2024-05-12T23:51:17.047Z"
   },
   {
    "duration": 206,
    "start_time": "2024-05-12T23:51:17.250Z"
   },
   {
    "duration": 238,
    "start_time": "2024-05-12T23:51:17.459Z"
   },
   {
    "duration": 237,
    "start_time": "2024-05-12T23:51:17.699Z"
   },
   {
    "duration": 229,
    "start_time": "2024-05-12T23:51:17.938Z"
   },
   {
    "duration": 292,
    "start_time": "2024-05-12T23:51:18.169Z"
   },
   {
    "duration": 231,
    "start_time": "2024-05-12T23:51:18.463Z"
   },
   {
    "duration": 223,
    "start_time": "2024-05-12T23:51:18.696Z"
   },
   {
    "duration": 194,
    "start_time": "2024-05-12T23:51:18.921Z"
   },
   {
    "duration": 407,
    "start_time": "2024-05-12T23:51:19.117Z"
   },
   {
    "duration": 213,
    "start_time": "2024-05-12T23:51:19.526Z"
   },
   {
    "duration": 211,
    "start_time": "2024-05-12T23:51:19.741Z"
   },
   {
    "duration": 206,
    "start_time": "2024-05-12T23:51:19.954Z"
   },
   {
    "duration": 307,
    "start_time": "2024-05-12T23:51:20.162Z"
   },
   {
    "duration": 169,
    "start_time": "2024-05-12T23:51:20.470Z"
   },
   {
    "duration": 535,
    "start_time": "2024-05-12T23:51:20.641Z"
   },
   {
    "duration": 51,
    "start_time": "2024-05-12T23:51:21.178Z"
   },
   {
    "duration": 208,
    "start_time": "2024-05-12T23:51:21.231Z"
   },
   {
    "duration": 195,
    "start_time": "2024-05-12T23:51:46.713Z"
   },
   {
    "duration": 3113,
    "start_time": "2025-07-08T02:33:23.059Z"
   },
   {
    "duration": 24,
    "start_time": "2025-07-08T02:33:26.174Z"
   },
   {
    "duration": 10,
    "start_time": "2025-07-08T02:33:26.199Z"
   },
   {
    "duration": 33,
    "start_time": "2025-07-08T02:33:26.211Z"
   },
   {
    "duration": 127,
    "start_time": "2025-07-08T02:33:26.246Z"
   },
   {
    "duration": 529,
    "start_time": "2025-07-08T02:33:26.374Z"
   },
   {
    "duration": 175,
    "start_time": "2025-07-08T02:33:26.905Z"
   },
   {
    "duration": 281,
    "start_time": "2025-07-08T02:33:27.081Z"
   },
   {
    "duration": 182,
    "start_time": "2025-07-08T02:33:27.363Z"
   },
   {
    "duration": 214,
    "start_time": "2025-07-08T02:33:27.547Z"
   },
   {
    "duration": 202,
    "start_time": "2025-07-08T02:33:27.763Z"
   },
   {
    "duration": 190,
    "start_time": "2025-07-08T02:33:27.966Z"
   },
   {
    "duration": 184,
    "start_time": "2025-07-08T02:33:28.157Z"
   },
   {
    "duration": 201,
    "start_time": "2025-07-08T02:33:28.343Z"
   },
   {
    "duration": 213,
    "start_time": "2025-07-08T02:33:28.545Z"
   },
   {
    "duration": 278,
    "start_time": "2025-07-08T02:33:28.759Z"
   },
   {
    "duration": 370,
    "start_time": "2025-07-08T02:33:29.038Z"
   },
   {
    "duration": 192,
    "start_time": "2025-07-08T02:33:29.409Z"
   },
   {
    "duration": 198,
    "start_time": "2025-07-08T02:33:29.603Z"
   },
   {
    "duration": 193,
    "start_time": "2025-07-08T02:33:29.803Z"
   },
   {
    "duration": 191,
    "start_time": "2025-07-08T02:33:29.998Z"
   },
   {
    "duration": 161,
    "start_time": "2025-07-08T02:33:30.190Z"
   },
   {
    "duration": 553,
    "start_time": "2025-07-08T02:33:30.352Z"
   },
   {
    "duration": 36,
    "start_time": "2025-07-08T02:33:30.907Z"
   },
   {
    "duration": 208,
    "start_time": "2025-07-08T02:33:30.944Z"
   }
  ],
  "colab": {
   "provenance": []
  },
  "kernelspec": {
   "display_name": "Python 3 (ipykernel)",
   "language": "python",
   "name": "python3"
  },
  "language_info": {
   "codemirror_mode": {
    "name": "ipython",
    "version": 3
   },
   "file_extension": ".py",
   "mimetype": "text/x-python",
   "name": "python",
   "nbconvert_exporter": "python",
   "pygments_lexer": "ipython3",
   "version": "3.9.5"
  },
  "toc": {
   "base_numbering": 1,
   "nav_menu": {},
   "number_sections": true,
   "sideBar": true,
   "skip_h1_title": true,
   "title_cell": "Table of Contents",
   "title_sidebar": "Contents",
   "toc_cell": false,
   "toc_position": {},
   "toc_section_display": true,
   "toc_window_display": false
  }
 },
 "nbformat": 4,
 "nbformat_minor": 1
}
