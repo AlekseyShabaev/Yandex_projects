{
 "cells": [
  {
   "cell_type": "markdown",
   "metadata": {},
   "source": [
    "<h2> Планирование рекламной компании интернет-магазина «Стримчик»  <a class=\"tocSkip\"></h2"
   ]
  },
  {
   "cell_type": "markdown",
   "metadata": {},
   "source": [
    "Мы работаеем в интернет-магазине «Стримчик», который продаёт по всему миру компьютерные игры. Из открытых источников доступны исторические данные о продажах игр, оценки пользователей и экспертов, жанры и платформы. Нам нужно выявить определяющие успешность игры закономерности. Это позволит сделать ставку на потенциально популярный продукт и спланировать рекламные кампании.\n",
    "Нам предоставили данные до 2016 года. Представим, что сейчас декабрь 2016 г., и вы планируете кампанию на 2017-й. Нужно отработать принцип работы с данными. \n",
    "В наборе данных попадается аббревиатура ESRB (Entertainment Software Rating Board) — это ассоциация, определяющая возрастной рейтинг компьютерных игр. ESRB оценивает игровой контент и присваивает ему подходящую возрастную категорию, например, «Для взрослых», «Для детей младшего возраста» или «Для подростков»."
   ]
  },
  {
   "cell_type": "markdown",
   "metadata": {},
   "source": [
    "<h2> Описание данных  <a class=\"tocSkip\"></h2"
   ]
  },
  {
   "cell_type": "markdown",
   "metadata": {},
   "source": [
    "games.csv - исходный датафрейм\n",
    "\n",
    "Name — название игры\n",
    "\n",
    "Platform — платформа\n",
    "\n",
    "Year_of_Release — год выпуска\n",
    "\n",
    "Genre — жанр игры\n",
    "\n",
    "NA_sales — продажи в Северной Америке (миллионы проданных копий)\n",
    "\n",
    "EU_sales — продажи в Европе (миллионы проданных копий)\n",
    "\n",
    "JP_sales — продажи в Японии (миллионы проданных копий)\n",
    "\n",
    "Other_sales — продажи в других странах (миллионы проданных копий)\n",
    "\n",
    "Critic_Score — оценка критиков (максимум 100)\n",
    "\n",
    "User_Score — оценка пользователей (максимум 10)\n",
    "\n",
    "Rating — рейтинг от организации ESRB (англ. Entertainment Software Rating Board). Эта ассоциация определяет рейтинг компьютерных игр и присваивает им подходящую возрастную категорию.\n",
    "\n",
    "Данные за 2016 год могут быть неполными."
   ]
  },
  {
   "cell_type": "markdown",
   "metadata": {},
   "source": [
    "<h5>  Импорт библиотек  <a class=\"tocSkip\"></h5"
   ]
  },
  {
   "cell_type": "code",
   "execution_count": 1,
   "metadata": {},
   "outputs": [],
   "source": [
    "import pandas as pd\n",
    "import matplotlib.pyplot as plt\n",
    "import numpy as np\n",
    "from scipy import stats as st\n",
    "import seaborn as sb\n",
    "import warnings\n",
    "warnings.filterwarnings(\"ignore\")\n"
   ]
  },
  {
   "cell_type": "markdown",
   "metadata": {},
   "source": [
    "<h2> 1. Загрузка и просмотр данных  <a class=\"tocSkip\"></h2"
   ]
  },
  {
   "cell_type": "code",
   "execution_count": 2,
   "metadata": {},
   "outputs": [
    {
     "data": {
      "text/html": [
       "<div>\n",
       "<style scoped>\n",
       "    .dataframe tbody tr th:only-of-type {\n",
       "        vertical-align: middle;\n",
       "    }\n",
       "\n",
       "    .dataframe tbody tr th {\n",
       "        vertical-align: top;\n",
       "    }\n",
       "\n",
       "    .dataframe thead th {\n",
       "        text-align: right;\n",
       "    }\n",
       "</style>\n",
       "<table border=\"1\" class=\"dataframe\">\n",
       "  <thead>\n",
       "    <tr style=\"text-align: right;\">\n",
       "      <th></th>\n",
       "      <th>Name</th>\n",
       "      <th>Platform</th>\n",
       "      <th>Year_of_Release</th>\n",
       "      <th>Genre</th>\n",
       "      <th>NA_sales</th>\n",
       "      <th>EU_sales</th>\n",
       "      <th>JP_sales</th>\n",
       "      <th>Other_sales</th>\n",
       "      <th>Critic_Score</th>\n",
       "      <th>User_Score</th>\n",
       "      <th>Rating</th>\n",
       "    </tr>\n",
       "  </thead>\n",
       "  <tbody>\n",
       "    <tr>\n",
       "      <th>0</th>\n",
       "      <td>Wii Sports</td>\n",
       "      <td>Wii</td>\n",
       "      <td>2006.0</td>\n",
       "      <td>Sports</td>\n",
       "      <td>41.36</td>\n",
       "      <td>28.96</td>\n",
       "      <td>3.77</td>\n",
       "      <td>8.45</td>\n",
       "      <td>76.0</td>\n",
       "      <td>8</td>\n",
       "      <td>E</td>\n",
       "    </tr>\n",
       "    <tr>\n",
       "      <th>1</th>\n",
       "      <td>Super Mario Bros.</td>\n",
       "      <td>NES</td>\n",
       "      <td>1985.0</td>\n",
       "      <td>Platform</td>\n",
       "      <td>29.08</td>\n",
       "      <td>3.58</td>\n",
       "      <td>6.81</td>\n",
       "      <td>0.77</td>\n",
       "      <td>NaN</td>\n",
       "      <td>NaN</td>\n",
       "      <td>NaN</td>\n",
       "    </tr>\n",
       "    <tr>\n",
       "      <th>2</th>\n",
       "      <td>Mario Kart Wii</td>\n",
       "      <td>Wii</td>\n",
       "      <td>2008.0</td>\n",
       "      <td>Racing</td>\n",
       "      <td>15.68</td>\n",
       "      <td>12.76</td>\n",
       "      <td>3.79</td>\n",
       "      <td>3.29</td>\n",
       "      <td>82.0</td>\n",
       "      <td>8.3</td>\n",
       "      <td>E</td>\n",
       "    </tr>\n",
       "    <tr>\n",
       "      <th>3</th>\n",
       "      <td>Wii Sports Resort</td>\n",
       "      <td>Wii</td>\n",
       "      <td>2009.0</td>\n",
       "      <td>Sports</td>\n",
       "      <td>15.61</td>\n",
       "      <td>10.93</td>\n",
       "      <td>3.28</td>\n",
       "      <td>2.95</td>\n",
       "      <td>80.0</td>\n",
       "      <td>8</td>\n",
       "      <td>E</td>\n",
       "    </tr>\n",
       "    <tr>\n",
       "      <th>4</th>\n",
       "      <td>Pokemon Red/Pokemon Blue</td>\n",
       "      <td>GB</td>\n",
       "      <td>1996.0</td>\n",
       "      <td>Role-Playing</td>\n",
       "      <td>11.27</td>\n",
       "      <td>8.89</td>\n",
       "      <td>10.22</td>\n",
       "      <td>1.00</td>\n",
       "      <td>NaN</td>\n",
       "      <td>NaN</td>\n",
       "      <td>NaN</td>\n",
       "    </tr>\n",
       "    <tr>\n",
       "      <th>5</th>\n",
       "      <td>Tetris</td>\n",
       "      <td>GB</td>\n",
       "      <td>1989.0</td>\n",
       "      <td>Puzzle</td>\n",
       "      <td>23.20</td>\n",
       "      <td>2.26</td>\n",
       "      <td>4.22</td>\n",
       "      <td>0.58</td>\n",
       "      <td>NaN</td>\n",
       "      <td>NaN</td>\n",
       "      <td>NaN</td>\n",
       "    </tr>\n",
       "    <tr>\n",
       "      <th>6</th>\n",
       "      <td>New Super Mario Bros.</td>\n",
       "      <td>DS</td>\n",
       "      <td>2006.0</td>\n",
       "      <td>Platform</td>\n",
       "      <td>11.28</td>\n",
       "      <td>9.14</td>\n",
       "      <td>6.50</td>\n",
       "      <td>2.88</td>\n",
       "      <td>89.0</td>\n",
       "      <td>8.5</td>\n",
       "      <td>E</td>\n",
       "    </tr>\n",
       "    <tr>\n",
       "      <th>7</th>\n",
       "      <td>Wii Play</td>\n",
       "      <td>Wii</td>\n",
       "      <td>2006.0</td>\n",
       "      <td>Misc</td>\n",
       "      <td>13.96</td>\n",
       "      <td>9.18</td>\n",
       "      <td>2.93</td>\n",
       "      <td>2.84</td>\n",
       "      <td>58.0</td>\n",
       "      <td>6.6</td>\n",
       "      <td>E</td>\n",
       "    </tr>\n",
       "    <tr>\n",
       "      <th>8</th>\n",
       "      <td>New Super Mario Bros. Wii</td>\n",
       "      <td>Wii</td>\n",
       "      <td>2009.0</td>\n",
       "      <td>Platform</td>\n",
       "      <td>14.44</td>\n",
       "      <td>6.94</td>\n",
       "      <td>4.70</td>\n",
       "      <td>2.24</td>\n",
       "      <td>87.0</td>\n",
       "      <td>8.4</td>\n",
       "      <td>E</td>\n",
       "    </tr>\n",
       "    <tr>\n",
       "      <th>9</th>\n",
       "      <td>Duck Hunt</td>\n",
       "      <td>NES</td>\n",
       "      <td>1984.0</td>\n",
       "      <td>Shooter</td>\n",
       "      <td>26.93</td>\n",
       "      <td>0.63</td>\n",
       "      <td>0.28</td>\n",
       "      <td>0.47</td>\n",
       "      <td>NaN</td>\n",
       "      <td>NaN</td>\n",
       "      <td>NaN</td>\n",
       "    </tr>\n",
       "  </tbody>\n",
       "</table>\n",
       "</div>"
      ],
      "text/plain": [
       "                        Name Platform  Year_of_Release         Genre  \\\n",
       "0                 Wii Sports      Wii           2006.0        Sports   \n",
       "1          Super Mario Bros.      NES           1985.0      Platform   \n",
       "2             Mario Kart Wii      Wii           2008.0        Racing   \n",
       "3          Wii Sports Resort      Wii           2009.0        Sports   \n",
       "4   Pokemon Red/Pokemon Blue       GB           1996.0  Role-Playing   \n",
       "5                     Tetris       GB           1989.0        Puzzle   \n",
       "6      New Super Mario Bros.       DS           2006.0      Platform   \n",
       "7                   Wii Play      Wii           2006.0          Misc   \n",
       "8  New Super Mario Bros. Wii      Wii           2009.0      Platform   \n",
       "9                  Duck Hunt      NES           1984.0       Shooter   \n",
       "\n",
       "   NA_sales  EU_sales  JP_sales  Other_sales  Critic_Score User_Score Rating  \n",
       "0     41.36     28.96      3.77         8.45          76.0          8      E  \n",
       "1     29.08      3.58      6.81         0.77           NaN        NaN    NaN  \n",
       "2     15.68     12.76      3.79         3.29          82.0        8.3      E  \n",
       "3     15.61     10.93      3.28         2.95          80.0          8      E  \n",
       "4     11.27      8.89     10.22         1.00           NaN        NaN    NaN  \n",
       "5     23.20      2.26      4.22         0.58           NaN        NaN    NaN  \n",
       "6     11.28      9.14      6.50         2.88          89.0        8.5      E  \n",
       "7     13.96      9.18      2.93         2.84          58.0        6.6      E  \n",
       "8     14.44      6.94      4.70         2.24          87.0        8.4      E  \n",
       "9     26.93      0.63      0.28         0.47           NaN        NaN    NaN  "
      ]
     },
     "metadata": {},
     "output_type": "display_data"
    },
    {
     "name": "stdout",
     "output_type": "stream",
     "text": [
      "<class 'pandas.core.frame.DataFrame'>\n",
      "RangeIndex: 16715 entries, 0 to 16714\n",
      "Data columns (total 11 columns):\n",
      " #   Column           Non-Null Count  Dtype  \n",
      "---  ------           --------------  -----  \n",
      " 0   Name             16713 non-null  object \n",
      " 1   Platform         16715 non-null  object \n",
      " 2   Year_of_Release  16446 non-null  float64\n",
      " 3   Genre            16713 non-null  object \n",
      " 4   NA_sales         16715 non-null  float64\n",
      " 5   EU_sales         16715 non-null  float64\n",
      " 6   JP_sales         16715 non-null  float64\n",
      " 7   Other_sales      16715 non-null  float64\n",
      " 8   Critic_Score     8137 non-null   float64\n",
      " 9   User_Score       10014 non-null  object \n",
      " 10  Rating           9949 non-null   object \n",
      "dtypes: float64(6), object(5)\n",
      "memory usage: 1.4+ MB\n"
     ]
    },
    {
     "data": {
      "text/plain": [
       "None"
      ]
     },
     "metadata": {},
     "output_type": "display_data"
    }
   ],
   "source": [
    "data = pd.read_csv('/datasets/games.csv')\n",
    "display(data.head(10))\n",
    "display(data.info())\n"
   ]
  },
  {
   "cell_type": "markdown",
   "metadata": {},
   "source": [
    "Ознакомились с данными. Столбцы Year_of_Release,User_Score имеют неплдходящий для работы формат данных."
   ]
  },
  {
   "cell_type": "markdown",
   "metadata": {},
   "source": [
    "<h2> 2. Предобработка данных<a class=\"tocSkip\"></h2"
   ]
  },
  {
   "cell_type": "markdown",
   "metadata": {},
   "source": [
    "<h5> 2.1 Приводим названия столбцов к нижнему регистру  <a class=\"tocSkip\"></h5"
   ]
  },
  {
   "cell_type": "code",
   "execution_count": 3,
   "metadata": {},
   "outputs": [
    {
     "data": {
      "text/html": [
       "<div>\n",
       "<style scoped>\n",
       "    .dataframe tbody tr th:only-of-type {\n",
       "        vertical-align: middle;\n",
       "    }\n",
       "\n",
       "    .dataframe tbody tr th {\n",
       "        vertical-align: top;\n",
       "    }\n",
       "\n",
       "    .dataframe thead th {\n",
       "        text-align: right;\n",
       "    }\n",
       "</style>\n",
       "<table border=\"1\" class=\"dataframe\">\n",
       "  <thead>\n",
       "    <tr style=\"text-align: right;\">\n",
       "      <th></th>\n",
       "      <th>name</th>\n",
       "      <th>platform</th>\n",
       "      <th>year_of_release</th>\n",
       "      <th>genre</th>\n",
       "      <th>na_sales</th>\n",
       "      <th>eu_sales</th>\n",
       "      <th>jp_sales</th>\n",
       "      <th>other_sales</th>\n",
       "      <th>critic_score</th>\n",
       "      <th>user_score</th>\n",
       "      <th>rating</th>\n",
       "    </tr>\n",
       "  </thead>\n",
       "  <tbody>\n",
       "    <tr>\n",
       "      <th>0</th>\n",
       "      <td>Wii Sports</td>\n",
       "      <td>Wii</td>\n",
       "      <td>2006.0</td>\n",
       "      <td>Sports</td>\n",
       "      <td>41.36</td>\n",
       "      <td>28.96</td>\n",
       "      <td>3.77</td>\n",
       "      <td>8.45</td>\n",
       "      <td>76.0</td>\n",
       "      <td>8</td>\n",
       "      <td>E</td>\n",
       "    </tr>\n",
       "    <tr>\n",
       "      <th>1</th>\n",
       "      <td>Super Mario Bros.</td>\n",
       "      <td>NES</td>\n",
       "      <td>1985.0</td>\n",
       "      <td>Platform</td>\n",
       "      <td>29.08</td>\n",
       "      <td>3.58</td>\n",
       "      <td>6.81</td>\n",
       "      <td>0.77</td>\n",
       "      <td>NaN</td>\n",
       "      <td>NaN</td>\n",
       "      <td>NaN</td>\n",
       "    </tr>\n",
       "    <tr>\n",
       "      <th>2</th>\n",
       "      <td>Mario Kart Wii</td>\n",
       "      <td>Wii</td>\n",
       "      <td>2008.0</td>\n",
       "      <td>Racing</td>\n",
       "      <td>15.68</td>\n",
       "      <td>12.76</td>\n",
       "      <td>3.79</td>\n",
       "      <td>3.29</td>\n",
       "      <td>82.0</td>\n",
       "      <td>8.3</td>\n",
       "      <td>E</td>\n",
       "    </tr>\n",
       "    <tr>\n",
       "      <th>3</th>\n",
       "      <td>Wii Sports Resort</td>\n",
       "      <td>Wii</td>\n",
       "      <td>2009.0</td>\n",
       "      <td>Sports</td>\n",
       "      <td>15.61</td>\n",
       "      <td>10.93</td>\n",
       "      <td>3.28</td>\n",
       "      <td>2.95</td>\n",
       "      <td>80.0</td>\n",
       "      <td>8</td>\n",
       "      <td>E</td>\n",
       "    </tr>\n",
       "    <tr>\n",
       "      <th>4</th>\n",
       "      <td>Pokemon Red/Pokemon Blue</td>\n",
       "      <td>GB</td>\n",
       "      <td>1996.0</td>\n",
       "      <td>Role-Playing</td>\n",
       "      <td>11.27</td>\n",
       "      <td>8.89</td>\n",
       "      <td>10.22</td>\n",
       "      <td>1.00</td>\n",
       "      <td>NaN</td>\n",
       "      <td>NaN</td>\n",
       "      <td>NaN</td>\n",
       "    </tr>\n",
       "  </tbody>\n",
       "</table>\n",
       "</div>"
      ],
      "text/plain": [
       "                       name platform  year_of_release         genre  na_sales  \\\n",
       "0                Wii Sports      Wii           2006.0        Sports     41.36   \n",
       "1         Super Mario Bros.      NES           1985.0      Platform     29.08   \n",
       "2            Mario Kart Wii      Wii           2008.0        Racing     15.68   \n",
       "3         Wii Sports Resort      Wii           2009.0        Sports     15.61   \n",
       "4  Pokemon Red/Pokemon Blue       GB           1996.0  Role-Playing     11.27   \n",
       "\n",
       "   eu_sales  jp_sales  other_sales  critic_score user_score rating  \n",
       "0     28.96      3.77         8.45          76.0          8      E  \n",
       "1      3.58      6.81         0.77           NaN        NaN    NaN  \n",
       "2     12.76      3.79         3.29          82.0        8.3      E  \n",
       "3     10.93      3.28         2.95          80.0          8      E  \n",
       "4      8.89     10.22         1.00           NaN        NaN    NaN  "
      ]
     },
     "execution_count": 3,
     "metadata": {},
     "output_type": "execute_result"
    }
   ],
   "source": [
    "data.columns = data.columns.str.lower()\n",
    "data.head()"
   ]
  },
  {
   "cell_type": "markdown",
   "metadata": {},
   "source": [
    "Привел названия столбцов к нижнему регистру"
   ]
  },
  {
   "cell_type": "markdown",
   "metadata": {},
   "source": [
    "<h5>2.2 Преобразование типов данных  <a class=\"tocSkip\"></h5"
   ]
  },
  {
   "cell_type": "code",
   "execution_count": 4,
   "metadata": {},
   "outputs": [
    {
     "data": {
      "text/plain": [
       "array(['8', nan, '8.3', '8.5', '6.6', '8.4', '8.6', '7.7', '6.3', '7.4',\n",
       "       '8.2', '9', '7.9', '8.1', '8.7', '7.1', '3.4', '5.3', '4.8', '3.2',\n",
       "       '8.9', '6.4', '7.8', '7.5', '2.6', '7.2', '9.2', '7', '7.3', '4.3',\n",
       "       '7.6', '5.7', '5', '9.1', '6.5', 'tbd', '8.8', '6.9', '9.4', '6.8',\n",
       "       '6.1', '6.7', '5.4', '4', '4.9', '4.5', '9.3', '6.2', '4.2', '6',\n",
       "       '3.7', '4.1', '5.8', '5.6', '5.5', '4.4', '4.6', '5.9', '3.9',\n",
       "       '3.1', '2.9', '5.2', '3.3', '4.7', '5.1', '3.5', '2.5', '1.9', '3',\n",
       "       '2.7', '2.2', '2', '9.5', '2.1', '3.6', '2.8', '1.8', '3.8', '0',\n",
       "       '1.6', '9.6', '2.4', '1.7', '1.1', '0.3', '1.5', '0.7', '1.2',\n",
       "       '2.3', '0.5', '1.3', '0.2', '0.6', '1.4', '0.9', '1', '9.7'],\n",
       "      dtype=object)"
      ]
     },
     "metadata": {},
     "output_type": "display_data"
    },
    {
     "data": {
      "text/plain": [
       "array(['E', 'unknown', 'M', 'T', 'E10+', 'K-A', 'AO', 'EC', 'RP'],\n",
       "      dtype=object)"
      ]
     },
     "metadata": {},
     "output_type": "display_data"
    }
   ],
   "source": [
    "data['year_of_release'] = data['year_of_release'].astype('Int64')\n",
    "display(data['user_score'].unique())\n",
    "data['user_score'] = data['user_score'].replace('tbd','NaN')\n",
    "data['user_score'] = data['user_score'].astype('float')\n",
    "data['rating'] = data['rating'].replace(np.nan,'unknown')\n",
    "display(data['rating'].unique())"
   ]
  },
  {
   "cell_type": "markdown",
   "metadata": {},
   "source": [
    "Преобразовали типы данных, заминили абривиатуру 'tbd' на 'NaN'(аналог пропусков), поскольку нам не удасться получить уточнение, пропуски могли образваться по многим причинам, например из за нехватки отзывов или оценок критиков или из за малых продаж, что в принципе к этому и привидет."
   ]
  },
  {
   "cell_type": "markdown",
   "metadata": {},
   "source": [
    "<h5>2.3 Поиск пропусков и дубликатов(и не явных дубликатов) <a class=\"tocSkip\"></h5"
   ]
  },
  {
   "cell_type": "code",
   "execution_count": 5,
   "metadata": {},
   "outputs": [
    {
     "data": {
      "text/plain": [
       "name                  2\n",
       "platform              0\n",
       "year_of_release     269\n",
       "genre                 2\n",
       "na_sales              0\n",
       "eu_sales              0\n",
       "jp_sales              0\n",
       "other_sales           0\n",
       "critic_score       8578\n",
       "user_score         9125\n",
       "rating                0\n",
       "dtype: int64"
      ]
     },
     "metadata": {},
     "output_type": "display_data"
    },
    {
     "data": {
      "text/plain": [
       "0"
      ]
     },
     "metadata": {},
     "output_type": "display_data"
    },
    {
     "data": {
      "text/html": [
       "<div>\n",
       "<style scoped>\n",
       "    .dataframe tbody tr th:only-of-type {\n",
       "        vertical-align: middle;\n",
       "    }\n",
       "\n",
       "    .dataframe tbody tr th {\n",
       "        vertical-align: top;\n",
       "    }\n",
       "\n",
       "    .dataframe thead th {\n",
       "        text-align: right;\n",
       "    }\n",
       "</style>\n",
       "<table border=\"1\" class=\"dataframe\">\n",
       "  <thead>\n",
       "    <tr style=\"text-align: right;\">\n",
       "      <th></th>\n",
       "      <th>name</th>\n",
       "      <th>platform</th>\n",
       "      <th>year_of_release</th>\n",
       "      <th>genre</th>\n",
       "      <th>na_sales</th>\n",
       "      <th>eu_sales</th>\n",
       "      <th>jp_sales</th>\n",
       "      <th>other_sales</th>\n",
       "      <th>critic_score</th>\n",
       "      <th>user_score</th>\n",
       "      <th>rating</th>\n",
       "    </tr>\n",
       "  </thead>\n",
       "  <tbody>\n",
       "    <tr>\n",
       "      <th>604</th>\n",
       "      <td>Madden NFL 13</td>\n",
       "      <td>PS3</td>\n",
       "      <td>2012</td>\n",
       "      <td>Sports</td>\n",
       "      <td>2.11</td>\n",
       "      <td>0.22</td>\n",
       "      <td>0.00</td>\n",
       "      <td>0.23</td>\n",
       "      <td>83.0</td>\n",
       "      <td>5.5</td>\n",
       "      <td>E</td>\n",
       "    </tr>\n",
       "    <tr>\n",
       "      <th>659</th>\n",
       "      <td>NaN</td>\n",
       "      <td>GEN</td>\n",
       "      <td>1993</td>\n",
       "      <td>NaN</td>\n",
       "      <td>1.78</td>\n",
       "      <td>0.53</td>\n",
       "      <td>0.00</td>\n",
       "      <td>0.08</td>\n",
       "      <td>NaN</td>\n",
       "      <td>NaN</td>\n",
       "      <td>unknown</td>\n",
       "    </tr>\n",
       "    <tr>\n",
       "      <th>14244</th>\n",
       "      <td>NaN</td>\n",
       "      <td>GEN</td>\n",
       "      <td>1993</td>\n",
       "      <td>NaN</td>\n",
       "      <td>0.00</td>\n",
       "      <td>0.00</td>\n",
       "      <td>0.03</td>\n",
       "      <td>0.00</td>\n",
       "      <td>NaN</td>\n",
       "      <td>NaN</td>\n",
       "      <td>unknown</td>\n",
       "    </tr>\n",
       "    <tr>\n",
       "      <th>16230</th>\n",
       "      <td>Madden NFL 13</td>\n",
       "      <td>PS3</td>\n",
       "      <td>2012</td>\n",
       "      <td>Sports</td>\n",
       "      <td>0.00</td>\n",
       "      <td>0.01</td>\n",
       "      <td>0.00</td>\n",
       "      <td>0.00</td>\n",
       "      <td>83.0</td>\n",
       "      <td>5.5</td>\n",
       "      <td>E</td>\n",
       "    </tr>\n",
       "  </tbody>\n",
       "</table>\n",
       "</div>"
      ],
      "text/plain": [
       "                name platform  year_of_release   genre  na_sales  eu_sales  \\\n",
       "604    Madden NFL 13      PS3             2012  Sports      2.11      0.22   \n",
       "659              NaN      GEN             1993     NaN      1.78      0.53   \n",
       "14244            NaN      GEN             1993     NaN      0.00      0.00   \n",
       "16230  Madden NFL 13      PS3             2012  Sports      0.00      0.01   \n",
       "\n",
       "       jp_sales  other_sales  critic_score  user_score   rating  \n",
       "604        0.00         0.23          83.0         5.5        E  \n",
       "659        0.00         0.08           NaN         NaN  unknown  \n",
       "14244      0.03         0.00           NaN         NaN  unknown  \n",
       "16230      0.00         0.00          83.0         5.5        E  "
      ]
     },
     "metadata": {},
     "output_type": "display_data"
    },
    {
     "data": {
      "text/html": [
       "<div>\n",
       "<style scoped>\n",
       "    .dataframe tbody tr th:only-of-type {\n",
       "        vertical-align: middle;\n",
       "    }\n",
       "\n",
       "    .dataframe tbody tr th {\n",
       "        vertical-align: top;\n",
       "    }\n",
       "\n",
       "    .dataframe thead th {\n",
       "        text-align: right;\n",
       "    }\n",
       "</style>\n",
       "<table border=\"1\" class=\"dataframe\">\n",
       "  <thead>\n",
       "    <tr style=\"text-align: right;\">\n",
       "      <th></th>\n",
       "      <th>name</th>\n",
       "      <th>platform</th>\n",
       "      <th>year_of_release</th>\n",
       "      <th>genre</th>\n",
       "      <th>na_sales</th>\n",
       "      <th>eu_sales</th>\n",
       "      <th>jp_sales</th>\n",
       "      <th>other_sales</th>\n",
       "      <th>critic_score</th>\n",
       "      <th>user_score</th>\n",
       "      <th>rating</th>\n",
       "    </tr>\n",
       "  </thead>\n",
       "  <tbody>\n",
       "  </tbody>\n",
       "</table>\n",
       "</div>"
      ],
      "text/plain": [
       "Empty DataFrame\n",
       "Columns: [name, platform, year_of_release, genre, na_sales, eu_sales, jp_sales, other_sales, critic_score, user_score, rating]\n",
       "Index: []"
      ]
     },
     "metadata": {},
     "output_type": "display_data"
    },
    {
     "data": {
      "text/plain": [
       "name                  0\n",
       "platform              0\n",
       "year_of_release     269\n",
       "genre                 0\n",
       "na_sales              0\n",
       "eu_sales              0\n",
       "jp_sales              0\n",
       "other_sales           0\n",
       "critic_score       8576\n",
       "user_score         9123\n",
       "rating                0\n",
       "dtype: int64"
      ]
     },
     "metadata": {},
     "output_type": "display_data"
    }
   ],
   "source": [
    "display(data.isna().sum())\n",
    "display(data.duplicated().sum())\n",
    "display(data[data[['name','year_of_release','platform','genre']].duplicated(keep=False)])\n",
    "data.drop_duplicates(['name','year_of_release','platform','genre'], inplace=True)\n",
    "display(data[data[['name','year_of_release','platform','genre']].duplicated(keep=False)])\n",
    "data = data.dropna(subset=['name','genre'])\n",
    "display(data.isna().sum())"
   ]
  },
  {
   "cell_type": "markdown",
   "metadata": {},
   "source": [
    "Посмотрели на кол-во дубликатов в датафрейме, по стобцам 'name','year_of_release','platform','genre' нашли неявные дубликаты, избавились от пропусков"
   ]
  },
  {
   "cell_type": "markdown",
   "metadata": {},
   "source": [
    "<h5>2.4 Подсчет сумарных продаж  <a class=\"tocSkip\"></h5"
   ]
  },
  {
   "cell_type": "code",
   "execution_count": 6,
   "metadata": {},
   "outputs": [
    {
     "data": {
      "text/html": [
       "<div>\n",
       "<style scoped>\n",
       "    .dataframe tbody tr th:only-of-type {\n",
       "        vertical-align: middle;\n",
       "    }\n",
       "\n",
       "    .dataframe tbody tr th {\n",
       "        vertical-align: top;\n",
       "    }\n",
       "\n",
       "    .dataframe thead th {\n",
       "        text-align: right;\n",
       "    }\n",
       "</style>\n",
       "<table border=\"1\" class=\"dataframe\">\n",
       "  <thead>\n",
       "    <tr style=\"text-align: right;\">\n",
       "      <th></th>\n",
       "      <th>name</th>\n",
       "      <th>platform</th>\n",
       "      <th>year_of_release</th>\n",
       "      <th>genre</th>\n",
       "      <th>na_sales</th>\n",
       "      <th>eu_sales</th>\n",
       "      <th>jp_sales</th>\n",
       "      <th>other_sales</th>\n",
       "      <th>critic_score</th>\n",
       "      <th>user_score</th>\n",
       "      <th>rating</th>\n",
       "      <th>sum_sales</th>\n",
       "    </tr>\n",
       "  </thead>\n",
       "  <tbody>\n",
       "    <tr>\n",
       "      <th>0</th>\n",
       "      <td>Wii Sports</td>\n",
       "      <td>Wii</td>\n",
       "      <td>2006</td>\n",
       "      <td>Sports</td>\n",
       "      <td>41.36</td>\n",
       "      <td>28.96</td>\n",
       "      <td>3.77</td>\n",
       "      <td>8.45</td>\n",
       "      <td>76.0</td>\n",
       "      <td>8.0</td>\n",
       "      <td>E</td>\n",
       "      <td>82.54</td>\n",
       "    </tr>\n",
       "    <tr>\n",
       "      <th>1</th>\n",
       "      <td>Super Mario Bros.</td>\n",
       "      <td>NES</td>\n",
       "      <td>1985</td>\n",
       "      <td>Platform</td>\n",
       "      <td>29.08</td>\n",
       "      <td>3.58</td>\n",
       "      <td>6.81</td>\n",
       "      <td>0.77</td>\n",
       "      <td>NaN</td>\n",
       "      <td>NaN</td>\n",
       "      <td>unknown</td>\n",
       "      <td>40.24</td>\n",
       "    </tr>\n",
       "    <tr>\n",
       "      <th>2</th>\n",
       "      <td>Mario Kart Wii</td>\n",
       "      <td>Wii</td>\n",
       "      <td>2008</td>\n",
       "      <td>Racing</td>\n",
       "      <td>15.68</td>\n",
       "      <td>12.76</td>\n",
       "      <td>3.79</td>\n",
       "      <td>3.29</td>\n",
       "      <td>82.0</td>\n",
       "      <td>8.3</td>\n",
       "      <td>E</td>\n",
       "      <td>35.52</td>\n",
       "    </tr>\n",
       "    <tr>\n",
       "      <th>3</th>\n",
       "      <td>Wii Sports Resort</td>\n",
       "      <td>Wii</td>\n",
       "      <td>2009</td>\n",
       "      <td>Sports</td>\n",
       "      <td>15.61</td>\n",
       "      <td>10.93</td>\n",
       "      <td>3.28</td>\n",
       "      <td>2.95</td>\n",
       "      <td>80.0</td>\n",
       "      <td>8.0</td>\n",
       "      <td>E</td>\n",
       "      <td>32.77</td>\n",
       "    </tr>\n",
       "    <tr>\n",
       "      <th>4</th>\n",
       "      <td>Pokemon Red/Pokemon Blue</td>\n",
       "      <td>GB</td>\n",
       "      <td>1996</td>\n",
       "      <td>Role-Playing</td>\n",
       "      <td>11.27</td>\n",
       "      <td>8.89</td>\n",
       "      <td>10.22</td>\n",
       "      <td>1.00</td>\n",
       "      <td>NaN</td>\n",
       "      <td>NaN</td>\n",
       "      <td>unknown</td>\n",
       "      <td>31.38</td>\n",
       "    </tr>\n",
       "  </tbody>\n",
       "</table>\n",
       "</div>"
      ],
      "text/plain": [
       "                       name platform  year_of_release         genre  na_sales  \\\n",
       "0                Wii Sports      Wii             2006        Sports     41.36   \n",
       "1         Super Mario Bros.      NES             1985      Platform     29.08   \n",
       "2            Mario Kart Wii      Wii             2008        Racing     15.68   \n",
       "3         Wii Sports Resort      Wii             2009        Sports     15.61   \n",
       "4  Pokemon Red/Pokemon Blue       GB             1996  Role-Playing     11.27   \n",
       "\n",
       "   eu_sales  jp_sales  other_sales  critic_score  user_score   rating  \\\n",
       "0     28.96      3.77         8.45          76.0         8.0        E   \n",
       "1      3.58      6.81         0.77           NaN         NaN  unknown   \n",
       "2     12.76      3.79         3.29          82.0         8.3        E   \n",
       "3     10.93      3.28         2.95          80.0         8.0        E   \n",
       "4      8.89     10.22         1.00           NaN         NaN  unknown   \n",
       "\n",
       "   sum_sales  \n",
       "0      82.54  \n",
       "1      40.24  \n",
       "2      35.52  \n",
       "3      32.77  \n",
       "4      31.38  "
      ]
     },
     "execution_count": 6,
     "metadata": {},
     "output_type": "execute_result"
    }
   ],
   "source": [
    "data['sum_sales'] = data['na_sales'] + data['eu_sales'] + data['jp_sales'] + data['other_sales']\n",
    "data.head()\n"
   ]
  },
  {
   "cell_type": "markdown",
   "metadata": {},
   "source": [
    "Создали новый столбец где находяться данные о сумарных продажах"
   ]
  },
  {
   "cell_type": "markdown",
   "metadata": {},
   "source": [
    "\n",
    "Изучили данные, некоторые стобцы имели не подходящий формат дынных мы это исправили, были преведены столбцы к нижнему регистру,заминили абривиатуру 'tbd' на 'NaN'(аналог пропусков), поскольку нам не удасться получить уточнение, пропуски могли образваться по многим причинам, например из за нехватки отзывов или оценок критиков или из за малых продаж,был проведен поиск дубликатов, было обнаружено два не явных дубликата,избавались от них.Поставили заглушку в столбце rating(спасибо за пояснения и информацию). Создали новый столбец где находяться данные о сумарных продажах.   \n",
    "    "
   ]
  },
  {
   "cell_type": "code",
   "execution_count": 7,
   "metadata": {},
   "outputs": [
    {
     "name": "stdout",
     "output_type": "stream",
     "text": [
      "<class 'pandas.core.frame.DataFrame'>\n",
      "Int64Index: 16712 entries, 0 to 16714\n",
      "Data columns (total 12 columns):\n",
      " #   Column           Non-Null Count  Dtype  \n",
      "---  ------           --------------  -----  \n",
      " 0   name             16712 non-null  object \n",
      " 1   platform         16712 non-null  object \n",
      " 2   year_of_release  16443 non-null  Int64  \n",
      " 3   genre            16712 non-null  object \n",
      " 4   na_sales         16712 non-null  float64\n",
      " 5   eu_sales         16712 non-null  float64\n",
      " 6   jp_sales         16712 non-null  float64\n",
      " 7   other_sales      16712 non-null  float64\n",
      " 8   critic_score     8136 non-null   float64\n",
      " 9   user_score       7589 non-null   float64\n",
      " 10  rating           16712 non-null  object \n",
      " 11  sum_sales        16712 non-null  float64\n",
      "dtypes: Int64(1), float64(7), object(4)\n",
      "memory usage: 1.7+ MB\n",
      "None\n",
      "-------------------------\n",
      "name [' Beyblade Burst' ' Fire Emblem Fates' \" Frozen: Olaf's Quest\" ...\n",
      " 'uDraw Studio: Instant Artist' 'wwe Smackdown vs. Raw 2006'\n",
      " '¡Shin Chan Flipa en colores!']\n",
      "name : кол-во NaN 0 , процент NaN 0.0 %\n",
      "-------------------------\n",
      "platform ['2600' '3DO' '3DS' 'DC' 'DS' 'GB' 'GBA' 'GC' 'GEN' 'GG' 'N64' 'NES' 'NG'\n",
      " 'PC' 'PCFX' 'PS' 'PS2' 'PS3' 'PS4' 'PSP' 'PSV' 'SAT' 'SCD' 'SNES' 'TG16'\n",
      " 'WS' 'Wii' 'WiiU' 'X360' 'XB' 'XOne']\n",
      "platform : кол-во NaN 0 , процент NaN 0.0 %\n",
      "-------------------------\n",
      "year_of_release <IntegerArray>\n",
      "[1980, 1981, 1982, 1983, 1984, 1985, 1986, 1987, 1988, 1989, 1990, 1991, 1992,\n",
      " 1993, 1994, 1995, 1996, 1997, 1998, 1999, 2000, 2001, 2002, 2003, 2004, 2005,\n",
      " 2006, 2007, 2008, 2009, 2010, 2011, 2012, 2013, 2014, 2015, 2016, <NA>]\n",
      "Length: 38, dtype: Int64\n",
      "year_of_release : кол-во NaN 269 , процент NaN 1.61 %\n",
      "-------------------------\n",
      "genre ['Action' 'Adventure' 'Fighting' 'Misc' 'Platform' 'Puzzle' 'Racing'\n",
      " 'Role-Playing' 'Shooter' 'Simulation' 'Sports' 'Strategy']\n",
      "genre : кол-во NaN 0 , процент NaN 0.0 %\n",
      "-------------------------\n",
      "critic_score [13. 17. 19. 20. 21. 22. 23. 24. 25. 26. 27. 28. 29. 30. 31. 32. 33. 34.\n",
      " 35. 36. 37. 38. 39. 40. 41. 42. 43. 44. 45. 46. 47. 48. 49. 50. 51. 52.\n",
      " 53. 54. 55. 56. 57. 58. 59. 60. 61. 62. 63. 64. 65. 66. 67. 68. 69. 70.\n",
      " 71. 72. 73. 74. 75. 76. 77. 78. 79. 80. 81. 82. 83. 84. 85. 86. 87. 88.\n",
      " 89. 90. 91. 92. 93. 94. 95. 96. 97. 98. nan]\n",
      "critic_score : кол-во NaN 8576 , процент NaN 51.32 %\n",
      "-------------------------\n",
      "user_score [0.  0.2 0.3 0.5 0.6 0.7 0.9 1.  1.1 1.2 1.3 1.4 1.5 1.6 1.7 1.8 1.9 2.\n",
      " 2.1 2.2 2.3 2.4 2.5 2.6 2.7 2.8 2.9 3.  3.1 3.2 3.3 3.4 3.5 3.6 3.7 3.8\n",
      " 3.9 4.  4.1 4.2 4.3 4.4 4.5 4.6 4.7 4.8 4.9 5.  5.1 5.2 5.3 5.4 5.5 5.6\n",
      " 5.7 5.8 5.9 6.  6.1 6.2 6.3 6.4 6.5 6.6 6.7 6.8 6.9 7.  7.1 7.2 7.3 7.4\n",
      " 7.5 7.6 7.7 7.8 7.9 8.  8.1 8.2 8.3 8.4 8.5 8.6 8.7 8.8 8.9 9.  9.1 9.2\n",
      " 9.3 9.4 9.5 9.6 9.7 nan]\n",
      "user_score : кол-во NaN 9123 , процент NaN 54.59 %\n",
      "-------------------------\n",
      "rating ['AO' 'E' 'E10+' 'EC' 'K-A' 'M' 'RP' 'T' 'unknown']\n",
      "rating : кол-во NaN 0 , процент NaN 0.0 %\n"
     ]
    }
   ],
   "source": [
    "# Посмотрим, что осталось\n",
    "temp = data.copy() \n",
    "list_c = ['name', 'platform', 'year_of_release', 'genre', 'critic_score', 'user_score', 'rating']\n",
    "print(temp.info())\n",
    "for col_l in list_c:\n",
    "  print('-'* 25)\n",
    "  print(col_l, temp[col_l].sort_values().unique())\n",
    "  print(col_l,': кол-во NaN',temp[col_l].isna().sum(),\n",
    "        ', процент NaN', round(temp[col_l].isna().mean()*100,2),'%') "
   ]
  },
  {
   "cell_type": "markdown",
   "metadata": {},
   "source": [
    "<h2>3 Иследовательский анализ данных  <a class=\"tocSkip\"></h2"
   ]
  },
  {
   "cell_type": "markdown",
   "metadata": {},
   "source": [
    "<h5>3.1 Сколько игр выпускалось в разные годы  <a class=\"tocSkip\"></h5"
   ]
  },
  {
   "cell_type": "code",
   "execution_count": 8,
   "metadata": {},
   "outputs": [
    {
     "data": {
      "image/png": "[encoded data removed]",
      "text/plain": [
       "<Figure size 720x504 with 1 Axes>"
      ]
     },
     "metadata": {
      "needs_background": "light"
     },
     "output_type": "display_data"
    }
   ],
   "source": [
    "(data.groupby(['year_of_release'])\\\n",
    "                     .agg({'name':'count'})\n",
    "                     .plot(kind = 'bar', figsize=(10,7), grid=True,))\n",
    "plt.xlabel('Года')\n",
    "plt.ylabel('Количество игр')\n",
    "plt.title('Игры выпущенные в разные года')\n",
    "plt.show()               "
   ]
  },
  {
   "cell_type": "markdown",
   "metadata": {},
   "source": [
    "Из графика мы видим что индустрия начала стремительно развиваться с 1994 года пик кол-ва игр приходиться на 2008-2009 года, далее идет спад.Думаю весь временной диапозон не важен, нужно брать данные близкие к прогназируемому году, в разное время разное кол-во продаж и кол-во игр"
   ]
  },
  {
   "cell_type": "markdown",
   "metadata": {},
   "source": [
    "<h5>3.2 Как менялись продажи по платформам<a class=\"tocSkip\"></h5"
   ]
  },
  {
   "cell_type": "code",
   "execution_count": 9,
   "metadata": {},
   "outputs": [
    {
     "data": {
      "image/png": "[encoded data removed]",
      "text/plain": [
       "<Figure size 720x504 with 1 Axes>"
      ]
     },
     "metadata": {
      "needs_background": "light"
     },
     "output_type": "display_data"
    }
   ],
   "source": [
    "(data.groupby(['platform'])\\\n",
    "                     .agg({'sum_sales':'sum'}).sort_values(by='sum_sales',ascending=False)\n",
    "                     .plot(kind = 'bar', figsize=(10,7), grid=True,))\n",
    "plt.xlabel('Платформы')\n",
    "plt.ylabel('Количество продаж')\n",
    "plt.title('Как менялись продажи по платформам')\n",
    "plt.show()               "
   ]
  },
  {
   "cell_type": "markdown",
   "metadata": {},
   "source": [
    "Из графика видно что гигантами по кол-ву продаж являються ps2 x360 ps3 wii ds ps, но это всего лиш говорит о том что они были лучшие в свое время"
   ]
  },
  {
   "cell_type": "markdown",
   "metadata": {},
   "source": [
    "<h5>3.3 Топ 5 платформ с наибольшими сумарными продажами<a class=\"tocSkip\"></h5"
   ]
  },
  {
   "cell_type": "code",
   "execution_count": 10,
   "metadata": {},
   "outputs": [
    {
     "data": {
      "image/png": "[encoded data removed]",
      "text/plain": [
       "<Figure size 720x504 with 1 Axes>"
      ]
     },
     "metadata": {
      "needs_background": "light"
     },
     "output_type": "display_data"
    }
   ],
   "source": [
    "(data.groupby(['platform'])\\\n",
    "                     .agg({'sum_sales':'sum'}).sort_values(by='sum_sales',ascending=False).head(5)\n",
    "                     .plot(kind = 'bar', figsize=(10,7), grid=True,))\n",
    "plt.xlabel('Платформы')\n",
    "plt.ylabel('Количество продаж')\n",
    "plt.title('Топ 5 платформ с наибольшими продажами')\n",
    "plt.show()               "
   ]
  },
  {
   "cell_type": "code",
   "execution_count": 11,
   "metadata": {
    "scrolled": false
   },
   "outputs": [
    {
     "data": {
      "image/png": "[encoded data removed]",
      "text/plain": [
       "<Figure size 1080x360 with 1 Axes>"
      ]
     },
     "metadata": {
      "needs_background": "light"
     },
     "output_type": "display_data"
    },
    {
     "data": {
      "image/png": "[encoded data removed]",
      "text/plain": [
       "<Figure size 1080x360 with 1 Axes>"
      ]
     },
     "metadata": {
      "needs_background": "light"
     },
     "output_type": "display_data"
    },
    {
     "data": {
      "image/png": "[encoded data removed]",
      "text/plain": [
       "<Figure size 1080x360 with 1 Axes>"
      ]
     },
     "metadata": {
      "needs_background": "light"
     },
     "output_type": "display_data"
    },
    {
     "data": {
      "image/png": "[encoded data removed]",
      "text/plain": [
       "<Figure size 1080x360 with 1 Axes>"
      ]
     },
     "metadata": {
      "needs_background": "light"
     },
     "output_type": "display_data"
    },
    {
     "data": {
      "image/png": "[encoded data removed]",
      "text/plain": [
       "<Figure size 1080x360 with 1 Axes>"
      ]
     },
     "metadata": {
      "needs_background": "light"
     },
     "output_type": "display_data"
    }
   ],
   "source": [
    "top_5_platform = ['PS2','X360','PS3','Wii','DS']\n",
    "def platform_matrix(platform_name):\n",
    "    platform = (data[data['platform'] == platform_name].pivot_table(index='year_of_release', values='sum_sales', aggfunc='sum').reset_index())\n",
    "    fig, ax = plt.subplots(figsize=(15,5))\n",
    "    sb.barplot(data=platform, x='year_of_release', y='sum_sales')                 \n",
    "    fig.suptitle(platform_name)\n",
    "    plt.xlabel('Года')                 \n",
    "    plt.ylabel('Сумма продаж') \n",
    "for platform in top_5_platform:\n",
    "    platform_matrix(platform)                 "
   ]
  },
  {
   "cell_type": "markdown",
   "metadata": {},
   "source": [
    "<h5>3.4 За какой характерный срок появляются новые и исчезают старые платформы?<a class=\"tocSkip\"></h5"
   ]
  },
  {
   "cell_type": "code",
   "execution_count": 12,
   "metadata": {},
   "outputs": [
    {
     "data": {
      "text/html": [
       "<div>\n",
       "<style scoped>\n",
       "    .dataframe tbody tr th:only-of-type {\n",
       "        vertical-align: middle;\n",
       "    }\n",
       "\n",
       "    .dataframe tbody tr th {\n",
       "        vertical-align: top;\n",
       "    }\n",
       "\n",
       "    .dataframe thead tr th {\n",
       "        text-align: left;\n",
       "    }\n",
       "\n",
       "    .dataframe thead tr:last-of-type th {\n",
       "        text-align: right;\n",
       "    }\n",
       "</style>\n",
       "<table border=\"1\" class=\"dataframe\">\n",
       "  <thead>\n",
       "    <tr>\n",
       "      <th></th>\n",
       "      <th>min</th>\n",
       "      <th>max</th>\n",
       "      <th>platform_life</th>\n",
       "    </tr>\n",
       "    <tr>\n",
       "      <th></th>\n",
       "      <th>year_of_release</th>\n",
       "      <th>year_of_release</th>\n",
       "      <th></th>\n",
       "    </tr>\n",
       "    <tr>\n",
       "      <th>platform</th>\n",
       "      <th></th>\n",
       "      <th></th>\n",
       "      <th></th>\n",
       "    </tr>\n",
       "  </thead>\n",
       "  <tbody>\n",
       "    <tr>\n",
       "      <th>2600</th>\n",
       "      <td>1980</td>\n",
       "      <td>1989</td>\n",
       "      <td>10</td>\n",
       "    </tr>\n",
       "    <tr>\n",
       "      <th>3DO</th>\n",
       "      <td>1994</td>\n",
       "      <td>1995</td>\n",
       "      <td>2</td>\n",
       "    </tr>\n",
       "    <tr>\n",
       "      <th>3DS</th>\n",
       "      <td>2011</td>\n",
       "      <td>2016</td>\n",
       "      <td>6</td>\n",
       "    </tr>\n",
       "    <tr>\n",
       "      <th>DC</th>\n",
       "      <td>1998</td>\n",
       "      <td>2008</td>\n",
       "      <td>11</td>\n",
       "    </tr>\n",
       "    <tr>\n",
       "      <th>DS</th>\n",
       "      <td>1985</td>\n",
       "      <td>2013</td>\n",
       "      <td>29</td>\n",
       "    </tr>\n",
       "    <tr>\n",
       "      <th>GB</th>\n",
       "      <td>1988</td>\n",
       "      <td>2001</td>\n",
       "      <td>14</td>\n",
       "    </tr>\n",
       "    <tr>\n",
       "      <th>GBA</th>\n",
       "      <td>2000</td>\n",
       "      <td>2007</td>\n",
       "      <td>8</td>\n",
       "    </tr>\n",
       "    <tr>\n",
       "      <th>GC</th>\n",
       "      <td>2001</td>\n",
       "      <td>2007</td>\n",
       "      <td>7</td>\n",
       "    </tr>\n",
       "    <tr>\n",
       "      <th>GEN</th>\n",
       "      <td>1990</td>\n",
       "      <td>1994</td>\n",
       "      <td>5</td>\n",
       "    </tr>\n",
       "    <tr>\n",
       "      <th>GG</th>\n",
       "      <td>1992</td>\n",
       "      <td>1992</td>\n",
       "      <td>1</td>\n",
       "    </tr>\n",
       "    <tr>\n",
       "      <th>N64</th>\n",
       "      <td>1996</td>\n",
       "      <td>2002</td>\n",
       "      <td>7</td>\n",
       "    </tr>\n",
       "    <tr>\n",
       "      <th>NES</th>\n",
       "      <td>1983</td>\n",
       "      <td>1994</td>\n",
       "      <td>12</td>\n",
       "    </tr>\n",
       "    <tr>\n",
       "      <th>NG</th>\n",
       "      <td>1993</td>\n",
       "      <td>1996</td>\n",
       "      <td>4</td>\n",
       "    </tr>\n",
       "    <tr>\n",
       "      <th>PC</th>\n",
       "      <td>1985</td>\n",
       "      <td>2016</td>\n",
       "      <td>32</td>\n",
       "    </tr>\n",
       "    <tr>\n",
       "      <th>PCFX</th>\n",
       "      <td>1996</td>\n",
       "      <td>1996</td>\n",
       "      <td>1</td>\n",
       "    </tr>\n",
       "    <tr>\n",
       "      <th>PS</th>\n",
       "      <td>1994</td>\n",
       "      <td>2003</td>\n",
       "      <td>10</td>\n",
       "    </tr>\n",
       "    <tr>\n",
       "      <th>PS2</th>\n",
       "      <td>2000</td>\n",
       "      <td>2011</td>\n",
       "      <td>12</td>\n",
       "    </tr>\n",
       "    <tr>\n",
       "      <th>PS3</th>\n",
       "      <td>2006</td>\n",
       "      <td>2016</td>\n",
       "      <td>11</td>\n",
       "    </tr>\n",
       "    <tr>\n",
       "      <th>PS4</th>\n",
       "      <td>2013</td>\n",
       "      <td>2016</td>\n",
       "      <td>4</td>\n",
       "    </tr>\n",
       "    <tr>\n",
       "      <th>PSP</th>\n",
       "      <td>2004</td>\n",
       "      <td>2015</td>\n",
       "      <td>12</td>\n",
       "    </tr>\n",
       "    <tr>\n",
       "      <th>PSV</th>\n",
       "      <td>2011</td>\n",
       "      <td>2016</td>\n",
       "      <td>6</td>\n",
       "    </tr>\n",
       "    <tr>\n",
       "      <th>SAT</th>\n",
       "      <td>1994</td>\n",
       "      <td>1999</td>\n",
       "      <td>6</td>\n",
       "    </tr>\n",
       "    <tr>\n",
       "      <th>SCD</th>\n",
       "      <td>1993</td>\n",
       "      <td>1994</td>\n",
       "      <td>2</td>\n",
       "    </tr>\n",
       "    <tr>\n",
       "      <th>SNES</th>\n",
       "      <td>1990</td>\n",
       "      <td>1999</td>\n",
       "      <td>10</td>\n",
       "    </tr>\n",
       "    <tr>\n",
       "      <th>TG16</th>\n",
       "      <td>1995</td>\n",
       "      <td>1995</td>\n",
       "      <td>1</td>\n",
       "    </tr>\n",
       "    <tr>\n",
       "      <th>WS</th>\n",
       "      <td>1999</td>\n",
       "      <td>2001</td>\n",
       "      <td>3</td>\n",
       "    </tr>\n",
       "    <tr>\n",
       "      <th>Wii</th>\n",
       "      <td>2006</td>\n",
       "      <td>2016</td>\n",
       "      <td>11</td>\n",
       "    </tr>\n",
       "    <tr>\n",
       "      <th>WiiU</th>\n",
       "      <td>2012</td>\n",
       "      <td>2016</td>\n",
       "      <td>5</td>\n",
       "    </tr>\n",
       "    <tr>\n",
       "      <th>X360</th>\n",
       "      <td>2005</td>\n",
       "      <td>2016</td>\n",
       "      <td>12</td>\n",
       "    </tr>\n",
       "    <tr>\n",
       "      <th>XB</th>\n",
       "      <td>2000</td>\n",
       "      <td>2008</td>\n",
       "      <td>9</td>\n",
       "    </tr>\n",
       "    <tr>\n",
       "      <th>XOne</th>\n",
       "      <td>2013</td>\n",
       "      <td>2016</td>\n",
       "      <td>4</td>\n",
       "    </tr>\n",
       "  </tbody>\n",
       "</table>\n",
       "</div>"
      ],
      "text/plain": [
       "                     min             max platform_life\n",
       "         year_of_release year_of_release              \n",
       "platform                                              \n",
       "2600                1980            1989            10\n",
       "3DO                 1994            1995             2\n",
       "3DS                 2011            2016             6\n",
       "DC                  1998            2008            11\n",
       "DS                  1985            2013            29\n",
       "GB                  1988            2001            14\n",
       "GBA                 2000            2007             8\n",
       "GC                  2001            2007             7\n",
       "GEN                 1990            1994             5\n",
       "GG                  1992            1992             1\n",
       "N64                 1996            2002             7\n",
       "NES                 1983            1994            12\n",
       "NG                  1993            1996             4\n",
       "PC                  1985            2016            32\n",
       "PCFX                1996            1996             1\n",
       "PS                  1994            2003            10\n",
       "PS2                 2000            2011            12\n",
       "PS3                 2006            2016            11\n",
       "PS4                 2013            2016             4\n",
       "PSP                 2004            2015            12\n",
       "PSV                 2011            2016             6\n",
       "SAT                 1994            1999             6\n",
       "SCD                 1993            1994             2\n",
       "SNES                1990            1999            10\n",
       "TG16                1995            1995             1\n",
       "WS                  1999            2001             3\n",
       "Wii                 2006            2016            11\n",
       "WiiU                2012            2016             5\n",
       "X360                2005            2016            12\n",
       "XB                  2000            2008             9\n",
       "XOne                2013            2016             4"
      ]
     },
     "metadata": {},
     "output_type": "display_data"
    },
    {
     "data": {
      "text/plain": [
       "7.0"
      ]
     },
     "execution_count": 12,
     "metadata": {},
     "output_type": "execute_result"
    }
   ],
   "source": [
    "platform_validity = data.pivot_table(index = 'platform', values = 'year_of_release', aggfunc = ['min','max'])\n",
    "platform_validity['platform_life'] = platform_validity['max'] - platform_validity['min'] +1\n",
    "display(platform_validity)\n",
    "platform_validity['platform_life'].median()"
   ]
  },
  {
   "cell_type": "markdown",
   "metadata": {},
   "source": [
    "Выяснил средний жизненый цикл платформ"
   ]
  },
  {
   "cell_type": "markdown",
   "metadata": {},
   "source": [
    "<h5>3.5 Потенциально прибыльные платформы за актуальный период( с 2012 по 2016 включительно)<a class=\"tocSkip\"></h5"
   ]
  },
  {
   "cell_type": "code",
   "execution_count": 13,
   "metadata": {},
   "outputs": [
    {
     "data": {
      "image/png": "[encoded data removed]",
      "text/plain": [
       "<Figure size 864x504 with 1 Axes>"
      ]
     },
     "metadata": {
      "needs_background": "light"
     },
     "output_type": "display_data"
    }
   ],
   "source": [
    "act_data = data.query('2012 <= year_of_release <= 2016')\n",
    "lead_platform = (act_data.groupby(['platform','year_of_release'])\\\n",
    "                     .agg({'sum_sales':'sum'})\n",
    "                     .plot(kind = 'bar', figsize=(12,7), grid=True,))\n",
    "plt.xlabel('Платформы,год')\n",
    "plt.ylabel('Количество продаж')\n",
    "plt.title('Потенциально прибыльные платформы за актуальный период( с 2012 по 2016 включительно)')\n",
    "plt.show()               "
   ]
  },
  {
   "cell_type": "markdown",
   "metadata": {},
   "source": [
    "Отфильтровали датафрейм под \"актуальный период\", практически на всех платформах наблюдаеться спад продаж, видимио подходит к концу их жизненый цикл.Под потенциальо прибыльные платформы можно принять PS4 и XOne"
   ]
  },
  {
   "cell_type": "markdown",
   "metadata": {},
   "source": [
    "<h5>Постройте график «ящик с усами» по глобальным продажам игр в разбивке по платформам. Опишите результат.<a class=\"tocSkip\"></h5"
   ]
  },
  {
   "cell_type": "code",
   "execution_count": 14,
   "metadata": {},
   "outputs": [
    {
     "data": {
      "image/png": "[encoded data removed]",
      "text/plain": [
       "<Figure size 1224x720 with 1 Axes>"
      ]
     },
     "metadata": {
      "needs_background": "light"
     },
     "output_type": "display_data"
    }
   ],
   "source": [
    "plt.figure(figsize=(17, 10))\n",
    "sb.boxplot(data=act_data, x='platform', y='sum_sales')\n",
    "plt.title('Ящик')\n",
    "plt.xlabel('Платформы')\n",
    "plt.ylabel('Продажи')\n",
    "plt.show()"
   ]
  },
  {
   "cell_type": "code",
   "execution_count": 15,
   "metadata": {},
   "outputs": [
    {
     "data": {
      "image/png": "[encoded data removed]",
      "text/plain": [
       "<Figure size 1224x720 with 1 Axes>"
      ]
     },
     "metadata": {
      "needs_background": "light"
     },
     "output_type": "display_data"
    }
   ],
   "source": [
    "plt.figure(figsize=(17, 10))\n",
    "sb.boxplot(data=act_data, x='platform', y='sum_sales')\n",
    "plt.title('Ящик')\n",
    "plt.xlabel('Платформы')\n",
    "plt.ylabel('Продажи')\n",
    "plt.ylim([0,3])\n",
    "plt.show()"
   ]
  },
  {
   "cell_type": "markdown",
   "metadata": {},
   "source": [
    "На диаграмме размаха мы видим что на всех платформах присутствуют выбросы, продажи от медианы до 0,75 квантиля на всех платформах больше чем от 0,25 квантиля до медианы"
   ]
  },
  {
   "cell_type": "markdown",
   "metadata": {},
   "source": [
    "<h5>3.6 Посмотрите, как влияют на продажи внутри одной популярной платформы отзывы пользователей и критиков. Постройте диаграмму рассеяния и посчитайте корреляцию между отзывами и продажами. Сформулируйте выводы.<a class=\"tocSkip\"></h5"
   ]
  },
  {
   "cell_type": "code",
   "execution_count": 16,
   "metadata": {},
   "outputs": [
    {
     "data": {
      "image/png": "[encoded data removed]",
      "text/plain": [
       "<Figure size 720x504 with 1 Axes>"
      ]
     },
     "metadata": {
      "needs_background": "light"
     },
     "output_type": "display_data"
    },
    {
     "name": "stdout",
     "output_type": "stream",
     "text": [
      "Коэффициент корреляции для критиков - PS4: 0.40656790206178095\n"
     ]
    },
    {
     "data": {
      "image/png": "[encoded data removed]",
      "text/plain": [
       "<Figure size 720x504 with 1 Axes>"
      ]
     },
     "metadata": {
      "needs_background": "light"
     },
     "output_type": "display_data"
    },
    {
     "name": "stdout",
     "output_type": "stream",
     "text": [
      "Коэффициент корреляции для пользователей - PS4: -0.031957110204556376\n"
     ]
    }
   ],
   "source": [
    "ps4_data = act_data.query('platform == \"PS4\"')\n",
    "\n",
    "(ps4_data.plot(x='critic_score', y='sum_sales', kind='scatter', figsize=(10,7), title='Грпфик кореляции продаж и оценок критиков для рлатформы ps4', grid=True)) \n",
    "plt.xlabel('Оценки критиков')\n",
    "plt.ylabel('Суммарные продажи')\n",
    "plt.show()\n",
    "\n",
    "ps4_data['critic_score'] = ps4_data['critic_score'].astype('float64')\n",
    "correlation_coefficient = ps4_data['critic_score'].corr(ps4_data['sum_sales'])\n",
    "print('Коэффициент корреляции для критиков - PS4:', correlation_coefficient)\n",
    "\n",
    "\n",
    "(ps4_data.plot(x='user_score', y='sum_sales', kind='scatter', figsize=(10,7), title='График кореляции продаж и оценок пользователей для платформы ps4', grid=True)) \n",
    "plt.xlabel('Оценки пользователей')\n",
    "plt.ylabel('Суммарные продажи')\n",
    "plt.show()\n",
    "correlation_coefficient = ps4_data['user_score'].corr(ps4_data['sum_sales'])\n",
    "print('Коэффициент корреляции для пользователей - PS4:', correlation_coefficient)\n"
   ]
  },
  {
   "cell_type": "markdown",
   "metadata": {},
   "source": [
    "На графиках корреляции продаж и оценок  мы видим что чем выше оценка критиков тем выше количество продаж, от себя добавлю я бы не стал судить по оценкам пользователей, ведь обычный обыватель или игроман не в состоянии судить беспристрастно, за редким исключением, критики же должны судить беспристрастно.Коэффициент корреляции для критиков - PS4: 0.40656790206178095 присутствует слабая связь между продажами и оценкой критиков.Коэффициент корреляции для пользователей - PS4: -0.031957110204556376 присутсвует очень слабая отрицательная связь, скорее евсего не стоит брать в расчет."
   ]
  },
  {
   "cell_type": "markdown",
   "metadata": {},
   "source": [
    "<h5>3.7 Соотнесите выводы с продажами игр на других платформах.<a class=\"tocSkip\"></h5"
   ]
  },
  {
   "cell_type": "code",
   "execution_count": 17,
   "metadata": {
    "scrolled": false
   },
   "outputs": [
    {
     "name": "stdout",
     "output_type": "stream",
     "text": [
      "Кореляция по оценкам пользователей и продаж PS3 -0.006205767686051523\n",
      "Кореляция по оценкам критиков и продаж PS3 0.3341517575509856\n"
     ]
    },
    {
     "data": {
      "image/png": "[encoded data removed]",
      "text/plain": [
       "<Figure size 720x360 with 2 Axes>"
      ]
     },
     "metadata": {
      "needs_background": "light"
     },
     "output_type": "display_data"
    },
    {
     "name": "stdout",
     "output_type": "stream",
     "text": [
      "Кореляция по оценкам пользователей и продаж X360 0.006163978646213326\n",
      "Кореляция по оценкам критиков и продаж X360 0.3605734888507336\n"
     ]
    },
    {
     "data": {
      "image/png": "[encoded data removed]",
      "text/plain": [
       "<Figure size 720x360 with 2 Axes>"
      ]
     },
     "metadata": {
      "needs_background": "light"
     },
     "output_type": "display_data"
    },
    {
     "name": "stdout",
     "output_type": "stream",
     "text": [
      "Кореляция по оценкам пользователей и продаж 3DS 0.19758263411038599\n",
      "Кореляция по оценкам критиков и продаж 3DS 0.3208028695360785\n"
     ]
    },
    {
     "data": {
      "image/png": "[encoded data removed]",
      "text/plain": [
       "<Figure size 720x360 with 2 Axes>"
      ]
     },
     "metadata": {
      "needs_background": "light"
     },
     "output_type": "display_data"
    },
    {
     "name": "stdout",
     "output_type": "stream",
     "text": [
      "Кореляция по оценкам пользователей и продаж XONE -0.06892505328279414\n",
      "Кореляция по оценкам критиков и продаж XONE 0.4169983280084017\n"
     ]
    },
    {
     "data": {
      "image/png": "[encoded data removed]",
      "text/plain": [
       "<Figure size 720x360 with 2 Axes>"
      ]
     },
     "metadata": {
      "needs_background": "light"
     },
     "output_type": "display_data"
    },
    {
     "name": "stdout",
     "output_type": "stream",
     "text": [
      "Кореляция по оценкам пользователей и продаж DS 0.88270872757644\n",
      "Кореляция по оценкам критиков и продаж DS nan\n"
     ]
    },
    {
     "data": {
      "image/png": "[encoded data removed]",
      "text/plain": [
       "<Figure size 720x360 with 2 Axes>"
      ]
     },
     "metadata": {
      "needs_background": "light"
     },
     "output_type": "display_data"
    },
    {
     "name": "stdout",
     "output_type": "stream",
     "text": [
      "Кореляция по оценкам пользователей и продаж WIIU 0.4002190202148617\n",
      "Кореляция по оценкам критиков и продаж WIIU 0.34837976012017485\n"
     ]
    },
    {
     "data": {
      "image/png": "[encoded data removed]",
      "text/plain": [
       "<Figure size 720x360 with 2 Axes>"
      ]
     },
     "metadata": {
      "needs_background": "light"
     },
     "output_type": "display_data"
    },
    {
     "name": "stdout",
     "output_type": "stream",
     "text": [
      "Кореляция по оценкам пользователей и продаж WII 0.29619680007479526\n",
      "Кореляция по оценкам критиков и продаж WII -0.4243413011077494\n"
     ]
    },
    {
     "data": {
      "image/png": "[encoded data removed]",
      "text/plain": [
       "<Figure size 720x360 with 2 Axes>"
      ]
     },
     "metadata": {
      "needs_background": "light"
     },
     "output_type": "display_data"
    },
    {
     "name": "stdout",
     "output_type": "stream",
     "text": [
      "Кореляция по оценкам пользователей и продаж PC -0.12186747630735577\n",
      "Кореляция по оценкам критиков и продаж PC 0.23724324311567915\n"
     ]
    },
    {
     "data": {
      "image/png": "[encoded data removed]",
      "text/plain": [
       "<Figure size 720x360 with 2 Axes>"
      ]
     },
     "metadata": {
      "needs_background": "light"
     },
     "output_type": "display_data"
    },
    {
     "name": "stdout",
     "output_type": "stream",
     "text": [
      "Кореляция по оценкам пользователей и продаж PSV -0.004339437514314869\n",
      "Кореляция по оценкам критиков и продаж PSV 0.0944878992931617\n"
     ]
    },
    {
     "data": {
      "image/png": "[encoded data removed]",
      "text/plain": [
       "<Figure size 720x360 with 2 Axes>"
      ]
     },
     "metadata": {
      "needs_background": "light"
     },
     "output_type": "display_data"
    },
    {
     "name": "stdout",
     "output_type": "stream",
     "text": [
      "Кореляция по оценкам пользователей и продаж PSP -0.802302061939321\n",
      "Кореляция по оценкам критиков и продаж PSP nan\n"
     ]
    },
    {
     "data": {
      "image/png": "[encoded data removed]",
      "text/plain": [
       "<Figure size 720x360 with 2 Axes>"
      ]
     },
     "metadata": {
      "needs_background": "light"
     },
     "output_type": "display_data"
    }
   ],
   "source": [
    "other_platform = ['PS3','X360','3DS','XOne','DS','WiiU','Wii', 'PC', 'PSV', 'PSP']\n",
    "def platform_matrix(platform_name):\n",
    "    platform = (act_data[act_data['platform'] == platform_name])\n",
    "    fig, ax = plt.subplots(1, 2, figsize=(10,5))\n",
    "    sb.scatterplot(color='red', x='user_score', y='sum_sales', data=platform, ax=ax[0])\n",
    "    sb.scatterplot(color='green', x='critic_score', y='sum_sales', data=platform, ax=ax[1])                 \n",
    "    fig.suptitle(platform_name)\n",
    "    ax[0].set(xlabel='Оценка пользователей')\n",
    "    ax[1].set(xlabel='Оценка критиков')\n",
    "    ax[0].set(ylabel='Продажи')\n",
    "    ax[1].set(ylabel='Продажи')\n",
    "    user_corr = platform['user_score'].corr(platform['sum_sales'])\n",
    "    critic_corr = platform['critic_score'].corr(platform['sum_sales'])\n",
    "    print('Кореляция по оценкам пользователей и продаж', platform_name.upper(),user_corr)\n",
    "    print('Кореляция по оценкам критиков и продаж', platform_name.upper(), critic_corr)\n",
    "    plt.show()\n",
    "for platform in other_platform:\n",
    "    platform_matrix(platform)      "
   ]
  },
  {
   "cell_type": "markdown",
   "metadata": {},
   "source": [
    "Вывод такой же как по платформе PS4, за исключением DS,PSP,Wii, так как для этих платформ пришел закат их жизни."
   ]
  },
  {
   "cell_type": "markdown",
   "metadata": {},
   "source": [
    "<h5>3.8 Посмотрите на общее распределение игр по жанрам. Что можно сказать о самых прибыльных жанрах? Выделяются ли жанры с высокими и низкими продажами?<a class=\"tocSkip\"></h5"
   ]
  },
  {
   "cell_type": "code",
   "execution_count": 18,
   "metadata": {},
   "outputs": [
    {
     "data": {
      "image/png": "[encoded data removed]",
      "text/plain": [
       "<Figure size 720x360 with 1 Axes>"
      ]
     },
     "metadata": {
      "needs_background": "light"
     },
     "output_type": "display_data"
    }
   ],
   "source": [
    "data_genre = (act_data.groupby(['genre'])\\\n",
    "             .agg({'sum_sales':'median'}).sort_values(by = 'sum_sales')\n",
    "             .plot(kind='bar',grid=True, color='green',title='Распределение игр по жанрам',\n",
    "                  figsize=(10,5)))\n",
    "plt.ylabel('Продажи')\n",
    "plt.xlabel('Жанры')\n",
    "plt.show()"
   ]
  },
  {
   "cell_type": "code",
   "execution_count": 19,
   "metadata": {},
   "outputs": [
    {
     "data": {
      "image/png": "[encoded data removed]",
      "text/plain": [
       "<Figure size 1080x720 with 1 Axes>"
      ]
     },
     "metadata": {
      "needs_background": "light"
     },
     "output_type": "display_data"
    }
   ],
   "source": [
    "plt.figure(figsize=(15, 10))\n",
    "sb.boxplot(data=act_data, x='genre', y='sum_sales')\n",
    "plt.title('Ящик с усами')\n",
    "plt.xlabel('Жанры')\n",
    "plt.ylabel('Продажи')\n",
    "plt.show()"
   ]
  },
  {
   "cell_type": "code",
   "execution_count": 20,
   "metadata": {},
   "outputs": [
    {
     "data": {
      "image/png": "[encoded data removed]",
      "text/plain": [
       "<Figure size 1080x720 with 1 Axes>"
      ]
     },
     "metadata": {
      "needs_background": "light"
     },
     "output_type": "display_data"
    }
   ],
   "source": [
    "plt.figure(figsize=(15, 10))\n",
    "sb.boxplot(data=act_data, x='genre', y='sum_sales')\n",
    "plt.title('Ящик с усами')\n",
    "plt.xlabel('Жанры')\n",
    "plt.ylabel('Продажи')\n",
    "plt.ylim([0,3])\n",
    "plt.show()"
   ]
  },
  {
   "cell_type": "markdown",
   "metadata": {},
   "source": [
    "Из графиков видно что лидируют несколько жанров(Shooter,Sports) на них есть явный спрос."
   ]
  },
  {
   "cell_type": "markdown",
   "metadata": {},
   "source": [
    "<h2>4 Составьте портрет пользователя каждого региона  <a class=\"tocSkip\"></h2\n"
   ]
  },
  {
   "cell_type": "markdown",
   "metadata": {},
   "source": [
    "<h5>Определите для пользователя каждого региона (NA, EU, JP):<a class=\"tocSkip\"></h5"
   ]
  },
  {
   "cell_type": "markdown",
   "metadata": {},
   "source": [
    "<h5>4.1 Самые популярные платформы (топ-5). Опишите различия в долях продаж.<a class=\"tocSkip\"></h5"
   ]
  },
  {
   "cell_type": "code",
   "execution_count": 21,
   "metadata": {},
   "outputs": [
    {
     "data": {
      "image/png": "[encoded data removed]",
      "text/plain": [
       "<Figure size 720x360 with 1 Axes>"
      ]
     },
     "metadata": {
      "needs_background": "light"
     },
     "output_type": "display_data"
    }
   ],
   "source": [
    "(act_data.groupby(['platform'])\\\n",
    ".agg({'na_sales':'sum'}).sort_values(by='na_sales', ascending=False).head(5)\n",
    ".plot(kind='bar',grid=True, color='red',\n",
    "     figsize=(10,5)))\n",
    "plt.title('Топ 5 платформ в Северной Америки')\n",
    "plt.xlabel('Платформы')\n",
    "plt.ylabel('Продажи')\n",
    "plt.show()"
   ]
  },
  {
   "cell_type": "code",
   "execution_count": 22,
   "metadata": {},
   "outputs": [
    {
     "data": {
      "image/png": "[encoded data removed]",
      "text/plain": [
       "<Figure size 720x360 with 1 Axes>"
      ]
     },
     "metadata": {
      "needs_background": "light"
     },
     "output_type": "display_data"
    }
   ],
   "source": [
    "(act_data.groupby(['platform'])\\\n",
    ".agg({'eu_sales':'sum'}).sort_values(by='eu_sales', ascending=False).head(5)\n",
    ".plot(kind='bar',grid=True, color='yellow',\n",
    "     figsize=(10,5)))\n",
    "plt.title('Топ 5 платформ в Европе')\n",
    "plt.xlabel('Платформы')\n",
    "plt.ylabel('Продажи')\n",
    "plt.show()"
   ]
  },
  {
   "cell_type": "code",
   "execution_count": 23,
   "metadata": {},
   "outputs": [
    {
     "data": {
      "image/png": "[encoded data removed]",
      "text/plain": [
       "<Figure size 720x360 with 1 Axes>"
      ]
     },
     "metadata": {
      "needs_background": "light"
     },
     "output_type": "display_data"
    }
   ],
   "source": [
    "(act_data.groupby(['platform'])\\\n",
    ".agg({'jp_sales':'sum'}).sort_values(by='jp_sales', ascending=False).head(5)\n",
    ".plot(kind='bar',grid=True, color='green',\n",
    "     figsize=(10,5)))\n",
    "plt.title('Топ 5 платформ в Японии')\n",
    "plt.xlabel('Платформы')\n",
    "plt.ylabel('Продажи')\n",
    "plt.show()"
   ]
  },
  {
   "cell_type": "code",
   "execution_count": 24,
   "metadata": {
    "scrolled": false
   },
   "outputs": [
    {
     "data": {
      "image/png": "[encoded data removed]",
      "text/plain": [
       "<Figure size 720x360 with 1 Axes>"
      ]
     },
     "metadata": {
      "needs_background": "light"
     },
     "output_type": "display_data"
    }
   ],
   "source": [
    "(act_data.groupby(['platform'])\\\n",
    ".agg({'na_sales':'sum', 'eu_sales':'sum', 'jp_sales':'sum'}).sort_values(by='na_sales', ascending=False).head(5)\n",
    ".plot(kind='bar',grid=True, color=['red','yellow','green'],\n",
    "     figsize=(10,5)))\n",
    "plt.title('Топ 5 платформ по трем регионам(na,eu,jp)')\n",
    "plt.xlabel('Платформы')\n",
    "plt.ylabel('Продажи')\n",
    "plt.show()"
   ]
  },
  {
   "cell_type": "markdown",
   "metadata": {},
   "source": [
    "В Северной Америке лидирует x360, за этой платформой расположились с небольшим отрывом друг от друга ps3,ps4,xone, замыкает топ 3ds.В Европе популярной платформой считают ps4, за ней с рафномерным отрывом расположились ps3,x360,xone, топ так же занимает 3ds.В Японии совсем другая ситуация топом считаеться 3ds,за этой платформой следует ps3,psv,ps4, топ замыкает wiiu, отсутствует xone."
   ]
  },
  {
   "cell_type": "markdown",
   "metadata": {},
   "source": [
    "<h5>4.2 Самые популярные жанры (топ-5). Поясните разницу.<a class=\"tocSkip\"></h5"
   ]
  },
  {
   "cell_type": "code",
   "execution_count": 25,
   "metadata": {},
   "outputs": [
    {
     "data": {
      "image/png": "[encoded data removed]",
      "text/plain": [
       "<Figure size 2160x2160 with 3 Axes>"
      ]
     },
     "metadata": {},
     "output_type": "display_data"
    }
   ],
   "source": [
    "def platform_matrix(platform_name):\n",
    "    fig, ax = plt.subplots(3, figsize=(30,30))\n",
    "    na = (act_data.groupby(['genre'])\\\n",
    ".agg({'na_sales':'sum'}).sort_values(by='na_sales', ascending=False).head(5)\n",
    ".plot(kind='pie', x='genre', y='na_sales', autopct=\"%.2f\", ax=ax[0]))\n",
    "    eu = (act_data.groupby(['genre'])\\\n",
    ".agg({'eu_sales':'sum'}).sort_values(by='eu_sales', ascending=False).head(5)\n",
    ".plot(kind='pie', x='genre', y='eu_sales', autopct=\"%.2f\", ax=ax[1]))\n",
    "    jp = (act_data.groupby(['genre'])\\\n",
    ".agg({'jp_sales':'sum'}).sort_values(by='jp_sales', ascending=False).head(5)\n",
    ".plot(kind='pie', x='genre', y='jp_sales', autopct=\"%.2f\", ax=ax[2]))\n",
    "    ax[0].set_title('Топ 5 жанров в Северной Америки')\n",
    "    ax[1].set_title('Топ 5 жанров в Европе')\n",
    "    ax[2].set_title('Топ 5 жанров в Японии')\n",
    "    plt.show()\n",
    "platform_matrix(data)"
   ]
  },
  {
   "cell_type": "markdown",
   "metadata": {},
   "source": [
    "В Свереной Америке и Европе самыми популярными жанрами являются Action,Shooter.В Японии же лидируют Role-Playing и Action."
   ]
  },
  {
   "cell_type": "markdown",
   "metadata": {},
   "source": [
    "<h5>4.3 Влияет ли рейтинг ESRB на продажи в отдельном регионе?<a class=\"tocSkip\"></h5"
   ]
  },
  {
   "cell_type": "code",
   "execution_count": 26,
   "metadata": {},
   "outputs": [
    {
     "data": {
      "image/png": "[encoded data removed]",
      "text/plain": [
       "<Figure size 720x360 with 1 Axes>"
      ]
     },
     "metadata": {},
     "output_type": "display_data"
    }
   ],
   "source": [
    "(act_data.groupby(['rating'])\\\n",
    ".agg({'na_sales':'sum'}).sort_values(by='na_sales', ascending=False)\n",
    ".plot(kind='pie',x='rating', y='na_sales',autopct=\"%.2f\",\n",
    "     figsize=(10,5)))\n",
    "plt.title('Влияние рейтинга на продажи в Северной Америки')\n",
    "plt.xlabel('Рейтинг')\n",
    "plt.ylabel('Продажи')\n",
    "plt.show()"
   ]
  },
  {
   "cell_type": "code",
   "execution_count": 27,
   "metadata": {},
   "outputs": [
    {
     "data": {
      "image/png": "[encoded data removed]",
      "text/plain": [
       "<Figure size 720x360 with 1 Axes>"
      ]
     },
     "metadata": {},
     "output_type": "display_data"
    }
   ],
   "source": [
    "(act_data.groupby(['rating'])\\\n",
    ".agg({'eu_sales':'sum'}).sort_values(by='eu_sales', ascending=False)\n",
    ".plot(kind='pie',x='rating', y='eu_sales', autopct=\"%.2f\",\n",
    "     figsize=(10,5)))\n",
    "plt.title('Влияние рейтинга на продажи в Европе')\n",
    "plt.xlabel('Рейтинг')\n",
    "plt.ylabel('Продажи')\n",
    "plt.show()"
   ]
  },
  {
   "cell_type": "code",
   "execution_count": 28,
   "metadata": {},
   "outputs": [
    {
     "data": {
      "image/png": "[encoded data removed]",
      "text/plain": [
       "<Figure size 720x360 with 1 Axes>"
      ]
     },
     "metadata": {},
     "output_type": "display_data"
    }
   ],
   "source": [
    "(act_data.groupby(['rating'])\\\n",
    ".agg({'jp_sales':'sum'}).sort_values(by='jp_sales', ascending=False)\n",
    ".plot(kind='pie',x='rating', y='jp_sales', autopct=\"%.2f\",\n",
    "     figsize=(10,5)))\n",
    "plt.title('Влияние рейтинга на продажи в Японии')\n",
    "plt.xlabel('Рейтинг')\n",
    "plt.ylabel('Продажи')\n",
    "plt.show()"
   ]
  },
  {
   "cell_type": "code",
   "execution_count": 29,
   "metadata": {},
   "outputs": [
    {
     "data": {
      "image/png": "[encoded data removed]",
      "text/plain": [
       "<Figure size 720x360 with 1 Axes>"
      ]
     },
     "metadata": {
      "needs_background": "light"
     },
     "output_type": "display_data"
    }
   ],
   "source": [
    "(act_data.groupby(['rating'])\\\n",
    ".agg({'na_sales':'sum', 'eu_sales':'sum', 'jp_sales':'sum'}).sort_values(by='na_sales', ascending=False)\n",
    ".plot(kind='bar',grid=True, color=['red','yellow','green'],\n",
    "     figsize=(10,5)))\n",
    "plt.title('Влияние рейтинга трем регионам(na,eu,jp)')\n",
    "plt.xlabel('Рейтинг')\n",
    "plt.ylabel('Продажи')\n",
    "plt.show()"
   ]
  },
  {
   "cell_type": "markdown",
   "metadata": {},
   "source": [
    "ESRB:\n",
    "E - (Everyone) - для всей аудитории\n",
    "M - (Mature ) — для лиц старше 17 лет(ага)\n",
    "T - (Teen) — для аудитории старше 13 лет\n",
    "E10+ - (Everyone 10 and older) — для всех старше 10 лет\n",
    "\n",
    "В Северной Америке и Европе популярней всего игры с рейтингом M - (Mature ) — для лиц старше 17 лет и Е - (Everyone) - для всей аудитории, в Японии же более популярны T - (Teen) — для аудитории старше 13 лет и E - (Everyone) - для всей аудитории."
   ]
  },
  {
   "cell_type": "markdown",
   "metadata": {},
   "source": [
    "<h2>5 Проверка гипотез<a class=\"tocSkip\"></h2"
   ]
  },
  {
   "cell_type": "markdown",
   "metadata": {},
   "source": [
    "<h5>5.1 Средние пользовательские рейтинги платформ Xbox One и PC одинаковые<a class=\"tocSkip\"></h5"
   ]
  },
  {
   "cell_type": "markdown",
   "metadata": {},
   "source": [
    "H_0 Средние пользовательские рейтинги платформ Xbox One и PC равны\n",
    "\n",
    "H_1 Средние пользовательские рейтинги платформ Xbox One и PC не равны или больше/меньше"
   ]
  },
  {
   "cell_type": "code",
   "execution_count": 31,
   "metadata": {},
   "outputs": [
    {
     "data": {
      "text/plain": [
       "247"
      ]
     },
     "metadata": {},
     "output_type": "display_data"
    },
    {
     "data": {
      "text/plain": [
       "250"
      ]
     },
     "metadata": {},
     "output_type": "display_data"
    },
    {
     "name": "stdout",
     "output_type": "stream",
     "text": [
      "0.5489537965134987\n",
      "Нулевую гипотезу не удалось отвергнуть\n"
     ]
    }
   ],
   "source": [
    "xone_data = act_data.query('platform == \"XOne\"')\n",
    "xone_rating = xone_data['user_score']\n",
    "pc_data = act_data.query('platform == \"PC\"')\n",
    "pc_rating = pc_data['user_score']\n",
    "display(len(xone_rating))\n",
    "display(len(pc_rating))\n",
    "result = st.ttest_ind(xone_rating,\n",
    "                     pc_rating,\n",
    "                     nan_policy='omit',\n",
    "                     equal_var=False)\n",
    "alpha = 0.05\n",
    "\n",
    "print(result.pvalue)\n",
    "\n",
    "if result.pvalue < alpha:\n",
    "    print('Отвергаем нулевую гипотизу')\n",
    "else:\n",
    "    print('Нулевую гипотезу не удалось отвергнуть')\n",
    "    \n"
   ]
  },
  {
   "cell_type": "markdown",
   "metadata": {},
   "source": [
    "Выяснили что выборки разного размера, по этому применяем equal_var=False.Так как присутствуют 2 выборки, выполняем проверку двух генеральных совокупностей scipy.stats.ttest_ind(). Нулевую гипотезу не удалось отвергнуть."
   ]
  },
  {
   "cell_type": "markdown",
   "metadata": {},
   "source": [
    "\n",
    "Из имеющихся данный на уровне значимости alpha = 0.05 нет основания отвергнуть нулевую гипотезу о равенстве средних пользовательских рейтингов платформ Xbox One и PC."
   ]
  },
  {
   "cell_type": "markdown",
   "metadata": {},
   "source": [
    "<h5>5.2 Средние пользовательские рейтинги жанров Action (англ. «действие», экшен-игры) и Sports (англ. «спортивные соревнования») разные.<a class=\"tocSkip\"></h5"
   ]
  },
  {
   "cell_type": "markdown",
   "metadata": {},
   "source": [
    "H_0 Средние пользовательские рейтинги жанров Action и Sports равны\n",
    "\n",
    "H_1 Средние пользовательские рейтинги платформ Xbox One и PC не равны или больше/меньше"
   ]
  },
  {
   "cell_type": "code",
   "execution_count": 32,
   "metadata": {},
   "outputs": [
    {
     "data": {
      "text/plain": [
       "1031"
      ]
     },
     "metadata": {},
     "output_type": "display_data"
    },
    {
     "data": {
      "text/plain": [
       "267"
      ]
     },
     "metadata": {},
     "output_type": "display_data"
    },
    {
     "name": "stdout",
     "output_type": "stream",
     "text": [
      "5.98945806646755e-20\n",
      "Отвергаем нулевую гипотизу\n"
     ]
    }
   ],
   "source": [
    "action_data = act_data.query('genre == \"Action\"')\n",
    "action_rating = action_data['user_score']\n",
    "sports_data = act_data.query('genre == \"Sports\"')\n",
    "sports_rating = sports_data['user_score']\n",
    "display(len(action_rating))\n",
    "display(len(sports_rating))\n",
    "result = st.ttest_ind(action_rating,\n",
    "                     sports_rating,\n",
    "                     nan_policy='omit',\n",
    "                     equal_var=False)\n",
    "alpha = 0.05\n",
    "\n",
    "print(result.pvalue)\n",
    "\n",
    "if result.pvalue < alpha:\n",
    "    print('Отвергаем нулевую гипотизу')\n",
    "else:\n",
    "    print('Нулевую гипотезу не удалось отвергнуть')"
   ]
  },
  {
   "cell_type": "markdown",
   "metadata": {},
   "source": [
    "Выяснили что выборки разного размера, по этому применяем equal_var=False.Так как присутствуют 2 выборки, выполняем проверку двух генеральных совокупностей scipy.stats.ttest_ind(). Отвергаем нулевую гипотизу."
   ]
  },
  {
   "cell_type": "markdown",
   "metadata": {},
   "source": [
    "\n",
    "    \n",
    "На основании имеющихся данных и с использованием уровня значимости alpha = 0.05, можно сделать вывод, что нулевая гипотеза о равенстве средних значений пользовательских рейтингов для жанров Action и Sports должна быть отвергнута в пользу альтернативной гипотезы."
   ]
  },
  {
   "cell_type": "markdown",
   "metadata": {},
   "source": [
    "\n",
    "Нулевая гипотизе и алтернативная были сформулированы исходя из иследовательского вопроса, в первом задании из иследовательского вопроса была сформулирована нулевая гипотиза(H_0 Средние пользовательские рейтинги платформ Xbox One и PC равны), соответственно альтернативная гипотиза может принять любой из трех видов(левосторонняя,правосторонняя,двусторонняя).Во втором задании из иследовательского вопроса была сформулирована альтернативная гипотеза которая так же может принять любой из трех видов(левосторонняя,правосторонняя,двусторонняя),нулевая была сформулирована опять же из иследовательского вопроса.Послкольку у нас пристутствуеют две независимые выборки было принято решение использовать двухвыборочный t-тест для независимых выборок st.ttest_ind."
   ]
  },
  {
   "cell_type": "markdown",
   "metadata": {},
   "source": [
    "<h2>6 Общий вывод<a class=\"tocSkip\"></h2"
   ]
  },
  {
   "cell_type": "markdown",
   "metadata": {},
   "source": [
    "Привел названия стобцов к нижнему регистру\n",
    "\n",
    "Преобразовали типы данных \n",
    "\n",
    "Заминили абривиатуру 'tbd' на 'NaN'\n",
    "\n",
    "Избавились от пропусков и не явных дубликатов\n",
    "\n",
    "Посчитал суммарные продажи во всех регионах и записал их в отдельный столбец.\n",
    "\n",
    "Индустрия начала стремительно развиваться с 1994 года пик кол-ва игр приходиться на 2008-2009 года, начиная с 2010 года количество выпускаемых игр пошло на снижение.\n",
    "\n",
    "В топ конкурентов среди продаж вошли:\n",
    "\n",
    "PlayStation 2 (успешен в 2002-2004 годах)\n",
    "\n",
    "Xbox360 (успешен в 2010-2011 годах)\n",
    "\n",
    "PlayStation 3 (успешен в 2008-2011 годах)\n",
    "\n",
    "Wii Nintendo (успешен в 2006-2009 годах)\n",
    "\n",
    "Nintendo DS (успешен в 2007-2008 годах)\n",
    "\n",
    "Новые платформы стремительно набирают популярность, медианное значение цикла жизни платформы составляет 6 лет.Пик популярности платформы приходится на середину жизни платформы и составляет 3-4 года, затем наблюдаетсья спад продаж. Не все платформы из представленного топа являются актуальными. Платформы, показывающие успешные показатели по продажам за 2014-2016 год значительно отличаются от того графика, где представлены продажи платформ за все время. Если раньше лидером по продажам был PS2, то сейчас на лидирующей строчке оказалась PS4, второе место по продажам игр за 2014-2016 год занимает XboxOne. PS4 и XboxOne являются потенциальнее остальных платформ.На них можно сделать акцент.\n",
    "\n",
    "По поводу корелиции для PS4 (потенциально самой успешной платформы):\n",
    "\n",
    "Коэффициент корреляции для критиков - PS4: 0.40656790206178095 присутствует слабая связь между продажами и оценкой критиков.\n",
    "Оценки критиков влияют на количество продаж, хоть и слабо\n",
    "\n",
    "Коэффициент корреляции для пользователей - PS4: -0.031957110204556376 присутсвует очень слабая отрицательная связь, скорее евсего не стоит брать в расчет.\n",
    "\n",
    "Из самых популярны жанров можно выделить несколько: Shooter,Sports,Action на них есть явный спрос."
   ]
  },
  {
   "cell_type": "markdown",
   "metadata": {},
   "source": [
    "\n",
    "    \n",
    "В Северной Америке и Европе пользуютсья спросом такие жанры как Shooter и Action.Лидирующие позиции по рейтингу ESRB в этих регионах занимают M - (Mature ) — для лиц старше 17 лет, E - (Everyone) - для всей аудитории .Для этих регионов стоит делать акцент на них.\n",
    "В Японии же пользуются спросом жанры Role-Playing и Action. По рейтингу в Японии не все так однозначно,поскольку Entertainment Software Rating Board (ESRB) — негосударственная организация, основное направление деятельности — принятие и определение рейтингов для компьютерных видеоигр и другого развлекательного программного обеспечения в США и Канаде,в полной мере проанализировать не удалось, можно лишь сделать предположение что лидирующую позицию занимают игры с такой же маркировкой ESRB как и в других регионах M - (Mature ) — для лиц старше 17 лет,второе место занимает E - (Everyone) - для всей аудитории .Исходя из проведеного анализа стоит сделать акцент на таких платформах как PS4 и XboxOne.Заострять внимание на отзывах пользователей не имеет смысла, что не скажешь о критиках, хотя и это не основопологающий фактор увелечения продаж."
   ]
  }
 ],
 "metadata": {
  "ExecuteTimeLog": [
   {
    "duration": 358,
    "start_time": "2024-06-03T11:25:33.107Z"
   },
   {
    "duration": 101,
    "start_time": "2024-06-03T11:26:12.781Z"
   },
   {
    "duration": 67,
    "start_time": "2024-06-03T11:26:28.283Z"
   },
   {
    "duration": 67,
    "start_time": "2024-06-03T11:26:38.827Z"
   },
   {
    "duration": 63,
    "start_time": "2024-06-03T11:26:59.972Z"
   },
   {
    "duration": 77,
    "start_time": "2024-06-03T11:27:35.615Z"
   },
   {
    "duration": 3,
    "start_time": "2024-06-03T11:33:03.785Z"
   },
   {
    "duration": 16,
    "start_time": "2024-06-03T11:33:13.841Z"
   },
   {
    "duration": 456,
    "start_time": "2024-06-04T11:00:47.941Z"
   },
   {
    "duration": 284,
    "start_time": "2024-06-04T11:00:48.399Z"
   },
   {
    "duration": 16,
    "start_time": "2024-06-04T11:00:48.685Z"
   },
   {
    "duration": 881,
    "start_time": "2024-06-04T11:01:49.482Z"
   },
   {
    "duration": 907,
    "start_time": "2024-06-04T11:02:05.343Z"
   },
   {
    "duration": 14,
    "start_time": "2024-06-04T11:02:17.133Z"
   },
   {
    "duration": 5,
    "start_time": "2024-06-04T11:02:32.862Z"
   },
   {
    "duration": 6,
    "start_time": "2024-06-04T11:04:06.988Z"
   },
   {
    "duration": 6,
    "start_time": "2024-06-04T11:05:33.170Z"
   },
   {
    "duration": 17,
    "start_time": "2024-06-04T11:14:40.336Z"
   },
   {
    "duration": 16,
    "start_time": "2024-06-04T11:15:08.973Z"
   },
   {
    "duration": 27,
    "start_time": "2024-06-04T11:15:28.839Z"
   },
   {
    "duration": 36,
    "start_time": "2024-06-04T11:15:43.158Z"
   },
   {
    "duration": 1267,
    "start_time": "2024-06-04T11:18:01.101Z"
   },
   {
    "duration": 40,
    "start_time": "2024-06-04T11:19:23.542Z"
   },
   {
    "duration": 91,
    "start_time": "2024-06-04T11:19:45.327Z"
   },
   {
    "duration": 85,
    "start_time": "2024-06-04T11:20:18.891Z"
   },
   {
    "duration": 103,
    "start_time": "2024-06-04T11:20:40.925Z"
   },
   {
    "duration": 45,
    "start_time": "2024-06-04T11:25:08.951Z"
   },
   {
    "duration": 40,
    "start_time": "2024-06-04T11:25:22.177Z"
   },
   {
    "duration": 70,
    "start_time": "2024-06-04T11:28:36.427Z"
   },
   {
    "duration": 62,
    "start_time": "2024-06-04T11:28:48.466Z"
   },
   {
    "duration": 86,
    "start_time": "2024-06-04T11:33:34.475Z"
   },
   {
    "duration": 73,
    "start_time": "2024-06-04T11:34:24.702Z"
   },
   {
    "duration": 91,
    "start_time": "2024-06-04T11:35:03.907Z"
   },
   {
    "duration": 70,
    "start_time": "2024-06-04T11:37:58.532Z"
   },
   {
    "duration": 6,
    "start_time": "2024-06-04T11:41:09.020Z"
   },
   {
    "duration": 6,
    "start_time": "2024-06-04T11:43:04.840Z"
   },
   {
    "duration": 18,
    "start_time": "2024-06-04T11:43:42.438Z"
   },
   {
    "duration": 59,
    "start_time": "2024-06-04T11:54:24.136Z"
   },
   {
    "duration": 55,
    "start_time": "2024-06-04T11:54:43.641Z"
   },
   {
    "duration": 494,
    "start_time": "2024-06-04T11:54:48.897Z"
   },
   {
    "duration": 19,
    "start_time": "2024-06-04T11:59:24.880Z"
   },
   {
    "duration": 21,
    "start_time": "2024-06-04T12:00:08.423Z"
   },
   {
    "duration": 59,
    "start_time": "2024-06-04T23:18:20.916Z"
   },
   {
    "duration": 4,
    "start_time": "2024-06-04T23:18:34.666Z"
   },
   {
    "duration": 351,
    "start_time": "2024-06-04T23:18:45.712Z"
   },
   {
    "duration": 126,
    "start_time": "2024-06-04T23:18:46.065Z"
   },
   {
    "duration": 12,
    "start_time": "2024-06-04T23:18:46.192Z"
   },
   {
    "duration": 7,
    "start_time": "2024-06-04T23:18:46.205Z"
   },
   {
    "duration": 56,
    "start_time": "2024-06-04T23:18:46.213Z"
   },
   {
    "duration": 12,
    "start_time": "2024-06-04T23:18:46.270Z"
   },
   {
    "duration": 33,
    "start_time": "2024-06-04T23:18:46.283Z"
   },
   {
    "duration": 5,
    "start_time": "2024-06-04T23:19:25.619Z"
   },
   {
    "duration": 4,
    "start_time": "2024-06-04T23:19:43.664Z"
   },
   {
    "duration": 3,
    "start_time": "2024-06-04T23:20:06.893Z"
   },
   {
    "duration": 822,
    "start_time": "2024-06-04T23:21:38.244Z"
   },
   {
    "duration": 3,
    "start_time": "2024-06-04T23:21:43.503Z"
   },
   {
    "duration": 86,
    "start_time": "2024-06-04T23:21:43.507Z"
   },
   {
    "duration": 11,
    "start_time": "2024-06-04T23:21:43.594Z"
   },
   {
    "duration": 10,
    "start_time": "2024-06-04T23:21:43.606Z"
   },
   {
    "duration": 77,
    "start_time": "2024-06-04T23:21:43.617Z"
   },
   {
    "duration": 14,
    "start_time": "2024-06-04T23:21:43.695Z"
   },
   {
    "duration": 9,
    "start_time": "2024-06-04T23:21:43.710Z"
   },
   {
    "duration": 4,
    "start_time": "2024-06-04T23:21:48.776Z"
   },
   {
    "duration": 3,
    "start_time": "2024-06-04T23:23:25.584Z"
   },
   {
    "duration": 3,
    "start_time": "2024-06-04T23:27:25.634Z"
   },
   {
    "duration": 86,
    "start_time": "2024-06-04T23:27:46.207Z"
   },
   {
    "duration": 135,
    "start_time": "2024-06-04T23:28:02.653Z"
   },
   {
    "duration": 2,
    "start_time": "2024-06-04T23:28:19.055Z"
   },
   {
    "duration": 2,
    "start_time": "2024-06-04T23:28:21.906Z"
   },
   {
    "duration": 77,
    "start_time": "2024-06-04T23:28:21.910Z"
   },
   {
    "duration": 11,
    "start_time": "2024-06-04T23:28:21.988Z"
   },
   {
    "duration": 11,
    "start_time": "2024-06-04T23:28:22.001Z"
   },
   {
    "duration": 61,
    "start_time": "2024-06-04T23:28:22.014Z"
   },
   {
    "duration": 26,
    "start_time": "2024-06-04T23:28:22.076Z"
   },
   {
    "duration": 145,
    "start_time": "2024-06-04T23:28:22.104Z"
   },
   {
    "duration": 4,
    "start_time": "2024-06-04T23:28:40.413Z"
   },
   {
    "duration": 3,
    "start_time": "2024-06-04T23:28:59.547Z"
   },
   {
    "duration": 10,
    "start_time": "2024-06-04T23:29:17.669Z"
   },
   {
    "duration": 3,
    "start_time": "2024-06-04T23:44:45.012Z"
   },
   {
    "duration": 3,
    "start_time": "2024-06-04T23:45:27.474Z"
   },
   {
    "duration": 79,
    "start_time": "2024-06-04T23:45:27.478Z"
   },
   {
    "duration": 10,
    "start_time": "2024-06-04T23:45:27.558Z"
   },
   {
    "duration": 5,
    "start_time": "2024-06-04T23:45:27.570Z"
   },
   {
    "duration": 52,
    "start_time": "2024-06-04T23:45:27.576Z"
   },
   {
    "duration": 12,
    "start_time": "2024-06-04T23:45:27.629Z"
   },
   {
    "duration": 3,
    "start_time": "2024-06-04T23:45:27.643Z"
   },
   {
    "duration": 4,
    "start_time": "2024-06-04T23:46:13.236Z"
   },
   {
    "duration": 4,
    "start_time": "2024-06-04T23:49:38.404Z"
   },
   {
    "duration": 4,
    "start_time": "2024-06-04T23:49:59.486Z"
   },
   {
    "duration": 5,
    "start_time": "2024-06-04T23:50:24.950Z"
   },
   {
    "duration": 5,
    "start_time": "2024-06-04T23:50:57.798Z"
   },
   {
    "duration": 9,
    "start_time": "2024-06-04T23:51:40.255Z"
   },
   {
    "duration": 2,
    "start_time": "2024-06-04T23:58:04.540Z"
   },
   {
    "duration": 42,
    "start_time": "2024-06-04T23:58:04.620Z"
   },
   {
    "duration": 1,
    "start_time": "2024-06-04T23:58:05.582Z"
   },
   {
    "duration": 0,
    "start_time": "2024-06-04T23:58:05.584Z"
   },
   {
    "duration": 0,
    "start_time": "2024-06-04T23:58:05.587Z"
   },
   {
    "duration": 0,
    "start_time": "2024-06-04T23:58:05.587Z"
   },
   {
    "duration": 0,
    "start_time": "2024-06-04T23:58:05.588Z"
   },
   {
    "duration": 1104,
    "start_time": "2024-06-05T11:06:26.833Z"
   },
   {
    "duration": 478,
    "start_time": "2024-06-05T11:06:27.939Z"
   },
   {
    "duration": 11,
    "start_time": "2024-06-05T11:06:28.419Z"
   },
   {
    "duration": 28,
    "start_time": "2024-06-05T11:06:28.431Z"
   },
   {
    "duration": 59,
    "start_time": "2024-06-05T11:06:28.461Z"
   },
   {
    "duration": 13,
    "start_time": "2024-06-05T11:06:28.521Z"
   },
   {
    "duration": 184727,
    "start_time": "2024-06-05T11:06:28.535Z"
   },
   {
    "duration": 61,
    "start_time": "2024-06-05T11:14:30.006Z"
   },
   {
    "duration": 54,
    "start_time": "2024-06-05T11:15:51.873Z"
   },
   {
    "duration": 55,
    "start_time": "2024-06-05T11:16:07.955Z"
   },
   {
    "duration": 80,
    "start_time": "2024-06-05T11:16:24.856Z"
   },
   {
    "duration": 50,
    "start_time": "2024-06-05T11:16:49.656Z"
   },
   {
    "duration": 79,
    "start_time": "2024-06-05T11:16:55.386Z"
   },
   {
    "duration": 50,
    "start_time": "2024-06-05T11:19:34.708Z"
   },
   {
    "duration": 56,
    "start_time": "2024-06-05T11:19:50.995Z"
   },
   {
    "duration": 59,
    "start_time": "2024-06-05T11:20:06.500Z"
   },
   {
    "duration": 49,
    "start_time": "2024-06-05T11:20:11.958Z"
   },
   {
    "duration": 47,
    "start_time": "2024-06-05T11:20:19.323Z"
   },
   {
    "duration": 47,
    "start_time": "2024-06-05T11:26:24.249Z"
   },
   {
    "duration": 50,
    "start_time": "2024-06-05T11:26:40.606Z"
   },
   {
    "duration": 101,
    "start_time": "2024-06-05T11:27:12.857Z"
   },
   {
    "duration": 236,
    "start_time": "2024-06-05T11:27:23.557Z"
   },
   {
    "duration": 112,
    "start_time": "2024-06-05T11:30:26.157Z"
   },
   {
    "duration": 270,
    "start_time": "2024-06-05T11:30:37.662Z"
   },
   {
    "duration": 262,
    "start_time": "2024-06-05T11:32:51.228Z"
   },
   {
    "duration": 236,
    "start_time": "2024-06-05T11:37:39.126Z"
   },
   {
    "duration": 239,
    "start_time": "2024-06-05T11:38:31.213Z"
   },
   {
    "duration": 241,
    "start_time": "2024-06-05T11:39:23.334Z"
   },
   {
    "duration": 266,
    "start_time": "2024-06-05T11:39:32.086Z"
   },
   {
    "duration": 256,
    "start_time": "2024-06-05T11:39:52.241Z"
   },
   {
    "duration": 132,
    "start_time": "2024-06-05T11:49:31.905Z"
   },
   {
    "duration": 42,
    "start_time": "2024-06-06T11:00:36.756Z"
   },
   {
    "duration": 1236,
    "start_time": "2024-06-06T11:00:41.910Z"
   },
   {
    "duration": 121,
    "start_time": "2024-06-06T11:00:43.148Z"
   },
   {
    "duration": 12,
    "start_time": "2024-06-06T11:00:43.270Z"
   },
   {
    "duration": 24,
    "start_time": "2024-06-06T11:00:43.284Z"
   },
   {
    "duration": 55,
    "start_time": "2024-06-06T11:00:43.309Z"
   },
   {
    "duration": 12,
    "start_time": "2024-06-06T11:00:43.365Z"
   },
   {
    "duration": 301,
    "start_time": "2024-06-06T11:00:43.378Z"
   },
   {
    "duration": 274,
    "start_time": "2024-06-06T11:00:43.681Z"
   },
   {
    "duration": 144,
    "start_time": "2024-06-06T11:00:43.956Z"
   },
   {
    "duration": 12,
    "start_time": "2024-06-06T11:00:44.101Z"
   },
   {
    "duration": 11,
    "start_time": "2024-06-06T11:01:20.999Z"
   },
   {
    "duration": 10,
    "start_time": "2024-06-06T11:02:07.090Z"
   },
   {
    "duration": 12,
    "start_time": "2024-06-06T11:02:25.962Z"
   },
   {
    "duration": 13,
    "start_time": "2024-06-06T11:04:32.249Z"
   },
   {
    "duration": 99,
    "start_time": "2024-06-06T11:05:04.540Z"
   },
   {
    "duration": 11,
    "start_time": "2024-06-06T11:05:27.413Z"
   },
   {
    "duration": 144,
    "start_time": "2024-06-06T11:11:05.060Z"
   },
   {
    "duration": 11,
    "start_time": "2024-06-06T11:16:15.452Z"
   },
   {
    "duration": 11,
    "start_time": "2024-06-06T11:16:57.198Z"
   },
   {
    "duration": 9,
    "start_time": "2024-06-06T11:17:10.651Z"
   },
   {
    "duration": 59,
    "start_time": "2024-06-06T11:23:02.579Z"
   },
   {
    "duration": 10,
    "start_time": "2024-06-06T11:23:23.599Z"
   },
   {
    "duration": 10,
    "start_time": "2024-06-06T11:23:46.971Z"
   },
   {
    "duration": 10,
    "start_time": "2024-06-06T11:24:12.229Z"
   },
   {
    "duration": 9,
    "start_time": "2024-06-06T11:24:19.175Z"
   },
   {
    "duration": 15,
    "start_time": "2024-06-06T11:25:20.908Z"
   },
   {
    "duration": 14,
    "start_time": "2024-06-06T11:26:09.039Z"
   },
   {
    "duration": 13,
    "start_time": "2024-06-06T11:26:16.481Z"
   },
   {
    "duration": 12,
    "start_time": "2024-06-06T11:26:32.582Z"
   },
   {
    "duration": 7,
    "start_time": "2024-06-06T11:27:32.876Z"
   },
   {
    "duration": 21,
    "start_time": "2024-06-06T11:27:40.941Z"
   },
   {
    "duration": 172,
    "start_time": "2024-06-06T11:42:07.558Z"
   },
   {
    "duration": 92,
    "start_time": "2024-06-06T11:42:13.430Z"
   },
   {
    "duration": 147,
    "start_time": "2024-06-06T11:42:19.165Z"
   },
   {
    "duration": 117,
    "start_time": "2024-06-06T11:42:24.709Z"
   },
   {
    "duration": 143,
    "start_time": "2024-06-06T11:42:29.435Z"
   },
   {
    "duration": 98,
    "start_time": "2024-06-06T11:44:51.609Z"
   },
   {
    "duration": 102,
    "start_time": "2024-06-06T11:45:44.431Z"
   },
   {
    "duration": 98,
    "start_time": "2024-06-06T11:46:53.017Z"
   },
   {
    "duration": 97,
    "start_time": "2024-06-06T11:47:03.702Z"
   },
   {
    "duration": 90,
    "start_time": "2024-06-06T11:47:08.646Z"
   },
   {
    "duration": 103,
    "start_time": "2024-06-06T11:47:12.154Z"
   },
   {
    "duration": 93,
    "start_time": "2024-06-06T11:47:15.872Z"
   },
   {
    "duration": 123,
    "start_time": "2024-06-06T11:47:27.876Z"
   },
   {
    "duration": 91,
    "start_time": "2024-06-06T11:47:31.240Z"
   },
   {
    "duration": 104,
    "start_time": "2024-06-06T11:47:33.621Z"
   },
   {
    "duration": 111,
    "start_time": "2024-06-06T11:47:36.615Z"
   },
   {
    "duration": 95,
    "start_time": "2024-06-06T11:47:40.050Z"
   },
   {
    "duration": 96,
    "start_time": "2024-06-06T11:47:42.269Z"
   },
   {
    "duration": 101,
    "start_time": "2024-06-06T11:47:44.768Z"
   },
   {
    "duration": 99,
    "start_time": "2024-06-06T11:47:47.094Z"
   },
   {
    "duration": 95,
    "start_time": "2024-06-06T11:47:49.002Z"
   },
   {
    "duration": 93,
    "start_time": "2024-06-06T11:47:51.161Z"
   },
   {
    "duration": 96,
    "start_time": "2024-06-06T11:47:53.287Z"
   },
   {
    "duration": 232,
    "start_time": "2024-06-06T11:48:08.097Z"
   },
   {
    "duration": 102,
    "start_time": "2024-06-06T11:48:11.279Z"
   },
   {
    "duration": 214,
    "start_time": "2024-06-06T11:48:13.558Z"
   },
   {
    "duration": 111,
    "start_time": "2024-06-06T11:48:15.722Z"
   },
   {
    "duration": 154,
    "start_time": "2024-06-06T11:48:17.964Z"
   },
   {
    "duration": 175,
    "start_time": "2024-06-06T11:48:20.163Z"
   },
   {
    "duration": 89,
    "start_time": "2024-06-06T11:48:22.177Z"
   },
   {
    "duration": 148,
    "start_time": "2024-06-06T11:48:24.315Z"
   },
   {
    "duration": 102,
    "start_time": "2024-06-06T11:48:26.458Z"
   },
   {
    "duration": 95,
    "start_time": "2024-06-06T11:48:28.465Z"
   },
   {
    "duration": 98,
    "start_time": "2024-06-06T11:48:30.268Z"
   },
   {
    "duration": 94,
    "start_time": "2024-06-06T11:48:33.090Z"
   },
   {
    "duration": 107,
    "start_time": "2024-06-06T11:48:35.028Z"
   },
   {
    "duration": 99,
    "start_time": "2024-06-06T11:48:37.561Z"
   },
   {
    "duration": 93,
    "start_time": "2024-06-06T11:48:39.579Z"
   },
   {
    "duration": 96,
    "start_time": "2024-06-06T11:48:41.563Z"
   },
   {
    "duration": 97,
    "start_time": "2024-06-06T11:48:43.470Z"
   },
   {
    "duration": 91,
    "start_time": "2024-06-06T11:48:45.564Z"
   },
   {
    "duration": 97,
    "start_time": "2024-06-06T11:48:47.452Z"
   },
   {
    "duration": 104,
    "start_time": "2024-06-06T11:48:50.324Z"
   },
   {
    "duration": 107,
    "start_time": "2024-06-06T11:48:52.363Z"
   },
   {
    "duration": 152,
    "start_time": "2024-06-06T11:48:54.370Z"
   },
   {
    "duration": 93,
    "start_time": "2024-06-06T11:48:57.789Z"
   },
   {
    "duration": 89,
    "start_time": "2024-06-06T11:48:59.626Z"
   },
   {
    "duration": 92,
    "start_time": "2024-06-06T11:49:01.553Z"
   },
   {
    "duration": 93,
    "start_time": "2024-06-06T11:49:04.466Z"
   },
   {
    "duration": 92,
    "start_time": "2024-06-06T11:49:06.296Z"
   },
   {
    "duration": 99,
    "start_time": "2024-06-06T11:49:08.036Z"
   },
   {
    "duration": 91,
    "start_time": "2024-06-06T11:49:10.015Z"
   },
   {
    "duration": 88,
    "start_time": "2024-06-06T11:49:13.367Z"
   },
   {
    "duration": 92,
    "start_time": "2024-06-06T11:49:15.265Z"
   },
   {
    "duration": 90,
    "start_time": "2024-06-06T11:49:17.045Z"
   },
   {
    "duration": 133,
    "start_time": "2024-06-06T11:49:19.117Z"
   },
   {
    "duration": 107,
    "start_time": "2024-06-06T11:49:20.716Z"
   },
   {
    "duration": 104,
    "start_time": "2024-06-06T11:49:22.134Z"
   },
   {
    "duration": 109,
    "start_time": "2024-06-06T11:49:24.231Z"
   },
   {
    "duration": 107,
    "start_time": "2024-06-06T11:49:28.417Z"
   },
   {
    "duration": 95,
    "start_time": "2024-06-06T11:49:30.293Z"
   },
   {
    "duration": 97,
    "start_time": "2024-06-06T11:49:32.024Z"
   },
   {
    "duration": 100,
    "start_time": "2024-06-06T11:49:35.263Z"
   },
   {
    "duration": 39,
    "start_time": "2024-06-06T11:50:04.561Z"
   },
   {
    "duration": 98,
    "start_time": "2024-06-06T11:51:08.422Z"
   },
   {
    "duration": 116,
    "start_time": "2024-06-06T11:51:19.886Z"
   },
   {
    "duration": 100,
    "start_time": "2024-06-06T11:53:37.621Z"
   },
   {
    "duration": 3,
    "start_time": "2024-06-06T11:56:31.455Z"
   },
   {
    "duration": 137,
    "start_time": "2024-06-06T11:56:31.459Z"
   },
   {
    "duration": 67,
    "start_time": "2024-06-06T11:56:31.597Z"
   },
   {
    "duration": 24,
    "start_time": "2024-06-06T11:56:31.665Z"
   },
   {
    "duration": 125,
    "start_time": "2024-06-06T11:56:31.691Z"
   },
   {
    "duration": 12,
    "start_time": "2024-06-06T11:56:31.818Z"
   },
   {
    "duration": 294,
    "start_time": "2024-06-06T11:56:31.831Z"
   },
   {
    "duration": 252,
    "start_time": "2024-06-06T11:56:32.126Z"
   },
   {
    "duration": 144,
    "start_time": "2024-06-06T11:56:32.379Z"
   },
   {
    "duration": 125,
    "start_time": "2024-06-06T11:56:32.524Z"
   },
   {
    "duration": 0,
    "start_time": "2024-06-06T11:56:32.650Z"
   },
   {
    "duration": 100,
    "start_time": "2024-06-06T11:56:39.086Z"
   },
   {
    "duration": 12,
    "start_time": "2024-06-06T11:57:22.134Z"
   },
   {
    "duration": 14,
    "start_time": "2024-06-06T11:58:02.067Z"
   },
   {
    "duration": 157,
    "start_time": "2024-06-06T11:58:33.745Z"
   },
   {
    "duration": 103,
    "start_time": "2024-06-06T12:01:16.125Z"
   },
   {
    "duration": 105,
    "start_time": "2024-06-06T12:02:36.062Z"
   },
   {
    "duration": 109,
    "start_time": "2024-06-06T12:03:23.493Z"
   },
   {
    "duration": 104,
    "start_time": "2024-06-06T12:05:04.285Z"
   },
   {
    "duration": 6,
    "start_time": "2024-06-06T12:09:03.231Z"
   },
   {
    "duration": 54,
    "start_time": "2024-06-06T13:28:47.340Z"
   },
   {
    "duration": 1506,
    "start_time": "2024-06-06T13:28:51.914Z"
   },
   {
    "duration": 138,
    "start_time": "2024-06-06T13:28:53.422Z"
   },
   {
    "duration": 14,
    "start_time": "2024-06-06T13:28:53.562Z"
   },
   {
    "duration": 7,
    "start_time": "2024-06-06T13:28:53.577Z"
   },
   {
    "duration": 97,
    "start_time": "2024-06-06T13:28:53.586Z"
   },
   {
    "duration": 17,
    "start_time": "2024-06-06T13:28:53.684Z"
   },
   {
    "duration": 407,
    "start_time": "2024-06-06T13:28:53.703Z"
   },
   {
    "duration": 335,
    "start_time": "2024-06-06T13:28:54.113Z"
   },
   {
    "duration": 183,
    "start_time": "2024-06-06T13:28:54.449Z"
   },
   {
    "duration": 199,
    "start_time": "2024-06-06T13:28:54.634Z"
   },
   {
    "duration": 0,
    "start_time": "2024-06-06T13:28:54.835Z"
   },
   {
    "duration": 0,
    "start_time": "2024-06-06T13:28:54.836Z"
   },
   {
    "duration": 20,
    "start_time": "2024-06-06T13:34:05.849Z"
   },
   {
    "duration": 5,
    "start_time": "2024-06-06T13:35:52.948Z"
   },
   {
    "duration": 26,
    "start_time": "2024-06-06T13:36:03.666Z"
   },
   {
    "duration": 1625,
    "start_time": "2024-06-06T13:36:57.663Z"
   },
   {
    "duration": 19,
    "start_time": "2024-06-06T13:37:27.837Z"
   },
   {
    "duration": 12,
    "start_time": "2024-06-06T13:37:34.889Z"
   },
   {
    "duration": 0,
    "start_time": "2024-06-06T13:38:20.976Z"
   },
   {
    "duration": 1692,
    "start_time": "2024-06-06T13:38:26.798Z"
   },
   {
    "duration": 22,
    "start_time": "2024-06-06T13:39:23.350Z"
   },
   {
    "duration": 18,
    "start_time": "2024-06-06T13:40:55.548Z"
   },
   {
    "duration": 12,
    "start_time": "2024-06-06T13:41:16.828Z"
   },
   {
    "duration": 24,
    "start_time": "2024-06-06T13:41:24.468Z"
   },
   {
    "duration": 106,
    "start_time": "2024-06-06T13:44:50.188Z"
   },
   {
    "duration": 19,
    "start_time": "2024-06-06T13:45:10.862Z"
   },
   {
    "duration": 40,
    "start_time": "2024-06-06T13:45:40.915Z"
   },
   {
    "duration": 4,
    "start_time": "2024-06-06T13:54:26.465Z"
   },
   {
    "duration": 683,
    "start_time": "2024-06-06T13:54:45.460Z"
   },
   {
    "duration": 1557,
    "start_time": "2024-06-06T13:56:55.469Z"
   },
   {
    "duration": 1677,
    "start_time": "2024-06-06T13:59:22.924Z"
   },
   {
    "duration": 36,
    "start_time": "2024-06-06T13:59:53.712Z"
   },
   {
    "duration": 1691,
    "start_time": "2024-06-06T14:01:36.852Z"
   },
   {
    "duration": 1670,
    "start_time": "2024-06-06T14:02:12.177Z"
   },
   {
    "duration": 409,
    "start_time": "2024-06-06T14:02:50.751Z"
   },
   {
    "duration": 32,
    "start_time": "2024-06-06T14:03:50.190Z"
   },
   {
    "duration": 1723,
    "start_time": "2024-06-06T14:04:32.446Z"
   },
   {
    "duration": 1548,
    "start_time": "2024-06-06T14:04:41.752Z"
   },
   {
    "duration": 1762,
    "start_time": "2024-06-06T14:05:07.687Z"
   },
   {
    "duration": 24,
    "start_time": "2024-06-06T14:06:10.159Z"
   },
   {
    "duration": 22,
    "start_time": "2024-06-06T14:06:41.410Z"
   },
   {
    "duration": 22,
    "start_time": "2024-06-06T14:06:51.202Z"
   },
   {
    "duration": 32,
    "start_time": "2024-06-06T14:07:24.067Z"
   },
   {
    "duration": 806,
    "start_time": "2024-06-06T14:07:38.771Z"
   },
   {
    "duration": 22,
    "start_time": "2024-06-06T14:08:34.897Z"
   },
   {
    "duration": 36,
    "start_time": "2024-06-06T14:09:12.058Z"
   },
   {
    "duration": 754,
    "start_time": "2024-06-06T14:09:30.874Z"
   },
   {
    "duration": 38,
    "start_time": "2024-06-06T14:10:21.272Z"
   },
   {
    "duration": 562,
    "start_time": "2024-06-06T14:10:28.810Z"
   },
   {
    "duration": 796,
    "start_time": "2024-06-06T14:13:17.324Z"
   },
   {
    "duration": 163,
    "start_time": "2024-06-06T14:13:31.889Z"
   },
   {
    "duration": 726,
    "start_time": "2024-06-06T14:13:43.438Z"
   },
   {
    "duration": 15,
    "start_time": "2024-06-06T14:19:00.995Z"
   },
   {
    "duration": 256,
    "start_time": "2024-06-06T14:19:14.448Z"
   },
   {
    "duration": 528,
    "start_time": "2024-06-06T14:19:37.221Z"
   },
   {
    "duration": 709,
    "start_time": "2024-06-06T14:21:08.379Z"
   },
   {
    "duration": 1379,
    "start_time": "2024-06-06T14:24:54.342Z"
   },
   {
    "duration": 1066,
    "start_time": "2024-06-06T14:27:06.396Z"
   },
   {
    "duration": 1088,
    "start_time": "2024-06-06T14:27:22.062Z"
   },
   {
    "duration": 19,
    "start_time": "2024-06-06T14:31:12.626Z"
   },
   {
    "duration": 994,
    "start_time": "2024-06-06T14:31:32.328Z"
   },
   {
    "duration": 1216,
    "start_time": "2024-06-06T14:31:52.772Z"
   },
   {
    "duration": 960,
    "start_time": "2024-06-06T14:32:23.930Z"
   },
   {
    "duration": 138,
    "start_time": "2024-06-06T14:33:16.467Z"
   },
   {
    "duration": 23,
    "start_time": "2024-06-06T14:33:36.431Z"
   },
   {
    "duration": 8,
    "start_time": "2024-06-06T14:33:50.234Z"
   },
   {
    "duration": 4,
    "start_time": "2024-06-06T14:33:54.899Z"
   },
   {
    "duration": 88,
    "start_time": "2024-06-06T14:33:54.905Z"
   },
   {
    "duration": 15,
    "start_time": "2024-06-06T14:33:54.995Z"
   },
   {
    "duration": 7,
    "start_time": "2024-06-06T14:33:55.011Z"
   },
   {
    "duration": 98,
    "start_time": "2024-06-06T14:33:55.020Z"
   },
   {
    "duration": 16,
    "start_time": "2024-06-06T14:33:55.120Z"
   },
   {
    "duration": 397,
    "start_time": "2024-06-06T14:33:55.138Z"
   },
   {
    "duration": 349,
    "start_time": "2024-06-06T14:33:55.537Z"
   },
   {
    "duration": 178,
    "start_time": "2024-06-06T14:33:55.888Z"
   },
   {
    "duration": 144,
    "start_time": "2024-06-06T14:33:56.067Z"
   },
   {
    "duration": 0,
    "start_time": "2024-06-06T14:33:56.213Z"
   },
   {
    "duration": 0,
    "start_time": "2024-06-06T14:33:56.214Z"
   },
   {
    "duration": 0,
    "start_time": "2024-06-06T14:33:56.216Z"
   },
   {
    "duration": 0,
    "start_time": "2024-06-06T14:33:56.217Z"
   },
   {
    "duration": 0,
    "start_time": "2024-06-06T14:33:56.218Z"
   },
   {
    "duration": 841,
    "start_time": "2024-06-06T14:34:37.336Z"
   },
   {
    "duration": 135,
    "start_time": "2024-06-06T14:35:04.536Z"
   },
   {
    "duration": 145,
    "start_time": "2024-06-06T14:35:24.637Z"
   },
   {
    "duration": 602,
    "start_time": "2024-06-06T14:35:56.541Z"
   },
   {
    "duration": 15,
    "start_time": "2024-06-06T14:36:53.855Z"
   },
   {
    "duration": 237,
    "start_time": "2024-06-06T14:37:02.529Z"
   },
   {
    "duration": 514,
    "start_time": "2024-06-06T14:37:30.637Z"
   },
   {
    "duration": 3087,
    "start_time": "2024-06-06T14:38:58.141Z"
   },
   {
    "duration": 12,
    "start_time": "2024-06-06T14:40:08.036Z"
   },
   {
    "duration": 18,
    "start_time": "2024-06-06T14:40:21.808Z"
   },
   {
    "duration": 518,
    "start_time": "2024-06-06T14:41:14.653Z"
   },
   {
    "duration": 487,
    "start_time": "2024-06-06T14:41:39.974Z"
   },
   {
    "duration": 15,
    "start_time": "2024-06-06T14:41:53.823Z"
   },
   {
    "duration": 16,
    "start_time": "2024-06-06T14:42:04.184Z"
   },
   {
    "duration": 380,
    "start_time": "2024-06-06T14:42:29.915Z"
   },
   {
    "duration": 10,
    "start_time": "2024-06-06T14:44:25.475Z"
   },
   {
    "duration": 126,
    "start_time": "2024-06-06T14:44:58.660Z"
   },
   {
    "duration": 144,
    "start_time": "2024-06-06T14:45:31.690Z"
   },
   {
    "duration": 180,
    "start_time": "2024-06-06T14:48:38.492Z"
   },
   {
    "duration": 138,
    "start_time": "2024-06-06T14:49:06.814Z"
   },
   {
    "duration": 3799,
    "start_time": "2024-06-06T14:49:31.872Z"
   },
   {
    "duration": 4,
    "start_time": "2024-06-06T14:49:53.299Z"
   },
   {
    "duration": 3714,
    "start_time": "2024-06-06T14:51:00.530Z"
   },
   {
    "duration": 657,
    "start_time": "2024-06-06T14:52:34.099Z"
   },
   {
    "duration": 585,
    "start_time": "2024-06-06T14:52:55.821Z"
   },
   {
    "duration": 614,
    "start_time": "2024-06-06T14:53:08.459Z"
   },
   {
    "duration": 612,
    "start_time": "2024-06-06T14:54:20.990Z"
   },
   {
    "duration": 15,
    "start_time": "2024-06-06T15:07:14.646Z"
   },
   {
    "duration": 763,
    "start_time": "2024-06-06T15:07:35.987Z"
   },
   {
    "duration": 65,
    "start_time": "2024-06-06T15:41:24.774Z"
   },
   {
    "duration": 1013,
    "start_time": "2024-06-06T15:41:32.264Z"
   },
   {
    "duration": 1064,
    "start_time": "2024-06-06T15:43:35.080Z"
   },
   {
    "duration": 1113,
    "start_time": "2024-06-06T15:44:37.869Z"
   },
   {
    "duration": 1039,
    "start_time": "2024-06-06T15:45:02.333Z"
   },
   {
    "duration": 3188,
    "start_time": "2024-06-06T15:47:37.370Z"
   },
   {
    "duration": 28,
    "start_time": "2024-06-06T15:50:44.299Z"
   },
   {
    "duration": 13785,
    "start_time": "2024-06-06T15:51:01.345Z"
   },
   {
    "duration": 37,
    "start_time": "2024-06-06T15:52:09.653Z"
   },
   {
    "duration": 12,
    "start_time": "2024-06-07T11:45:51.627Z"
   },
   {
    "duration": 50,
    "start_time": "2024-06-07T11:46:37.744Z"
   },
   {
    "duration": 1445,
    "start_time": "2024-06-07T11:46:46.162Z"
   },
   {
    "duration": 142,
    "start_time": "2024-06-07T11:46:47.609Z"
   },
   {
    "duration": 15,
    "start_time": "2024-06-07T11:46:47.752Z"
   },
   {
    "duration": 23,
    "start_time": "2024-06-07T11:46:47.769Z"
   },
   {
    "duration": 85,
    "start_time": "2024-06-07T11:46:47.795Z"
   },
   {
    "duration": 17,
    "start_time": "2024-06-07T11:46:47.882Z"
   },
   {
    "duration": 399,
    "start_time": "2024-06-07T11:46:47.900Z"
   },
   {
    "duration": 340,
    "start_time": "2024-06-07T11:46:48.300Z"
   },
   {
    "duration": 194,
    "start_time": "2024-06-07T11:46:48.642Z"
   },
   {
    "duration": 3622,
    "start_time": "2024-06-07T11:46:48.838Z"
   },
   {
    "duration": 232,
    "start_time": "2024-06-07T11:46:52.462Z"
   },
   {
    "duration": 0,
    "start_time": "2024-06-07T11:46:52.697Z"
   },
   {
    "duration": 0,
    "start_time": "2024-06-07T11:46:52.698Z"
   },
   {
    "duration": 0,
    "start_time": "2024-06-07T11:46:52.700Z"
   },
   {
    "duration": 0,
    "start_time": "2024-06-07T11:46:52.701Z"
   },
   {
    "duration": 0,
    "start_time": "2024-06-07T11:46:52.702Z"
   },
   {
    "duration": 152,
    "start_time": "2024-06-07T11:47:02.054Z"
   },
   {
    "duration": 1501,
    "start_time": "2024-06-07T11:47:16.747Z"
   },
   {
    "duration": 1158,
    "start_time": "2024-06-07T11:47:57.748Z"
   },
   {
    "duration": 1418,
    "start_time": "2024-06-07T11:48:45.919Z"
   },
   {
    "duration": 1276,
    "start_time": "2024-06-07T11:50:47.845Z"
   },
   {
    "duration": 1206,
    "start_time": "2024-06-10T10:34:02.482Z"
   },
   {
    "duration": 227,
    "start_time": "2024-06-10T10:34:03.690Z"
   },
   {
    "duration": 11,
    "start_time": "2024-06-10T10:34:03.919Z"
   },
   {
    "duration": 10,
    "start_time": "2024-06-10T10:34:03.931Z"
   },
   {
    "duration": 59,
    "start_time": "2024-06-10T10:34:03.942Z"
   },
   {
    "duration": 25,
    "start_time": "2024-06-10T10:34:04.003Z"
   },
   {
    "duration": 310,
    "start_time": "2024-06-10T10:34:04.029Z"
   },
   {
    "duration": 261,
    "start_time": "2024-06-10T10:34:04.341Z"
   },
   {
    "duration": 149,
    "start_time": "2024-06-10T10:34:04.604Z"
   },
   {
    "duration": 1036,
    "start_time": "2024-06-10T10:34:04.755Z"
   },
   {
    "duration": 51,
    "start_time": "2024-06-10T10:37:33.724Z"
   },
   {
    "duration": 57,
    "start_time": "2024-06-10T10:37:51.375Z"
   },
   {
    "duration": 21,
    "start_time": "2024-06-10T10:39:24.676Z"
   },
   {
    "duration": 23,
    "start_time": "2024-06-10T10:40:41.789Z"
   },
   {
    "duration": 25,
    "start_time": "2024-06-10T10:42:09.520Z"
   },
   {
    "duration": 26,
    "start_time": "2024-06-10T10:42:25.172Z"
   },
   {
    "duration": 7,
    "start_time": "2024-06-10T10:52:32.677Z"
   },
   {
    "duration": 93,
    "start_time": "2024-06-10T10:55:08.324Z"
   },
   {
    "duration": 492,
    "start_time": "2024-06-10T10:55:18.903Z"
   },
   {
    "duration": 512,
    "start_time": "2024-06-10T10:56:14.585Z"
   },
   {
    "duration": 513,
    "start_time": "2024-06-10T10:56:26.632Z"
   },
   {
    "duration": 443,
    "start_time": "2024-06-10T11:11:52.013Z"
   },
   {
    "duration": 473,
    "start_time": "2024-06-10T11:13:37.140Z"
   },
   {
    "duration": 7,
    "start_time": "2024-06-10T11:15:25.210Z"
   },
   {
    "duration": 7,
    "start_time": "2024-06-10T11:16:49.550Z"
   },
   {
    "duration": 418,
    "start_time": "2024-06-10T11:16:56.758Z"
   },
   {
    "duration": 411,
    "start_time": "2024-06-10T11:17:13.603Z"
   },
   {
    "duration": 521,
    "start_time": "2024-06-10T11:17:20.596Z"
   },
   {
    "duration": 484,
    "start_time": "2024-06-10T11:18:06.944Z"
   },
   {
    "duration": 7,
    "start_time": "2024-06-10T11:50:58.499Z"
   },
   {
    "duration": 14,
    "start_time": "2024-06-10T11:52:46.144Z"
   },
   {
    "duration": 70,
    "start_time": "2024-06-11T11:09:45.708Z"
   },
   {
    "duration": 46,
    "start_time": "2024-06-11T11:10:23.056Z"
   },
   {
    "duration": 1431,
    "start_time": "2024-06-11T11:10:28.164Z"
   },
   {
    "duration": 145,
    "start_time": "2024-06-11T11:10:29.597Z"
   },
   {
    "duration": 15,
    "start_time": "2024-06-11T11:10:29.744Z"
   },
   {
    "duration": 9,
    "start_time": "2024-06-11T11:10:29.760Z"
   },
   {
    "duration": 103,
    "start_time": "2024-06-11T11:10:29.771Z"
   },
   {
    "duration": 19,
    "start_time": "2024-06-11T11:10:29.875Z"
   },
   {
    "duration": 441,
    "start_time": "2024-06-11T11:10:29.897Z"
   },
   {
    "duration": 373,
    "start_time": "2024-06-11T11:10:30.341Z"
   },
   {
    "duration": 189,
    "start_time": "2024-06-11T11:10:30.715Z"
   },
   {
    "duration": 1434,
    "start_time": "2024-06-11T11:10:30.906Z"
   },
   {
    "duration": 34,
    "start_time": "2024-06-11T11:10:32.341Z"
   },
   {
    "duration": 709,
    "start_time": "2024-06-11T11:10:32.376Z"
   },
   {
    "duration": 611,
    "start_time": "2024-06-11T11:10:33.086Z"
   },
   {
    "duration": 630,
    "start_time": "2024-06-11T11:10:33.701Z"
   },
   {
    "duration": 29,
    "start_time": "2024-06-11T11:10:34.332Z"
   },
   {
    "duration": 342,
    "start_time": "2024-06-11T11:10:34.363Z"
   },
   {
    "duration": 183,
    "start_time": "2024-06-11T11:12:28.220Z"
   },
   {
    "duration": 532,
    "start_time": "2024-06-11T11:16:37.371Z"
   },
   {
    "duration": 24,
    "start_time": "2024-06-11T11:19:07.873Z"
   },
   {
    "duration": 7,
    "start_time": "2024-06-11T11:19:22.616Z"
   },
   {
    "duration": 892,
    "start_time": "2024-06-11T11:19:35.999Z"
   },
   {
    "duration": 24,
    "start_time": "2024-06-11T11:20:04.639Z"
   },
   {
    "duration": 441,
    "start_time": "2024-06-11T11:20:11.933Z"
   },
   {
    "duration": 454,
    "start_time": "2024-06-11T11:22:30.286Z"
   },
   {
    "duration": 413,
    "start_time": "2024-06-11T11:23:01.793Z"
   },
   {
    "duration": 487,
    "start_time": "2024-06-11T11:27:30.159Z"
   },
   {
    "duration": 202,
    "start_time": "2024-06-11T11:28:52.898Z"
   },
   {
    "duration": 219,
    "start_time": "2024-06-11T11:29:52.696Z"
   },
   {
    "duration": 199,
    "start_time": "2024-06-11T11:30:11.452Z"
   },
   {
    "duration": 289,
    "start_time": "2024-06-11T11:30:22.512Z"
   },
   {
    "duration": 18,
    "start_time": "2024-06-11T11:31:04.017Z"
   },
   {
    "duration": 8,
    "start_time": "2024-06-11T11:31:13.267Z"
   },
   {
    "duration": 8,
    "start_time": "2024-06-11T11:31:17.020Z"
   },
   {
    "duration": 4,
    "start_time": "2024-06-11T11:31:23.093Z"
   },
   {
    "duration": 87,
    "start_time": "2024-06-11T11:31:23.099Z"
   },
   {
    "duration": 15,
    "start_time": "2024-06-11T11:31:23.188Z"
   },
   {
    "duration": 13,
    "start_time": "2024-06-11T11:31:23.205Z"
   },
   {
    "duration": 95,
    "start_time": "2024-06-11T11:31:23.220Z"
   },
   {
    "duration": 36,
    "start_time": "2024-06-11T11:31:23.317Z"
   },
   {
    "duration": 403,
    "start_time": "2024-06-11T11:31:23.354Z"
   },
   {
    "duration": 330,
    "start_time": "2024-06-11T11:31:23.759Z"
   },
   {
    "duration": 183,
    "start_time": "2024-06-11T11:31:24.091Z"
   },
   {
    "duration": 1270,
    "start_time": "2024-06-11T11:31:24.276Z"
   },
   {
    "duration": 30,
    "start_time": "2024-06-11T11:31:25.547Z"
   },
   {
    "duration": 826,
    "start_time": "2024-06-11T11:31:25.578Z"
   },
   {
    "duration": 613,
    "start_time": "2024-06-11T11:31:26.407Z"
   },
   {
    "duration": 593,
    "start_time": "2024-06-11T11:31:27.022Z"
   },
   {
    "duration": 18,
    "start_time": "2024-06-11T11:31:27.616Z"
   },
   {
    "duration": 192,
    "start_time": "2024-06-11T11:31:27.645Z"
   },
   {
    "duration": 457,
    "start_time": "2024-06-11T11:35:25.693Z"
   },
   {
    "duration": 9,
    "start_time": "2024-06-11T11:37:51.947Z"
   },
   {
    "duration": 648,
    "start_time": "2024-06-11T11:38:01.364Z"
   },
   {
    "duration": 12,
    "start_time": "2024-06-11T11:39:16.480Z"
   },
   {
    "duration": 379,
    "start_time": "2024-06-11T11:39:25.411Z"
   },
   {
    "duration": 90,
    "start_time": "2024-06-11T11:53:55.919Z"
   },
   {
    "duration": 196,
    "start_time": "2024-06-11T11:56:31.386Z"
   },
   {
    "duration": 1311,
    "start_time": "2024-06-11T11:56:45.336Z"
   },
   {
    "duration": 1354,
    "start_time": "2024-06-11T11:57:35.583Z"
   },
   {
    "duration": 193,
    "start_time": "2024-06-11T11:58:17.793Z"
   },
   {
    "duration": 72,
    "start_time": "2024-06-11T11:58:54.998Z"
   },
   {
    "duration": 273,
    "start_time": "2024-06-11T11:59:56.035Z"
   },
   {
    "duration": 69,
    "start_time": "2024-06-11T12:03:46.965Z"
   },
   {
    "duration": 63,
    "start_time": "2024-06-11T12:04:07.445Z"
   },
   {
    "duration": 71,
    "start_time": "2024-06-11T12:04:32.607Z"
   },
   {
    "duration": 59,
    "start_time": "2024-06-11T12:05:11.666Z"
   },
   {
    "duration": 65,
    "start_time": "2024-06-11T12:05:39.410Z"
   },
   {
    "duration": 112,
    "start_time": "2024-06-11T12:05:44.481Z"
   },
   {
    "duration": 80,
    "start_time": "2024-06-11T12:05:54.202Z"
   },
   {
    "duration": 292,
    "start_time": "2024-06-11T12:07:51.473Z"
   },
   {
    "duration": 63,
    "start_time": "2024-06-11T12:08:08.793Z"
   },
   {
    "duration": 64,
    "start_time": "2024-06-11T12:08:35.313Z"
   },
   {
    "duration": 78,
    "start_time": "2024-06-11T12:08:52.455Z"
   },
   {
    "duration": 66,
    "start_time": "2024-06-11T12:09:08.396Z"
   },
   {
    "duration": 1218,
    "start_time": "2024-06-11T12:09:47.605Z"
   },
   {
    "duration": 79,
    "start_time": "2024-06-11T12:10:08.338Z"
   },
   {
    "duration": 63,
    "start_time": "2024-06-11T12:10:13.268Z"
   },
   {
    "duration": 58,
    "start_time": "2024-06-11T12:10:19.897Z"
   },
   {
    "duration": 105,
    "start_time": "2024-06-11T12:10:28.914Z"
   },
   {
    "duration": 84,
    "start_time": "2024-06-11T12:18:40.367Z"
   },
   {
    "duration": 3412,
    "start_time": "2024-06-11T12:20:21.239Z"
   },
   {
    "duration": 51,
    "start_time": "2024-06-11T12:26:47.697Z"
   },
   {
    "duration": 1216,
    "start_time": "2024-06-11T12:26:52.977Z"
   },
   {
    "duration": 146,
    "start_time": "2024-06-11T12:26:54.194Z"
   },
   {
    "duration": 16,
    "start_time": "2024-06-11T12:26:54.342Z"
   },
   {
    "duration": 12,
    "start_time": "2024-06-11T12:26:54.360Z"
   },
   {
    "duration": 103,
    "start_time": "2024-06-11T12:26:54.374Z"
   },
   {
    "duration": 22,
    "start_time": "2024-06-11T12:26:54.479Z"
   },
   {
    "duration": 433,
    "start_time": "2024-06-11T12:26:54.503Z"
   },
   {
    "duration": 336,
    "start_time": "2024-06-11T12:26:54.937Z"
   },
   {
    "duration": 198,
    "start_time": "2024-06-11T12:26:55.275Z"
   },
   {
    "duration": 1505,
    "start_time": "2024-06-11T12:26:55.475Z"
   },
   {
    "duration": 34,
    "start_time": "2024-06-11T12:26:56.982Z"
   },
   {
    "duration": 707,
    "start_time": "2024-06-11T12:26:57.017Z"
   },
   {
    "duration": 631,
    "start_time": "2024-06-11T12:26:57.726Z"
   },
   {
    "duration": 650,
    "start_time": "2024-06-11T12:26:58.360Z"
   },
   {
    "duration": 18,
    "start_time": "2024-06-11T12:26:59.012Z"
   },
   {
    "duration": 563,
    "start_time": "2024-06-11T12:26:59.031Z"
   },
   {
    "duration": 4,
    "start_time": "2024-06-11T12:26:59.596Z"
   },
   {
    "duration": 2467,
    "start_time": "2024-06-11T12:26:59.602Z"
   },
   {
    "duration": 2446,
    "start_time": "2024-06-11T12:27:11.046Z"
   },
   {
    "duration": 1220,
    "start_time": "2024-06-11T12:39:22.587Z"
   },
   {
    "duration": 141,
    "start_time": "2024-06-11T12:39:23.809Z"
   },
   {
    "duration": 16,
    "start_time": "2024-06-11T12:39:23.952Z"
   },
   {
    "duration": 19,
    "start_time": "2024-06-11T12:39:23.971Z"
   },
   {
    "duration": 104,
    "start_time": "2024-06-11T12:39:23.992Z"
   },
   {
    "duration": 18,
    "start_time": "2024-06-11T12:39:24.098Z"
   },
   {
    "duration": 446,
    "start_time": "2024-06-11T12:39:24.117Z"
   },
   {
    "duration": 348,
    "start_time": "2024-06-11T12:39:24.565Z"
   },
   {
    "duration": 182,
    "start_time": "2024-06-11T12:39:24.915Z"
   },
   {
    "duration": 1363,
    "start_time": "2024-06-11T12:39:25.099Z"
   },
   {
    "duration": 33,
    "start_time": "2024-06-11T12:39:26.464Z"
   },
   {
    "duration": 718,
    "start_time": "2024-06-11T12:39:26.499Z"
   },
   {
    "duration": 614,
    "start_time": "2024-06-11T12:39:27.219Z"
   },
   {
    "duration": 608,
    "start_time": "2024-06-11T12:39:27.835Z"
   },
   {
    "duration": 18,
    "start_time": "2024-06-11T12:39:28.445Z"
   },
   {
    "duration": 534,
    "start_time": "2024-06-11T12:39:28.465Z"
   },
   {
    "duration": 1491,
    "start_time": "2024-06-11T12:39:29.000Z"
   },
   {
    "duration": 1577,
    "start_time": "2024-06-11T12:54:21.684Z"
   },
   {
    "duration": 602,
    "start_time": "2024-06-11T13:00:48.157Z"
   },
   {
    "duration": 7,
    "start_time": "2024-06-11T13:04:12.152Z"
   },
   {
    "duration": 251,
    "start_time": "2024-06-11T13:04:21.842Z"
   },
   {
    "duration": 1600,
    "start_time": "2024-06-11T13:04:53.850Z"
   },
   {
    "duration": 1635,
    "start_time": "2024-06-11T13:06:22.319Z"
   },
   {
    "duration": 91,
    "start_time": "2024-06-11T13:25:02.266Z"
   },
   {
    "duration": 64,
    "start_time": "2024-06-11T13:25:21.255Z"
   },
   {
    "duration": 201,
    "start_time": "2024-06-11T13:25:31.861Z"
   },
   {
    "duration": 200,
    "start_time": "2024-06-11T13:26:22.240Z"
   },
   {
    "duration": 230,
    "start_time": "2024-06-11T13:27:25.349Z"
   },
   {
    "duration": 209,
    "start_time": "2024-06-11T13:27:39.151Z"
   },
   {
    "duration": 319,
    "start_time": "2024-06-11T13:30:49.649Z"
   },
   {
    "duration": 344,
    "start_time": "2024-06-11T13:31:12.386Z"
   },
   {
    "duration": 430,
    "start_time": "2024-06-11T13:32:12.783Z"
   },
   {
    "duration": 336,
    "start_time": "2024-06-11T13:32:29.333Z"
   },
   {
    "duration": 4,
    "start_time": "2024-06-11T13:33:51.223Z"
   },
   {
    "duration": 5,
    "start_time": "2024-06-11T13:34:45.710Z"
   },
   {
    "duration": 3,
    "start_time": "2024-06-11T13:34:48.400Z"
   },
   {
    "duration": 108,
    "start_time": "2024-06-11T13:34:48.406Z"
   },
   {
    "duration": 15,
    "start_time": "2024-06-11T13:34:48.516Z"
   },
   {
    "duration": 19,
    "start_time": "2024-06-11T13:34:48.533Z"
   },
   {
    "duration": 104,
    "start_time": "2024-06-11T13:34:48.555Z"
   },
   {
    "duration": 21,
    "start_time": "2024-06-11T13:34:48.661Z"
   },
   {
    "duration": 382,
    "start_time": "2024-06-11T13:34:48.683Z"
   },
   {
    "duration": 327,
    "start_time": "2024-06-11T13:34:49.067Z"
   },
   {
    "duration": 181,
    "start_time": "2024-06-11T13:34:49.396Z"
   },
   {
    "duration": 1374,
    "start_time": "2024-06-11T13:34:49.579Z"
   },
   {
    "duration": 32,
    "start_time": "2024-06-11T13:34:50.955Z"
   },
   {
    "duration": 729,
    "start_time": "2024-06-11T13:34:50.989Z"
   },
   {
    "duration": 605,
    "start_time": "2024-06-11T13:34:51.720Z"
   },
   {
    "duration": 596,
    "start_time": "2024-06-11T13:34:52.327Z"
   },
   {
    "duration": 23,
    "start_time": "2024-06-11T13:34:52.924Z"
   },
   {
    "duration": 515,
    "start_time": "2024-06-11T13:34:52.949Z"
   },
   {
    "duration": 1549,
    "start_time": "2024-06-11T13:34:53.466Z"
   },
   {
    "duration": 248,
    "start_time": "2024-06-11T13:34:55.017Z"
   },
   {
    "duration": 319,
    "start_time": "2024-06-11T13:34:55.267Z"
   },
   {
    "duration": 453,
    "start_time": "2024-06-11T13:34:55.588Z"
   },
   {
    "duration": 1205,
    "start_time": "2024-06-12T01:35:10.608Z"
   },
   {
    "duration": 124,
    "start_time": "2024-06-12T01:35:11.815Z"
   },
   {
    "duration": 11,
    "start_time": "2024-06-12T01:35:11.940Z"
   },
   {
    "duration": 18,
    "start_time": "2024-06-12T01:35:11.952Z"
   },
   {
    "duration": 55,
    "start_time": "2024-06-12T01:35:11.972Z"
   },
   {
    "duration": 13,
    "start_time": "2024-06-12T01:35:12.028Z"
   },
   {
    "duration": 291,
    "start_time": "2024-06-12T01:35:12.042Z"
   },
   {
    "duration": 244,
    "start_time": "2024-06-12T01:35:12.334Z"
   },
   {
    "duration": 137,
    "start_time": "2024-06-12T01:35:12.579Z"
   },
   {
    "duration": 989,
    "start_time": "2024-06-12T01:35:12.718Z"
   },
   {
    "duration": 24,
    "start_time": "2024-06-12T01:35:13.708Z"
   },
   {
    "duration": 495,
    "start_time": "2024-06-12T01:35:13.734Z"
   },
   {
    "duration": 441,
    "start_time": "2024-06-12T01:35:14.230Z"
   },
   {
    "duration": 447,
    "start_time": "2024-06-12T01:35:14.674Z"
   },
   {
    "duration": 14,
    "start_time": "2024-06-12T01:35:15.122Z"
   },
   {
    "duration": 365,
    "start_time": "2024-06-12T01:35:15.137Z"
   },
   {
    "duration": 1128,
    "start_time": "2024-06-12T01:35:15.503Z"
   },
   {
    "duration": 161,
    "start_time": "2024-06-12T01:35:16.633Z"
   },
   {
    "duration": 243,
    "start_time": "2024-06-12T01:35:16.795Z"
   },
   {
    "duration": 318,
    "start_time": "2024-06-12T01:35:17.040Z"
   },
   {
    "duration": 85,
    "start_time": "2024-06-12T01:36:23.943Z"
   },
   {
    "duration": 61,
    "start_time": "2024-06-12T01:46:02.581Z"
   },
   {
    "duration": 111,
    "start_time": "2024-06-12T01:46:10.619Z"
   },
   {
    "duration": 123,
    "start_time": "2024-06-12T01:50:31.325Z"
   },
   {
    "duration": 122,
    "start_time": "2024-06-12T01:50:35.513Z"
   },
   {
    "duration": 71,
    "start_time": "2024-06-12T01:51:34.157Z"
   },
   {
    "duration": 124,
    "start_time": "2024-06-12T01:51:59.083Z"
   },
   {
    "duration": 121,
    "start_time": "2024-06-12T01:56:02.282Z"
   },
   {
    "duration": 123,
    "start_time": "2024-06-12T01:59:39.299Z"
   },
   {
    "duration": 192,
    "start_time": "2024-06-12T01:59:41.749Z"
   },
   {
    "duration": 124,
    "start_time": "2024-06-12T01:59:50.437Z"
   },
   {
    "duration": 119,
    "start_time": "2024-06-12T02:01:12.476Z"
   },
   {
    "duration": 121,
    "start_time": "2024-06-12T02:01:16.862Z"
   },
   {
    "duration": 66,
    "start_time": "2024-06-12T02:02:11.911Z"
   },
   {
    "duration": 143,
    "start_time": "2024-06-12T02:02:19.813Z"
   },
   {
    "duration": 5,
    "start_time": "2024-06-12T02:13:25.908Z"
   },
   {
    "duration": 1247,
    "start_time": "2024-06-12T02:15:55.157Z"
   },
   {
    "duration": 1258,
    "start_time": "2024-06-12T02:17:44.673Z"
   },
   {
    "duration": 1167,
    "start_time": "2024-06-12T02:19:28.195Z"
   },
   {
    "duration": 1177,
    "start_time": "2024-06-12T02:21:33.470Z"
   },
   {
    "duration": 1176,
    "start_time": "2024-06-12T02:23:25.725Z"
   },
   {
    "duration": 73,
    "start_time": "2024-06-12T02:26:09.946Z"
   },
   {
    "duration": 87,
    "start_time": "2024-06-12T02:27:27.071Z"
   },
   {
    "duration": 10,
    "start_time": "2024-06-12T02:29:02.692Z"
   },
   {
    "duration": 9,
    "start_time": "2024-06-12T02:29:15.439Z"
   },
   {
    "duration": 950,
    "start_time": "2024-06-12T02:31:04.208Z"
   },
   {
    "duration": 12,
    "start_time": "2024-06-12T02:31:40.167Z"
   },
   {
    "duration": 6,
    "start_time": "2024-06-12T02:31:59.642Z"
   },
   {
    "duration": 10,
    "start_time": "2024-06-12T02:32:10.673Z"
   },
   {
    "duration": 3,
    "start_time": "2024-06-12T02:33:57.958Z"
   },
   {
    "duration": 77,
    "start_time": "2024-06-12T02:33:57.962Z"
   },
   {
    "duration": 10,
    "start_time": "2024-06-12T02:33:58.040Z"
   },
   {
    "duration": 13,
    "start_time": "2024-06-12T02:33:58.052Z"
   },
   {
    "duration": 67,
    "start_time": "2024-06-12T02:33:58.066Z"
   },
   {
    "duration": 12,
    "start_time": "2024-06-12T02:33:58.134Z"
   },
   {
    "duration": 285,
    "start_time": "2024-06-12T02:33:58.148Z"
   },
   {
    "duration": 307,
    "start_time": "2024-06-12T02:33:58.434Z"
   },
   {
    "duration": 142,
    "start_time": "2024-06-12T02:33:58.742Z"
   },
   {
    "duration": 940,
    "start_time": "2024-06-12T02:33:58.885Z"
   },
   {
    "duration": 23,
    "start_time": "2024-06-12T02:33:59.827Z"
   },
   {
    "duration": 519,
    "start_time": "2024-06-12T02:33:59.851Z"
   },
   {
    "duration": 529,
    "start_time": "2024-06-12T02:34:00.373Z"
   },
   {
    "duration": 475,
    "start_time": "2024-06-12T02:34:00.903Z"
   },
   {
    "duration": 23,
    "start_time": "2024-06-12T02:34:01.379Z"
   },
   {
    "duration": 297,
    "start_time": "2024-06-12T02:34:01.404Z"
   },
   {
    "duration": 1182,
    "start_time": "2024-06-12T02:34:01.703Z"
   },
   {
    "duration": 161,
    "start_time": "2024-06-12T02:34:02.887Z"
   },
   {
    "duration": 243,
    "start_time": "2024-06-12T02:34:03.050Z"
   },
   {
    "duration": 265,
    "start_time": "2024-06-12T02:34:03.295Z"
   },
   {
    "duration": 133,
    "start_time": "2024-06-12T02:34:03.561Z"
   },
   {
    "duration": 124,
    "start_time": "2024-06-12T02:34:03.696Z"
   },
   {
    "duration": 125,
    "start_time": "2024-06-12T02:34:03.821Z"
   },
   {
    "duration": 154,
    "start_time": "2024-06-12T02:34:03.947Z"
   },
   {
    "duration": 958,
    "start_time": "2024-06-12T02:34:04.103Z"
   },
   {
    "duration": 0,
    "start_time": "2024-06-12T02:34:05.062Z"
   },
   {
    "duration": 919,
    "start_time": "2024-06-12T02:34:22.607Z"
   },
   {
    "duration": 914,
    "start_time": "2024-06-12T02:34:47.443Z"
   },
   {
    "duration": 1373,
    "start_time": "2024-06-12T02:35:12.636Z"
   },
   {
    "duration": 967,
    "start_time": "2024-06-12T02:35:25.195Z"
   },
   {
    "duration": 216,
    "start_time": "2024-06-12T02:35:50.855Z"
   },
   {
    "duration": 359,
    "start_time": "2024-06-12T02:37:23.320Z"
   },
   {
    "duration": 442,
    "start_time": "2024-06-12T02:37:52.502Z"
   },
   {
    "duration": 388,
    "start_time": "2024-06-12T02:38:57.320Z"
   },
   {
    "duration": 462,
    "start_time": "2024-06-12T02:39:20.049Z"
   },
   {
    "duration": 451,
    "start_time": "2024-06-12T02:39:28.226Z"
   },
   {
    "duration": 549,
    "start_time": "2024-06-12T02:39:37.161Z"
   },
   {
    "duration": 123,
    "start_time": "2024-06-12T02:47:19.457Z"
   },
   {
    "duration": 140,
    "start_time": "2024-06-12T02:48:33.396Z"
   },
   {
    "duration": 142,
    "start_time": "2024-06-12T02:48:38.321Z"
   },
   {
    "duration": 135,
    "start_time": "2024-06-12T02:49:04.745Z"
   },
   {
    "duration": 133,
    "start_time": "2024-06-12T02:51:30.712Z"
   },
   {
    "duration": 136,
    "start_time": "2024-06-12T02:51:33.517Z"
   },
   {
    "duration": 161,
    "start_time": "2024-06-12T02:51:36.253Z"
   },
   {
    "duration": 9,
    "start_time": "2024-06-12T03:32:34.831Z"
   },
   {
    "duration": 9,
    "start_time": "2024-06-12T03:33:27.819Z"
   },
   {
    "duration": 9,
    "start_time": "2024-06-12T03:33:58.647Z"
   },
   {
    "duration": 10,
    "start_time": "2024-06-12T03:34:39.836Z"
   },
   {
    "duration": 23,
    "start_time": "2024-06-12T03:35:22.721Z"
   },
   {
    "duration": 16,
    "start_time": "2024-06-12T03:35:40.942Z"
   },
   {
    "duration": 8,
    "start_time": "2024-06-12T03:36:55.987Z"
   },
   {
    "duration": 7,
    "start_time": "2024-06-12T03:37:31.734Z"
   },
   {
    "duration": 9,
    "start_time": "2024-06-12T03:37:49.299Z"
   },
   {
    "duration": 14,
    "start_time": "2024-06-12T03:38:20.763Z"
   },
   {
    "duration": 10,
    "start_time": "2024-06-12T03:43:50.571Z"
   },
   {
    "duration": 10,
    "start_time": "2024-06-12T03:44:07.764Z"
   },
   {
    "duration": 17,
    "start_time": "2024-06-12T03:44:43.034Z"
   },
   {
    "duration": 10,
    "start_time": "2024-06-12T03:45:05.514Z"
   },
   {
    "duration": 10,
    "start_time": "2024-06-12T03:45:17.496Z"
   },
   {
    "duration": 10,
    "start_time": "2024-06-12T03:45:25.431Z"
   },
   {
    "duration": 12,
    "start_time": "2024-06-12T03:46:16.831Z"
   },
   {
    "duration": 12,
    "start_time": "2024-06-12T03:48:53.794Z"
   },
   {
    "duration": 11,
    "start_time": "2024-06-12T03:49:19.713Z"
   },
   {
    "duration": 234,
    "start_time": "2024-06-12T04:11:17.730Z"
   },
   {
    "duration": 329,
    "start_time": "2024-06-12T04:11:41.749Z"
   },
   {
    "duration": 238,
    "start_time": "2024-06-12T04:11:48.010Z"
   },
   {
    "duration": 325,
    "start_time": "2024-06-12T04:12:19.012Z"
   },
   {
    "duration": 1174,
    "start_time": "2024-06-12T04:12:46.343Z"
   },
   {
    "duration": 255,
    "start_time": "2024-06-12T04:14:50.015Z"
   },
   {
    "duration": 283,
    "start_time": "2024-06-12T04:16:36.212Z"
   },
   {
    "duration": 304,
    "start_time": "2024-06-12T04:16:45.766Z"
   },
   {
    "duration": 156,
    "start_time": "2024-06-12T04:17:38.710Z"
   },
   {
    "duration": 143,
    "start_time": "2024-06-12T04:17:47.337Z"
   },
   {
    "duration": 152,
    "start_time": "2024-06-12T04:17:59.709Z"
   },
   {
    "duration": 197,
    "start_time": "2024-06-12T04:18:22.619Z"
   },
   {
    "duration": 627,
    "start_time": "2024-06-12T04:19:20.151Z"
   },
   {
    "duration": 186,
    "start_time": "2024-06-12T04:20:51.949Z"
   },
   {
    "duration": 131,
    "start_time": "2024-06-12T04:21:03.235Z"
   },
   {
    "duration": 122,
    "start_time": "2024-06-12T04:21:12.873Z"
   },
   {
    "duration": 162,
    "start_time": "2024-06-12T04:21:22.958Z"
   },
   {
    "duration": 1183,
    "start_time": "2024-06-12T04:26:40.577Z"
   },
   {
    "duration": 156,
    "start_time": "2024-06-12T04:30:31.271Z"
   },
   {
    "duration": 149,
    "start_time": "2024-06-12T04:30:38.974Z"
   },
   {
    "duration": 950,
    "start_time": "2024-06-12T04:30:56.827Z"
   },
   {
    "duration": 984,
    "start_time": "2024-06-12T04:31:12.264Z"
   },
   {
    "duration": 2053,
    "start_time": "2024-06-12T04:49:57.144Z"
   },
   {
    "duration": 63,
    "start_time": "2024-06-12T04:57:31.948Z"
   },
   {
    "duration": 2,
    "start_time": "2024-06-12T05:31:38.888Z"
   },
   {
    "duration": 71,
    "start_time": "2024-06-12T05:31:38.892Z"
   },
   {
    "duration": 11,
    "start_time": "2024-06-12T05:31:38.965Z"
   },
   {
    "duration": 9,
    "start_time": "2024-06-12T05:31:38.977Z"
   },
   {
    "duration": 60,
    "start_time": "2024-06-12T05:31:38.988Z"
   },
   {
    "duration": 12,
    "start_time": "2024-06-12T05:31:39.050Z"
   },
   {
    "duration": 308,
    "start_time": "2024-06-12T05:31:39.063Z"
   },
   {
    "duration": 248,
    "start_time": "2024-06-12T05:31:39.372Z"
   },
   {
    "duration": 146,
    "start_time": "2024-06-12T05:31:39.622Z"
   },
   {
    "duration": 880,
    "start_time": "2024-06-12T05:31:39.770Z"
   },
   {
    "duration": 25,
    "start_time": "2024-06-12T05:31:40.651Z"
   },
   {
    "duration": 532,
    "start_time": "2024-06-12T05:31:40.677Z"
   },
   {
    "duration": 231,
    "start_time": "2024-06-12T05:31:41.212Z"
   },
   {
    "duration": 235,
    "start_time": "2024-06-12T05:31:41.444Z"
   },
   {
    "duration": 352,
    "start_time": "2024-06-12T05:31:41.680Z"
   },
   {
    "duration": 1969,
    "start_time": "2024-06-12T05:31:42.033Z"
   },
   {
    "duration": 168,
    "start_time": "2024-06-12T05:31:44.004Z"
   },
   {
    "duration": 316,
    "start_time": "2024-06-12T05:31:44.173Z"
   },
   {
    "duration": 248,
    "start_time": "2024-06-12T05:31:44.490Z"
   },
   {
    "duration": 131,
    "start_time": "2024-06-12T05:31:44.739Z"
   },
   {
    "duration": 136,
    "start_time": "2024-06-12T05:31:44.871Z"
   },
   {
    "duration": 119,
    "start_time": "2024-06-12T05:31:45.009Z"
   },
   {
    "duration": 157,
    "start_time": "2024-06-12T05:31:45.130Z"
   },
   {
    "duration": 497,
    "start_time": "2024-06-12T05:31:45.289Z"
   },
   {
    "duration": 124,
    "start_time": "2024-06-12T05:31:45.788Z"
   },
   {
    "duration": 195,
    "start_time": "2024-06-12T05:31:45.914Z"
   },
   {
    "duration": 121,
    "start_time": "2024-06-12T05:31:46.111Z"
   },
   {
    "duration": 140,
    "start_time": "2024-06-12T05:31:46.234Z"
   },
   {
    "duration": 25,
    "start_time": "2024-06-12T05:31:46.376Z"
   },
   {
    "duration": 71,
    "start_time": "2024-06-12T05:31:46.403Z"
   },
   {
    "duration": 0,
    "start_time": "2024-06-12T05:31:46.475Z"
   },
   {
    "duration": 3,
    "start_time": "2024-06-12T05:32:06.560Z"
   },
   {
    "duration": 65,
    "start_time": "2024-06-12T05:32:06.564Z"
   },
   {
    "duration": 13,
    "start_time": "2024-06-12T05:32:06.631Z"
   },
   {
    "duration": 11,
    "start_time": "2024-06-12T05:32:06.645Z"
   },
   {
    "duration": 70,
    "start_time": "2024-06-12T05:32:06.659Z"
   },
   {
    "duration": 14,
    "start_time": "2024-06-12T05:32:06.731Z"
   },
   {
    "duration": 284,
    "start_time": "2024-06-12T05:32:06.747Z"
   },
   {
    "duration": 256,
    "start_time": "2024-06-12T05:32:07.033Z"
   },
   {
    "duration": 136,
    "start_time": "2024-06-12T05:32:07.291Z"
   },
   {
    "duration": 847,
    "start_time": "2024-06-12T05:32:07.428Z"
   },
   {
    "duration": 28,
    "start_time": "2024-06-12T05:32:08.277Z"
   },
   {
    "duration": 491,
    "start_time": "2024-06-12T05:32:08.306Z"
   },
   {
    "duration": 223,
    "start_time": "2024-06-12T05:32:08.798Z"
   },
   {
    "duration": 241,
    "start_time": "2024-06-12T05:32:09.022Z"
   },
   {
    "duration": 296,
    "start_time": "2024-06-12T05:32:09.264Z"
   },
   {
    "duration": 2101,
    "start_time": "2024-06-12T05:32:09.561Z"
   },
   {
    "duration": 159,
    "start_time": "2024-06-12T05:32:11.663Z"
   },
   {
    "duration": 237,
    "start_time": "2024-06-12T05:32:11.823Z"
   },
   {
    "duration": 329,
    "start_time": "2024-06-12T05:32:12.061Z"
   },
   {
    "duration": 142,
    "start_time": "2024-06-12T05:32:12.392Z"
   },
   {
    "duration": 135,
    "start_time": "2024-06-12T05:32:12.536Z"
   },
   {
    "duration": 120,
    "start_time": "2024-06-12T05:32:12.672Z"
   },
   {
    "duration": 154,
    "start_time": "2024-06-12T05:32:12.793Z"
   },
   {
    "duration": 498,
    "start_time": "2024-06-12T05:32:12.948Z"
   },
   {
    "duration": 127,
    "start_time": "2024-06-12T05:32:13.448Z"
   },
   {
    "duration": 134,
    "start_time": "2024-06-12T05:32:13.576Z"
   },
   {
    "duration": 119,
    "start_time": "2024-06-12T05:32:13.712Z"
   },
   {
    "duration": 150,
    "start_time": "2024-06-12T05:32:13.832Z"
   },
   {
    "duration": 20,
    "start_time": "2024-06-12T05:32:13.985Z"
   },
   {
    "duration": 33,
    "start_time": "2024-06-12T05:32:14.006Z"
   },
   {
    "duration": 46,
    "start_time": "2024-06-12T15:46:33.289Z"
   },
   {
    "duration": 1320,
    "start_time": "2024-06-12T15:46:37.927Z"
   },
   {
    "duration": 257,
    "start_time": "2024-06-12T15:46:39.249Z"
   },
   {
    "duration": 14,
    "start_time": "2024-06-12T15:46:39.507Z"
   },
   {
    "duration": 14,
    "start_time": "2024-06-12T15:46:39.522Z"
   },
   {
    "duration": 97,
    "start_time": "2024-06-12T15:46:39.538Z"
   },
   {
    "duration": 16,
    "start_time": "2024-06-12T15:46:39.636Z"
   },
   {
    "duration": 380,
    "start_time": "2024-06-12T15:46:39.654Z"
   },
   {
    "duration": 297,
    "start_time": "2024-06-12T15:46:40.036Z"
   },
   {
    "duration": 167,
    "start_time": "2024-06-12T15:46:40.334Z"
   },
   {
    "duration": 1074,
    "start_time": "2024-06-12T15:46:40.503Z"
   },
   {
    "duration": 36,
    "start_time": "2024-06-12T15:46:41.579Z"
   },
   {
    "duration": 667,
    "start_time": "2024-06-12T15:46:41.616Z"
   },
   {
    "duration": 289,
    "start_time": "2024-06-12T15:46:42.285Z"
   },
   {
    "duration": 316,
    "start_time": "2024-06-12T15:46:42.577Z"
   },
   {
    "duration": 356,
    "start_time": "2024-06-12T15:46:42.894Z"
   },
   {
    "duration": 2524,
    "start_time": "2024-06-12T15:46:43.252Z"
   },
   {
    "duration": 224,
    "start_time": "2024-06-12T15:46:45.777Z"
   },
   {
    "duration": 313,
    "start_time": "2024-06-12T15:46:46.003Z"
   },
   {
    "duration": 425,
    "start_time": "2024-06-12T15:46:46.318Z"
   },
   {
    "duration": 165,
    "start_time": "2024-06-12T15:46:46.745Z"
   },
   {
    "duration": 157,
    "start_time": "2024-06-12T15:46:46.911Z"
   },
   {
    "duration": 141,
    "start_time": "2024-06-12T15:46:47.070Z"
   },
   {
    "duration": 191,
    "start_time": "2024-06-12T15:46:47.213Z"
   },
   {
    "duration": 621,
    "start_time": "2024-06-12T15:46:47.406Z"
   },
   {
    "duration": 134,
    "start_time": "2024-06-12T15:46:48.028Z"
   },
   {
    "duration": 158,
    "start_time": "2024-06-12T15:46:48.164Z"
   },
   {
    "duration": 159,
    "start_time": "2024-06-12T15:46:48.324Z"
   },
   {
    "duration": 168,
    "start_time": "2024-06-12T15:46:48.485Z"
   },
   {
    "duration": 12,
    "start_time": "2024-06-12T15:46:48.655Z"
   },
   {
    "duration": 33,
    "start_time": "2024-06-12T15:46:48.669Z"
   },
   {
    "duration": 77,
    "start_time": "2024-06-12T15:47:19.988Z"
   },
   {
    "duration": 964,
    "start_time": "2024-06-12T15:51:16.914Z"
   },
   {
    "duration": 3,
    "start_time": "2024-06-12T15:51:27.604Z"
   },
   {
    "duration": 92,
    "start_time": "2024-06-12T15:51:27.609Z"
   },
   {
    "duration": 15,
    "start_time": "2024-06-12T15:51:27.702Z"
   },
   {
    "duration": 12,
    "start_time": "2024-06-12T15:51:27.718Z"
   },
   {
    "duration": 184,
    "start_time": "2024-06-12T15:51:27.732Z"
   },
   {
    "duration": 16,
    "start_time": "2024-06-12T15:51:27.917Z"
   },
   {
    "duration": 350,
    "start_time": "2024-06-12T15:51:27.934Z"
   },
   {
    "duration": 343,
    "start_time": "2024-06-12T15:51:28.286Z"
   },
   {
    "duration": 160,
    "start_time": "2024-06-12T15:51:28.631Z"
   },
   {
    "duration": 986,
    "start_time": "2024-06-12T15:51:28.792Z"
   },
   {
    "duration": 33,
    "start_time": "2024-06-12T15:51:29.779Z"
   },
   {
    "duration": 663,
    "start_time": "2024-06-12T15:51:29.814Z"
   },
   {
    "duration": 400,
    "start_time": "2024-06-12T15:51:30.480Z"
   },
   {
    "duration": 305,
    "start_time": "2024-06-12T15:51:30.881Z"
   },
   {
    "duration": 371,
    "start_time": "2024-06-12T15:51:31.188Z"
   },
   {
    "duration": 409,
    "start_time": "2024-06-12T15:51:31.560Z"
   },
   {
    "duration": 0,
    "start_time": "2024-06-12T15:51:31.972Z"
   },
   {
    "duration": 0,
    "start_time": "2024-06-12T15:51:31.973Z"
   },
   {
    "duration": 0,
    "start_time": "2024-06-12T15:51:31.974Z"
   },
   {
    "duration": 0,
    "start_time": "2024-06-12T15:51:31.975Z"
   },
   {
    "duration": 0,
    "start_time": "2024-06-12T15:51:31.976Z"
   },
   {
    "duration": 0,
    "start_time": "2024-06-12T15:51:31.977Z"
   },
   {
    "duration": 0,
    "start_time": "2024-06-12T15:51:31.978Z"
   },
   {
    "duration": 0,
    "start_time": "2024-06-12T15:51:31.979Z"
   },
   {
    "duration": 0,
    "start_time": "2024-06-12T15:51:31.980Z"
   },
   {
    "duration": 0,
    "start_time": "2024-06-12T15:51:31.981Z"
   },
   {
    "duration": 0,
    "start_time": "2024-06-12T15:51:31.999Z"
   },
   {
    "duration": 0,
    "start_time": "2024-06-12T15:51:32.000Z"
   },
   {
    "duration": 0,
    "start_time": "2024-06-12T15:51:32.002Z"
   },
   {
    "duration": 0,
    "start_time": "2024-06-12T15:51:32.002Z"
   },
   {
    "duration": 18,
    "start_time": "2024-06-12T15:52:10.588Z"
   },
   {
    "duration": 5,
    "start_time": "2024-06-12T15:53:09.942Z"
   },
   {
    "duration": 3,
    "start_time": "2024-06-12T15:53:13.575Z"
   },
   {
    "duration": 76,
    "start_time": "2024-06-12T15:53:13.579Z"
   },
   {
    "duration": 14,
    "start_time": "2024-06-12T15:53:13.657Z"
   },
   {
    "duration": 10,
    "start_time": "2024-06-12T15:53:13.673Z"
   },
   {
    "duration": 81,
    "start_time": "2024-06-12T15:53:13.686Z"
   },
   {
    "duration": 34,
    "start_time": "2024-06-12T15:53:13.768Z"
   },
   {
    "duration": 368,
    "start_time": "2024-06-12T15:53:13.803Z"
   },
   {
    "duration": 323,
    "start_time": "2024-06-12T15:53:14.173Z"
   },
   {
    "duration": 254,
    "start_time": "2024-06-12T15:53:14.499Z"
   },
   {
    "duration": 1003,
    "start_time": "2024-06-12T15:53:14.755Z"
   },
   {
    "duration": 40,
    "start_time": "2024-06-12T15:53:15.760Z"
   },
   {
    "duration": 740,
    "start_time": "2024-06-12T15:53:15.802Z"
   },
   {
    "duration": 304,
    "start_time": "2024-06-12T15:53:16.543Z"
   },
   {
    "duration": 299,
    "start_time": "2024-06-12T15:53:16.849Z"
   },
   {
    "duration": 479,
    "start_time": "2024-06-12T15:53:17.149Z"
   },
   {
    "duration": 2698,
    "start_time": "2024-06-12T15:53:17.631Z"
   },
   {
    "duration": 335,
    "start_time": "2024-06-12T15:53:20.331Z"
   },
   {
    "duration": 333,
    "start_time": "2024-06-12T15:53:20.669Z"
   },
   {
    "duration": 346,
    "start_time": "2024-06-12T15:53:21.005Z"
   },
   {
    "duration": 186,
    "start_time": "2024-06-12T15:53:21.354Z"
   },
   {
    "duration": 174,
    "start_time": "2024-06-12T15:53:21.541Z"
   },
   {
    "duration": 167,
    "start_time": "2024-06-12T15:53:21.716Z"
   },
   {
    "duration": 206,
    "start_time": "2024-06-12T15:53:21.884Z"
   },
   {
    "duration": 701,
    "start_time": "2024-06-12T15:53:22.091Z"
   },
   {
    "duration": 262,
    "start_time": "2024-06-12T15:53:22.794Z"
   },
   {
    "duration": 180,
    "start_time": "2024-06-12T15:53:23.058Z"
   },
   {
    "duration": 154,
    "start_time": "2024-06-12T15:53:23.240Z"
   },
   {
    "duration": 216,
    "start_time": "2024-06-12T15:53:23.396Z"
   },
   {
    "duration": 16,
    "start_time": "2024-06-12T15:53:23.614Z"
   },
   {
    "duration": 19,
    "start_time": "2024-06-12T15:53:23.632Z"
   },
   {
    "duration": 5,
    "start_time": "2024-06-12T15:55:16.392Z"
   },
   {
    "duration": 7,
    "start_time": "2024-06-12T15:55:29.441Z"
   },
   {
    "duration": 3,
    "start_time": "2024-06-12T15:55:39.051Z"
   },
   {
    "duration": 81,
    "start_time": "2024-06-12T15:55:39.056Z"
   },
   {
    "duration": 15,
    "start_time": "2024-06-12T15:55:39.139Z"
   },
   {
    "duration": 13,
    "start_time": "2024-06-12T15:55:39.156Z"
   },
   {
    "duration": 98,
    "start_time": "2024-06-12T15:55:39.172Z"
   },
   {
    "duration": 41,
    "start_time": "2024-06-12T15:55:39.272Z"
   },
   {
    "duration": 355,
    "start_time": "2024-06-12T15:55:39.314Z"
   },
   {
    "duration": 305,
    "start_time": "2024-06-12T15:55:39.672Z"
   },
   {
    "duration": 169,
    "start_time": "2024-06-12T15:55:39.979Z"
   },
   {
    "duration": 1068,
    "start_time": "2024-06-12T15:55:40.150Z"
   },
   {
    "duration": 30,
    "start_time": "2024-06-12T15:55:41.220Z"
   },
   {
    "duration": 727,
    "start_time": "2024-06-12T15:55:41.252Z"
   },
   {
    "duration": 281,
    "start_time": "2024-06-12T15:55:41.983Z"
   },
   {
    "duration": 286,
    "start_time": "2024-06-12T15:55:42.265Z"
   },
   {
    "duration": 371,
    "start_time": "2024-06-12T15:55:42.552Z"
   },
   {
    "duration": 2649,
    "start_time": "2024-06-12T15:55:42.924Z"
   },
   {
    "duration": 203,
    "start_time": "2024-06-12T15:55:45.575Z"
   },
   {
    "duration": 316,
    "start_time": "2024-06-12T15:55:45.780Z"
   },
   {
    "duration": 441,
    "start_time": "2024-06-12T15:55:46.100Z"
   },
   {
    "duration": 170,
    "start_time": "2024-06-12T15:55:46.543Z"
   },
   {
    "duration": 158,
    "start_time": "2024-06-12T15:55:46.715Z"
   },
   {
    "duration": 154,
    "start_time": "2024-06-12T15:55:46.875Z"
   },
   {
    "duration": 202,
    "start_time": "2024-06-12T15:55:47.030Z"
   },
   {
    "duration": 619,
    "start_time": "2024-06-12T15:55:47.235Z"
   },
   {
    "duration": 155,
    "start_time": "2024-06-12T15:55:47.855Z"
   },
   {
    "duration": 167,
    "start_time": "2024-06-12T15:55:48.012Z"
   },
   {
    "duration": 153,
    "start_time": "2024-06-12T15:55:48.181Z"
   },
   {
    "duration": 281,
    "start_time": "2024-06-12T15:55:48.336Z"
   },
   {
    "duration": 13,
    "start_time": "2024-06-12T15:55:48.619Z"
   },
   {
    "duration": 13,
    "start_time": "2024-06-12T15:55:48.634Z"
   },
   {
    "duration": 54,
    "start_time": "2024-06-12T16:08:03.376Z"
   },
   {
    "duration": 340,
    "start_time": "2024-06-12T16:13:27.539Z"
   },
   {
    "duration": 17,
    "start_time": "2024-06-12T17:51:08.049Z"
   },
   {
    "duration": 149,
    "start_time": "2024-06-12T17:52:35.073Z"
   },
   {
    "duration": 173,
    "start_time": "2024-06-12T17:52:49.085Z"
   },
   {
    "duration": 54,
    "start_time": "2024-06-12T17:55:15.957Z"
   },
   {
    "duration": 156,
    "start_time": "2024-06-12T17:55:26.767Z"
   },
   {
    "duration": 58,
    "start_time": "2024-06-12T17:56:04.928Z"
   },
   {
    "duration": 165,
    "start_time": "2024-06-12T17:56:29.229Z"
   },
   {
    "duration": 169,
    "start_time": "2024-06-12T17:56:56.615Z"
   },
   {
    "duration": 107,
    "start_time": "2024-06-12T17:57:47.767Z"
   },
   {
    "duration": 168,
    "start_time": "2024-06-12T17:57:54.817Z"
   },
   {
    "duration": 3,
    "start_time": "2024-06-12T19:11:17.862Z"
   },
   {
    "duration": 88,
    "start_time": "2024-06-12T19:11:17.868Z"
   },
   {
    "duration": 14,
    "start_time": "2024-06-12T19:11:17.957Z"
   },
   {
    "duration": 32,
    "start_time": "2024-06-12T19:11:17.973Z"
   },
   {
    "duration": 93,
    "start_time": "2024-06-12T19:11:18.007Z"
   },
   {
    "duration": 18,
    "start_time": "2024-06-12T19:11:18.102Z"
   },
   {
    "duration": 369,
    "start_time": "2024-06-12T19:11:18.122Z"
   },
   {
    "duration": 422,
    "start_time": "2024-06-12T19:11:18.493Z"
   },
   {
    "duration": 169,
    "start_time": "2024-06-12T19:11:18.917Z"
   },
   {
    "duration": 1013,
    "start_time": "2024-06-12T19:11:19.088Z"
   },
   {
    "duration": 33,
    "start_time": "2024-06-12T19:11:20.103Z"
   },
   {
    "duration": 665,
    "start_time": "2024-06-12T19:11:20.137Z"
   },
   {
    "duration": 293,
    "start_time": "2024-06-12T19:11:20.806Z"
   },
   {
    "duration": 406,
    "start_time": "2024-06-12T19:11:21.101Z"
   },
   {
    "duration": 369,
    "start_time": "2024-06-12T19:11:21.509Z"
   },
   {
    "duration": 2572,
    "start_time": "2024-06-12T19:11:21.881Z"
   },
   {
    "duration": 202,
    "start_time": "2024-06-12T19:11:24.455Z"
   },
   {
    "duration": 291,
    "start_time": "2024-06-12T19:11:24.659Z"
   },
   {
    "duration": 309,
    "start_time": "2024-06-12T19:11:24.952Z"
   },
   {
    "duration": 179,
    "start_time": "2024-06-12T19:11:25.263Z"
   },
   {
    "duration": 162,
    "start_time": "2024-06-12T19:11:25.443Z"
   },
   {
    "duration": 145,
    "start_time": "2024-06-12T19:11:25.607Z"
   },
   {
    "duration": 231,
    "start_time": "2024-06-12T19:11:25.754Z"
   },
   {
    "duration": 761,
    "start_time": "2024-06-12T19:11:25.986Z"
   },
   {
    "duration": 173,
    "start_time": "2024-06-12T19:11:26.749Z"
   },
   {
    "duration": 168,
    "start_time": "2024-06-12T19:11:26.923Z"
   },
   {
    "duration": 174,
    "start_time": "2024-06-12T19:11:27.093Z"
   },
   {
    "duration": 179,
    "start_time": "2024-06-12T19:11:27.269Z"
   },
   {
    "duration": 14,
    "start_time": "2024-06-12T19:11:27.450Z"
   },
   {
    "duration": 13,
    "start_time": "2024-06-12T19:11:27.465Z"
   },
   {
    "duration": 1133,
    "start_time": "2024-06-12T19:35:21.617Z"
   },
   {
    "duration": 124,
    "start_time": "2024-06-12T19:35:22.752Z"
   },
   {
    "duration": 10,
    "start_time": "2024-06-12T19:35:22.877Z"
   },
   {
    "duration": 9,
    "start_time": "2024-06-12T19:35:22.889Z"
   },
   {
    "duration": 55,
    "start_time": "2024-06-12T19:35:22.899Z"
   },
   {
    "duration": 12,
    "start_time": "2024-06-12T19:35:22.955Z"
   },
   {
    "duration": 448,
    "start_time": "2024-06-12T19:35:22.968Z"
   },
   {
    "duration": 372,
    "start_time": "2024-06-12T19:35:23.417Z"
   },
   {
    "duration": 283,
    "start_time": "2024-06-12T19:35:23.791Z"
   },
   {
    "duration": 1339,
    "start_time": "2024-06-12T19:35:24.076Z"
   },
   {
    "duration": 24,
    "start_time": "2024-06-12T19:35:25.416Z"
   },
   {
    "duration": 544,
    "start_time": "2024-06-12T19:35:25.442Z"
   },
   {
    "duration": 326,
    "start_time": "2024-06-12T19:35:25.988Z"
   },
   {
    "duration": 355,
    "start_time": "2024-06-12T19:35:26.315Z"
   },
   {
    "duration": 614,
    "start_time": "2024-06-12T19:35:26.671Z"
   },
   {
    "duration": 3807,
    "start_time": "2024-06-12T19:35:27.286Z"
   },
   {
    "duration": 316,
    "start_time": "2024-06-12T19:35:31.095Z"
   },
   {
    "duration": 378,
    "start_time": "2024-06-12T19:35:31.412Z"
   },
   {
    "duration": 358,
    "start_time": "2024-06-12T19:35:31.802Z"
   },
   {
    "duration": 260,
    "start_time": "2024-06-12T19:35:32.162Z"
   },
   {
    "duration": 245,
    "start_time": "2024-06-12T19:35:32.424Z"
   },
   {
    "duration": 287,
    "start_time": "2024-06-12T19:35:32.670Z"
   },
   {
    "duration": 396,
    "start_time": "2024-06-12T19:35:32.958Z"
   },
   {
    "duration": 529,
    "start_time": "2024-06-12T19:35:33.355Z"
   },
   {
    "duration": 143,
    "start_time": "2024-06-12T19:35:33.885Z"
   },
   {
    "duration": 274,
    "start_time": "2024-06-12T19:35:34.030Z"
   },
   {
    "duration": 211,
    "start_time": "2024-06-12T19:35:34.306Z"
   },
   {
    "duration": 336,
    "start_time": "2024-06-12T19:35:34.521Z"
   },
   {
    "duration": 11,
    "start_time": "2024-06-12T19:35:34.859Z"
   },
   {
    "duration": 35,
    "start_time": "2024-06-12T19:35:34.872Z"
   },
   {
    "duration": 1102,
    "start_time": "2024-06-12T22:16:08.933Z"
   },
   {
    "duration": 74,
    "start_time": "2024-06-12T22:16:10.037Z"
   },
   {
    "duration": 10,
    "start_time": "2024-06-12T22:16:10.112Z"
   },
   {
    "duration": 11,
    "start_time": "2024-06-12T22:16:10.124Z"
   },
   {
    "duration": 68,
    "start_time": "2024-06-12T22:16:10.137Z"
   },
   {
    "duration": 12,
    "start_time": "2024-06-12T22:16:10.207Z"
   },
   {
    "duration": 408,
    "start_time": "2024-06-12T22:16:10.220Z"
   },
   {
    "duration": 341,
    "start_time": "2024-06-12T22:16:10.630Z"
   },
   {
    "duration": 291,
    "start_time": "2024-06-12T22:16:10.973Z"
   },
   {
    "duration": 1311,
    "start_time": "2024-06-12T22:16:11.265Z"
   },
   {
    "duration": 37,
    "start_time": "2024-06-12T22:16:12.577Z"
   },
   {
    "duration": 562,
    "start_time": "2024-06-12T22:16:12.615Z"
   },
   {
    "duration": 331,
    "start_time": "2024-06-12T22:16:13.179Z"
   },
   {
    "duration": 347,
    "start_time": "2024-06-12T22:16:13.514Z"
   },
   {
    "duration": 538,
    "start_time": "2024-06-12T22:16:13.863Z"
   },
   {
    "duration": 3586,
    "start_time": "2024-06-12T22:16:14.403Z"
   },
   {
    "duration": 312,
    "start_time": "2024-06-12T22:16:17.990Z"
   },
   {
    "duration": 346,
    "start_time": "2024-06-12T22:16:18.304Z"
   },
   {
    "duration": 357,
    "start_time": "2024-06-12T22:16:18.651Z"
   },
   {
    "duration": 261,
    "start_time": "2024-06-12T22:16:19.009Z"
   },
   {
    "duration": 283,
    "start_time": "2024-06-12T22:16:19.272Z"
   },
   {
    "duration": 211,
    "start_time": "2024-06-12T22:16:19.557Z"
   },
   {
    "duration": 403,
    "start_time": "2024-06-12T22:16:19.769Z"
   },
   {
    "duration": 541,
    "start_time": "2024-06-12T22:16:20.174Z"
   },
   {
    "duration": 187,
    "start_time": "2024-06-12T22:16:20.716Z"
   },
   {
    "duration": 214,
    "start_time": "2024-06-12T22:16:20.904Z"
   },
   {
    "duration": 283,
    "start_time": "2024-06-12T22:16:21.120Z"
   },
   {
    "duration": 290,
    "start_time": "2024-06-12T22:16:21.405Z"
   },
   {
    "duration": 13,
    "start_time": "2024-06-12T22:16:21.697Z"
   },
   {
    "duration": 10,
    "start_time": "2024-06-12T22:16:21.711Z"
   },
   {
    "duration": 68,
    "start_time": "2024-06-12T22:25:14.809Z"
   },
   {
    "duration": 19,
    "start_time": "2024-06-12T22:33:45.715Z"
   },
   {
    "duration": 7,
    "start_time": "2024-06-12T22:42:39.035Z"
   },
   {
    "duration": 45,
    "start_time": "2024-06-13T10:45:56.038Z"
   },
   {
    "duration": 1264,
    "start_time": "2024-06-13T10:45:59.390Z"
   },
   {
    "duration": 125,
    "start_time": "2024-06-13T10:46:00.655Z"
   },
   {
    "duration": 11,
    "start_time": "2024-06-13T10:46:00.781Z"
   },
   {
    "duration": 80,
    "start_time": "2024-06-13T10:46:00.794Z"
   },
   {
    "duration": 94,
    "start_time": "2024-06-13T10:46:00.876Z"
   },
   {
    "duration": 14,
    "start_time": "2024-06-13T10:46:00.972Z"
   },
   {
    "duration": 96,
    "start_time": "2024-06-13T10:46:00.987Z"
   },
   {
    "duration": 289,
    "start_time": "2024-06-13T10:46:01.084Z"
   },
   {
    "duration": 259,
    "start_time": "2024-06-13T10:46:01.375Z"
   },
   {
    "duration": 137,
    "start_time": "2024-06-13T10:46:01.637Z"
   },
   {
    "duration": 850,
    "start_time": "2024-06-13T10:46:01.776Z"
   },
   {
    "duration": 24,
    "start_time": "2024-06-13T10:46:02.628Z"
   },
   {
    "duration": 19,
    "start_time": "2024-06-13T10:46:02.653Z"
   },
   {
    "duration": 531,
    "start_time": "2024-06-13T10:46:02.674Z"
   },
   {
    "duration": 245,
    "start_time": "2024-06-13T10:46:03.206Z"
   },
   {
    "duration": 243,
    "start_time": "2024-06-13T10:46:03.452Z"
   },
   {
    "duration": 284,
    "start_time": "2024-06-13T10:46:03.696Z"
   },
   {
    "duration": 2086,
    "start_time": "2024-06-13T10:46:03.981Z"
   },
   {
    "duration": 164,
    "start_time": "2024-06-13T10:46:06.068Z"
   },
   {
    "duration": 256,
    "start_time": "2024-06-13T10:46:06.233Z"
   },
   {
    "duration": 341,
    "start_time": "2024-06-13T10:46:06.490Z"
   },
   {
    "duration": 136,
    "start_time": "2024-06-13T10:46:06.832Z"
   },
   {
    "duration": 132,
    "start_time": "2024-06-13T10:46:06.969Z"
   },
   {
    "duration": 126,
    "start_time": "2024-06-13T10:46:07.103Z"
   },
   {
    "duration": 157,
    "start_time": "2024-06-13T10:46:07.230Z"
   },
   {
    "duration": 531,
    "start_time": "2024-06-13T10:46:07.389Z"
   },
   {
    "duration": 127,
    "start_time": "2024-06-13T10:46:07.921Z"
   },
   {
    "duration": 142,
    "start_time": "2024-06-13T10:46:08.050Z"
   },
   {
    "duration": 147,
    "start_time": "2024-06-13T10:46:08.193Z"
   },
   {
    "duration": 146,
    "start_time": "2024-06-13T10:46:08.342Z"
   },
   {
    "duration": 13,
    "start_time": "2024-06-13T10:46:08.490Z"
   },
   {
    "duration": 32,
    "start_time": "2024-06-13T10:46:08.505Z"
   },
   {
    "duration": 19,
    "start_time": "2024-06-13T10:46:08.538Z"
   },
   {
    "duration": 7,
    "start_time": "2024-06-13T10:46:54.371Z"
   },
   {
    "duration": 69,
    "start_time": "2024-06-13T10:47:14.930Z"
   },
   {
    "duration": 10,
    "start_time": "2024-06-13T10:47:56.119Z"
   },
   {
    "duration": 64,
    "start_time": "2024-06-13T10:48:08.239Z"
   },
   {
    "duration": 8,
    "start_time": "2024-06-13T10:48:23.088Z"
   },
   {
    "duration": 10,
    "start_time": "2024-06-13T10:49:41.432Z"
   },
   {
    "duration": 9,
    "start_time": "2024-06-13T10:49:54.918Z"
   },
   {
    "duration": 3,
    "start_time": "2024-06-13T10:50:00.988Z"
   },
   {
    "duration": 188,
    "start_time": "2024-06-13T10:50:00.992Z"
   },
   {
    "duration": 76,
    "start_time": "2024-06-13T10:50:01.181Z"
   },
   {
    "duration": 59,
    "start_time": "2024-06-13T10:50:01.258Z"
   },
   {
    "duration": 208,
    "start_time": "2024-06-13T10:50:01.318Z"
   },
   {
    "duration": 28,
    "start_time": "2024-06-13T10:50:01.527Z"
   },
   {
    "duration": 142,
    "start_time": "2024-06-13T10:50:01.556Z"
   },
   {
    "duration": 278,
    "start_time": "2024-06-13T10:50:01.699Z"
   },
   {
    "duration": 262,
    "start_time": "2024-06-13T10:50:01.979Z"
   },
   {
    "duration": 139,
    "start_time": "2024-06-13T10:50:02.242Z"
   },
   {
    "duration": 805,
    "start_time": "2024-06-13T10:50:02.383Z"
   },
   {
    "duration": 43,
    "start_time": "2024-06-13T10:50:03.190Z"
   },
   {
    "duration": 28,
    "start_time": "2024-06-13T10:50:03.234Z"
   },
   {
    "duration": 549,
    "start_time": "2024-06-13T10:50:03.264Z"
   },
   {
    "duration": 316,
    "start_time": "2024-06-13T10:50:03.815Z"
   },
   {
    "duration": 247,
    "start_time": "2024-06-13T10:50:04.133Z"
   },
   {
    "duration": 288,
    "start_time": "2024-06-13T10:50:04.382Z"
   },
   {
    "duration": 2113,
    "start_time": "2024-06-13T10:50:04.672Z"
   },
   {
    "duration": 155,
    "start_time": "2024-06-13T10:50:06.787Z"
   },
   {
    "duration": 250,
    "start_time": "2024-06-13T10:50:06.943Z"
   },
   {
    "duration": 255,
    "start_time": "2024-06-13T10:50:07.195Z"
   },
   {
    "duration": 137,
    "start_time": "2024-06-13T10:50:07.451Z"
   },
   {
    "duration": 127,
    "start_time": "2024-06-13T10:50:07.590Z"
   },
   {
    "duration": 216,
    "start_time": "2024-06-13T10:50:07.719Z"
   },
   {
    "duration": 159,
    "start_time": "2024-06-13T10:50:07.936Z"
   },
   {
    "duration": 528,
    "start_time": "2024-06-13T10:50:08.096Z"
   },
   {
    "duration": 167,
    "start_time": "2024-06-13T10:50:08.626Z"
   },
   {
    "duration": 149,
    "start_time": "2024-06-13T10:50:08.794Z"
   },
   {
    "duration": 164,
    "start_time": "2024-06-13T10:50:08.946Z"
   },
   {
    "duration": 158,
    "start_time": "2024-06-13T10:50:09.112Z"
   },
   {
    "duration": 8,
    "start_time": "2024-06-13T10:50:09.271Z"
   },
   {
    "duration": 50,
    "start_time": "2024-06-13T10:50:09.280Z"
   },
   {
    "duration": 25,
    "start_time": "2024-06-13T10:50:09.331Z"
   },
   {
    "duration": 24,
    "start_time": "2024-06-13T11:00:11.386Z"
   },
   {
    "duration": 2185,
    "start_time": "2024-06-13T11:01:09.684Z"
   },
   {
    "duration": 1056,
    "start_time": "2024-06-13T22:17:58.971Z"
   },
   {
    "duration": 72,
    "start_time": "2024-06-13T22:18:00.029Z"
   },
   {
    "duration": 10,
    "start_time": "2024-06-13T22:18:00.102Z"
   },
   {
    "duration": 41,
    "start_time": "2024-06-13T22:18:00.114Z"
   },
   {
    "duration": 77,
    "start_time": "2024-06-13T22:18:00.157Z"
   },
   {
    "duration": 58,
    "start_time": "2024-06-13T22:18:00.236Z"
   },
   {
    "duration": 166,
    "start_time": "2024-06-13T22:18:00.295Z"
   },
   {
    "duration": 412,
    "start_time": "2024-06-13T22:18:00.463Z"
   },
   {
    "duration": 374,
    "start_time": "2024-06-13T22:18:00.876Z"
   },
   {
    "duration": 246,
    "start_time": "2024-06-13T22:18:01.252Z"
   },
   {
    "duration": 1278,
    "start_time": "2024-06-13T22:18:01.499Z"
   },
   {
    "duration": 28,
    "start_time": "2024-06-13T22:18:02.778Z"
   },
   {
    "duration": 178,
    "start_time": "2024-06-13T22:18:02.808Z"
   },
   {
    "duration": 522,
    "start_time": "2024-06-13T22:18:02.990Z"
   },
   {
    "duration": 320,
    "start_time": "2024-06-13T22:18:03.514Z"
   },
   {
    "duration": 348,
    "start_time": "2024-06-13T22:18:03.835Z"
   },
   {
    "duration": 597,
    "start_time": "2024-06-13T22:18:04.184Z"
   },
   {
    "duration": 3150,
    "start_time": "2024-06-13T22:18:04.782Z"
   },
   {
    "duration": 256,
    "start_time": "2024-06-13T22:18:07.933Z"
   },
   {
    "duration": 302,
    "start_time": "2024-06-13T22:18:08.190Z"
   },
   {
    "duration": 350,
    "start_time": "2024-06-13T22:18:08.493Z"
   },
   {
    "duration": 218,
    "start_time": "2024-06-13T22:18:08.845Z"
   },
   {
    "duration": 273,
    "start_time": "2024-06-13T22:18:09.064Z"
   },
   {
    "duration": 217,
    "start_time": "2024-06-13T22:18:09.338Z"
   },
   {
    "duration": 356,
    "start_time": "2024-06-13T22:18:09.556Z"
   },
   {
    "duration": 497,
    "start_time": "2024-06-13T22:18:09.914Z"
   },
   {
    "duration": 188,
    "start_time": "2024-06-13T22:18:10.412Z"
   },
   {
    "duration": 289,
    "start_time": "2024-06-13T22:18:10.601Z"
   },
   {
    "duration": 203,
    "start_time": "2024-06-13T22:18:10.891Z"
   },
   {
    "duration": 273,
    "start_time": "2024-06-13T22:18:11.096Z"
   },
   {
    "duration": 19,
    "start_time": "2024-06-13T22:18:11.371Z"
   },
   {
    "duration": 12,
    "start_time": "2024-06-13T22:18:11.391Z"
   },
   {
    "duration": 19,
    "start_time": "2024-06-13T22:18:11.404Z"
   },
   {
    "duration": 1268,
    "start_time": "2025-07-06T15:17:17.852Z"
   },
   {
    "duration": 77,
    "start_time": "2025-07-06T15:17:19.122Z"
   },
   {
    "duration": 89,
    "start_time": "2025-07-06T15:17:19.200Z"
   },
   {
    "duration": 34,
    "start_time": "2025-07-06T15:17:19.290Z"
   },
   {
    "duration": 104,
    "start_time": "2025-07-06T15:17:19.326Z"
   },
   {
    "duration": 16,
    "start_time": "2025-07-06T15:17:19.431Z"
   },
   {
    "duration": 114,
    "start_time": "2025-07-06T15:17:19.448Z"
   },
   {
    "duration": 374,
    "start_time": "2025-07-06T15:17:19.564Z"
   },
   {
    "duration": 316,
    "start_time": "2025-07-06T15:17:19.940Z"
   },
   {
    "duration": 171,
    "start_time": "2025-07-06T15:17:20.258Z"
   },
   {
    "duration": 1092,
    "start_time": "2025-07-06T15:17:20.431Z"
   },
   {
    "duration": 29,
    "start_time": "2025-07-06T15:17:21.525Z"
   },
   {
    "duration": 681,
    "start_time": "2025-07-06T15:17:21.555Z"
   },
   {
    "duration": 292,
    "start_time": "2025-07-06T15:17:22.240Z"
   },
   {
    "duration": 296,
    "start_time": "2025-07-06T15:17:22.534Z"
   },
   {
    "duration": 348,
    "start_time": "2025-07-06T15:17:22.832Z"
   },
   {
    "duration": 2587,
    "start_time": "2025-07-06T15:17:23.181Z"
   },
   {
    "duration": 222,
    "start_time": "2025-07-06T15:17:25.770Z"
   },
   {
    "duration": 305,
    "start_time": "2025-07-06T15:17:25.994Z"
   },
   {
    "duration": 419,
    "start_time": "2025-07-06T15:17:26.300Z"
   },
   {
    "duration": 164,
    "start_time": "2025-07-06T15:17:26.721Z"
   },
   {
    "duration": 162,
    "start_time": "2025-07-06T15:17:26.887Z"
   },
   {
    "duration": 152,
    "start_time": "2025-07-06T15:17:27.051Z"
   },
   {
    "duration": 199,
    "start_time": "2025-07-06T15:17:27.204Z"
   },
   {
    "duration": 677,
    "start_time": "2025-07-06T15:17:27.404Z"
   },
   {
    "duration": 197,
    "start_time": "2025-07-06T15:17:28.082Z"
   },
   {
    "duration": 194,
    "start_time": "2025-07-06T15:17:28.280Z"
   },
   {
    "duration": 196,
    "start_time": "2025-07-06T15:17:28.475Z"
   },
   {
    "duration": 282,
    "start_time": "2025-07-06T15:17:28.675Z"
   },
   {
    "duration": 18,
    "start_time": "2025-07-06T15:17:28.959Z"
   },
   {
    "duration": 30,
    "start_time": "2025-07-06T15:17:28.979Z"
   },
   {
    "duration": 71,
    "start_time": "2025-07-06T15:17:29.011Z"
   }
  ],
  "kernelspec": {
   "display_name": "Python 3 (ipykernel)",
   "language": "python",
   "name": "python3"
  },
  "language_info": {
   "codemirror_mode": {
    "name": "ipython",
    "version": 3
   },
   "file_extension": ".py",
   "mimetype": "text/x-python",
   "name": "python",
   "nbconvert_exporter": "python",
   "pygments_lexer": "ipython3",
   "version": "3.9.5"
  },
  "toc": {
   "base_numbering": 1,
   "nav_menu": {},
   "number_sections": true,
   "sideBar": true,
   "skip_h1_title": true,
   "title_cell": "Table of Contents",
   "title_sidebar": "Contents",
   "toc_cell": false,
   "toc_position": {},
   "toc_section_display": true,
   "toc_window_display": false
  }
 },
 "nbformat": 4,
 "nbformat_minor": 2
}
