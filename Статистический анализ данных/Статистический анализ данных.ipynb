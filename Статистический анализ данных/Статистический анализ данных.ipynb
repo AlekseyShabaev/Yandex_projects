{
 "cells": [
  {
   "cell_type": "markdown",
   "id": "8bf4c0ae",
   "metadata": {},
   "source": [
    "<div style=\"border:solid green 3px; padding: 20px\">\n",
    "<b>🥇 Алексей, спасибо за доработки, проект принят, молодец!</b>\n",
    "    \n",
    "Ты провел хорошую работу над ошибками! Уверен, ты обязательно достигнешь своей цели! Успехов в дальнейшем обучении! 🙂\n",
    "    "
   ]
  },
  {
   "cell_type": "markdown",
   "id": "96f5d826",
   "metadata": {},
   "source": [
    "<div style=\"border:solid green 2px; padding: 20px\">\n",
    "Алексей, привет! Меня зовут Ефимов Денис и сегодня я буду делать ревью твоего проекта!\n",
    "    \n",
    "В Практикуме принято общаться на \"ты\", однако если это неудобно - дай знать, и можем перейти на более официальное общение.\n",
    "\n",
    "Ниже ты найдешь мои комментарии - пожалуйста, не перемещай, не изменяй и не удаляй их. Я буду использовать цветовую разметку: \n",
    "\n",
    "<div class=\"alert alert-block alert-success\">\n",
    "<b>✅Комментарий ревьюера:</b> Если все сделано хорошо. </div>\n",
    "\n",
    "<div class=\"alert alert-block alert-warning\">\n",
    "<b>🔁Комментарий ревьюера:</b> Некритичное замечание, рекомендация.</div>\n",
    "\n",
    "<div class=\"alert alert-block alert-danger\">\n",
    "<b>❌Комментарий ревьюера:</b> Грубая ошибка, необходимо исправить, иначе проект не будет принят.\n",
    "</div>\n",
    "\n",
    "Давай работать над проектом в диалоге: если ты что-то меняешь в проекте или отвечаешь на мои комментарии — пиши об этом. Мне будет легче отследить изменения, если ты выделишь свои комментарии:\n",
    "Например так:\n",
    "<div class=\"alert alert-block alert-info\">\n",
    "<b>🔄Комментарий студента:</b> \n",
    "Hello World! ✔\n",
    "</div>\n",
    "\n",
    "Или можешь использовать эту галочку ✔ в моих комментариях, если писать особо нечего.\n",
    "\n",
    "<div class=\"alert alert-block alert-warning\">\n",
    "<b>Общее впечатление:</b> \n",
    "    \n",
    "- Ты проделал огромную работу :)\n",
    "- У меня есть несколько замечаний, исправив которые ты сделаешь проект  лучше.\n",
    "- Пробегись по моим комментариям, исправь недочёты и всё будет отлично :)\n",
    "    \n",
    "</div>\n",
    "\n"
   ]
  },
  {
   "cell_type": "markdown",
   "id": "e3c27d86",
   "metadata": {},
   "source": [
    "<h2> Анализ сервиса аренды самокато Go Fast  <a class=\"tocSkip\"></h2"
   ]
  },
  {
   "cell_type": "markdown",
   "id": "f47d7715",
   "metadata": {},
   "source": [
    "Вы аналитик популярного сервиса аренды самокатов GoFast. Вам передали данные о некоторых пользователях из нескольких городов, а также об их поездках. Проанализируйте данные и проверьте некоторые гипотезы, которые могут помочь бизнесу вырасти.\n",
    "Чтобы совершать поездки по городу, пользователи сервиса GoFast пользуются мобильным приложением. Сервисом можно пользоваться:\n",
    "\n",
    "без подписки:\n",
    "\n",
    "абонентская плата отсутствует;\n",
    "\n",
    "стоимость одной минуты поездки — 8 рублей;\n",
    "\n",
    "стоимость старта (начала поездки) — 50 рублей;\n",
    "\n",
    "с подпиской Ultra:\n",
    "\n",
    "абонентская плата — 199 рублей в месяц;\n",
    "\n",
    "стоимость одной минуты поездки — 6 рублей;\n",
    "\n",
    "стоимость старта — бесплатно.\n",
    "\n"
   ]
  },
  {
   "cell_type": "markdown",
   "id": "de25e2f4",
   "metadata": {},
   "source": [
    "<h2> Описание данных  <a class=\"tocSkip\"></h2"
   ]
  },
  {
   "cell_type": "markdown",
   "id": "e9237dce",
   "metadata": {},
   "source": [
    "<h5> 1. Пользователи - user_go.csv  <a class=\"tocSkip\"></h5"
   ]
  },
  {
   "cell_type": "markdown",
   "id": "a13832c6",
   "metadata": {},
   "source": [
    "user_id - уникальный идентификатор пользователя\n",
    "\n",
    "name - имя пользователя\n",
    "\n",
    "age - возраст\n",
    "\n",
    "city - город\n",
    "\n",
    "subscription_type - тип подписки (free, ultra)"
   ]
  },
  {
   "cell_type": "markdown",
   "id": "1872703f",
   "metadata": {},
   "source": [
    "<h5> 2. Поездки rides_go.csv  <a class=\"tocSkip\"></h5"
   ]
  },
  {
   "cell_type": "markdown",
   "id": "e43cb83b",
   "metadata": {},
   "source": [
    "user_id - уникальный идентификатор пользователя\n",
    "\n",
    "distance - расстояние, которое пользователь проехал в текущей сессии (в метрах)\n",
    "\n",
    "duration - продолжительность сессии (в минутах) — время с того момента, как пользователь нажал кнопку «Начать поездку» до \n",
    "момента, как он нажал кнопку «Завершить поездку»\n",
    "\n",
    "date - дата совершения поездки"
   ]
  },
  {
   "cell_type": "markdown",
   "id": "676af001",
   "metadata": {},
   "source": [
    "<h5> 3. Подписки subscription_go.csv  <a class=\"tocSkip\"></h5"
   ]
  },
  {
   "cell_type": "markdown",
   "id": "195c34b3",
   "metadata": {},
   "source": [
    "subscription_type - тип подписки\n",
    "\n",
    "minute_price - стоимость одной минуты поездки по данной подписке\n",
    "\n",
    "start_ride_price - стоимость начала поездки\n",
    "\n",
    "subscription_fee - стоимость ежемесячного платежа\n"
   ]
  },
  {
   "cell_type": "markdown",
   "id": "926045ab",
   "metadata": {},
   "source": [
    "<div class=\"alert alert-block alert-info\">\n",
    "<b>🔄Комментарий студента:</b> \n",
    " \n",
    " \n",
    " Внес изменения\n",
    " "
   ]
  },
  {
   "cell_type": "markdown",
   "id": "b642118d",
   "metadata": {},
   "source": [
    "<div class=\"alert alert-block alert-danger\">\n",
    "<b>❌Комментарий ревьюера:</b> \n",
    "    \n",
    " Любому проекту нужно название и введение - так ты поясняешь читателю, что вообще тут происходит. Также стоит задуматься, как еще его можно дополнить, чтобы сделать более ценным для читателя. Все инструкции по оформлению проекта есть на платформе в разделе \"Полезные инструкции для учебы\"\n",
    "    \n",
    "Также советую тебе взглянуть на <a href=\"https://www.kaggle.com/code?sortBy=voteCount\">работы</a> профессиональных аналитиков, чтобы оценить, как другие люди оформляют и проводят исследования.   \n",
    "\n",
    "</div>"
   ]
  },
  {
   "cell_type": "markdown",
   "id": "908c6a8a",
   "metadata": {},
   "source": [
    "<div class=\"alert alert-block alert-success\">\n",
    "<b>✅Комментарий ревьюера 2:</b> Отлично, исправлено!👍  </div>"
   ]
  },
  {
   "cell_type": "code",
   "execution_count": 1,
   "id": "b681c5e1",
   "metadata": {},
   "outputs": [],
   "source": [
    "import pandas as pd\n",
    "import matplotlib.pyplot as plt\n",
    "import numpy as np\n",
    "from scipy import stats as st\n",
    "import seaborn as sns"
   ]
  },
  {
   "cell_type": "markdown",
   "id": "3c6bc8a4",
   "metadata": {},
   "source": [
    "#### Шаг 1. Загрузка данных"
   ]
  },
  {
   "cell_type": "code",
   "execution_count": 2,
   "id": "32ef2578",
   "metadata": {
    "scrolled": false
   },
   "outputs": [
    {
     "data": {
      "text/html": [
       "<div>\n",
       "<style scoped>\n",
       "    .dataframe tbody tr th:only-of-type {\n",
       "        vertical-align: middle;\n",
       "    }\n",
       "\n",
       "    .dataframe tbody tr th {\n",
       "        vertical-align: top;\n",
       "    }\n",
       "\n",
       "    .dataframe thead th {\n",
       "        text-align: right;\n",
       "    }\n",
       "</style>\n",
       "<table border=\"1\" class=\"dataframe\">\n",
       "  <thead>\n",
       "    <tr style=\"text-align: right;\">\n",
       "      <th></th>\n",
       "      <th>user_id</th>\n",
       "      <th>name</th>\n",
       "      <th>age</th>\n",
       "      <th>city</th>\n",
       "      <th>subscription_type</th>\n",
       "    </tr>\n",
       "  </thead>\n",
       "  <tbody>\n",
       "    <tr>\n",
       "      <th>0</th>\n",
       "      <td>1</td>\n",
       "      <td>Кира</td>\n",
       "      <td>22</td>\n",
       "      <td>Тюмень</td>\n",
       "      <td>ultra</td>\n",
       "    </tr>\n",
       "    <tr>\n",
       "      <th>1</th>\n",
       "      <td>2</td>\n",
       "      <td>Станислав</td>\n",
       "      <td>31</td>\n",
       "      <td>Омск</td>\n",
       "      <td>ultra</td>\n",
       "    </tr>\n",
       "    <tr>\n",
       "      <th>2</th>\n",
       "      <td>3</td>\n",
       "      <td>Алексей</td>\n",
       "      <td>20</td>\n",
       "      <td>Москва</td>\n",
       "      <td>ultra</td>\n",
       "    </tr>\n",
       "    <tr>\n",
       "      <th>3</th>\n",
       "      <td>4</td>\n",
       "      <td>Константин</td>\n",
       "      <td>26</td>\n",
       "      <td>Ростов-на-Дону</td>\n",
       "      <td>ultra</td>\n",
       "    </tr>\n",
       "    <tr>\n",
       "      <th>4</th>\n",
       "      <td>5</td>\n",
       "      <td>Адель</td>\n",
       "      <td>28</td>\n",
       "      <td>Омск</td>\n",
       "      <td>ultra</td>\n",
       "    </tr>\n",
       "    <tr>\n",
       "      <th>5</th>\n",
       "      <td>6</td>\n",
       "      <td>Регина</td>\n",
       "      <td>25</td>\n",
       "      <td>Краснодар</td>\n",
       "      <td>ultra</td>\n",
       "    </tr>\n",
       "    <tr>\n",
       "      <th>6</th>\n",
       "      <td>7</td>\n",
       "      <td>Игорь</td>\n",
       "      <td>23</td>\n",
       "      <td>Омск</td>\n",
       "      <td>ultra</td>\n",
       "    </tr>\n",
       "    <tr>\n",
       "      <th>7</th>\n",
       "      <td>8</td>\n",
       "      <td>Юрий</td>\n",
       "      <td>23</td>\n",
       "      <td>Краснодар</td>\n",
       "      <td>ultra</td>\n",
       "    </tr>\n",
       "    <tr>\n",
       "      <th>8</th>\n",
       "      <td>9</td>\n",
       "      <td>Ян</td>\n",
       "      <td>21</td>\n",
       "      <td>Пятигорск</td>\n",
       "      <td>ultra</td>\n",
       "    </tr>\n",
       "    <tr>\n",
       "      <th>9</th>\n",
       "      <td>10</td>\n",
       "      <td>Валерий</td>\n",
       "      <td>18</td>\n",
       "      <td>Екатеринбург</td>\n",
       "      <td>ultra</td>\n",
       "    </tr>\n",
       "  </tbody>\n",
       "</table>\n",
       "</div>"
      ],
      "text/plain": [
       "   user_id        name  age            city subscription_type\n",
       "0        1        Кира   22          Тюмень             ultra\n",
       "1        2   Станислав   31            Омск             ultra\n",
       "2        3     Алексей   20          Москва             ultra\n",
       "3        4  Константин   26  Ростов-на-Дону             ultra\n",
       "4        5       Адель   28            Омск             ultra\n",
       "5        6      Регина   25       Краснодар             ultra\n",
       "6        7       Игорь   23            Омск             ultra\n",
       "7        8        Юрий   23       Краснодар             ultra\n",
       "8        9          Ян   21       Пятигорск             ultra\n",
       "9       10     Валерий   18    Екатеринбург             ultra"
      ]
     },
     "metadata": {},
     "output_type": "display_data"
    },
    {
     "name": "stdout",
     "output_type": "stream",
     "text": [
      "<class 'pandas.core.frame.DataFrame'>\n",
      "RangeIndex: 1565 entries, 0 to 1564\n",
      "Data columns (total 5 columns):\n",
      " #   Column             Non-Null Count  Dtype \n",
      "---  ------             --------------  ----- \n",
      " 0   user_id            1565 non-null   int64 \n",
      " 1   name               1565 non-null   object\n",
      " 2   age                1565 non-null   int64 \n",
      " 3   city               1565 non-null   object\n",
      " 4   subscription_type  1565 non-null   object\n",
      "dtypes: int64(2), object(3)\n",
      "memory usage: 61.3+ KB\n"
     ]
    },
    {
     "data": {
      "text/plain": [
       "user_id              0\n",
       "name                 0\n",
       "age                  0\n",
       "city                 0\n",
       "subscription_type    0\n",
       "dtype: int64"
      ]
     },
     "metadata": {},
     "output_type": "display_data"
    },
    {
     "data": {
      "text/plain": [
       "31"
      ]
     },
     "metadata": {},
     "output_type": "display_data"
    },
    {
     "data": {
      "text/plain": [
       "None"
      ]
     },
     "metadata": {},
     "output_type": "display_data"
    },
    {
     "data": {
      "text/html": [
       "<div>\n",
       "<style scoped>\n",
       "    .dataframe tbody tr th:only-of-type {\n",
       "        vertical-align: middle;\n",
       "    }\n",
       "\n",
       "    .dataframe tbody tr th {\n",
       "        vertical-align: top;\n",
       "    }\n",
       "\n",
       "    .dataframe thead th {\n",
       "        text-align: right;\n",
       "    }\n",
       "</style>\n",
       "<table border=\"1\" class=\"dataframe\">\n",
       "  <thead>\n",
       "    <tr style=\"text-align: right;\">\n",
       "      <th></th>\n",
       "      <th>user_id</th>\n",
       "      <th>distance</th>\n",
       "      <th>duration</th>\n",
       "      <th>date</th>\n",
       "    </tr>\n",
       "  </thead>\n",
       "  <tbody>\n",
       "    <tr>\n",
       "      <th>0</th>\n",
       "      <td>1</td>\n",
       "      <td>4409.919140</td>\n",
       "      <td>25.599769</td>\n",
       "      <td>2021-01-01</td>\n",
       "    </tr>\n",
       "    <tr>\n",
       "      <th>1</th>\n",
       "      <td>1</td>\n",
       "      <td>2617.592153</td>\n",
       "      <td>15.816871</td>\n",
       "      <td>2021-01-18</td>\n",
       "    </tr>\n",
       "    <tr>\n",
       "      <th>2</th>\n",
       "      <td>1</td>\n",
       "      <td>754.159807</td>\n",
       "      <td>6.232113</td>\n",
       "      <td>2021-04-20</td>\n",
       "    </tr>\n",
       "    <tr>\n",
       "      <th>3</th>\n",
       "      <td>1</td>\n",
       "      <td>2694.783254</td>\n",
       "      <td>18.511000</td>\n",
       "      <td>2021-08-11</td>\n",
       "    </tr>\n",
       "    <tr>\n",
       "      <th>4</th>\n",
       "      <td>1</td>\n",
       "      <td>4028.687306</td>\n",
       "      <td>26.265803</td>\n",
       "      <td>2021-08-28</td>\n",
       "    </tr>\n",
       "    <tr>\n",
       "      <th>5</th>\n",
       "      <td>1</td>\n",
       "      <td>2770.890808</td>\n",
       "      <td>16.650138</td>\n",
       "      <td>2021-10-09</td>\n",
       "    </tr>\n",
       "    <tr>\n",
       "      <th>6</th>\n",
       "      <td>1</td>\n",
       "      <td>3039.020292</td>\n",
       "      <td>14.927879</td>\n",
       "      <td>2021-10-19</td>\n",
       "    </tr>\n",
       "    <tr>\n",
       "      <th>7</th>\n",
       "      <td>1</td>\n",
       "      <td>2842.118050</td>\n",
       "      <td>23.117468</td>\n",
       "      <td>2021-11-06</td>\n",
       "    </tr>\n",
       "    <tr>\n",
       "      <th>8</th>\n",
       "      <td>1</td>\n",
       "      <td>3412.690668</td>\n",
       "      <td>15.238072</td>\n",
       "      <td>2021-11-14</td>\n",
       "    </tr>\n",
       "    <tr>\n",
       "      <th>9</th>\n",
       "      <td>1</td>\n",
       "      <td>748.690645</td>\n",
       "      <td>15.041884</td>\n",
       "      <td>2021-11-22</td>\n",
       "    </tr>\n",
       "  </tbody>\n",
       "</table>\n",
       "</div>"
      ],
      "text/plain": [
       "   user_id     distance   duration        date\n",
       "0        1  4409.919140  25.599769  2021-01-01\n",
       "1        1  2617.592153  15.816871  2021-01-18\n",
       "2        1   754.159807   6.232113  2021-04-20\n",
       "3        1  2694.783254  18.511000  2021-08-11\n",
       "4        1  4028.687306  26.265803  2021-08-28\n",
       "5        1  2770.890808  16.650138  2021-10-09\n",
       "6        1  3039.020292  14.927879  2021-10-19\n",
       "7        1  2842.118050  23.117468  2021-11-06\n",
       "8        1  3412.690668  15.238072  2021-11-14\n",
       "9        1   748.690645  15.041884  2021-11-22"
      ]
     },
     "metadata": {},
     "output_type": "display_data"
    },
    {
     "name": "stdout",
     "output_type": "stream",
     "text": [
      "<class 'pandas.core.frame.DataFrame'>\n",
      "RangeIndex: 18068 entries, 0 to 18067\n",
      "Data columns (total 4 columns):\n",
      " #   Column    Non-Null Count  Dtype  \n",
      "---  ------    --------------  -----  \n",
      " 0   user_id   18068 non-null  int64  \n",
      " 1   distance  18068 non-null  float64\n",
      " 2   duration  18068 non-null  float64\n",
      " 3   date      18068 non-null  object \n",
      "dtypes: float64(2), int64(1), object(1)\n",
      "memory usage: 564.8+ KB\n"
     ]
    },
    {
     "data": {
      "text/plain": [
       "user_id     0\n",
       "distance    0\n",
       "duration    0\n",
       "date        0\n",
       "dtype: int64"
      ]
     },
     "metadata": {},
     "output_type": "display_data"
    },
    {
     "data": {
      "text/plain": [
       "0"
      ]
     },
     "metadata": {},
     "output_type": "display_data"
    },
    {
     "data": {
      "text/plain": [
       "None"
      ]
     },
     "metadata": {},
     "output_type": "display_data"
    },
    {
     "data": {
      "text/html": [
       "<div>\n",
       "<style scoped>\n",
       "    .dataframe tbody tr th:only-of-type {\n",
       "        vertical-align: middle;\n",
       "    }\n",
       "\n",
       "    .dataframe tbody tr th {\n",
       "        vertical-align: top;\n",
       "    }\n",
       "\n",
       "    .dataframe thead th {\n",
       "        text-align: right;\n",
       "    }\n",
       "</style>\n",
       "<table border=\"1\" class=\"dataframe\">\n",
       "  <thead>\n",
       "    <tr style=\"text-align: right;\">\n",
       "      <th></th>\n",
       "      <th>subscription_type</th>\n",
       "      <th>minute_price</th>\n",
       "      <th>start_ride_price</th>\n",
       "      <th>subscription_fee</th>\n",
       "    </tr>\n",
       "  </thead>\n",
       "  <tbody>\n",
       "    <tr>\n",
       "      <th>0</th>\n",
       "      <td>free</td>\n",
       "      <td>8</td>\n",
       "      <td>50</td>\n",
       "      <td>0</td>\n",
       "    </tr>\n",
       "    <tr>\n",
       "      <th>1</th>\n",
       "      <td>ultra</td>\n",
       "      <td>6</td>\n",
       "      <td>0</td>\n",
       "      <td>199</td>\n",
       "    </tr>\n",
       "  </tbody>\n",
       "</table>\n",
       "</div>"
      ],
      "text/plain": [
       "  subscription_type  minute_price  start_ride_price  subscription_fee\n",
       "0              free             8                50                 0\n",
       "1             ultra             6                 0               199"
      ]
     },
     "metadata": {},
     "output_type": "display_data"
    },
    {
     "name": "stdout",
     "output_type": "stream",
     "text": [
      "<class 'pandas.core.frame.DataFrame'>\n",
      "RangeIndex: 2 entries, 0 to 1\n",
      "Data columns (total 4 columns):\n",
      " #   Column             Non-Null Count  Dtype \n",
      "---  ------             --------------  ----- \n",
      " 0   subscription_type  2 non-null      object\n",
      " 1   minute_price       2 non-null      int64 \n",
      " 2   start_ride_price   2 non-null      int64 \n",
      " 3   subscription_fee   2 non-null      int64 \n",
      "dtypes: int64(3), object(1)\n",
      "memory usage: 192.0+ bytes\n"
     ]
    },
    {
     "data": {
      "text/plain": [
       "subscription_type    0\n",
       "minute_price         0\n",
       "start_ride_price     0\n",
       "subscription_fee     0\n",
       "dtype: int64"
      ]
     },
     "metadata": {},
     "output_type": "display_data"
    },
    {
     "data": {
      "text/plain": [
       "0"
      ]
     },
     "metadata": {},
     "output_type": "display_data"
    },
    {
     "data": {
      "text/plain": [
       "None"
      ]
     },
     "metadata": {},
     "output_type": "display_data"
    },
    {
     "data": {
      "image/png": "[encoded data removed]",
      "text/plain": [
       "<Figure size 360x360 with 2 Axes>"
      ]
     },
     "metadata": {
      "needs_background": "light"
     },
     "output_type": "display_data"
    },
    {
     "data": {
      "image/png": "[encoded data removed]",
      "text/plain": [
       "<Figure size 360x360 with 4 Axes>"
      ]
     },
     "metadata": {
      "needs_background": "light"
     },
     "output_type": "display_data"
    },
    {
     "data": {
      "image/png": "[encoded data removed]",
      "text/plain": [
       "<Figure size 360x360 with 4 Axes>"
      ]
     },
     "metadata": {
      "needs_background": "light"
     },
     "output_type": "display_data"
    }
   ],
   "source": [
    "user_go = pd.read_csv('/datasets/users_go.csv')\n",
    "rides_go = pd.read_csv('/datasets/rides_go.csv')\n",
    "subscribe_go = pd.read_csv('/datasets/subscriptions_go.csv')\n",
    "display(user_go.head(10))\n",
    "user_go.hist(figsize=(5,5))\n",
    "display(user_go.isna().sum(),user_go.duplicated().sum(),user_go.info())\n",
    "display(rides_go.head(10))\n",
    "rides_go.hist(figsize=(5,5))\n",
    "display(rides_go.isna().sum(),rides_go.duplicated().sum(),rides_go.info())\n",
    "display(subscribe_go.head())\n",
    "subscribe_go.hist(figsize=(5,5))\n",
    "display(subscribe_go.isna().sum(),subscribe_go.duplicated().sum(),subscribe_go.info())\n"
   ]
  },
  {
   "cell_type": "markdown",
   "id": "15f1f7d6",
   "metadata": {},
   "source": [
    "Загрузил библиотеки. Посмотрел предоставленные таблицы , по каждой таблице получена и изучена общая информация, сделаны первые предположения о данных.Пропущеных значений не обнаружено.Обнаружены строки дубликаты в user_go."
   ]
  },
  {
   "cell_type": "markdown",
   "id": "05fe85f3",
   "metadata": {},
   "source": [
    "<div class=\"alert alert-block alert-success\">\n",
    "<b>✅Комментарий ревьюера:</b> Отлично, с данными познакомились!  </div>"
   ]
  },
  {
   "cell_type": "markdown",
   "id": "5b5976bb",
   "metadata": {},
   "source": [
    "#### Шаг 2. Предобработка данных"
   ]
  },
  {
   "cell_type": "markdown",
   "id": "1a3cba23",
   "metadata": {},
   "source": [
    "<h5> 2.1 Приведим столбец date к типу даты pandas  <a class=\"tocSkip\"></h5"
   ]
  },
  {
   "cell_type": "code",
   "execution_count": 3,
   "id": "12937ae4",
   "metadata": {},
   "outputs": [
    {
     "name": "stdout",
     "output_type": "stream",
     "text": [
      "<class 'pandas.core.frame.DataFrame'>\n",
      "RangeIndex: 18068 entries, 0 to 18067\n",
      "Data columns (total 4 columns):\n",
      " #   Column    Non-Null Count  Dtype         \n",
      "---  ------    --------------  -----         \n",
      " 0   user_id   18068 non-null  int64         \n",
      " 1   distance  18068 non-null  float64       \n",
      " 2   duration  18068 non-null  float64       \n",
      " 3   date      18068 non-null  datetime64[ns]\n",
      "dtypes: datetime64[ns](1), float64(2), int64(1)\n",
      "memory usage: 564.8 KB\n"
     ]
    }
   ],
   "source": [
    "rides_go['date'] = pd.to_datetime(rides_go['date'])\n",
    "rides_go.info()\n"
   ]
  },
  {
   "cell_type": "markdown",
   "id": "7da8a163",
   "metadata": {},
   "source": [
    "<h5> 2.2 Создаем новый столбец с номером месяца на основе столбца date  <a class=\"tocSkip\"></h5\n",
    "    "
   ]
  },
  {
   "cell_type": "code",
   "execution_count": 4,
   "id": "7418f298",
   "metadata": {},
   "outputs": [
    {
     "data": {
      "text/plain": [
       "1"
      ]
     },
     "metadata": {},
     "output_type": "display_data"
    },
    {
     "data": {
      "text/plain": [
       "12"
      ]
     },
     "metadata": {},
     "output_type": "display_data"
    },
    {
     "data": {
      "text/html": [
       "<div>\n",
       "<style scoped>\n",
       "    .dataframe tbody tr th:only-of-type {\n",
       "        vertical-align: middle;\n",
       "    }\n",
       "\n",
       "    .dataframe tbody tr th {\n",
       "        vertical-align: top;\n",
       "    }\n",
       "\n",
       "    .dataframe thead th {\n",
       "        text-align: right;\n",
       "    }\n",
       "</style>\n",
       "<table border=\"1\" class=\"dataframe\">\n",
       "  <thead>\n",
       "    <tr style=\"text-align: right;\">\n",
       "      <th></th>\n",
       "      <th>user_id</th>\n",
       "      <th>distance</th>\n",
       "      <th>duration</th>\n",
       "      <th>date</th>\n",
       "      <th>month</th>\n",
       "    </tr>\n",
       "  </thead>\n",
       "  <tbody>\n",
       "    <tr>\n",
       "      <th>0</th>\n",
       "      <td>1</td>\n",
       "      <td>4409.919140</td>\n",
       "      <td>25.599769</td>\n",
       "      <td>2021-01-01</td>\n",
       "      <td>1</td>\n",
       "    </tr>\n",
       "    <tr>\n",
       "      <th>1</th>\n",
       "      <td>1</td>\n",
       "      <td>2617.592153</td>\n",
       "      <td>15.816871</td>\n",
       "      <td>2021-01-18</td>\n",
       "      <td>1</td>\n",
       "    </tr>\n",
       "    <tr>\n",
       "      <th>2</th>\n",
       "      <td>1</td>\n",
       "      <td>754.159807</td>\n",
       "      <td>6.232113</td>\n",
       "      <td>2021-04-20</td>\n",
       "      <td>4</td>\n",
       "    </tr>\n",
       "    <tr>\n",
       "      <th>3</th>\n",
       "      <td>1</td>\n",
       "      <td>2694.783254</td>\n",
       "      <td>18.511000</td>\n",
       "      <td>2021-08-11</td>\n",
       "      <td>8</td>\n",
       "    </tr>\n",
       "    <tr>\n",
       "      <th>4</th>\n",
       "      <td>1</td>\n",
       "      <td>4028.687306</td>\n",
       "      <td>26.265803</td>\n",
       "      <td>2021-08-28</td>\n",
       "      <td>8</td>\n",
       "    </tr>\n",
       "  </tbody>\n",
       "</table>\n",
       "</div>"
      ],
      "text/plain": [
       "   user_id     distance   duration       date  month\n",
       "0        1  4409.919140  25.599769 2021-01-01      1\n",
       "1        1  2617.592153  15.816871 2021-01-18      1\n",
       "2        1   754.159807   6.232113 2021-04-20      4\n",
       "3        1  2694.783254  18.511000 2021-08-11      8\n",
       "4        1  4028.687306  26.265803 2021-08-28      8"
      ]
     },
     "execution_count": 4,
     "metadata": {},
     "output_type": "execute_result"
    }
   ],
   "source": [
    "rides_go['month'] = pd.DatetimeIndex(rides_go['date']).month\n",
    "display(rides_go['month'].min())\n",
    "display(rides_go['month'].max())\n",
    "rides_go.head()\n"
   ]
  },
  {
   "cell_type": "markdown",
   "id": "a638a8bd",
   "metadata": {},
   "source": [
    "<div class=\"alert alert-block alert-warning\">\n",
    "<b>🔁Комментарий ревьюера:</b> \n",
    "\n",
    "Дополнительно лучше проверить данные за какой период у нас имеются, чтобы в дальнейшем не допустить ошибок при группировке по месяцам.</div>"
   ]
  },
  {
   "cell_type": "markdown",
   "id": "4026ff40",
   "metadata": {},
   "source": [
    "<div class=\"alert alert-block alert-info\">\n",
    "<b>🔄Комментарий студента:</b> \n",
    " \n",
    "Сделано"
   ]
  },
  {
   "cell_type": "markdown",
   "id": "9125507d",
   "metadata": {},
   "source": [
    "<div class=\"alert alert-block alert-warning\">\n",
    "<b>🔁Комментарий ревьюера 2:</b> \n",
    "\n",
    "Нам важно проверить за один ли год данные. Для этого следует посмотреть на уникальные значения года</div>"
   ]
  },
  {
   "cell_type": "markdown",
   "id": "b1d1a3c9",
   "metadata": {},
   "source": [
    "<h5> 2.3 Работа с дубликатами  <a class=\"tocSkip\"></h5"
   ]
  },
  {
   "cell_type": "code",
   "execution_count": 5,
   "id": "b6585685",
   "metadata": {},
   "outputs": [
    {
     "data": {
      "text/plain": [
       "0"
      ]
     },
     "execution_count": 5,
     "metadata": {},
     "output_type": "execute_result"
    }
   ],
   "source": [
    "user_go = user_go.drop_duplicates().reset_index(drop=True)\n",
    "user_go.duplicated().sum()"
   ]
  },
  {
   "cell_type": "markdown",
   "id": "767be61e",
   "metadata": {},
   "source": [
    "<div class=\"alert alert-block alert-warning\">\n",
    "<b>🔁Комментарий ревьюера:</b> \n",
    "\n",
    "Лучше всегда проверять, удалились ли дубликаты\n",
    "</div>"
   ]
  },
  {
   "cell_type": "markdown",
   "id": "f6a48da9",
   "metadata": {},
   "source": [
    "<div class=\"alert alert-block alert-success\">\n",
    "<b>✅Комментарий ревьюера 2:</b> Отлично, исправлено!👍  </div>"
   ]
  },
  {
   "cell_type": "markdown",
   "id": "79d87bbd",
   "metadata": {},
   "source": [
    "<div class=\"alert alert-block alert-info\">\n",
    "<b>🔄Комментарий студента:</b> \n",
    "\n",
    "Проверил    "
   ]
  },
  {
   "cell_type": "markdown",
   "id": "1e0041bd",
   "metadata": {},
   "source": [
    "Привели столбец date к типу даты pandas,создали новый столбец с номером месяца, убрали имеющиеся строки дубликаты."
   ]
  },
  {
   "cell_type": "markdown",
   "id": "c1ff4327",
   "metadata": {},
   "source": [
    "<div class=\"alert alert-block alert-success\">\n",
    "<b>✅Комментарий ревьюера:</b> Предобработка данных проведена успешно! Можно приступать к исследованию)</div>"
   ]
  },
  {
   "cell_type": "markdown",
   "id": "d73f7d43",
   "metadata": {},
   "source": [
    "#### Шаг 3. Исследовательский анализ данных"
   ]
  },
  {
   "cell_type": "markdown",
   "id": "03876fd9",
   "metadata": {},
   "source": [
    "<h5> 3.1 Частота встречаемости городов  <a class=\"tocSkip\"></h5\n",
    "    "
   ]
  },
  {
   "cell_type": "code",
   "execution_count": 6,
   "id": "bf04383a",
   "metadata": {
    "scrolled": true
   },
   "outputs": [
    {
     "data": {
      "text/plain": [
       "Пятигорск         219\n",
       "Екатеринбург      204\n",
       "Ростов-на-Дону    198\n",
       "Краснодар         193\n",
       "Сочи              189\n",
       "Омск              183\n",
       "Тюмень            180\n",
       "Москва            168\n",
       "Name: city, dtype: int64"
      ]
     },
     "metadata": {},
     "output_type": "display_data"
    },
    {
     "data": {
      "text/plain": [
       "Text(0.5, 1.0, 'Частота встречаемости городов')"
      ]
     },
     "execution_count": 6,
     "metadata": {},
     "output_type": "execute_result"
    },
    {
     "data": {
      "image/png": "[encoded data removed]",
      "text/plain": [
       "<Figure size 720x360 with 1 Axes>"
      ]
     },
     "metadata": {
      "needs_background": "light"
     },
     "output_type": "display_data"
    }
   ],
   "source": [
    "user_go['city'].hist(bins=50,figsize=(10,5))\n",
    "display(user_go['city'].value_counts())\n",
    "plt.xlabel('Города')\n",
    "plt.ylabel('Частота')\n",
    "plt.title('Частота встречаемости городов')"
   ]
  },
  {
   "cell_type": "markdown",
   "id": "15586171",
   "metadata": {},
   "source": [
    "<div class=\"alert alert-block alert-warning\">\n",
    "<b>🔁Комментарий ревьюера:</b> \n",
    "\n",
    "Такой график не очень информативен. Для категориальных признаков гистограмма не подходит. Тут лучше построить горизонтальный барплот с сортировкой по убыванию. </div>"
   ]
  },
  {
   "cell_type": "markdown",
   "id": "f1e5bd64",
   "metadata": {},
   "source": [
    "<div class=\"alert alert-block alert-danger\">\n",
    "<b>❌Комментарий ревьюера:</b>\n",
    "    \n",
    "Необходимо подписывать не только оси на графиках, но и названия, чтобы было понятно что на них изображено </div>"
   ]
  },
  {
   "cell_type": "markdown",
   "id": "3419ff79",
   "metadata": {},
   "source": [
    "<div class=\"alert alert-block alert-success\">\n",
    "<b>✅Комментарий ревьюера 2:</b> Отлично, исправлено!👍  </div>"
   ]
  },
  {
   "cell_type": "markdown",
   "id": "d9932d03",
   "metadata": {},
   "source": [
    "<div class=\"alert alert-block alert-info\">\n",
    "<b>🔄Комментарий студента:</b> \n",
    "Поправил"
   ]
  },
  {
   "cell_type": "markdown",
   "id": "79af7ca6",
   "metadata": {},
   "source": [
    "Сервис хорошо себя показывает в Пятигорске, чуть хуже в Екатеренбурге и в Ростове, наименее популярен в Москве, что для меня удивительно, всегда считал Москву городом больших трафиков и пробок..."
   ]
  },
  {
   "cell_type": "markdown",
   "id": "407dcd8d",
   "metadata": {},
   "source": [
    "<h5> 3.2 соотношение пользователей с подпиской и без подписки <a class=\"tocSkip\"></h5"
   ]
  },
  {
   "cell_type": "code",
   "execution_count": 7,
   "id": "be9780c0",
   "metadata": {},
   "outputs": [
    {
     "data": {
      "text/plain": [
       "free     835\n",
       "ultra    699\n",
       "Name: subscription_type, dtype: int64"
      ]
     },
     "metadata": {},
     "output_type": "display_data"
    },
    {
     "data": {
      "text/plain": [
       "Text(0.5, 1.0, 'Соотношение пользователей с подпиской и без')"
      ]
     },
     "execution_count": 7,
     "metadata": {},
     "output_type": "execute_result"
    },
    {
     "data": {
      "image/png": "[encoded data removed]",
      "text/plain": [
       "<Figure size 432x288 with 1 Axes>"
      ]
     },
     "metadata": {
      "needs_background": "light"
     },
     "output_type": "display_data"
    }
   ],
   "source": [
    "user_go['subscription_type'].hist(bins=50)\n",
    "display(user_go['subscription_type'].value_counts())\n",
    "plt.xlabel('Подписка')\n",
    "plt.ylabel('Количество пользователей')\n",
    "plt.title('Соотношение пользователей с подпиской и без')"
   ]
  },
  {
   "cell_type": "markdown",
   "id": "8a92c938",
   "metadata": {},
   "source": [
    "<div class=\"alert alert-block alert-warning\">\n",
    "<b>🔁Комментарий ревьюера:</b>\n",
    "\n",
    "Тут отлично подошла бы круговая диаграмма с отображением на ней соотношения групп пользователей в %</div>"
   ]
  },
  {
   "cell_type": "markdown",
   "id": "c8e5da3c",
   "metadata": {},
   "source": [
    "Пользователей без подписки больше чем с ней."
   ]
  },
  {
   "cell_type": "markdown",
   "id": "ec1241b3",
   "metadata": {},
   "source": [
    "<h5> 3.3 возраст пользователей <a class=\"tocSkip\"></h5"
   ]
  },
  {
   "cell_type": "code",
   "execution_count": 8,
   "id": "a71bc5a1",
   "metadata": {},
   "outputs": [
    {
     "data": {
      "text/plain": [
       "25    145\n",
       "24    132\n",
       "26    131\n",
       "23    129\n",
       "27    119\n",
       "22    119\n",
       "28    112\n",
       "21     93\n",
       "20     71\n",
       "30     68\n",
       "29     68\n",
       "31     48\n",
       "19     47\n",
       "18     46\n",
       "32     41\n",
       "33     39\n",
       "17     26\n",
       "34     19\n",
       "16     19\n",
       "35     15\n",
       "15     13\n",
       "14      9\n",
       "13      8\n",
       "36      6\n",
       "12      4\n",
       "38      3\n",
       "37      2\n",
       "39      1\n",
       "43      1\n",
       "Name: age, dtype: int64"
      ]
     },
     "metadata": {},
     "output_type": "display_data"
    },
    {
     "data": {
      "text/plain": [
       "count    1534.000000\n",
       "mean       24.903520\n",
       "std         4.572367\n",
       "min        12.000000\n",
       "25%        22.000000\n",
       "50%        25.000000\n",
       "75%        28.000000\n",
       "max        43.000000\n",
       "Name: age, dtype: float64"
      ]
     },
     "execution_count": 8,
     "metadata": {},
     "output_type": "execute_result"
    },
    {
     "data": {
      "image/png": "[encoded data removed]",
      "text/plain": [
       "<Figure size 432x288 with 1 Axes>"
      ]
     },
     "metadata": {
      "needs_background": "light"
     },
     "output_type": "display_data"
    }
   ],
   "source": [
    "user_go['age'].hist(bins=50)\n",
    "plt.xlabel('Возраст')\n",
    "plt.ylabel('Количество пользователей')\n",
    "display(user_go['age'].value_counts())\n",
    "user_go['age'].describe()\n"
   ]
  },
  {
   "cell_type": "markdown",
   "id": "a4d7e40f",
   "metadata": {},
   "source": [
    "<div class=\"alert alert-block alert-success\">\n",
    "<b>✅Комментарий ревьюера:</b> \n",
    "\n",
    "Здорово, что используешь метод `describe()` как дополнительный инструмент анализа.</div>"
   ]
  },
  {
   "cell_type": "markdown",
   "id": "b5c00b14",
   "metadata": {},
   "source": [
    "Сервисом пользуются люди от 12 до 43 лет. Наиболее востребован сервис у людей в возрасте 25 лет."
   ]
  },
  {
   "cell_type": "markdown",
   "id": "a08b9884",
   "metadata": {},
   "source": [
    "<h5> 3.4 расстояние, которое пользователь преодолел за одну поездку <a class=\"tocSkip\"></h5\n",
    "    "
   ]
  },
  {
   "cell_type": "code",
   "execution_count": 9,
   "id": "7705701a",
   "metadata": {},
   "outputs": [
    {
     "data": {
      "text/plain": [
       "count    18068.000000\n",
       "mean      3070.659976\n",
       "std       1116.831209\n",
       "min          0.855683\n",
       "25%       2543.226360\n",
       "50%       3133.609994\n",
       "75%       3776.222735\n",
       "max       7211.007745\n",
       "Name: distance, dtype: float64"
      ]
     },
     "execution_count": 9,
     "metadata": {},
     "output_type": "execute_result"
    },
    {
     "data": {
      "image/png": "[encoded data removed]",
      "text/plain": [
       "<Figure size 432x288 with 1 Axes>"
      ]
     },
     "metadata": {
      "needs_background": "light"
     },
     "output_type": "display_data"
    }
   ],
   "source": [
    "rides_go['distance'].hist(bins=50)\n",
    "plt.xlabel('Расстояние')\n",
    "plt.ylabel('Количество пользователей')\n",
    "plt.title('Растояние преодолеваемое пользователем за одну поездку')\n",
    "rides_go['distance'].describe()"
   ]
  },
  {
   "cell_type": "markdown",
   "id": "166d4148",
   "metadata": {},
   "source": [
    "Среднее растояние поездки составляет 3070 метров, на графике наблюдается два пика, малый пик находиться приблизительно в райное 700 метров, большой пик в райное 3200."
   ]
  },
  {
   "cell_type": "markdown",
   "id": "832c8c54",
   "metadata": {},
   "source": [
    "<div class=\"alert alert-block alert-warning\">\n",
    "<b>🔁Комментарий ревьюера:</b>\n",
    "\n",
    "Как ты думаешь, чем можно объяснить два пиковых значения на распределении?</div>"
   ]
  },
  {
   "cell_type": "markdown",
   "id": "47b3fb9a",
   "metadata": {},
   "source": [
    "<div class=\"alert alert-block alert-info\">\n",
    "<b>🔄Комментарий студента:</b> \n",
    "Хотелось бы услышать твое мнение, мое мнение таково, что может люди пробуют пользоваться арендой самокатов в первый раз, а может точки размещения самокатов находяться в разных местах, кому то нужно небольшое растояние чтобы добраться из пункта в А в пункт Б, кому то больше, вариантов много...    "
   ]
  },
  {
   "cell_type": "markdown",
   "id": "6fc02cdb",
   "metadata": {},
   "source": [
    "<div class=\"alert alert-block alert-success\">\n",
    "<b>✅Комментарий ревьюера 2:</b> Отлично, исправлено!👍 А еще короткими могут быть поездки до ближайшей станции метро или остановки общественного транспорта. </div>"
   ]
  },
  {
   "cell_type": "markdown",
   "id": "9fc5e3dd",
   "metadata": {},
   "source": [
    "<h5> 3.5 продолжительность поездок <a class=\"tocSkip\"></h5"
   ]
  },
  {
   "cell_type": "markdown",
   "id": "3ab4dec9",
   "metadata": {},
   "source": [
    "<div class=\"alert alert-block alert-warning\">\n",
    "<b>🔁Комментарий ревьюера:</b> \n",
    "\n",
    "Продолжительность поездок лучше округлять непосредственно перед формированием сводной таблицы для расчета выручки (в объединенной таблице), чтобы не получить искажения значений при исследовательском анализе.</div>"
   ]
  },
  {
   "cell_type": "code",
   "execution_count": 10,
   "id": "f67c80e1",
   "metadata": {},
   "outputs": [
    {
     "data": {
      "text/plain": [
       "count    18068.000000\n",
       "mean        18.303520\n",
       "std          6.094928\n",
       "min          1.000000\n",
       "25%         14.000000\n",
       "50%         18.000000\n",
       "75%         22.000000\n",
       "max         41.000000\n",
       "Name: duration, dtype: float64"
      ]
     },
     "execution_count": 10,
     "metadata": {},
     "output_type": "execute_result"
    },
    {
     "data": {
      "image/png": "[encoded data removed]",
      "text/plain": [
       "<Figure size 432x288 with 1 Axes>"
      ]
     },
     "metadata": {
      "needs_background": "light"
     },
     "output_type": "display_data"
    }
   ],
   "source": [
    "rides_go['duration'] = np.ceil(rides_go['duration'])\n",
    "rides_go['duration'].hist(bins=50)\n",
    "plt.xlabel('Время')\n",
    "plt.ylabel('Количество пользователей')\n",
    "plt.title('Продолжительность поездок пользователей')\n",
    "rides_go['duration'].describe()"
   ]
  },
  {
   "cell_type": "markdown",
   "id": "e973e0e0",
   "metadata": {},
   "source": [
    "Самое короткое время пользование составляет 1 минуту, может это какой нибудь сбой в программе, а может люди просто только знакомяться с сервисом так сказать опробывают. Самая длинная поездка сосотавляет 41 минуту, наиболее частое исползование составляет 18 минут."
   ]
  },
  {
   "cell_type": "markdown",
   "id": "7f8c26dc",
   "metadata": {},
   "source": [
    "<div class=\"alert alert-block alert-warning\">\n",
    "<b>🔁Комментарий ревьюера:</b> \n",
    "    \n",
    "Хорошо, что ты обратил внимание на минимальные значения (их отчетливо видно на распределении). Строки с этими поездками и их параметры стоит рассмотреть подробнее на предмет аномалий. </div>"
   ]
  },
  {
   "cell_type": "markdown",
   "id": "134c1c5b",
   "metadata": {},
   "source": [
    "#### Шаг 4. Объединение данных"
   ]
  },
  {
   "cell_type": "markdown",
   "id": "03df873a",
   "metadata": {},
   "source": [
    "<h5> 4.1 Объедините данные о пользователях, поездках и подписках в один датафрейм <a class=\"tocSkip\"></h5"
   ]
  },
  {
   "cell_type": "code",
   "execution_count": 11,
   "id": "5732f609",
   "metadata": {},
   "outputs": [
    {
     "data": {
      "text/html": [
       "<div>\n",
       "<style scoped>\n",
       "    .dataframe tbody tr th:only-of-type {\n",
       "        vertical-align: middle;\n",
       "    }\n",
       "\n",
       "    .dataframe tbody tr th {\n",
       "        vertical-align: top;\n",
       "    }\n",
       "\n",
       "    .dataframe thead th {\n",
       "        text-align: right;\n",
       "    }\n",
       "</style>\n",
       "<table border=\"1\" class=\"dataframe\">\n",
       "  <thead>\n",
       "    <tr style=\"text-align: right;\">\n",
       "      <th></th>\n",
       "      <th>user_id</th>\n",
       "      <th>name</th>\n",
       "      <th>age</th>\n",
       "      <th>city</th>\n",
       "      <th>subscription_type</th>\n",
       "      <th>distance</th>\n",
       "      <th>duration</th>\n",
       "      <th>date</th>\n",
       "      <th>month</th>\n",
       "      <th>minute_price</th>\n",
       "      <th>start_ride_price</th>\n",
       "      <th>subscription_fee</th>\n",
       "    </tr>\n",
       "  </thead>\n",
       "  <tbody>\n",
       "    <tr>\n",
       "      <th>0</th>\n",
       "      <td>1</td>\n",
       "      <td>Кира</td>\n",
       "      <td>22</td>\n",
       "      <td>Тюмень</td>\n",
       "      <td>ultra</td>\n",
       "      <td>4409.919140</td>\n",
       "      <td>26.0</td>\n",
       "      <td>2021-01-01</td>\n",
       "      <td>1</td>\n",
       "      <td>6</td>\n",
       "      <td>0</td>\n",
       "      <td>199</td>\n",
       "    </tr>\n",
       "    <tr>\n",
       "      <th>1</th>\n",
       "      <td>1</td>\n",
       "      <td>Кира</td>\n",
       "      <td>22</td>\n",
       "      <td>Тюмень</td>\n",
       "      <td>ultra</td>\n",
       "      <td>2617.592153</td>\n",
       "      <td>16.0</td>\n",
       "      <td>2021-01-18</td>\n",
       "      <td>1</td>\n",
       "      <td>6</td>\n",
       "      <td>0</td>\n",
       "      <td>199</td>\n",
       "    </tr>\n",
       "    <tr>\n",
       "      <th>2</th>\n",
       "      <td>1</td>\n",
       "      <td>Кира</td>\n",
       "      <td>22</td>\n",
       "      <td>Тюмень</td>\n",
       "      <td>ultra</td>\n",
       "      <td>754.159807</td>\n",
       "      <td>7.0</td>\n",
       "      <td>2021-04-20</td>\n",
       "      <td>4</td>\n",
       "      <td>6</td>\n",
       "      <td>0</td>\n",
       "      <td>199</td>\n",
       "    </tr>\n",
       "    <tr>\n",
       "      <th>3</th>\n",
       "      <td>1</td>\n",
       "      <td>Кира</td>\n",
       "      <td>22</td>\n",
       "      <td>Тюмень</td>\n",
       "      <td>ultra</td>\n",
       "      <td>2694.783254</td>\n",
       "      <td>19.0</td>\n",
       "      <td>2021-08-11</td>\n",
       "      <td>8</td>\n",
       "      <td>6</td>\n",
       "      <td>0</td>\n",
       "      <td>199</td>\n",
       "    </tr>\n",
       "    <tr>\n",
       "      <th>4</th>\n",
       "      <td>1</td>\n",
       "      <td>Кира</td>\n",
       "      <td>22</td>\n",
       "      <td>Тюмень</td>\n",
       "      <td>ultra</td>\n",
       "      <td>4028.687306</td>\n",
       "      <td>27.0</td>\n",
       "      <td>2021-08-28</td>\n",
       "      <td>8</td>\n",
       "      <td>6</td>\n",
       "      <td>0</td>\n",
       "      <td>199</td>\n",
       "    </tr>\n",
       "    <tr>\n",
       "      <th>5</th>\n",
       "      <td>1</td>\n",
       "      <td>Кира</td>\n",
       "      <td>22</td>\n",
       "      <td>Тюмень</td>\n",
       "      <td>ultra</td>\n",
       "      <td>2770.890808</td>\n",
       "      <td>17.0</td>\n",
       "      <td>2021-10-09</td>\n",
       "      <td>10</td>\n",
       "      <td>6</td>\n",
       "      <td>0</td>\n",
       "      <td>199</td>\n",
       "    </tr>\n",
       "    <tr>\n",
       "      <th>6</th>\n",
       "      <td>1</td>\n",
       "      <td>Кира</td>\n",
       "      <td>22</td>\n",
       "      <td>Тюмень</td>\n",
       "      <td>ultra</td>\n",
       "      <td>3039.020292</td>\n",
       "      <td>15.0</td>\n",
       "      <td>2021-10-19</td>\n",
       "      <td>10</td>\n",
       "      <td>6</td>\n",
       "      <td>0</td>\n",
       "      <td>199</td>\n",
       "    </tr>\n",
       "    <tr>\n",
       "      <th>7</th>\n",
       "      <td>1</td>\n",
       "      <td>Кира</td>\n",
       "      <td>22</td>\n",
       "      <td>Тюмень</td>\n",
       "      <td>ultra</td>\n",
       "      <td>2842.118050</td>\n",
       "      <td>24.0</td>\n",
       "      <td>2021-11-06</td>\n",
       "      <td>11</td>\n",
       "      <td>6</td>\n",
       "      <td>0</td>\n",
       "      <td>199</td>\n",
       "    </tr>\n",
       "    <tr>\n",
       "      <th>8</th>\n",
       "      <td>1</td>\n",
       "      <td>Кира</td>\n",
       "      <td>22</td>\n",
       "      <td>Тюмень</td>\n",
       "      <td>ultra</td>\n",
       "      <td>3412.690668</td>\n",
       "      <td>16.0</td>\n",
       "      <td>2021-11-14</td>\n",
       "      <td>11</td>\n",
       "      <td>6</td>\n",
       "      <td>0</td>\n",
       "      <td>199</td>\n",
       "    </tr>\n",
       "    <tr>\n",
       "      <th>9</th>\n",
       "      <td>1</td>\n",
       "      <td>Кира</td>\n",
       "      <td>22</td>\n",
       "      <td>Тюмень</td>\n",
       "      <td>ultra</td>\n",
       "      <td>748.690645</td>\n",
       "      <td>16.0</td>\n",
       "      <td>2021-11-22</td>\n",
       "      <td>11</td>\n",
       "      <td>6</td>\n",
       "      <td>0</td>\n",
       "      <td>199</td>\n",
       "    </tr>\n",
       "    <tr>\n",
       "      <th>10</th>\n",
       "      <td>1</td>\n",
       "      <td>Кира</td>\n",
       "      <td>22</td>\n",
       "      <td>Тюмень</td>\n",
       "      <td>ultra</td>\n",
       "      <td>4031.020195</td>\n",
       "      <td>18.0</td>\n",
       "      <td>2021-12-14</td>\n",
       "      <td>12</td>\n",
       "      <td>6</td>\n",
       "      <td>0</td>\n",
       "      <td>199</td>\n",
       "    </tr>\n",
       "    <tr>\n",
       "      <th>11</th>\n",
       "      <td>1</td>\n",
       "      <td>Кира</td>\n",
       "      <td>22</td>\n",
       "      <td>Тюмень</td>\n",
       "      <td>ultra</td>\n",
       "      <td>2720.609748</td>\n",
       "      <td>10.0</td>\n",
       "      <td>2021-12-22</td>\n",
       "      <td>12</td>\n",
       "      <td>6</td>\n",
       "      <td>0</td>\n",
       "      <td>199</td>\n",
       "    </tr>\n",
       "    <tr>\n",
       "      <th>12</th>\n",
       "      <td>2</td>\n",
       "      <td>Станислав</td>\n",
       "      <td>31</td>\n",
       "      <td>Омск</td>\n",
       "      <td>ultra</td>\n",
       "      <td>3105.086678</td>\n",
       "      <td>25.0</td>\n",
       "      <td>2021-03-15</td>\n",
       "      <td>3</td>\n",
       "      <td>6</td>\n",
       "      <td>0</td>\n",
       "      <td>199</td>\n",
       "    </tr>\n",
       "    <tr>\n",
       "      <th>13</th>\n",
       "      <td>2</td>\n",
       "      <td>Станислав</td>\n",
       "      <td>31</td>\n",
       "      <td>Омск</td>\n",
       "      <td>ultra</td>\n",
       "      <td>3053.519401</td>\n",
       "      <td>12.0</td>\n",
       "      <td>2021-03-18</td>\n",
       "      <td>3</td>\n",
       "      <td>6</td>\n",
       "      <td>0</td>\n",
       "      <td>199</td>\n",
       "    </tr>\n",
       "    <tr>\n",
       "      <th>14</th>\n",
       "      <td>2</td>\n",
       "      <td>Станислав</td>\n",
       "      <td>31</td>\n",
       "      <td>Омск</td>\n",
       "      <td>ultra</td>\n",
       "      <td>4029.116927</td>\n",
       "      <td>26.0</td>\n",
       "      <td>2021-03-23</td>\n",
       "      <td>3</td>\n",
       "      <td>6</td>\n",
       "      <td>0</td>\n",
       "      <td>199</td>\n",
       "    </tr>\n",
       "    <tr>\n",
       "      <th>15</th>\n",
       "      <td>2</td>\n",
       "      <td>Станислав</td>\n",
       "      <td>31</td>\n",
       "      <td>Омск</td>\n",
       "      <td>ultra</td>\n",
       "      <td>2805.786329</td>\n",
       "      <td>21.0</td>\n",
       "      <td>2021-04-08</td>\n",
       "      <td>4</td>\n",
       "      <td>6</td>\n",
       "      <td>0</td>\n",
       "      <td>199</td>\n",
       "    </tr>\n",
       "    <tr>\n",
       "      <th>16</th>\n",
       "      <td>2</td>\n",
       "      <td>Станислав</td>\n",
       "      <td>31</td>\n",
       "      <td>Омск</td>\n",
       "      <td>ultra</td>\n",
       "      <td>3358.595495</td>\n",
       "      <td>19.0</td>\n",
       "      <td>2021-04-13</td>\n",
       "      <td>4</td>\n",
       "      <td>6</td>\n",
       "      <td>0</td>\n",
       "      <td>199</td>\n",
       "    </tr>\n",
       "    <tr>\n",
       "      <th>17</th>\n",
       "      <td>2</td>\n",
       "      <td>Станислав</td>\n",
       "      <td>31</td>\n",
       "      <td>Омск</td>\n",
       "      <td>ultra</td>\n",
       "      <td>3255.338202</td>\n",
       "      <td>14.0</td>\n",
       "      <td>2021-06-20</td>\n",
       "      <td>6</td>\n",
       "      <td>6</td>\n",
       "      <td>0</td>\n",
       "      <td>199</td>\n",
       "    </tr>\n",
       "    <tr>\n",
       "      <th>18</th>\n",
       "      <td>2</td>\n",
       "      <td>Станислав</td>\n",
       "      <td>31</td>\n",
       "      <td>Омск</td>\n",
       "      <td>ultra</td>\n",
       "      <td>3942.817648</td>\n",
       "      <td>21.0</td>\n",
       "      <td>2021-07-02</td>\n",
       "      <td>7</td>\n",
       "      <td>6</td>\n",
       "      <td>0</td>\n",
       "      <td>199</td>\n",
       "    </tr>\n",
       "    <tr>\n",
       "      <th>19</th>\n",
       "      <td>2</td>\n",
       "      <td>Станислав</td>\n",
       "      <td>31</td>\n",
       "      <td>Омск</td>\n",
       "      <td>ultra</td>\n",
       "      <td>2837.905316</td>\n",
       "      <td>27.0</td>\n",
       "      <td>2021-07-18</td>\n",
       "      <td>7</td>\n",
       "      <td>6</td>\n",
       "      <td>0</td>\n",
       "      <td>199</td>\n",
       "    </tr>\n",
       "  </tbody>\n",
       "</table>\n",
       "</div>"
      ],
      "text/plain": [
       "    user_id       name  age    city subscription_type     distance  duration  \\\n",
       "0         1       Кира   22  Тюмень             ultra  4409.919140      26.0   \n",
       "1         1       Кира   22  Тюмень             ultra  2617.592153      16.0   \n",
       "2         1       Кира   22  Тюмень             ultra   754.159807       7.0   \n",
       "3         1       Кира   22  Тюмень             ultra  2694.783254      19.0   \n",
       "4         1       Кира   22  Тюмень             ultra  4028.687306      27.0   \n",
       "5         1       Кира   22  Тюмень             ultra  2770.890808      17.0   \n",
       "6         1       Кира   22  Тюмень             ultra  3039.020292      15.0   \n",
       "7         1       Кира   22  Тюмень             ultra  2842.118050      24.0   \n",
       "8         1       Кира   22  Тюмень             ultra  3412.690668      16.0   \n",
       "9         1       Кира   22  Тюмень             ultra   748.690645      16.0   \n",
       "10        1       Кира   22  Тюмень             ultra  4031.020195      18.0   \n",
       "11        1       Кира   22  Тюмень             ultra  2720.609748      10.0   \n",
       "12        2  Станислав   31    Омск             ultra  3105.086678      25.0   \n",
       "13        2  Станислав   31    Омск             ultra  3053.519401      12.0   \n",
       "14        2  Станислав   31    Омск             ultra  4029.116927      26.0   \n",
       "15        2  Станислав   31    Омск             ultra  2805.786329      21.0   \n",
       "16        2  Станислав   31    Омск             ultra  3358.595495      19.0   \n",
       "17        2  Станислав   31    Омск             ultra  3255.338202      14.0   \n",
       "18        2  Станислав   31    Омск             ultra  3942.817648      21.0   \n",
       "19        2  Станислав   31    Омск             ultra  2837.905316      27.0   \n",
       "\n",
       "         date  month  minute_price  start_ride_price  subscription_fee  \n",
       "0  2021-01-01      1             6                 0               199  \n",
       "1  2021-01-18      1             6                 0               199  \n",
       "2  2021-04-20      4             6                 0               199  \n",
       "3  2021-08-11      8             6                 0               199  \n",
       "4  2021-08-28      8             6                 0               199  \n",
       "5  2021-10-09     10             6                 0               199  \n",
       "6  2021-10-19     10             6                 0               199  \n",
       "7  2021-11-06     11             6                 0               199  \n",
       "8  2021-11-14     11             6                 0               199  \n",
       "9  2021-11-22     11             6                 0               199  \n",
       "10 2021-12-14     12             6                 0               199  \n",
       "11 2021-12-22     12             6                 0               199  \n",
       "12 2021-03-15      3             6                 0               199  \n",
       "13 2021-03-18      3             6                 0               199  \n",
       "14 2021-03-23      3             6                 0               199  \n",
       "15 2021-04-08      4             6                 0               199  \n",
       "16 2021-04-13      4             6                 0               199  \n",
       "17 2021-06-20      6             6                 0               199  \n",
       "18 2021-07-02      7             6                 0               199  \n",
       "19 2021-07-18      7             6                 0               199  "
      ]
     },
     "execution_count": 11,
     "metadata": {},
     "output_type": "execute_result"
    }
   ],
   "source": [
    "merged_data = user_go.merge(rides_go, on='user_id', how='inner')\n",
    "merged_data = merged_data.merge(subscribe_go, on='subscription_type', how='inner')\n",
    "merged_data.head(20)\n"
   ]
  },
  {
   "cell_type": "markdown",
   "id": "cbfe1e77",
   "metadata": {},
   "source": [
    "<div class=\"alert alert-block alert-warning\">\n",
    "<b>🔁Комментарий ревьюера:</b>\n",
    "\n",
    "Тут стоит проверить количество строк полученной таблицы и сравнить ее с количеством строк таблиц до объединения, чтобы убедиться что мы ничего не потеряли и не добавили лишнего. А также проверить, не появились ли пропуски в таблице.\n",
    "\n",
    "</div>"
   ]
  },
  {
   "cell_type": "markdown",
   "id": "3ce0048d",
   "metadata": {},
   "source": [
    "<h5> 4.2 датафрейм c данными о пользователях без подписки <a class=\"tocSkip\"></h5"
   ]
  },
  {
   "cell_type": "code",
   "execution_count": 12,
   "id": "1880e8da",
   "metadata": {},
   "outputs": [
    {
     "data": {
      "text/html": [
       "<div>\n",
       "<style scoped>\n",
       "    .dataframe tbody tr th:only-of-type {\n",
       "        vertical-align: middle;\n",
       "    }\n",
       "\n",
       "    .dataframe tbody tr th {\n",
       "        vertical-align: top;\n",
       "    }\n",
       "\n",
       "    .dataframe thead th {\n",
       "        text-align: right;\n",
       "    }\n",
       "</style>\n",
       "<table border=\"1\" class=\"dataframe\">\n",
       "  <thead>\n",
       "    <tr style=\"text-align: right;\">\n",
       "      <th></th>\n",
       "      <th>user_id</th>\n",
       "      <th>name</th>\n",
       "      <th>age</th>\n",
       "      <th>city</th>\n",
       "      <th>subscription_type</th>\n",
       "      <th>distance</th>\n",
       "      <th>duration</th>\n",
       "      <th>date</th>\n",
       "      <th>month</th>\n",
       "      <th>minute_price</th>\n",
       "      <th>start_ride_price</th>\n",
       "      <th>subscription_fee</th>\n",
       "    </tr>\n",
       "  </thead>\n",
       "  <tbody>\n",
       "    <tr>\n",
       "      <th>6500</th>\n",
       "      <td>700</td>\n",
       "      <td>Айдар</td>\n",
       "      <td>22</td>\n",
       "      <td>Омск</td>\n",
       "      <td>free</td>\n",
       "      <td>2515.690719</td>\n",
       "      <td>15.0</td>\n",
       "      <td>2021-01-02</td>\n",
       "      <td>1</td>\n",
       "      <td>8</td>\n",
       "      <td>50</td>\n",
       "      <td>0</td>\n",
       "    </tr>\n",
       "    <tr>\n",
       "      <th>6501</th>\n",
       "      <td>700</td>\n",
       "      <td>Айдар</td>\n",
       "      <td>22</td>\n",
       "      <td>Омск</td>\n",
       "      <td>free</td>\n",
       "      <td>846.932642</td>\n",
       "      <td>17.0</td>\n",
       "      <td>2021-02-01</td>\n",
       "      <td>2</td>\n",
       "      <td>8</td>\n",
       "      <td>50</td>\n",
       "      <td>0</td>\n",
       "    </tr>\n",
       "    <tr>\n",
       "      <th>6502</th>\n",
       "      <td>700</td>\n",
       "      <td>Айдар</td>\n",
       "      <td>22</td>\n",
       "      <td>Омск</td>\n",
       "      <td>free</td>\n",
       "      <td>4004.434142</td>\n",
       "      <td>21.0</td>\n",
       "      <td>2021-02-04</td>\n",
       "      <td>2</td>\n",
       "      <td>8</td>\n",
       "      <td>50</td>\n",
       "      <td>0</td>\n",
       "    </tr>\n",
       "    <tr>\n",
       "      <th>6503</th>\n",
       "      <td>700</td>\n",
       "      <td>Айдар</td>\n",
       "      <td>22</td>\n",
       "      <td>Омск</td>\n",
       "      <td>free</td>\n",
       "      <td>1205.911290</td>\n",
       "      <td>10.0</td>\n",
       "      <td>2021-02-10</td>\n",
       "      <td>2</td>\n",
       "      <td>8</td>\n",
       "      <td>50</td>\n",
       "      <td>0</td>\n",
       "    </tr>\n",
       "    <tr>\n",
       "      <th>6504</th>\n",
       "      <td>700</td>\n",
       "      <td>Айдар</td>\n",
       "      <td>22</td>\n",
       "      <td>Омск</td>\n",
       "      <td>free</td>\n",
       "      <td>3047.379435</td>\n",
       "      <td>18.0</td>\n",
       "      <td>2021-02-14</td>\n",
       "      <td>2</td>\n",
       "      <td>8</td>\n",
       "      <td>50</td>\n",
       "      <td>0</td>\n",
       "    </tr>\n",
       "    <tr>\n",
       "      <th>6505</th>\n",
       "      <td>700</td>\n",
       "      <td>Айдар</td>\n",
       "      <td>22</td>\n",
       "      <td>Омск</td>\n",
       "      <td>free</td>\n",
       "      <td>4342.002254</td>\n",
       "      <td>23.0</td>\n",
       "      <td>2021-02-23</td>\n",
       "      <td>2</td>\n",
       "      <td>8</td>\n",
       "      <td>50</td>\n",
       "      <td>0</td>\n",
       "    </tr>\n",
       "    <tr>\n",
       "      <th>6506</th>\n",
       "      <td>700</td>\n",
       "      <td>Айдар</td>\n",
       "      <td>22</td>\n",
       "      <td>Омск</td>\n",
       "      <td>free</td>\n",
       "      <td>3798.334905</td>\n",
       "      <td>19.0</td>\n",
       "      <td>2021-03-03</td>\n",
       "      <td>3</td>\n",
       "      <td>8</td>\n",
       "      <td>50</td>\n",
       "      <td>0</td>\n",
       "    </tr>\n",
       "    <tr>\n",
       "      <th>6507</th>\n",
       "      <td>700</td>\n",
       "      <td>Айдар</td>\n",
       "      <td>22</td>\n",
       "      <td>Омск</td>\n",
       "      <td>free</td>\n",
       "      <td>2984.551206</td>\n",
       "      <td>16.0</td>\n",
       "      <td>2021-04-09</td>\n",
       "      <td>4</td>\n",
       "      <td>8</td>\n",
       "      <td>50</td>\n",
       "      <td>0</td>\n",
       "    </tr>\n",
       "    <tr>\n",
       "      <th>6508</th>\n",
       "      <td>700</td>\n",
       "      <td>Айдар</td>\n",
       "      <td>22</td>\n",
       "      <td>Омск</td>\n",
       "      <td>free</td>\n",
       "      <td>3360.107141</td>\n",
       "      <td>17.0</td>\n",
       "      <td>2021-06-12</td>\n",
       "      <td>6</td>\n",
       "      <td>8</td>\n",
       "      <td>50</td>\n",
       "      <td>0</td>\n",
       "    </tr>\n",
       "    <tr>\n",
       "      <th>6509</th>\n",
       "      <td>700</td>\n",
       "      <td>Айдар</td>\n",
       "      <td>22</td>\n",
       "      <td>Омск</td>\n",
       "      <td>free</td>\n",
       "      <td>2567.543847</td>\n",
       "      <td>12.0</td>\n",
       "      <td>2021-06-23</td>\n",
       "      <td>6</td>\n",
       "      <td>8</td>\n",
       "      <td>50</td>\n",
       "      <td>0</td>\n",
       "    </tr>\n",
       "  </tbody>\n",
       "</table>\n",
       "</div>"
      ],
      "text/plain": [
       "      user_id   name  age  city subscription_type     distance  duration  \\\n",
       "6500      700  Айдар   22  Омск              free  2515.690719      15.0   \n",
       "6501      700  Айдар   22  Омск              free   846.932642      17.0   \n",
       "6502      700  Айдар   22  Омск              free  4004.434142      21.0   \n",
       "6503      700  Айдар   22  Омск              free  1205.911290      10.0   \n",
       "6504      700  Айдар   22  Омск              free  3047.379435      18.0   \n",
       "6505      700  Айдар   22  Омск              free  4342.002254      23.0   \n",
       "6506      700  Айдар   22  Омск              free  3798.334905      19.0   \n",
       "6507      700  Айдар   22  Омск              free  2984.551206      16.0   \n",
       "6508      700  Айдар   22  Омск              free  3360.107141      17.0   \n",
       "6509      700  Айдар   22  Омск              free  2567.543847      12.0   \n",
       "\n",
       "           date  month  minute_price  start_ride_price  subscription_fee  \n",
       "6500 2021-01-02      1             8                50                 0  \n",
       "6501 2021-02-01      2             8                50                 0  \n",
       "6502 2021-02-04      2             8                50                 0  \n",
       "6503 2021-02-10      2             8                50                 0  \n",
       "6504 2021-02-14      2             8                50                 0  \n",
       "6505 2021-02-23      2             8                50                 0  \n",
       "6506 2021-03-03      3             8                50                 0  \n",
       "6507 2021-04-09      4             8                50                 0  \n",
       "6508 2021-06-12      6             8                50                 0  \n",
       "6509 2021-06-23      6             8                50                 0  "
      ]
     },
     "execution_count": 12,
     "metadata": {},
     "output_type": "execute_result"
    }
   ],
   "source": [
    "data_sub_free = merged_data.query(\"subscription_type == 'free'\")\n",
    "data_sub_free.head(10)\n"
   ]
  },
  {
   "cell_type": "markdown",
   "id": "daf527e7",
   "metadata": {},
   "source": [
    " <h5>датафрейм c данными о пользователях с подпиской <a class=\"tocSkip\"></h5"
   ]
  },
  {
   "cell_type": "code",
   "execution_count": 13,
   "id": "87b518c7",
   "metadata": {},
   "outputs": [
    {
     "data": {
      "text/html": [
       "<div>\n",
       "<style scoped>\n",
       "    .dataframe tbody tr th:only-of-type {\n",
       "        vertical-align: middle;\n",
       "    }\n",
       "\n",
       "    .dataframe tbody tr th {\n",
       "        vertical-align: top;\n",
       "    }\n",
       "\n",
       "    .dataframe thead th {\n",
       "        text-align: right;\n",
       "    }\n",
       "</style>\n",
       "<table border=\"1\" class=\"dataframe\">\n",
       "  <thead>\n",
       "    <tr style=\"text-align: right;\">\n",
       "      <th></th>\n",
       "      <th>user_id</th>\n",
       "      <th>name</th>\n",
       "      <th>age</th>\n",
       "      <th>city</th>\n",
       "      <th>subscription_type</th>\n",
       "      <th>distance</th>\n",
       "      <th>duration</th>\n",
       "      <th>date</th>\n",
       "      <th>month</th>\n",
       "      <th>minute_price</th>\n",
       "      <th>start_ride_price</th>\n",
       "      <th>subscription_fee</th>\n",
       "    </tr>\n",
       "  </thead>\n",
       "  <tbody>\n",
       "    <tr>\n",
       "      <th>0</th>\n",
       "      <td>1</td>\n",
       "      <td>Кира</td>\n",
       "      <td>22</td>\n",
       "      <td>Тюмень</td>\n",
       "      <td>ultra</td>\n",
       "      <td>4409.919140</td>\n",
       "      <td>26.0</td>\n",
       "      <td>2021-01-01</td>\n",
       "      <td>1</td>\n",
       "      <td>6</td>\n",
       "      <td>0</td>\n",
       "      <td>199</td>\n",
       "    </tr>\n",
       "    <tr>\n",
       "      <th>1</th>\n",
       "      <td>1</td>\n",
       "      <td>Кира</td>\n",
       "      <td>22</td>\n",
       "      <td>Тюмень</td>\n",
       "      <td>ultra</td>\n",
       "      <td>2617.592153</td>\n",
       "      <td>16.0</td>\n",
       "      <td>2021-01-18</td>\n",
       "      <td>1</td>\n",
       "      <td>6</td>\n",
       "      <td>0</td>\n",
       "      <td>199</td>\n",
       "    </tr>\n",
       "    <tr>\n",
       "      <th>2</th>\n",
       "      <td>1</td>\n",
       "      <td>Кира</td>\n",
       "      <td>22</td>\n",
       "      <td>Тюмень</td>\n",
       "      <td>ultra</td>\n",
       "      <td>754.159807</td>\n",
       "      <td>7.0</td>\n",
       "      <td>2021-04-20</td>\n",
       "      <td>4</td>\n",
       "      <td>6</td>\n",
       "      <td>0</td>\n",
       "      <td>199</td>\n",
       "    </tr>\n",
       "    <tr>\n",
       "      <th>3</th>\n",
       "      <td>1</td>\n",
       "      <td>Кира</td>\n",
       "      <td>22</td>\n",
       "      <td>Тюмень</td>\n",
       "      <td>ultra</td>\n",
       "      <td>2694.783254</td>\n",
       "      <td>19.0</td>\n",
       "      <td>2021-08-11</td>\n",
       "      <td>8</td>\n",
       "      <td>6</td>\n",
       "      <td>0</td>\n",
       "      <td>199</td>\n",
       "    </tr>\n",
       "    <tr>\n",
       "      <th>4</th>\n",
       "      <td>1</td>\n",
       "      <td>Кира</td>\n",
       "      <td>22</td>\n",
       "      <td>Тюмень</td>\n",
       "      <td>ultra</td>\n",
       "      <td>4028.687306</td>\n",
       "      <td>27.0</td>\n",
       "      <td>2021-08-28</td>\n",
       "      <td>8</td>\n",
       "      <td>6</td>\n",
       "      <td>0</td>\n",
       "      <td>199</td>\n",
       "    </tr>\n",
       "    <tr>\n",
       "      <th>5</th>\n",
       "      <td>1</td>\n",
       "      <td>Кира</td>\n",
       "      <td>22</td>\n",
       "      <td>Тюмень</td>\n",
       "      <td>ultra</td>\n",
       "      <td>2770.890808</td>\n",
       "      <td>17.0</td>\n",
       "      <td>2021-10-09</td>\n",
       "      <td>10</td>\n",
       "      <td>6</td>\n",
       "      <td>0</td>\n",
       "      <td>199</td>\n",
       "    </tr>\n",
       "    <tr>\n",
       "      <th>6</th>\n",
       "      <td>1</td>\n",
       "      <td>Кира</td>\n",
       "      <td>22</td>\n",
       "      <td>Тюмень</td>\n",
       "      <td>ultra</td>\n",
       "      <td>3039.020292</td>\n",
       "      <td>15.0</td>\n",
       "      <td>2021-10-19</td>\n",
       "      <td>10</td>\n",
       "      <td>6</td>\n",
       "      <td>0</td>\n",
       "      <td>199</td>\n",
       "    </tr>\n",
       "    <tr>\n",
       "      <th>7</th>\n",
       "      <td>1</td>\n",
       "      <td>Кира</td>\n",
       "      <td>22</td>\n",
       "      <td>Тюмень</td>\n",
       "      <td>ultra</td>\n",
       "      <td>2842.118050</td>\n",
       "      <td>24.0</td>\n",
       "      <td>2021-11-06</td>\n",
       "      <td>11</td>\n",
       "      <td>6</td>\n",
       "      <td>0</td>\n",
       "      <td>199</td>\n",
       "    </tr>\n",
       "    <tr>\n",
       "      <th>8</th>\n",
       "      <td>1</td>\n",
       "      <td>Кира</td>\n",
       "      <td>22</td>\n",
       "      <td>Тюмень</td>\n",
       "      <td>ultra</td>\n",
       "      <td>3412.690668</td>\n",
       "      <td>16.0</td>\n",
       "      <td>2021-11-14</td>\n",
       "      <td>11</td>\n",
       "      <td>6</td>\n",
       "      <td>0</td>\n",
       "      <td>199</td>\n",
       "    </tr>\n",
       "    <tr>\n",
       "      <th>9</th>\n",
       "      <td>1</td>\n",
       "      <td>Кира</td>\n",
       "      <td>22</td>\n",
       "      <td>Тюмень</td>\n",
       "      <td>ultra</td>\n",
       "      <td>748.690645</td>\n",
       "      <td>16.0</td>\n",
       "      <td>2021-11-22</td>\n",
       "      <td>11</td>\n",
       "      <td>6</td>\n",
       "      <td>0</td>\n",
       "      <td>199</td>\n",
       "    </tr>\n",
       "  </tbody>\n",
       "</table>\n",
       "</div>"
      ],
      "text/plain": [
       "   user_id  name  age    city subscription_type     distance  duration  \\\n",
       "0        1  Кира   22  Тюмень             ultra  4409.919140      26.0   \n",
       "1        1  Кира   22  Тюмень             ultra  2617.592153      16.0   \n",
       "2        1  Кира   22  Тюмень             ultra   754.159807       7.0   \n",
       "3        1  Кира   22  Тюмень             ultra  2694.783254      19.0   \n",
       "4        1  Кира   22  Тюмень             ultra  4028.687306      27.0   \n",
       "5        1  Кира   22  Тюмень             ultra  2770.890808      17.0   \n",
       "6        1  Кира   22  Тюмень             ultra  3039.020292      15.0   \n",
       "7        1  Кира   22  Тюмень             ultra  2842.118050      24.0   \n",
       "8        1  Кира   22  Тюмень             ultra  3412.690668      16.0   \n",
       "9        1  Кира   22  Тюмень             ultra   748.690645      16.0   \n",
       "\n",
       "        date  month  minute_price  start_ride_price  subscription_fee  \n",
       "0 2021-01-01      1             6                 0               199  \n",
       "1 2021-01-18      1             6                 0               199  \n",
       "2 2021-04-20      4             6                 0               199  \n",
       "3 2021-08-11      8             6                 0               199  \n",
       "4 2021-08-28      8             6                 0               199  \n",
       "5 2021-10-09     10             6                 0               199  \n",
       "6 2021-10-19     10             6                 0               199  \n",
       "7 2021-11-06     11             6                 0               199  \n",
       "8 2021-11-14     11             6                 0               199  \n",
       "9 2021-11-22     11             6                 0               199  "
      ]
     },
     "execution_count": 13,
     "metadata": {},
     "output_type": "execute_result"
    }
   ],
   "source": [
    "data_sub_ultra = merged_data.query(\"subscription_type == 'ultra'\")\n",
    "data_sub_ultra.head(10)"
   ]
  },
  {
   "cell_type": "markdown",
   "id": "7ceee076",
   "metadata": {},
   "source": [
    "<div class=\"alert alert-block alert-success\">\n",
    "<b>✅Комментарий ревьюера:</b> Таблицы созданы верно!  </div>"
   ]
  },
  {
   "cell_type": "markdown",
   "id": "f6ada84c",
   "metadata": {},
   "source": [
    "<h5> 4.3 Визуализируем информацию о расстоянии и времени поездок для пользователей обеих категорий. <a class=\"tocSkip\"></h5"
   ]
  },
  {
   "cell_type": "markdown",
   "id": "e9395764",
   "metadata": {},
   "source": [
    "4.3.1 для пользователей без подписки"
   ]
  },
  {
   "cell_type": "code",
   "execution_count": 14,
   "id": "845ca47f",
   "metadata": {},
   "outputs": [
    {
     "data": {
      "text/plain": [
       "Text(0.5, 1.0, 'Растояние преодолеваемое пользователями без подписки')"
      ]
     },
     "execution_count": 14,
     "metadata": {},
     "output_type": "execute_result"
    },
    {
     "data": {
      "image/png": "[encoded data removed]",
      "text/plain": [
       "<Figure size 432x288 with 1 Axes>"
      ]
     },
     "metadata": {
      "needs_background": "light"
     },
     "output_type": "display_data"
    }
   ],
   "source": [
    "data_sub_free['distance'].hist(bins=50)\n",
    "plt.xlabel('Расстояние')\n",
    "plt.ylabel('Количество пользователей')\n",
    "plt.title('Растояние преодолеваемое пользователями без подписки')"
   ]
  },
  {
   "cell_type": "markdown",
   "id": "6cbadf5c",
   "metadata": {},
   "source": [
    "Наблюдаю два пика, малый пик находиться на растоянии в 700 метров, больший пик на растоянии в 2500."
   ]
  },
  {
   "cell_type": "code",
   "execution_count": 15,
   "id": "9a5edd1b",
   "metadata": {},
   "outputs": [
    {
     "data": {
      "text/plain": [
       "Text(0.5, 1.0, 'Время потраченое пользователями на поездку без подписки')"
      ]
     },
     "execution_count": 15,
     "metadata": {},
     "output_type": "execute_result"
    },
    {
     "data": {
      "image/png": "[encoded data removed]",
      "text/plain": [
       "<Figure size 432x288 with 1 Axes>"
      ]
     },
     "metadata": {
      "needs_background": "light"
     },
     "output_type": "display_data"
    }
   ],
   "source": [
    "data_sub_free['duration'].hist(bins=50)\n",
    "plt.xlabel('Время')\n",
    "plt.ylabel('Количество пользователей')\n",
    "plt.title('Время потраченое пользователями на поездку без подписки')"
   ]
  },
  {
   "cell_type": "markdown",
   "id": "d957b17f",
   "metadata": {},
   "source": [
    "Так же наблюдается два пика, малый пик может говорить о том что люди пробуют пользоваться сервисом, большой пик находиться в районе 18 минут."
   ]
  },
  {
   "cell_type": "markdown",
   "id": "0cd6930d",
   "metadata": {},
   "source": [
    "4.3.2 для пользователей с подпиской"
   ]
  },
  {
   "cell_type": "code",
   "execution_count": 16,
   "id": "e42bac3f",
   "metadata": {},
   "outputs": [
    {
     "data": {
      "text/plain": [
       "Text(0.5, 1.0, 'Растояние преодолеваемое пользователями с подпиской')"
      ]
     },
     "execution_count": 16,
     "metadata": {},
     "output_type": "execute_result"
    },
    {
     "data": {
      "image/png": "[encoded data removed]",
      "text/plain": [
       "<Figure size 432x288 with 1 Axes>"
      ]
     },
     "metadata": {
      "needs_background": "light"
     },
     "output_type": "display_data"
    }
   ],
   "source": [
    "data_sub_ultra['distance'].hist(bins=50)\n",
    "plt.xlabel('Расстояние')\n",
    "plt.ylabel('Количество пользователей')\n",
    "plt.title('Растояние преодолеваемое пользователями с подпиской')"
   ]
  },
  {
   "cell_type": "markdown",
   "id": "8d272684",
   "metadata": {},
   "source": [
    "Дистанция преодолеваемая пользователями с подпиской более узкая чем у пользователей без подписки, малый пик находиться на растоянии в 900 метров, большой на 3100 метров."
   ]
  },
  {
   "cell_type": "code",
   "execution_count": 17,
   "id": "afb53aa7",
   "metadata": {},
   "outputs": [
    {
     "data": {
      "text/plain": [
       "Text(0.5, 1.0, 'Время потраченое пользователями на поездку с подпиской')"
      ]
     },
     "execution_count": 17,
     "metadata": {},
     "output_type": "execute_result"
    },
    {
     "data": {
      "image/png": "[encoded data removed]",
      "text/plain": [
       "<Figure size 432x288 with 1 Axes>"
      ]
     },
     "metadata": {
      "needs_background": "light"
     },
     "output_type": "display_data"
    }
   ],
   "source": [
    "data_sub_ultra['duration'].hist(bins=50)\n",
    "plt.xlabel('Время')\n",
    "plt.ylabel('Количество пользователей')\n",
    "plt.title('Время потраченое пользователями на поездку с подпиской')"
   ]
  },
  {
   "cell_type": "markdown",
   "id": "c583bb57",
   "metadata": {},
   "source": [
    "<div class=\"alert alert-block alert-warning\">\n",
    "<b>🔁Комментарий ревьюера 2:</b> \n",
    "\n",
    "Разве на всех этих гистограммах по оси у отображается количество пользователей?</div>"
   ]
  },
  {
   "cell_type": "markdown",
   "id": "8da1002c",
   "metadata": {
    "id": "5766e785"
   },
   "source": [
    "<div class=\"alert alert-block alert-danger\">\n",
    "<b>❌Комментарий ревьюера:</b>\n",
    "    \n",
    "Проверь, пожалуйста, чтобы у всех визуализаций в проекте были подписаны названия и оси</div>"
   ]
  },
  {
   "cell_type": "markdown",
   "id": "0aa81b5e",
   "metadata": {},
   "source": [
    "<div class=\"alert alert-block alert-success\">\n",
    "<b>✅Комментарий ревьюера 2:</b> Отлично, исправлено!👍  </div>"
   ]
  },
  {
   "cell_type": "markdown",
   "id": "f433f387",
   "metadata": {},
   "source": [
    "<div class=\"alert alert-block alert-info\">\n",
    "<b>🔄Комментарий студента:</b> \n",
    "    \n",
    "Все поправил        "
   ]
  },
  {
   "cell_type": "markdown",
   "id": "974efdf4",
   "metadata": {},
   "source": [
    "<div class=\"alert alert-block alert-warning\">\n",
    "<b>🔁Комментарий ревьюера:</b> \n",
    "\n",
    "Распределения для обеих групп пользователей можно объединить для наглядности, наложив их друг на друга.</div>"
   ]
  },
  {
   "cell_type": "markdown",
   "id": "8b336af4",
   "metadata": {},
   "source": [
    "Время поездок пользователей с подпиской больше чем без, при этом пик в 18 минут совпадает в обоих категориях клиентов."
   ]
  },
  {
   "cell_type": "markdown",
   "id": "305bd1a9",
   "metadata": {},
   "source": [
    "#### Шаг 5. Подсчёт выручки"
   ]
  },
  {
   "cell_type": "markdown",
   "id": "f36fc2ff",
   "metadata": {},
   "source": [
    "<h5> 5.1 датафрейм с агрегированными данными о поездках на основе датафрейма с объединёнными данными из шага 4 <a class=\"tocSkip\"></h5"
   ]
  },
  {
   "cell_type": "code",
   "execution_count": 18,
   "id": "46c457dc",
   "metadata": {},
   "outputs": [
    {
     "data": {
      "text/html": [
       "<div>\n",
       "<style scoped>\n",
       "    .dataframe tbody tr th:only-of-type {\n",
       "        vertical-align: middle;\n",
       "    }\n",
       "\n",
       "    .dataframe tbody tr th {\n",
       "        vertical-align: top;\n",
       "    }\n",
       "\n",
       "    .dataframe thead th {\n",
       "        text-align: right;\n",
       "    }\n",
       "</style>\n",
       "<table border=\"1\" class=\"dataframe\">\n",
       "  <thead>\n",
       "    <tr style=\"text-align: right;\">\n",
       "      <th></th>\n",
       "      <th>month</th>\n",
       "      <th>subscription_type</th>\n",
       "      <th>user_id</th>\n",
       "      <th>distance</th>\n",
       "      <th>duration</th>\n",
       "      <th>count_tips</th>\n",
       "    </tr>\n",
       "  </thead>\n",
       "  <tbody>\n",
       "    <tr>\n",
       "      <th>0</th>\n",
       "      <td>1</td>\n",
       "      <td>free</td>\n",
       "      <td>700</td>\n",
       "      <td>2515.690719</td>\n",
       "      <td>15.0</td>\n",
       "      <td>1</td>\n",
       "    </tr>\n",
       "    <tr>\n",
       "      <th>1</th>\n",
       "      <td>1</td>\n",
       "      <td>free</td>\n",
       "      <td>701</td>\n",
       "      <td>2676.472894</td>\n",
       "      <td>18.0</td>\n",
       "      <td>1</td>\n",
       "    </tr>\n",
       "    <tr>\n",
       "      <th>2</th>\n",
       "      <td>1</td>\n",
       "      <td>free</td>\n",
       "      <td>702</td>\n",
       "      <td>903.861985</td>\n",
       "      <td>16.0</td>\n",
       "      <td>1</td>\n",
       "    </tr>\n",
       "    <tr>\n",
       "      <th>3</th>\n",
       "      <td>1</td>\n",
       "      <td>free</td>\n",
       "      <td>703</td>\n",
       "      <td>3406.580225</td>\n",
       "      <td>24.0</td>\n",
       "      <td>1</td>\n",
       "    </tr>\n",
       "    <tr>\n",
       "      <th>4</th>\n",
       "      <td>1</td>\n",
       "      <td>free</td>\n",
       "      <td>704</td>\n",
       "      <td>3197.139639</td>\n",
       "      <td>18.0</td>\n",
       "      <td>1</td>\n",
       "    </tr>\n",
       "    <tr>\n",
       "      <th>5</th>\n",
       "      <td>1</td>\n",
       "      <td>free</td>\n",
       "      <td>706</td>\n",
       "      <td>7443.193197</td>\n",
       "      <td>37.0</td>\n",
       "      <td>2</td>\n",
       "    </tr>\n",
       "    <tr>\n",
       "      <th>6</th>\n",
       "      <td>1</td>\n",
       "      <td>free</td>\n",
       "      <td>707</td>\n",
       "      <td>7857.433223</td>\n",
       "      <td>44.0</td>\n",
       "      <td>2</td>\n",
       "    </tr>\n",
       "    <tr>\n",
       "      <th>7</th>\n",
       "      <td>1</td>\n",
       "      <td>free</td>\n",
       "      <td>709</td>\n",
       "      <td>3368.357750</td>\n",
       "      <td>25.0</td>\n",
       "      <td>1</td>\n",
       "    </tr>\n",
       "    <tr>\n",
       "      <th>8</th>\n",
       "      <td>1</td>\n",
       "      <td>free</td>\n",
       "      <td>711</td>\n",
       "      <td>9508.637968</td>\n",
       "      <td>61.0</td>\n",
       "      <td>3</td>\n",
       "    </tr>\n",
       "    <tr>\n",
       "      <th>9</th>\n",
       "      <td>1</td>\n",
       "      <td>free</td>\n",
       "      <td>712</td>\n",
       "      <td>2235.247794</td>\n",
       "      <td>19.0</td>\n",
       "      <td>1</td>\n",
       "    </tr>\n",
       "  </tbody>\n",
       "</table>\n",
       "</div>"
      ],
      "text/plain": [
       "   month subscription_type  user_id     distance  duration  count_tips\n",
       "0      1              free      700  2515.690719      15.0           1\n",
       "1      1              free      701  2676.472894      18.0           1\n",
       "2      1              free      702   903.861985      16.0           1\n",
       "3      1              free      703  3406.580225      24.0           1\n",
       "4      1              free      704  3197.139639      18.0           1\n",
       "5      1              free      706  7443.193197      37.0           2\n",
       "6      1              free      707  7857.433223      44.0           2\n",
       "7      1              free      709  3368.357750      25.0           1\n",
       "8      1              free      711  9508.637968      61.0           3\n",
       "9      1              free      712  2235.247794      19.0           1"
      ]
     },
     "metadata": {},
     "output_type": "display_data"
    },
    {
     "name": "stdout",
     "output_type": "stream",
     "text": [
      "<class 'pandas.core.frame.DataFrame'>\n",
      "RangeIndex: 11331 entries, 0 to 11330\n",
      "Data columns (total 6 columns):\n",
      " #   Column             Non-Null Count  Dtype  \n",
      "---  ------             --------------  -----  \n",
      " 0   month              11331 non-null  int64  \n",
      " 1   subscription_type  11331 non-null  object \n",
      " 2   user_id            11331 non-null  int64  \n",
      " 3   distance           11331 non-null  float64\n",
      " 4   duration           11331 non-null  float64\n",
      " 5   count_tips         11331 non-null  int64  \n",
      "dtypes: float64(2), int64(3), object(1)\n",
      "memory usage: 531.3+ KB\n"
     ]
    },
    {
     "data": {
      "text/plain": [
       "None"
      ]
     },
     "metadata": {},
     "output_type": "display_data"
    }
   ],
   "source": [
    "agg_data = merged_data.pivot_table(index = ['month','subscription_type','user_id'],\n",
    "                                  values = ['distance','duration','name'],\n",
    "                                  aggfunc = {'distance':'sum',\n",
    "                                          'duration': 'sum',\n",
    "                                          'name': 'count'}).reset_index()\n",
    "agg_data.rename(columns = {'name':'count_tips'},inplace = True)\n",
    "display(agg_data.head(10))\n",
    "display(agg_data.info())\n"
   ]
  },
  {
   "cell_type": "markdown",
   "id": "39a1ed50",
   "metadata": {},
   "source": [
    "<h5> 5.2 Подсчет выручки<a class=\"tocSkip\"></h5"
   ]
  },
  {
   "cell_type": "code",
   "execution_count": 19,
   "id": "7db31aa9",
   "metadata": {},
   "outputs": [
    {
     "data": {
      "text/html": [
       "<div>\n",
       "<style scoped>\n",
       "    .dataframe tbody tr th:only-of-type {\n",
       "        vertical-align: middle;\n",
       "    }\n",
       "\n",
       "    .dataframe tbody tr th {\n",
       "        vertical-align: top;\n",
       "    }\n",
       "\n",
       "    .dataframe thead th {\n",
       "        text-align: right;\n",
       "    }\n",
       "</style>\n",
       "<table border=\"1\" class=\"dataframe\">\n",
       "  <thead>\n",
       "    <tr style=\"text-align: right;\">\n",
       "      <th></th>\n",
       "      <th>month</th>\n",
       "      <th>subscription_type</th>\n",
       "      <th>user_id</th>\n",
       "      <th>distance</th>\n",
       "      <th>duration</th>\n",
       "      <th>count_tips</th>\n",
       "      <th>revenue_month</th>\n",
       "    </tr>\n",
       "  </thead>\n",
       "  <tbody>\n",
       "    <tr>\n",
       "      <th>0</th>\n",
       "      <td>1</td>\n",
       "      <td>free</td>\n",
       "      <td>700</td>\n",
       "      <td>2515.690719</td>\n",
       "      <td>15.0</td>\n",
       "      <td>1</td>\n",
       "      <td>170.0</td>\n",
       "    </tr>\n",
       "    <tr>\n",
       "      <th>1</th>\n",
       "      <td>1</td>\n",
       "      <td>free</td>\n",
       "      <td>701</td>\n",
       "      <td>2676.472894</td>\n",
       "      <td>18.0</td>\n",
       "      <td>1</td>\n",
       "      <td>194.0</td>\n",
       "    </tr>\n",
       "    <tr>\n",
       "      <th>2</th>\n",
       "      <td>1</td>\n",
       "      <td>free</td>\n",
       "      <td>702</td>\n",
       "      <td>903.861985</td>\n",
       "      <td>16.0</td>\n",
       "      <td>1</td>\n",
       "      <td>178.0</td>\n",
       "    </tr>\n",
       "    <tr>\n",
       "      <th>3</th>\n",
       "      <td>1</td>\n",
       "      <td>free</td>\n",
       "      <td>703</td>\n",
       "      <td>3406.580225</td>\n",
       "      <td>24.0</td>\n",
       "      <td>1</td>\n",
       "      <td>242.0</td>\n",
       "    </tr>\n",
       "    <tr>\n",
       "      <th>4</th>\n",
       "      <td>1</td>\n",
       "      <td>free</td>\n",
       "      <td>704</td>\n",
       "      <td>3197.139639</td>\n",
       "      <td>18.0</td>\n",
       "      <td>1</td>\n",
       "      <td>194.0</td>\n",
       "    </tr>\n",
       "  </tbody>\n",
       "</table>\n",
       "</div>"
      ],
      "text/plain": [
       "   month subscription_type  user_id     distance  duration  count_tips  \\\n",
       "0      1              free      700  2515.690719      15.0           1   \n",
       "1      1              free      701  2676.472894      18.0           1   \n",
       "2      1              free      702   903.861985      16.0           1   \n",
       "3      1              free      703  3406.580225      24.0           1   \n",
       "4      1              free      704  3197.139639      18.0           1   \n",
       "\n",
       "   revenue_month  \n",
       "0          170.0  \n",
       "1          194.0  \n",
       "2          178.0  \n",
       "3          242.0  \n",
       "4          194.0  "
      ]
     },
     "execution_count": 19,
     "metadata": {},
     "output_type": "execute_result"
    }
   ],
   "source": [
    "def revenue(row):\n",
    "    if row['subscription_type'] == 'ultra':\n",
    "        return 6*row['duration']+199\n",
    "    elif row['subscription_type'] == 'free':\n",
    "        return 8*row['duration']+50*row['count_tips']\n",
    "    else:\n",
    "        return 0\n",
    "\n",
    "agg_data['revenue_month'] = agg_data.apply(revenue,axis=1)\n",
    "agg_data.head()\n"
   ]
  },
  {
   "cell_type": "markdown",
   "id": "4ce1baa4",
   "metadata": {},
   "source": [
    "<div class=\"alert alert-block alert-warning\">\n",
    "<b>🔁Комментарий ревьюера:</b> \n",
    "\n",
    "Метод apply применяет функцию построчно, это может быть критично на больших данных, код будет работать очень долго. Тут оптимальнее будет посчитать выручку с помощью простых векторных операций со столбцами (арифметические действия).\n",
    "\n",
    "\n",
    "Код всегда стоит писать более универсальным, без ручного внесения значений. В объединенной таблице у нас уже есть все значения по тарифам для расчета выручки, их можно перенести в сводную таблицу, указав при группировке для них агрегирующую функцию 'first' (или добавив их в индексы, как это было сделано для типа подписки). Или можно к сводной таблице присоединить таблицу с подписками. Тогда все необходимые данные будут в сводной таблице и мы сможем посчитать выручку простыми арифметическими действиями со столбцами сводной таблицы и формула будет единой для обеих групп пользователей.</div>"
   ]
  },
  {
   "cell_type": "markdown",
   "id": "6652025f",
   "metadata": {},
   "source": [
    "<div class=\"alert alert-block alert-success\">\n",
    "<b>✅Комментарий ревьюера:</b> Выручка рассчитана верно!  </div>"
   ]
  },
  {
   "cell_type": "markdown",
   "id": "bb30897d",
   "metadata": {},
   "source": [
    "#### Шаг 6. Проверка гипотез"
   ]
  },
  {
   "cell_type": "markdown",
   "id": "a95104b1",
   "metadata": {},
   "source": [
    "<h5> 6.1 Тратять ли пользователи с подпиской больше времени на поездки?<a class=\"tocSkip\"></h5\n"
   ]
  },
  {
   "cell_type": "markdown",
   "id": "1d4678d6",
   "metadata": {},
   "source": [
    "H_0 Среднее время пользователей с подпиской ULTRA = времени пользователей без подписки(FREE)\n",
    "\n",
    "H_1 Среднее время пользователей с подпиской ULTRA > времени пользователей без подписки(FREE)"
   ]
  },
  {
   "cell_type": "markdown",
   "id": "c0447e33",
   "metadata": {},
   "source": [
    "<div class=\"alert alert-block alert-success\">\n",
    "<b>✅Комментарий ревьюера:</b> Здорово, что формулируешь гипотезы перед проверкой!</div>"
   ]
  },
  {
   "cell_type": "code",
   "execution_count": 20,
   "id": "3a4593b1",
   "metadata": {
    "scrolled": true
   },
   "outputs": [
    {
     "name": "stdout",
     "output_type": "stream",
     "text": [
      "2.4959453720736625e-34\n",
      "Отвергаем нулевую гипотизу\n"
     ]
    }
   ],
   "source": [
    "ultra = data_sub_ultra['duration']\n",
    "free = data_sub_free['duration']\n",
    "\n",
    "result = st.ttest_ind(ultra,\n",
    "                     free,\n",
    "                     alternative = 'greater')\n",
    "alpha = 0.05\n",
    "\n",
    "print(result.pvalue)\n",
    "\n",
    "if result.pvalue < alpha:\n",
    "    print('Отвергаем нулевую гипотизу')\n",
    "else:\n",
    "    print('Нулевую гипотезу не удалось отвергнуть')"
   ]
  },
  {
   "cell_type": "markdown",
   "id": "2ef847d1",
   "metadata": {
    "id": "5766e785"
   },
   "source": [
    "<div class=\"alert alert-block alert-danger\">\n",
    "<b>❌Комментарий ревьюера:</b> \n",
    "    \n",
    "После проверки каждой из гипотез нужно формулировать вывод по полученным результатам, отвечающий на вопрос задания. Тратят ли пользователи с подпиской больше времени на поездки?</div>"
   ]
  },
  {
   "cell_type": "markdown",
   "id": "949d6292",
   "metadata": {},
   "source": [
    "<div class=\"alert alert-block alert-success\">\n",
    "<b>✅Комментарий ревьюера 2:</b> Отлично, исправлено!👍  </div>"
   ]
  },
  {
   "cell_type": "markdown",
   "id": "31b085d6",
   "metadata": {},
   "source": [
    "<div class=\"alert alert-block alert-info\">\n",
    "<b>🔄Комментарий студента:</b> \n",
    "Согласно проведеному тесту мы отвергаем нулевую гипотизу  \"Среднее время пользователей с подпиской ULTRA = времени пользователей без подписки(FREE)\", следовательно мы принимаем альтернативную гипотизу \"Среднее время пользователей с подпиской ULTRA > времени пользователей без подписки(FREE)\", так что да тратят.  "
   ]
  },
  {
   "cell_type": "markdown",
   "id": "163b4850",
   "metadata": {},
   "source": [
    "<h5> 6.2 Можно ли сказать, что среднее расстояние, которое проезжают пользователи с подпиской за одну поездку, не превышает \n",
    "3130 метров? <a class=\"tocSkip\"></h5"
   ]
  },
  {
   "cell_type": "markdown",
   "id": "86f1598f",
   "metadata": {},
   "source": [
    "H_0 Среднее растояние пользователей с подпиской ULTRA = 3130\n",
    "\n",
    "H_1 Среднее растояние пользователей с подпиской ULTRA > 3130"
   ]
  },
  {
   "cell_type": "code",
   "execution_count": 21,
   "id": "abe04727",
   "metadata": {},
   "outputs": [
    {
     "name": "stdout",
     "output_type": "stream",
     "text": [
      "0.9195368847849785\n",
      "Нулевую гипотезу не удалось отвергнуть\n"
     ]
    }
   ],
   "source": [
    "dist_ultra = data_sub_ultra['distance']\n",
    "\n",
    "interested_value = 3130\n",
    "\n",
    "alpha = 0.05\n",
    "\n",
    "result = st.ttest_1samp(dist_ultra,\n",
    "                       interested_value,\n",
    "                       alternative='greater')\n",
    "print(result.pvalue)\n",
    "\n",
    "if result.pvalue < alpha:\n",
    "    print('Отвергаем нулевую гипотизу')\n",
    "else:\n",
    "    print('Нулевую гипотезу не удалось отвергнуть')\n",
    "    \n",
    " "
   ]
  },
  {
   "cell_type": "markdown",
   "id": "82b0bbd6",
   "metadata": {
    "id": "5766e785"
   },
   "source": [
    "<div class=\"alert alert-block alert-danger\">\n",
    "<b>❌Комментарий ревьюера:</b> \n",
    "    \n",
    "Можно ли сказать, что среднее расстояние, которое проезжают пользователи с подпиской за одну поездку, не превышает 3130 метров?</div>"
   ]
  },
  {
   "cell_type": "markdown",
   "id": "b045bc98",
   "metadata": {},
   "source": [
    "<div class=\"alert alert-block alert-info\">\n",
    "<b>🔄Комментарий студента:</b> \n",
    " Согласно проведённому тесту мы не можем отвергать нулевую гипотезу которая гласит что \"Среднее расстояние пользователей по подписке ULTRA = 3130 метров\""
   ]
  },
  {
   "cell_type": "markdown",
   "id": "9bb2d5f7",
   "metadata": {},
   "source": [
    "<div class=\"alert alert-block alert-success\">\n",
    "<b>✅Комментарий ревьюера 2:</b> А значит мы можем сказать, что среднее расстояние, которое проезжают пользователи с подпиской за одну поездку, не превышает 3130 метров)\n",
    "</div>"
   ]
  },
  {
   "cell_type": "markdown",
   "id": "dec6d644",
   "metadata": {},
   "source": [
    "<h5> 6.3 Будет ли помесячная выручка от пользователей с подпиской по месяцам выше, чем выручка от пользователей без подписки.  <a class=\"tocSkip\"></h5"
   ]
  },
  {
   "cell_type": "markdown",
   "id": "361a3f25",
   "metadata": {},
   "source": [
    "H_0 Помесячная выручка от пользователей с подпиской ULTRA = выручке пользователей без подписки(FREE)\n",
    "\n",
    "H_1 Помесячная выручка от пользователей с подпиской ULTRA > выручке пользователей без подписки(FREE)\n"
   ]
  },
  {
   "cell_type": "code",
   "execution_count": 22,
   "id": "00df307c",
   "metadata": {},
   "outputs": [
    {
     "name": "stdout",
     "output_type": "stream",
     "text": [
      "1.8850394384715216e-31\n",
      "Отвергаем нулевую гипотизу\n"
     ]
    }
   ],
   "source": [
    "ultra_per_month = agg_data.loc[agg_data.subscription_type == 'ultra', 'revenue_month']\n",
    "free_per_month = agg_data.loc[agg_data.subscription_type == 'free', 'revenue_month']\n",
    "\n",
    "result = st.ttest_ind(ultra_per_month,\n",
    "                     free_per_month,\n",
    "                     alternative = 'greater')\n",
    "alpha = 0.05\n",
    "\n",
    "print(result.pvalue)\n",
    "\n",
    "if result.pvalue < alpha:\n",
    "    print('Отвергаем нулевую гипотизу')\n",
    "else:\n",
    "    print('Нулевую гипотезу не удалось отвергнуть')\n",
    "    \n"
   ]
  },
  {
   "cell_type": "markdown",
   "id": "1c8381dd",
   "metadata": {
    "id": "5766e785"
   },
   "source": [
    "<div class=\"alert alert-block alert-danger\">\n",
    "<b>❌Комментарий ревьюера:</b> \n",
    "    \n",
    "Выше ли помесячная выручка от пользователей с подпиской?</div>"
   ]
  },
  {
   "cell_type": "markdown",
   "id": "ca921d63",
   "metadata": {},
   "source": [
    "<div class=\"alert alert-block alert-success\">\n",
    "<b>✅Комментарий ревьюера 2:</b> Отлично, исправлено!👍  </div>"
   ]
  },
  {
   "cell_type": "markdown",
   "id": "6e2d837b",
   "metadata": {},
   "source": [
    "<div class=\"alert alert-block alert-info\">\n",
    "<b>🔄Комментарий студента:</b> \n",
    "Согласно проведённому тесту мы отвергаем нашу нулевую гипотезу которая гласит что \"Помесячная выручка от пользователей с подпиской ULTRA = выручке пользователей без подписки(FREE), следственно мы принимает нашу альтернативную гипотезу которая гласит что \"Помесячная выручка от пользователей с подпиской ULTRA > выручке пользователей без подписки(FREE)\"   "
   ]
  },
  {
   "cell_type": "markdown",
   "id": "0a1f21a5",
   "metadata": {},
   "source": [
    "<h5> 6.4 Представьте такую ситуацию: техническая команда сервиса обновила сервера, с которыми взаимодействует мобильное приложение. Она надеется, что из-за этого количество обращений в техподдержку значимо снизилось. Некоторый файл содержит для каждого пользователя данные о количестве обращений до обновления и после него. Какой тест вам понадобился бы для проверки этой гипотезы? <a class=\"tocSkip\"></h5"
   ]
  },
  {
   "cell_type": "markdown",
   "id": "8436c5f0",
   "metadata": {},
   "source": [
    "Поскольку речь сдеь идет о разнице среднего значения генеральной совокупности до и после изменения, то логично предполочить что здесь нужно использовать тест для зависимых парных выборках(scipy.stats.ttest_rel())"
   ]
  },
  {
   "cell_type": "markdown",
   "id": "f9211527",
   "metadata": {},
   "source": [
    "<div class=\"alert alert-block alert-success\">\n",
    "<b>✅Комментарий ревьюера:</b> Метод выбран верно </div>"
   ]
  },
  {
   "cell_type": "markdown",
   "id": "2427a425",
   "metadata": {},
   "source": [
    "#### Шаг 7. Распределения"
   ]
  },
  {
   "cell_type": "markdown",
   "id": "a8ed7445",
   "metadata": {},
   "source": [
    "<h5> Общий вывод<a class=\"tocSkip\"></h5"
   ]
  },
  {
   "cell_type": "markdown",
   "id": "4b5c9c9b",
   "metadata": {},
   "source": [
    "Загружены датафреймы.\n",
    "Проведена предобработка данных:\n",
    "В ходе исследовательского анализа было выявлено:\n",
    "Самое максимальное количество поездок совершено в Пятегорске. Самое минимальное количество поездок совершено в Москве. \n",
    "Количественное соотношение явно показывает, что пользователей с подпиской меньше, чем пользователей без нее. Пользователей с подпиской всего 699, а без подписки 835. \n",
    "Сервисом аренды самокатов пользуются люди от 12 до 43 лет. Наибольшую популярность сервис имеет у пользователей 25 лет.\n",
    "\n",
    "Расмотрено растояние, которое преодолевают пользователи за одну поездку от 1 до 7211 метров.\n",
    "\n",
    "Расмотрена родолжительность поездок от 0 до 41 минуты. Чаще всего пользователь используют самокат на протяжении 18 минут.\n",
    "\n",
    "Рассмотрено расстояние, которое преодолели пользователи с подпиской и без нее. Без подписки распределение расстояние более разнооброзно,чем у пользователей с подпиской. При рассмотрении каждого графика наблюдаем два пика. С подпиской первый небольшой пик находится на меньшем расстоянии и второй большой пик для пользователей с подпиской составил 3100 метров. Без подписки первый пик 700метров, больший пик 2500 метров.\n",
    "\n",
    "Рассмотрены временные показатели пользователей с подпиской и без нее. Время поездок пользователей с подпиской больше чем без, при этом пик в 18 минут совпадает в обоих категориях клиентов.\n",
    "\n",
    "Путем создания сводной таблицы была подсчитана выручка, которую приносят помесячно пользоватали.\n",
    "Проверили гипотезы:\n",
    "Тратять ли пользователи с подпиской больше времени на поездки?(Отвергли нулевую гипотизу)\n",
    "\n",
    "Можно ли сказать, что среднее расстояние, которое проезжают пользователи с подпиской за одну поездку, не превышает 3130 метров?(Не удалось отвергнуть нулевую гипотизу) \n",
    "\n",
    "Будет ли помесячная выручка от пользователей с подпиской по месяцам выше, чем выручка от пользователей без подписки?(Отвергли нулевую гипотизу)"
   ]
  },
  {
   "cell_type": "markdown",
   "id": "27e4e90a",
   "metadata": {
    "id": "5766e785"
   },
   "source": [
    "<div class=\"alert alert-block alert-danger\">\n",
    "<b>❌Комментарий ревьюера:</b> \n",
    "    \n",
    "Нужно обязательно сделать итоговый вывод, кратко резюмирующий проделанную работу **по всем пунктам проекта** и полученные результаты.\n",
    "\n",
    "Могу посоветовать следующую структуру итогового вывода:\n",
    "\n",
    " - Краткий обзор проведенной работы. Что выполнили, сделали, рассчитали. Какие результаты получили.\n",
    " - Главные выводы. Дайте ответы на поставленные вопросы. (В данном случае нужен аргументированный ответ на вопрос, являются ли пользователи с подпиской более выгодными для компании).\n",
    " - Рекомендации. Например, вы можете посоветовать отобрать определенные признаки для прогнозирования в будущем, или дать рекомендации о том, как избежать появления дубликатов или пропущенных значений.</div>"
   ]
  },
  {
   "cell_type": "markdown",
   "id": "522d37a4",
   "metadata": {},
   "source": [
    "<div class=\"alert alert-block alert-success\">\n",
    "<b>✅Комментарий ревьюера 2:</b> Отлично, исправлено!👍  </div>"
   ]
  },
  {
   "cell_type": "markdown",
   "id": "90a75f17",
   "metadata": {},
   "source": [
    "<div class=\"alert alert-block alert-info\">\n",
    "<b>🔄Комментарий студента:</b> \n",
    "Добавил общий вывод"
   ]
  },
  {
   "cell_type": "code",
   "execution_count": null,
   "id": "d4ccdf95",
   "metadata": {},
   "outputs": [],
   "source": []
  }
 ],
 "metadata": {
  "ExecuteTimeLog": [
   {
    "duration": 68,
    "start_time": "2024-05-21T11:42:47.395Z"
   },
   {
    "duration": 62,
    "start_time": "2024-05-21T11:43:02.477Z"
   },
   {
    "duration": 46,
    "start_time": "2024-05-21T11:43:13.174Z"
   },
   {
    "duration": 371,
    "start_time": "2024-05-21T11:43:29.300Z"
   },
   {
    "duration": 227,
    "start_time": "2024-05-21T11:43:29.673Z"
   },
   {
    "duration": 80,
    "start_time": "2024-05-21T11:44:23.091Z"
   },
   {
    "duration": 77,
    "start_time": "2024-05-21T11:44:34.185Z"
   },
   {
    "duration": 47,
    "start_time": "2024-05-21T23:04:07.405Z"
   },
   {
    "duration": 427,
    "start_time": "2024-05-21T23:04:09.658Z"
   },
   {
    "duration": 992,
    "start_time": "2024-05-21T23:04:10.087Z"
   },
   {
    "duration": 324,
    "start_time": "2024-05-21T23:05:02.291Z"
   },
   {
    "duration": 370,
    "start_time": "2024-05-21T23:05:11.518Z"
   },
   {
    "duration": 890,
    "start_time": "2024-05-21T23:06:39.987Z"
   },
   {
    "duration": 7,
    "start_time": "2024-05-21T23:12:56.250Z"
   },
   {
    "duration": 46,
    "start_time": "2024-05-21T23:13:19.128Z"
   },
   {
    "duration": 20,
    "start_time": "2024-05-21T23:13:31.442Z"
   },
   {
    "duration": 20,
    "start_time": "2024-05-21T23:13:49.889Z"
   },
   {
    "duration": 10,
    "start_time": "2024-05-21T23:16:58.644Z"
   },
   {
    "duration": 9,
    "start_time": "2024-05-21T23:19:44.017Z"
   },
   {
    "duration": 10,
    "start_time": "2024-05-21T23:19:56.336Z"
   },
   {
    "duration": 10,
    "start_time": "2024-05-21T23:21:06.106Z"
   },
   {
    "duration": 9,
    "start_time": "2024-05-21T23:21:13.708Z"
   },
   {
    "duration": 7,
    "start_time": "2024-05-21T23:21:18.305Z"
   },
   {
    "duration": 6,
    "start_time": "2024-05-21T23:21:26.202Z"
   },
   {
    "duration": 7,
    "start_time": "2024-05-21T23:22:01.269Z"
   },
   {
    "duration": 6,
    "start_time": "2024-05-21T23:22:14.291Z"
   },
   {
    "duration": 6,
    "start_time": "2024-05-21T23:22:29.394Z"
   },
   {
    "duration": 167,
    "start_time": "2024-05-21T23:32:48.544Z"
   },
   {
    "duration": 237,
    "start_time": "2024-05-21T23:33:21.607Z"
   },
   {
    "duration": 158,
    "start_time": "2024-05-21T23:37:07.758Z"
   },
   {
    "duration": 155,
    "start_time": "2024-05-21T23:37:17.007Z"
   },
   {
    "duration": 164,
    "start_time": "2024-05-21T23:40:12.152Z"
   },
   {
    "duration": 170,
    "start_time": "2024-05-21T23:40:41.802Z"
   },
   {
    "duration": 170,
    "start_time": "2024-05-21T23:43:57.666Z"
   },
   {
    "duration": 143,
    "start_time": "2024-05-21T23:44:31.395Z"
   },
   {
    "duration": 369,
    "start_time": "2024-05-22T06:23:55.114Z"
   },
   {
    "duration": 1717,
    "start_time": "2024-05-22T06:23:55.485Z"
   },
   {
    "duration": 15,
    "start_time": "2024-05-22T06:23:57.203Z"
   },
   {
    "duration": 16,
    "start_time": "2024-05-22T06:23:57.220Z"
   },
   {
    "duration": 208,
    "start_time": "2024-05-22T06:23:57.237Z"
   },
   {
    "duration": 180,
    "start_time": "2024-05-22T06:23:57.446Z"
   },
   {
    "duration": 163,
    "start_time": "2024-05-22T06:29:44.365Z"
   },
   {
    "duration": 160,
    "start_time": "2024-05-22T06:29:58.948Z"
   },
   {
    "duration": 183,
    "start_time": "2024-05-22T06:30:12.515Z"
   },
   {
    "duration": 239,
    "start_time": "2024-05-22T06:30:25.490Z"
   },
   {
    "duration": 181,
    "start_time": "2024-05-22T06:32:38.757Z"
   },
   {
    "duration": 168,
    "start_time": "2024-05-22T06:32:50.887Z"
   },
   {
    "duration": 195,
    "start_time": "2024-05-22T06:36:25.704Z"
   },
   {
    "duration": 4,
    "start_time": "2024-05-22T06:41:30.093Z"
   },
   {
    "duration": 139,
    "start_time": "2024-05-22T06:41:44.416Z"
   },
   {
    "duration": 303,
    "start_time": "2024-05-22T06:41:53.009Z"
   },
   {
    "duration": 229,
    "start_time": "2024-05-22T07:13:22.990Z"
   },
   {
    "duration": 18,
    "start_time": "2024-05-22T07:30:55.206Z"
   },
   {
    "duration": 24,
    "start_time": "2024-05-22T07:31:31.048Z"
   },
   {
    "duration": 17,
    "start_time": "2024-05-22T07:31:45.527Z"
   },
   {
    "duration": 20,
    "start_time": "2024-05-22T07:31:58.862Z"
   },
   {
    "duration": 24,
    "start_time": "2024-05-22T07:32:28.385Z"
   },
   {
    "duration": 18,
    "start_time": "2024-05-22T07:32:43.708Z"
   },
   {
    "duration": 25,
    "start_time": "2024-05-22T07:34:47.989Z"
   },
   {
    "duration": 26,
    "start_time": "2024-05-22T07:35:06.450Z"
   },
   {
    "duration": 31,
    "start_time": "2024-05-22T07:36:28.181Z"
   },
   {
    "duration": 26,
    "start_time": "2024-05-22T07:36:40.470Z"
   },
   {
    "duration": 28,
    "start_time": "2024-05-22T08:20:49.891Z"
   },
   {
    "duration": 15,
    "start_time": "2024-05-22T08:21:56.555Z"
   },
   {
    "duration": 16,
    "start_time": "2024-05-22T08:24:32.323Z"
   },
   {
    "duration": 15,
    "start_time": "2024-05-22T08:24:36.678Z"
   },
   {
    "duration": 58,
    "start_time": "2024-05-22T08:32:24.538Z"
   },
   {
    "duration": 201,
    "start_time": "2024-05-22T08:32:43.605Z"
   },
   {
    "duration": 368,
    "start_time": "2024-05-22T08:34:08.784Z"
   },
   {
    "duration": 389,
    "start_time": "2024-05-22T08:34:27.092Z"
   },
   {
    "duration": 531,
    "start_time": "2024-05-22T08:36:42.980Z"
   },
   {
    "duration": 3,
    "start_time": "2024-05-22T08:36:46.510Z"
   },
   {
    "duration": 1023,
    "start_time": "2024-05-22T08:36:46.515Z"
   },
   {
    "duration": 21,
    "start_time": "2024-05-22T08:36:47.540Z"
   },
   {
    "duration": 10,
    "start_time": "2024-05-22T08:36:47.563Z"
   },
   {
    "duration": 203,
    "start_time": "2024-05-22T08:36:47.574Z"
   },
   {
    "duration": 175,
    "start_time": "2024-05-22T08:36:47.778Z"
   },
   {
    "duration": 191,
    "start_time": "2024-05-22T08:36:47.954Z"
   },
   {
    "duration": 218,
    "start_time": "2024-05-22T08:36:48.147Z"
   },
   {
    "duration": 295,
    "start_time": "2024-05-22T08:36:48.367Z"
   },
   {
    "duration": 26,
    "start_time": "2024-05-22T08:36:48.664Z"
   },
   {
    "duration": 22,
    "start_time": "2024-05-22T08:36:48.692Z"
   },
   {
    "duration": 25,
    "start_time": "2024-05-22T08:36:48.716Z"
   },
   {
    "duration": 396,
    "start_time": "2024-05-22T08:36:48.743Z"
   },
   {
    "duration": 168,
    "start_time": "2024-05-22T08:37:44.280Z"
   },
   {
    "duration": 16,
    "start_time": "2024-05-22T08:39:06.116Z"
   },
   {
    "duration": 12,
    "start_time": "2024-05-22T08:39:26.530Z"
   },
   {
    "duration": 3,
    "start_time": "2024-05-22T08:40:05.089Z"
   },
   {
    "duration": 3,
    "start_time": "2024-05-22T08:41:48.061Z"
   },
   {
    "duration": 968,
    "start_time": "2024-05-22T08:41:48.066Z"
   },
   {
    "duration": 24,
    "start_time": "2024-05-22T08:41:49.037Z"
   },
   {
    "duration": 10,
    "start_time": "2024-05-22T08:41:49.063Z"
   },
   {
    "duration": 209,
    "start_time": "2024-05-22T08:41:49.075Z"
   },
   {
    "duration": 1666,
    "start_time": "2024-05-22T08:41:49.286Z"
   },
   {
    "duration": 205,
    "start_time": "2024-05-22T08:41:50.953Z"
   },
   {
    "duration": 210,
    "start_time": "2024-05-22T08:41:51.161Z"
   },
   {
    "duration": 198,
    "start_time": "2024-05-22T08:41:51.374Z"
   },
   {
    "duration": 26,
    "start_time": "2024-05-22T08:41:51.573Z"
   },
   {
    "duration": 17,
    "start_time": "2024-05-22T08:41:51.600Z"
   },
   {
    "duration": 15,
    "start_time": "2024-05-22T08:41:51.618Z"
   },
   {
    "duration": 3,
    "start_time": "2024-05-22T08:42:27.188Z"
   },
   {
    "duration": 1022,
    "start_time": "2024-05-22T08:42:27.192Z"
   },
   {
    "duration": 13,
    "start_time": "2024-05-22T08:42:28.216Z"
   },
   {
    "duration": 10,
    "start_time": "2024-05-22T08:42:28.231Z"
   },
   {
    "duration": 222,
    "start_time": "2024-05-22T08:42:28.242Z"
   },
   {
    "duration": 163,
    "start_time": "2024-05-22T08:42:28.466Z"
   },
   {
    "duration": 1837,
    "start_time": "2024-05-22T08:42:28.631Z"
   },
   {
    "duration": 205,
    "start_time": "2024-05-22T08:42:30.470Z"
   },
   {
    "duration": 214,
    "start_time": "2024-05-22T08:42:30.677Z"
   },
   {
    "duration": 27,
    "start_time": "2024-05-22T08:42:30.894Z"
   },
   {
    "duration": 72,
    "start_time": "2024-05-22T08:42:30.923Z"
   },
   {
    "duration": 82,
    "start_time": "2024-05-22T08:42:30.997Z"
   },
   {
    "duration": 17696,
    "start_time": "2024-05-22T08:42:47.456Z"
   },
   {
    "duration": 249,
    "start_time": "2024-05-22T10:54:54.640Z"
   },
   {
    "duration": 186,
    "start_time": "2024-05-22T10:57:30.027Z"
   },
   {
    "duration": 217,
    "start_time": "2024-05-22T10:59:18.546Z"
   },
   {
    "duration": 142,
    "start_time": "2024-05-22T10:59:36.510Z"
   },
   {
    "duration": 204,
    "start_time": "2024-05-22T10:59:46.641Z"
   },
   {
    "duration": 212,
    "start_time": "2024-05-22T11:01:03.302Z"
   },
   {
    "duration": 1931,
    "start_time": "2024-05-22T11:01:27.371Z"
   },
   {
    "duration": 230,
    "start_time": "2024-05-22T11:01:37.760Z"
   },
   {
    "duration": 186,
    "start_time": "2024-05-22T11:03:39.399Z"
   },
   {
    "duration": 190,
    "start_time": "2024-05-22T11:03:41.514Z"
   },
   {
    "duration": 211,
    "start_time": "2024-05-22T11:04:01.901Z"
   },
   {
    "duration": 190,
    "start_time": "2024-05-22T11:04:04.392Z"
   },
   {
    "duration": 68,
    "start_time": "2024-05-23T11:03:09.479Z"
   },
   {
    "duration": 1454,
    "start_time": "2024-05-23T11:03:13.847Z"
   },
   {
    "duration": 1193,
    "start_time": "2024-05-23T11:03:15.304Z"
   },
   {
    "duration": 17,
    "start_time": "2024-05-23T11:03:16.498Z"
   },
   {
    "duration": 21,
    "start_time": "2024-05-23T11:03:16.517Z"
   },
   {
    "duration": 220,
    "start_time": "2024-05-23T11:03:16.541Z"
   },
   {
    "duration": 176,
    "start_time": "2024-05-23T11:03:16.763Z"
   },
   {
    "duration": 202,
    "start_time": "2024-05-23T11:03:16.941Z"
   },
   {
    "duration": 208,
    "start_time": "2024-05-23T11:03:17.144Z"
   },
   {
    "duration": 315,
    "start_time": "2024-05-23T11:03:17.354Z"
   },
   {
    "duration": 27,
    "start_time": "2024-05-23T11:03:17.671Z"
   },
   {
    "duration": 40,
    "start_time": "2024-05-23T11:03:17.700Z"
   },
   {
    "duration": 17,
    "start_time": "2024-05-23T11:03:17.742Z"
   },
   {
    "duration": 211,
    "start_time": "2024-05-23T11:03:17.761Z"
   },
   {
    "duration": 201,
    "start_time": "2024-05-23T11:03:17.975Z"
   },
   {
    "duration": 192,
    "start_time": "2024-05-23T11:03:18.178Z"
   },
   {
    "duration": 194,
    "start_time": "2024-05-23T11:03:18.372Z"
   },
   {
    "duration": 3,
    "start_time": "2024-05-23T11:03:18.568Z"
   },
   {
    "duration": 64,
    "start_time": "2024-05-23T11:03:34.170Z"
   },
   {
    "duration": 10,
    "start_time": "2024-05-23T11:03:43.149Z"
   },
   {
    "duration": 21,
    "start_time": "2024-05-23T11:03:54.743Z"
   },
   {
    "duration": 8,
    "start_time": "2024-05-23T11:08:33.013Z"
   },
   {
    "duration": 12,
    "start_time": "2024-05-23T11:08:44.142Z"
   },
   {
    "duration": 13,
    "start_time": "2024-05-23T11:08:55.839Z"
   },
   {
    "duration": 19,
    "start_time": "2024-05-23T11:09:03.079Z"
   },
   {
    "duration": 23,
    "start_time": "2024-05-23T11:11:59.788Z"
   },
   {
    "duration": 23,
    "start_time": "2024-05-23T11:12:08.795Z"
   },
   {
    "duration": 22,
    "start_time": "2024-05-23T11:12:13.661Z"
   },
   {
    "duration": 16,
    "start_time": "2024-05-23T11:12:32.271Z"
   },
   {
    "duration": 13,
    "start_time": "2024-05-23T11:14:49.349Z"
   },
   {
    "duration": 9,
    "start_time": "2024-05-23T11:17:48.639Z"
   },
   {
    "duration": 3,
    "start_time": "2024-05-23T11:17:56.053Z"
   },
   {
    "duration": 1088,
    "start_time": "2024-05-23T11:17:56.058Z"
   },
   {
    "duration": 15,
    "start_time": "2024-05-23T11:17:57.148Z"
   },
   {
    "duration": 18,
    "start_time": "2024-05-23T11:17:57.164Z"
   },
   {
    "duration": 224,
    "start_time": "2024-05-23T11:17:57.185Z"
   },
   {
    "duration": 189,
    "start_time": "2024-05-23T11:17:57.411Z"
   },
   {
    "duration": 191,
    "start_time": "2024-05-23T11:17:57.602Z"
   },
   {
    "duration": 203,
    "start_time": "2024-05-23T11:17:57.795Z"
   },
   {
    "duration": 201,
    "start_time": "2024-05-23T11:17:57.999Z"
   },
   {
    "duration": 39,
    "start_time": "2024-05-23T11:17:58.202Z"
   },
   {
    "duration": 19,
    "start_time": "2024-05-23T11:17:58.242Z"
   },
   {
    "duration": 16,
    "start_time": "2024-05-23T11:17:58.263Z"
   },
   {
    "duration": 233,
    "start_time": "2024-05-23T11:17:58.282Z"
   },
   {
    "duration": 212,
    "start_time": "2024-05-23T11:17:58.517Z"
   },
   {
    "duration": 203,
    "start_time": "2024-05-23T11:17:58.730Z"
   },
   {
    "duration": 199,
    "start_time": "2024-05-23T11:17:58.935Z"
   },
   {
    "duration": 21,
    "start_time": "2024-05-23T11:17:59.136Z"
   },
   {
    "duration": 9,
    "start_time": "2024-05-23T11:17:59.159Z"
   },
   {
    "duration": 16,
    "start_time": "2024-05-23T11:20:44.486Z"
   },
   {
    "duration": 12,
    "start_time": "2024-05-23T11:23:44.190Z"
   },
   {
    "duration": 17,
    "start_time": "2024-05-23T11:23:53.075Z"
   },
   {
    "duration": 256,
    "start_time": "2024-05-23T11:24:33.536Z"
   },
   {
    "duration": 223,
    "start_time": "2024-05-23T11:25:57.058Z"
   },
   {
    "duration": 20,
    "start_time": "2024-05-23T11:27:16.917Z"
   },
   {
    "duration": 149,
    "start_time": "2024-05-23T11:29:50.346Z"
   },
   {
    "duration": 9,
    "start_time": "2024-05-23T11:30:36.310Z"
   },
   {
    "duration": 10,
    "start_time": "2024-05-23T11:30:49.783Z"
   },
   {
    "duration": 66,
    "start_time": "2024-05-23T11:30:59.242Z"
   },
   {
    "duration": 20,
    "start_time": "2024-05-23T11:31:08.609Z"
   },
   {
    "duration": 74,
    "start_time": "2024-05-23T11:31:57.498Z"
   },
   {
    "duration": 15,
    "start_time": "2024-05-23T11:32:05.001Z"
   },
   {
    "duration": 25,
    "start_time": "2024-05-23T11:34:22.883Z"
   },
   {
    "duration": 16,
    "start_time": "2024-05-23T11:34:25.569Z"
   },
   {
    "duration": 24,
    "start_time": "2024-05-23T11:35:46.794Z"
   },
   {
    "duration": 19,
    "start_time": "2024-05-23T11:35:50.537Z"
   },
   {
    "duration": 15,
    "start_time": "2024-05-23T11:39:06.729Z"
   },
   {
    "duration": 14,
    "start_time": "2024-05-23T11:39:23.227Z"
   },
   {
    "duration": 20,
    "start_time": "2024-05-23T11:43:10.984Z"
   },
   {
    "duration": 13,
    "start_time": "2024-05-23T11:43:17.081Z"
   },
   {
    "duration": 9,
    "start_time": "2024-05-23T11:48:31.796Z"
   },
   {
    "duration": 13,
    "start_time": "2024-05-23T11:48:52.065Z"
   },
   {
    "duration": 11,
    "start_time": "2024-05-23T11:49:24.798Z"
   },
   {
    "duration": 19,
    "start_time": "2024-05-23T11:50:34.031Z"
   },
   {
    "duration": 17,
    "start_time": "2024-05-23T11:51:58.131Z"
   },
   {
    "duration": 16,
    "start_time": "2024-05-23T11:53:43.454Z"
   },
   {
    "duration": 12,
    "start_time": "2024-05-23T11:53:50.422Z"
   },
   {
    "duration": 11,
    "start_time": "2024-05-23T11:54:01.248Z"
   },
   {
    "duration": 11,
    "start_time": "2024-05-23T11:56:40.146Z"
   },
   {
    "duration": 15,
    "start_time": "2024-05-23T11:56:55.316Z"
   },
   {
    "duration": 12,
    "start_time": "2024-05-23T11:57:42.343Z"
   },
   {
    "duration": 12,
    "start_time": "2024-05-23T11:58:17.343Z"
   },
   {
    "duration": 15,
    "start_time": "2024-05-23T11:58:37.423Z"
   },
   {
    "duration": 1312,
    "start_time": "2024-05-23T23:02:53.161Z"
   },
   {
    "duration": 1196,
    "start_time": "2024-05-23T23:02:54.475Z"
   },
   {
    "duration": 22,
    "start_time": "2024-05-23T23:02:55.672Z"
   },
   {
    "duration": 22,
    "start_time": "2024-05-23T23:02:55.695Z"
   },
   {
    "duration": 185,
    "start_time": "2024-05-23T23:02:55.719Z"
   },
   {
    "duration": 151,
    "start_time": "2024-05-23T23:02:55.905Z"
   },
   {
    "duration": 166,
    "start_time": "2024-05-23T23:02:56.058Z"
   },
   {
    "duration": 186,
    "start_time": "2024-05-23T23:02:56.226Z"
   },
   {
    "duration": 280,
    "start_time": "2024-05-23T23:02:56.414Z"
   },
   {
    "duration": 25,
    "start_time": "2024-05-23T23:02:56.695Z"
   },
   {
    "duration": 17,
    "start_time": "2024-05-23T23:02:56.721Z"
   },
   {
    "duration": 13,
    "start_time": "2024-05-23T23:02:56.740Z"
   },
   {
    "duration": 198,
    "start_time": "2024-05-23T23:02:56.755Z"
   },
   {
    "duration": 193,
    "start_time": "2024-05-23T23:02:56.956Z"
   },
   {
    "duration": 173,
    "start_time": "2024-05-23T23:02:57.150Z"
   },
   {
    "duration": 172,
    "start_time": "2024-05-23T23:02:57.324Z"
   },
   {
    "duration": 17,
    "start_time": "2024-05-23T23:02:57.497Z"
   },
   {
    "duration": 12,
    "start_time": "2024-05-23T23:02:57.516Z"
   },
   {
    "duration": 177,
    "start_time": "2024-05-23T23:06:28.969Z"
   },
   {
    "duration": 181,
    "start_time": "2024-05-23T23:06:31.068Z"
   },
   {
    "duration": 3,
    "start_time": "2024-05-23T23:06:44.386Z"
   },
   {
    "duration": 1016,
    "start_time": "2024-05-23T23:06:44.391Z"
   },
   {
    "duration": 14,
    "start_time": "2024-05-23T23:06:45.408Z"
   },
   {
    "duration": 25,
    "start_time": "2024-05-23T23:06:45.423Z"
   },
   {
    "duration": 194,
    "start_time": "2024-05-23T23:06:45.450Z"
   },
   {
    "duration": 166,
    "start_time": "2024-05-23T23:06:45.646Z"
   },
   {
    "duration": 188,
    "start_time": "2024-05-23T23:06:45.814Z"
   },
   {
    "duration": 210,
    "start_time": "2024-05-23T23:06:46.004Z"
   },
   {
    "duration": 186,
    "start_time": "2024-05-23T23:06:46.216Z"
   },
   {
    "duration": 26,
    "start_time": "2024-05-23T23:06:46.404Z"
   },
   {
    "duration": 24,
    "start_time": "2024-05-23T23:06:46.432Z"
   },
   {
    "duration": 15,
    "start_time": "2024-05-23T23:06:46.458Z"
   },
   {
    "duration": 196,
    "start_time": "2024-05-23T23:06:46.474Z"
   },
   {
    "duration": 187,
    "start_time": "2024-05-23T23:06:46.672Z"
   },
   {
    "duration": 175,
    "start_time": "2024-05-23T23:06:46.860Z"
   },
   {
    "duration": 306,
    "start_time": "2024-05-23T23:06:47.036Z"
   },
   {
    "duration": 20,
    "start_time": "2024-05-23T23:06:47.344Z"
   },
   {
    "duration": 109,
    "start_time": "2024-05-23T23:06:47.365Z"
   },
   {
    "duration": 99,
    "start_time": "2024-05-23T23:07:58.097Z"
   },
   {
    "duration": 3,
    "start_time": "2024-05-23T23:08:19.240Z"
   },
   {
    "duration": 949,
    "start_time": "2024-05-23T23:08:19.245Z"
   },
   {
    "duration": 14,
    "start_time": "2024-05-23T23:08:20.195Z"
   },
   {
    "duration": 46,
    "start_time": "2024-05-23T23:08:20.210Z"
   },
   {
    "duration": 173,
    "start_time": "2024-05-23T23:08:20.258Z"
   },
   {
    "duration": 166,
    "start_time": "2024-05-23T23:08:20.432Z"
   },
   {
    "duration": 190,
    "start_time": "2024-05-23T23:08:20.600Z"
   },
   {
    "duration": 185,
    "start_time": "2024-05-23T23:08:20.794Z"
   },
   {
    "duration": 195,
    "start_time": "2024-05-23T23:08:20.981Z"
   },
   {
    "duration": 32,
    "start_time": "2024-05-23T23:08:21.178Z"
   },
   {
    "duration": 18,
    "start_time": "2024-05-23T23:08:21.212Z"
   },
   {
    "duration": 15,
    "start_time": "2024-05-23T23:08:21.232Z"
   },
   {
    "duration": 334,
    "start_time": "2024-05-23T23:08:21.249Z"
   },
   {
    "duration": 193,
    "start_time": "2024-05-23T23:08:21.586Z"
   },
   {
    "duration": 182,
    "start_time": "2024-05-23T23:08:21.781Z"
   },
   {
    "duration": 174,
    "start_time": "2024-05-23T23:08:21.965Z"
   },
   {
    "duration": 20,
    "start_time": "2024-05-23T23:08:22.140Z"
   },
   {
    "duration": 53,
    "start_time": "2024-05-23T23:08:22.162Z"
   },
   {
    "duration": 175,
    "start_time": "2024-05-23T23:08:42.393Z"
   },
   {
    "duration": 57,
    "start_time": "2024-05-23T23:11:46.881Z"
   },
   {
    "duration": 57,
    "start_time": "2024-05-23T23:12:01.676Z"
   },
   {
    "duration": 11,
    "start_time": "2024-05-23T23:12:08.169Z"
   },
   {
    "duration": 67,
    "start_time": "2024-05-23T23:16:55.654Z"
   },
   {
    "duration": 174,
    "start_time": "2024-05-23T23:18:52.185Z"
   },
   {
    "duration": 839,
    "start_time": "2024-05-23T23:19:45.804Z"
   },
   {
    "duration": 15,
    "start_time": "2024-05-23T23:21:19.902Z"
   },
   {
    "duration": 18,
    "start_time": "2024-05-23T23:21:34.941Z"
   },
   {
    "duration": 14,
    "start_time": "2024-05-23T23:21:55.802Z"
   },
   {
    "duration": 50,
    "start_time": "2024-05-24T10:50:24.190Z"
   },
   {
    "duration": 1443,
    "start_time": "2024-05-24T10:50:29.993Z"
   },
   {
    "duration": 1281,
    "start_time": "2024-05-24T10:50:31.438Z"
   },
   {
    "duration": 15,
    "start_time": "2024-05-24T10:50:32.721Z"
   },
   {
    "duration": 22,
    "start_time": "2024-05-24T10:50:32.738Z"
   },
   {
    "duration": 255,
    "start_time": "2024-05-24T10:50:32.762Z"
   },
   {
    "duration": 183,
    "start_time": "2024-05-24T10:50:33.018Z"
   },
   {
    "duration": 198,
    "start_time": "2024-05-24T10:50:33.202Z"
   },
   {
    "duration": 208,
    "start_time": "2024-05-24T10:50:33.402Z"
   },
   {
    "duration": 309,
    "start_time": "2024-05-24T10:50:33.611Z"
   },
   {
    "duration": 34,
    "start_time": "2024-05-24T10:50:33.923Z"
   },
   {
    "duration": 38,
    "start_time": "2024-05-24T10:50:33.958Z"
   },
   {
    "duration": 18,
    "start_time": "2024-05-24T10:50:33.998Z"
   },
   {
    "duration": 228,
    "start_time": "2024-05-24T10:50:34.017Z"
   },
   {
    "duration": 205,
    "start_time": "2024-05-24T10:50:34.247Z"
   },
   {
    "duration": 189,
    "start_time": "2024-05-24T10:50:34.454Z"
   },
   {
    "duration": 194,
    "start_time": "2024-05-24T10:50:34.644Z"
   },
   {
    "duration": 77,
    "start_time": "2024-05-24T10:50:34.839Z"
   },
   {
    "duration": 0,
    "start_time": "2024-05-24T10:50:34.918Z"
   },
   {
    "duration": 163,
    "start_time": "2024-05-24T10:50:54.908Z"
   },
   {
    "duration": 9,
    "start_time": "2024-05-24T10:51:05.328Z"
   },
   {
    "duration": 11,
    "start_time": "2024-05-24T10:51:30.095Z"
   },
   {
    "duration": 16,
    "start_time": "2024-05-24T10:51:58.116Z"
   },
   {
    "duration": 22,
    "start_time": "2024-05-24T10:52:14.842Z"
   },
   {
    "duration": 7,
    "start_time": "2024-05-24T10:52:38.835Z"
   },
   {
    "duration": 13,
    "start_time": "2024-05-24T10:55:34.920Z"
   },
   {
    "duration": 15,
    "start_time": "2024-05-24T11:21:56.118Z"
   },
   {
    "duration": 14,
    "start_time": "2024-05-24T11:22:15.280Z"
   },
   {
    "duration": 21,
    "start_time": "2024-05-24T11:23:07.993Z"
   },
   {
    "duration": 14,
    "start_time": "2024-05-24T11:27:21.550Z"
   },
   {
    "duration": 12,
    "start_time": "2024-05-24T11:27:57.732Z"
   },
   {
    "duration": 12,
    "start_time": "2024-05-24T11:30:30.865Z"
   },
   {
    "duration": 10,
    "start_time": "2024-05-24T11:31:15.622Z"
   },
   {
    "duration": 22,
    "start_time": "2024-05-24T11:33:25.308Z"
   },
   {
    "duration": 47,
    "start_time": "2024-05-28T10:15:54.792Z"
   },
   {
    "duration": 1380,
    "start_time": "2024-05-28T10:15:59.837Z"
   },
   {
    "duration": 1308,
    "start_time": "2024-05-28T10:16:01.219Z"
   },
   {
    "duration": 15,
    "start_time": "2024-05-28T10:16:02.529Z"
   },
   {
    "duration": 28,
    "start_time": "2024-05-28T10:16:02.546Z"
   },
   {
    "duration": 200,
    "start_time": "2024-05-28T10:16:02.576Z"
   },
   {
    "duration": 71,
    "start_time": "2024-05-28T10:16:02.777Z"
   },
   {
    "duration": 0,
    "start_time": "2024-05-28T10:16:02.850Z"
   },
   {
    "duration": 0,
    "start_time": "2024-05-28T10:16:02.852Z"
   },
   {
    "duration": 0,
    "start_time": "2024-05-28T10:16:02.853Z"
   },
   {
    "duration": 0,
    "start_time": "2024-05-28T10:16:02.854Z"
   },
   {
    "duration": 0,
    "start_time": "2024-05-28T10:16:02.870Z"
   },
   {
    "duration": 0,
    "start_time": "2024-05-28T10:16:02.871Z"
   },
   {
    "duration": 0,
    "start_time": "2024-05-28T10:16:02.872Z"
   },
   {
    "duration": 0,
    "start_time": "2024-05-28T10:16:02.873Z"
   },
   {
    "duration": 0,
    "start_time": "2024-05-28T10:16:02.875Z"
   },
   {
    "duration": 0,
    "start_time": "2024-05-28T10:16:02.875Z"
   },
   {
    "duration": 0,
    "start_time": "2024-05-28T10:16:02.877Z"
   },
   {
    "duration": 0,
    "start_time": "2024-05-28T10:16:02.878Z"
   },
   {
    "duration": 2,
    "start_time": "2024-05-28T10:16:11.994Z"
   },
   {
    "duration": 1088,
    "start_time": "2024-05-28T10:16:11.998Z"
   },
   {
    "duration": 14,
    "start_time": "2024-05-28T10:16:13.089Z"
   },
   {
    "duration": 17,
    "start_time": "2024-05-28T10:16:13.106Z"
   },
   {
    "duration": 228,
    "start_time": "2024-05-28T10:16:13.125Z"
   },
   {
    "duration": 19,
    "start_time": "2024-05-28T10:16:13.355Z"
   },
   {
    "duration": 0,
    "start_time": "2024-05-28T10:16:13.376Z"
   },
   {
    "duration": 0,
    "start_time": "2024-05-28T10:16:13.377Z"
   },
   {
    "duration": 0,
    "start_time": "2024-05-28T10:16:13.380Z"
   },
   {
    "duration": 0,
    "start_time": "2024-05-28T10:16:13.381Z"
   },
   {
    "duration": 0,
    "start_time": "2024-05-28T10:16:13.383Z"
   },
   {
    "duration": 0,
    "start_time": "2024-05-28T10:16:13.385Z"
   },
   {
    "duration": 0,
    "start_time": "2024-05-28T10:16:13.386Z"
   },
   {
    "duration": 0,
    "start_time": "2024-05-28T10:16:13.388Z"
   },
   {
    "duration": 0,
    "start_time": "2024-05-28T10:16:13.389Z"
   },
   {
    "duration": 0,
    "start_time": "2024-05-28T10:16:13.391Z"
   },
   {
    "duration": 0,
    "start_time": "2024-05-28T10:16:13.393Z"
   },
   {
    "duration": 0,
    "start_time": "2024-05-28T10:16:13.394Z"
   },
   {
    "duration": 174,
    "start_time": "2024-05-28T10:17:06.023Z"
   },
   {
    "duration": 2,
    "start_time": "2024-05-28T10:17:14.441Z"
   },
   {
    "duration": 1006,
    "start_time": "2024-05-28T10:17:14.445Z"
   },
   {
    "duration": 24,
    "start_time": "2024-05-28T10:17:15.452Z"
   },
   {
    "duration": 15,
    "start_time": "2024-05-28T10:17:15.478Z"
   },
   {
    "duration": 212,
    "start_time": "2024-05-28T10:17:15.495Z"
   },
   {
    "duration": 174,
    "start_time": "2024-05-28T10:17:15.708Z"
   },
   {
    "duration": 339,
    "start_time": "2024-05-28T10:17:15.884Z"
   },
   {
    "duration": 206,
    "start_time": "2024-05-28T10:17:16.232Z"
   },
   {
    "duration": 216,
    "start_time": "2024-05-28T10:17:16.439Z"
   },
   {
    "duration": 33,
    "start_time": "2024-05-28T10:17:16.657Z"
   },
   {
    "duration": 19,
    "start_time": "2024-05-28T10:17:16.692Z"
   },
   {
    "duration": 16,
    "start_time": "2024-05-28T10:17:16.713Z"
   },
   {
    "duration": 224,
    "start_time": "2024-05-28T10:17:16.732Z"
   },
   {
    "duration": 205,
    "start_time": "2024-05-28T10:17:16.957Z"
   },
   {
    "duration": 191,
    "start_time": "2024-05-28T10:17:17.164Z"
   },
   {
    "duration": 206,
    "start_time": "2024-05-28T10:17:17.357Z"
   },
   {
    "duration": 23,
    "start_time": "2024-05-28T10:17:17.565Z"
   },
   {
    "duration": 12,
    "start_time": "2024-05-28T10:17:17.589Z"
   },
   {
    "duration": 194,
    "start_time": "2024-05-28T10:20:05.952Z"
   },
   {
    "duration": 208,
    "start_time": "2024-05-28T10:20:54.934Z"
   },
   {
    "duration": 251,
    "start_time": "2024-05-28T10:21:27.833Z"
   },
   {
    "duration": 198,
    "start_time": "2024-05-28T10:21:53.745Z"
   },
   {
    "duration": 51,
    "start_time": "2024-05-28T10:47:47.761Z"
   },
   {
    "duration": 50,
    "start_time": "2024-05-28T10:49:04.484Z"
   },
   {
    "duration": 49,
    "start_time": "2024-05-28T10:49:19.391Z"
   },
   {
    "duration": 52,
    "start_time": "2024-05-28T10:50:15.701Z"
   },
   {
    "duration": 65,
    "start_time": "2024-05-28T10:50:28.966Z"
   },
   {
    "duration": 2,
    "start_time": "2024-05-28T10:51:52.584Z"
   },
   {
    "duration": 974,
    "start_time": "2024-05-28T10:51:52.589Z"
   },
   {
    "duration": 18,
    "start_time": "2024-05-28T10:51:53.565Z"
   },
   {
    "duration": 12,
    "start_time": "2024-05-28T10:51:53.584Z"
   },
   {
    "duration": 211,
    "start_time": "2024-05-28T10:51:53.598Z"
   },
   {
    "duration": 166,
    "start_time": "2024-05-28T10:51:53.811Z"
   },
   {
    "duration": 188,
    "start_time": "2024-05-28T10:51:53.978Z"
   },
   {
    "duration": 203,
    "start_time": "2024-05-28T10:51:54.168Z"
   },
   {
    "duration": 331,
    "start_time": "2024-05-28T10:51:54.373Z"
   },
   {
    "duration": 27,
    "start_time": "2024-05-28T10:51:54.705Z"
   },
   {
    "duration": 17,
    "start_time": "2024-05-28T10:51:54.734Z"
   },
   {
    "duration": 30,
    "start_time": "2024-05-28T10:51:54.753Z"
   },
   {
    "duration": 188,
    "start_time": "2024-05-28T10:51:54.786Z"
   },
   {
    "duration": 194,
    "start_time": "2024-05-28T10:51:54.977Z"
   },
   {
    "duration": 183,
    "start_time": "2024-05-28T10:51:55.173Z"
   },
   {
    "duration": 187,
    "start_time": "2024-05-28T10:51:55.358Z"
   },
   {
    "duration": 59,
    "start_time": "2024-05-28T10:51:55.547Z"
   },
   {
    "duration": 0,
    "start_time": "2024-05-28T10:51:55.607Z"
   },
   {
    "duration": 55,
    "start_time": "2024-05-28T10:53:01.818Z"
   },
   {
    "duration": 37,
    "start_time": "2024-05-28T10:53:50.080Z"
   },
   {
    "duration": 29,
    "start_time": "2024-05-28T10:54:17.829Z"
   },
   {
    "duration": 31,
    "start_time": "2024-05-28T10:54:55.224Z"
   },
   {
    "duration": 26,
    "start_time": "2024-05-28T10:56:07.122Z"
   },
   {
    "duration": 20,
    "start_time": "2024-05-28T10:58:47.696Z"
   },
   {
    "duration": 18,
    "start_time": "2024-05-28T11:02:29.381Z"
   },
   {
    "duration": 26,
    "start_time": "2024-05-28T11:03:22.206Z"
   },
   {
    "duration": 21,
    "start_time": "2024-05-28T11:03:57.003Z"
   },
   {
    "duration": 28,
    "start_time": "2024-05-28T11:04:18.194Z"
   },
   {
    "duration": 23,
    "start_time": "2024-05-28T11:04:50.324Z"
   },
   {
    "duration": 30,
    "start_time": "2024-05-28T11:13:00.947Z"
   },
   {
    "duration": 24,
    "start_time": "2024-05-28T11:13:39.693Z"
   },
   {
    "duration": 24,
    "start_time": "2024-05-28T11:14:08.892Z"
   },
   {
    "duration": 22,
    "start_time": "2024-05-28T11:15:52.353Z"
   },
   {
    "duration": 874,
    "start_time": "2024-05-28T11:23:43.068Z"
   },
   {
    "duration": 859,
    "start_time": "2024-05-28T11:24:57.894Z"
   },
   {
    "duration": 876,
    "start_time": "2024-05-28T11:28:37.277Z"
   },
   {
    "duration": 23,
    "start_time": "2024-05-28T11:30:38.500Z"
   },
   {
    "duration": 32,
    "start_time": "2024-05-28T11:34:38.980Z"
   },
   {
    "duration": 18,
    "start_time": "2024-05-28T11:35:27.349Z"
   },
   {
    "duration": 18,
    "start_time": "2024-05-28T11:35:51.979Z"
   },
   {
    "duration": 35,
    "start_time": "2024-05-28T11:36:14.275Z"
   },
   {
    "duration": 33,
    "start_time": "2024-05-28T11:36:34.726Z"
   },
   {
    "duration": 23,
    "start_time": "2024-05-28T11:36:45.455Z"
   },
   {
    "duration": 39,
    "start_time": "2024-05-28T11:36:49.765Z"
   },
   {
    "duration": 37,
    "start_time": "2024-05-28T11:37:02.738Z"
   },
   {
    "duration": 22,
    "start_time": "2024-05-28T11:37:30.991Z"
   },
   {
    "duration": 32,
    "start_time": "2024-05-28T11:40:38.303Z"
   },
   {
    "duration": 30,
    "start_time": "2024-05-28T11:40:55.554Z"
   },
   {
    "duration": 19,
    "start_time": "2024-05-28T11:41:58.372Z"
   },
   {
    "duration": 30,
    "start_time": "2024-05-28T11:42:27.768Z"
   },
   {
    "duration": 55,
    "start_time": "2024-05-28T11:42:36.278Z"
   },
   {
    "duration": 18,
    "start_time": "2024-05-28T11:42:40.588Z"
   },
   {
    "duration": 23,
    "start_time": "2024-05-28T11:42:53.376Z"
   },
   {
    "duration": 17,
    "start_time": "2024-05-28T11:43:42.413Z"
   },
   {
    "duration": 17,
    "start_time": "2024-05-28T11:43:54.565Z"
   },
   {
    "duration": 25,
    "start_time": "2024-05-28T11:44:03.678Z"
   },
   {
    "duration": 29,
    "start_time": "2024-05-28T11:44:28.895Z"
   },
   {
    "duration": 46,
    "start_time": "2024-05-28T11:44:37.159Z"
   },
   {
    "duration": 31,
    "start_time": "2024-05-28T11:46:57.277Z"
   },
   {
    "duration": 36,
    "start_time": "2024-05-28T11:47:43.561Z"
   },
   {
    "duration": 28,
    "start_time": "2024-05-28T11:48:12.469Z"
   },
   {
    "duration": 32,
    "start_time": "2024-05-28T11:48:25.776Z"
   },
   {
    "duration": 27,
    "start_time": "2024-05-28T11:48:44.800Z"
   },
   {
    "duration": 32,
    "start_time": "2024-05-28T11:48:50.343Z"
   },
   {
    "duration": 35,
    "start_time": "2024-05-28T11:49:10.974Z"
   },
   {
    "duration": 34,
    "start_time": "2024-05-28T11:49:46.862Z"
   },
   {
    "duration": 3,
    "start_time": "2024-05-28T11:50:13.575Z"
   },
   {
    "duration": 1148,
    "start_time": "2024-05-28T11:50:13.580Z"
   },
   {
    "duration": 15,
    "start_time": "2024-05-28T11:50:14.730Z"
   },
   {
    "duration": 24,
    "start_time": "2024-05-28T11:50:14.747Z"
   },
   {
    "duration": 207,
    "start_time": "2024-05-28T11:50:14.773Z"
   },
   {
    "duration": 187,
    "start_time": "2024-05-28T11:50:14.982Z"
   },
   {
    "duration": 204,
    "start_time": "2024-05-28T11:50:15.171Z"
   },
   {
    "duration": 221,
    "start_time": "2024-05-28T11:50:15.376Z"
   },
   {
    "duration": 201,
    "start_time": "2024-05-28T11:50:15.598Z"
   },
   {
    "duration": 30,
    "start_time": "2024-05-28T11:50:15.802Z"
   },
   {
    "duration": 23,
    "start_time": "2024-05-28T11:50:15.834Z"
   },
   {
    "duration": 27,
    "start_time": "2024-05-28T11:50:15.858Z"
   },
   {
    "duration": 211,
    "start_time": "2024-05-28T11:50:15.886Z"
   },
   {
    "duration": 217,
    "start_time": "2024-05-28T11:50:16.099Z"
   },
   {
    "duration": 186,
    "start_time": "2024-05-28T11:50:16.318Z"
   },
   {
    "duration": 182,
    "start_time": "2024-05-28T11:50:16.506Z"
   },
   {
    "duration": 35,
    "start_time": "2024-05-28T11:50:16.691Z"
   },
   {
    "duration": 41,
    "start_time": "2024-05-28T11:50:39.773Z"
   },
   {
    "duration": 216,
    "start_time": "2024-05-28T11:54:34.589Z"
   },
   {
    "duration": 249,
    "start_time": "2024-05-28T11:55:19.763Z"
   },
   {
    "duration": 181,
    "start_time": "2024-05-28T11:58:45.108Z"
   },
   {
    "duration": 50,
    "start_time": "2024-05-28T11:58:52.047Z"
   },
   {
    "duration": 76,
    "start_time": "2024-05-29T10:48:10.993Z"
   },
   {
    "duration": 61,
    "start_time": "2024-05-29T10:48:29.098Z"
   },
   {
    "duration": 1401,
    "start_time": "2024-05-29T10:49:12.391Z"
   },
   {
    "duration": 1196,
    "start_time": "2024-05-29T10:49:13.794Z"
   },
   {
    "duration": 18,
    "start_time": "2024-05-29T10:49:14.992Z"
   },
   {
    "duration": 17,
    "start_time": "2024-05-29T10:49:15.012Z"
   },
   {
    "duration": 252,
    "start_time": "2024-05-29T10:49:15.046Z"
   },
   {
    "duration": 183,
    "start_time": "2024-05-29T10:49:15.299Z"
   },
   {
    "duration": 231,
    "start_time": "2024-05-29T10:49:15.483Z"
   },
   {
    "duration": 266,
    "start_time": "2024-05-29T10:49:15.716Z"
   },
   {
    "duration": 305,
    "start_time": "2024-05-29T10:49:15.983Z"
   },
   {
    "duration": 35,
    "start_time": "2024-05-29T10:49:16.291Z"
   },
   {
    "duration": 35,
    "start_time": "2024-05-29T10:49:16.328Z"
   },
   {
    "duration": 45,
    "start_time": "2024-05-29T10:49:16.364Z"
   },
   {
    "duration": 240,
    "start_time": "2024-05-29T10:49:16.411Z"
   },
   {
    "duration": 198,
    "start_time": "2024-05-29T10:49:16.653Z"
   },
   {
    "duration": 212,
    "start_time": "2024-05-29T10:49:16.853Z"
   },
   {
    "duration": 204,
    "start_time": "2024-05-29T10:49:17.067Z"
   },
   {
    "duration": 47,
    "start_time": "2024-05-29T10:49:17.272Z"
   },
   {
    "duration": 182,
    "start_time": "2024-05-29T10:49:17.321Z"
   },
   {
    "duration": 81,
    "start_time": "2024-05-29T10:49:17.504Z"
   },
   {
    "duration": 12,
    "start_time": "2024-05-29T10:50:40.385Z"
   },
   {
    "duration": 10,
    "start_time": "2024-05-29T10:52:17.022Z"
   },
   {
    "duration": 3,
    "start_time": "2024-05-29T10:54:13.254Z"
   },
   {
    "duration": 3,
    "start_time": "2024-05-29T10:54:16.479Z"
   },
   {
    "duration": 1141,
    "start_time": "2024-05-29T10:54:16.484Z"
   },
   {
    "duration": 21,
    "start_time": "2024-05-29T10:54:17.627Z"
   },
   {
    "duration": 11,
    "start_time": "2024-05-29T10:54:17.651Z"
   },
   {
    "duration": 234,
    "start_time": "2024-05-29T10:54:17.663Z"
   },
   {
    "duration": 189,
    "start_time": "2024-05-29T10:54:17.899Z"
   },
   {
    "duration": 213,
    "start_time": "2024-05-29T10:54:18.090Z"
   },
   {
    "duration": 215,
    "start_time": "2024-05-29T10:54:18.305Z"
   },
   {
    "duration": 240,
    "start_time": "2024-05-29T10:54:18.522Z"
   },
   {
    "duration": 31,
    "start_time": "2024-05-29T10:54:18.764Z"
   },
   {
    "duration": 20,
    "start_time": "2024-05-29T10:54:18.796Z"
   },
   {
    "duration": 38,
    "start_time": "2024-05-29T10:54:18.818Z"
   },
   {
    "duration": 200,
    "start_time": "2024-05-29T10:54:18.858Z"
   },
   {
    "duration": 200,
    "start_time": "2024-05-29T10:54:19.060Z"
   },
   {
    "duration": 195,
    "start_time": "2024-05-29T10:54:19.261Z"
   },
   {
    "duration": 198,
    "start_time": "2024-05-29T10:54:19.458Z"
   },
   {
    "duration": 43,
    "start_time": "2024-05-29T10:54:19.658Z"
   },
   {
    "duration": 182,
    "start_time": "2024-05-29T10:54:19.703Z"
   },
   {
    "duration": 11,
    "start_time": "2024-05-29T10:54:19.886Z"
   },
   {
    "duration": 7,
    "start_time": "2024-05-29T10:54:32.472Z"
   },
   {
    "duration": 10,
    "start_time": "2024-05-29T11:05:23.641Z"
   },
   {
    "duration": 5,
    "start_time": "2024-05-29T11:05:50.176Z"
   },
   {
    "duration": 6,
    "start_time": "2024-05-29T11:06:41.823Z"
   },
   {
    "duration": 10,
    "start_time": "2024-05-29T11:30:02.542Z"
   },
   {
    "duration": 11,
    "start_time": "2024-05-29T11:31:43.393Z"
   },
   {
    "duration": 12,
    "start_time": "2024-05-29T11:32:10.767Z"
   },
   {
    "duration": 8,
    "start_time": "2024-05-29T11:34:09.230Z"
   },
   {
    "duration": 8,
    "start_time": "2024-05-29T11:34:45.633Z"
   },
   {
    "duration": 1196,
    "start_time": "2024-05-30T10:51:41.743Z"
   },
   {
    "duration": 1088,
    "start_time": "2024-05-30T10:51:42.940Z"
   },
   {
    "duration": 12,
    "start_time": "2024-05-30T10:51:44.029Z"
   },
   {
    "duration": 9,
    "start_time": "2024-05-30T10:51:44.042Z"
   },
   {
    "duration": 196,
    "start_time": "2024-05-30T10:51:44.053Z"
   },
   {
    "duration": 158,
    "start_time": "2024-05-30T10:51:44.251Z"
   },
   {
    "duration": 181,
    "start_time": "2024-05-30T10:51:44.411Z"
   },
   {
    "duration": 188,
    "start_time": "2024-05-30T10:51:44.593Z"
   },
   {
    "duration": 91,
    "start_time": "2024-05-30T10:51:44.784Z"
   },
   {
    "duration": 0,
    "start_time": "2024-05-30T10:51:44.877Z"
   },
   {
    "duration": 0,
    "start_time": "2024-05-30T10:51:44.878Z"
   },
   {
    "duration": 0,
    "start_time": "2024-05-30T10:51:44.884Z"
   },
   {
    "duration": 0,
    "start_time": "2024-05-30T10:51:44.884Z"
   },
   {
    "duration": 0,
    "start_time": "2024-05-30T10:51:44.886Z"
   },
   {
    "duration": 0,
    "start_time": "2024-05-30T10:51:44.886Z"
   },
   {
    "duration": 0,
    "start_time": "2024-05-30T10:51:44.887Z"
   },
   {
    "duration": 0,
    "start_time": "2024-05-30T10:51:44.888Z"
   },
   {
    "duration": 0,
    "start_time": "2024-05-30T10:51:44.889Z"
   },
   {
    "duration": 0,
    "start_time": "2024-05-30T10:51:44.890Z"
   },
   {
    "duration": 0,
    "start_time": "2024-05-30T10:51:44.890Z"
   },
   {
    "duration": 0,
    "start_time": "2024-05-30T10:51:44.891Z"
   },
   {
    "duration": 2,
    "start_time": "2024-05-30T10:52:14.651Z"
   },
   {
    "duration": 910,
    "start_time": "2024-05-30T10:52:14.655Z"
   },
   {
    "duration": 19,
    "start_time": "2024-05-30T10:52:15.566Z"
   },
   {
    "duration": 8,
    "start_time": "2024-05-30T10:52:15.587Z"
   },
   {
    "duration": 176,
    "start_time": "2024-05-30T10:52:15.596Z"
   },
   {
    "duration": 147,
    "start_time": "2024-05-30T10:52:15.774Z"
   },
   {
    "duration": 165,
    "start_time": "2024-05-30T10:52:15.922Z"
   },
   {
    "duration": 169,
    "start_time": "2024-05-30T10:52:16.089Z"
   },
   {
    "duration": 173,
    "start_time": "2024-05-30T10:52:16.259Z"
   },
   {
    "duration": 25,
    "start_time": "2024-05-30T10:52:16.434Z"
   },
   {
    "duration": 30,
    "start_time": "2024-05-30T10:52:16.460Z"
   },
   {
    "duration": 14,
    "start_time": "2024-05-30T10:52:16.491Z"
   },
   {
    "duration": 175,
    "start_time": "2024-05-30T10:52:16.506Z"
   },
   {
    "duration": 270,
    "start_time": "2024-05-30T10:52:16.683Z"
   },
   {
    "duration": 160,
    "start_time": "2024-05-30T10:52:16.955Z"
   },
   {
    "duration": 159,
    "start_time": "2024-05-30T10:52:17.116Z"
   },
   {
    "duration": 41,
    "start_time": "2024-05-30T10:52:17.276Z"
   },
   {
    "duration": 152,
    "start_time": "2024-05-30T10:52:17.318Z"
   },
   {
    "duration": 4,
    "start_time": "2024-05-30T10:52:17.471Z"
   },
   {
    "duration": 4,
    "start_time": "2024-05-30T10:52:17.484Z"
   },
   {
    "duration": 15,
    "start_time": "2024-05-30T10:52:17.489Z"
   },
   {
    "duration": 783,
    "start_time": "2024-05-30T11:18:31.210Z"
   },
   {
    "duration": 6,
    "start_time": "2024-05-30T11:22:38.871Z"
   },
   {
    "duration": 4,
    "start_time": "2024-05-30T11:22:57.080Z"
   },
   {
    "duration": 158,
    "start_time": "2024-05-30T11:27:13.423Z"
   },
   {
    "duration": 181,
    "start_time": "2024-05-30T11:33:47.106Z"
   },
   {
    "duration": 134,
    "start_time": "2024-05-30T11:34:09.201Z"
   },
   {
    "duration": 227,
    "start_time": "2024-05-30T11:35:09.273Z"
   },
   {
    "duration": 156,
    "start_time": "2024-05-30T11:36:58.680Z"
   },
   {
    "duration": 154,
    "start_time": "2024-05-30T11:37:11.041Z"
   },
   {
    "duration": 151,
    "start_time": "2024-05-30T11:37:24.489Z"
   },
   {
    "duration": 148,
    "start_time": "2024-05-30T11:40:20.329Z"
   },
   {
    "duration": 151,
    "start_time": "2024-05-30T11:50:12.771Z"
   },
   {
    "duration": 1158,
    "start_time": "2024-05-31T13:10:18.741Z"
   },
   {
    "duration": 1113,
    "start_time": "2024-05-31T13:10:19.901Z"
   },
   {
    "duration": 15,
    "start_time": "2024-05-31T13:10:21.017Z"
   },
   {
    "duration": 24,
    "start_time": "2024-05-31T13:10:21.034Z"
   },
   {
    "duration": 6,
    "start_time": "2024-05-31T13:10:21.059Z"
   },
   {
    "duration": 233,
    "start_time": "2024-05-31T13:10:21.066Z"
   },
   {
    "duration": 185,
    "start_time": "2024-05-31T13:10:21.301Z"
   },
   {
    "duration": 207,
    "start_time": "2024-05-31T13:10:21.488Z"
   },
   {
    "duration": 218,
    "start_time": "2024-05-31T13:10:21.697Z"
   },
   {
    "duration": 202,
    "start_time": "2024-05-31T13:10:21.917Z"
   },
   {
    "duration": 38,
    "start_time": "2024-05-31T13:10:22.121Z"
   },
   {
    "duration": 117,
    "start_time": "2024-05-31T13:10:22.161Z"
   },
   {
    "duration": 17,
    "start_time": "2024-05-31T13:10:22.280Z"
   },
   {
    "duration": 206,
    "start_time": "2024-05-31T13:10:22.298Z"
   },
   {
    "duration": 221,
    "start_time": "2024-05-31T13:10:22.505Z"
   },
   {
    "duration": 195,
    "start_time": "2024-05-31T13:10:22.727Z"
   },
   {
    "duration": 180,
    "start_time": "2024-05-31T13:10:22.923Z"
   },
   {
    "duration": 50,
    "start_time": "2024-05-31T13:10:23.105Z"
   },
   {
    "duration": 151,
    "start_time": "2024-05-31T13:10:23.156Z"
   },
   {
    "duration": 5,
    "start_time": "2024-05-31T13:10:23.309Z"
   },
   {
    "duration": 9,
    "start_time": "2024-05-31T13:10:23.315Z"
   },
   {
    "duration": 21,
    "start_time": "2024-05-31T13:10:23.325Z"
   },
   {
    "duration": 7,
    "start_time": "2024-05-31T13:20:59.562Z"
   },
   {
    "duration": 1124,
    "start_time": "2024-05-31T13:23:41.592Z"
   },
   {
    "duration": 1023,
    "start_time": "2024-05-31T13:23:42.718Z"
   },
   {
    "duration": 15,
    "start_time": "2024-05-31T13:23:43.745Z"
   },
   {
    "duration": 27,
    "start_time": "2024-05-31T13:23:43.761Z"
   },
   {
    "duration": 5,
    "start_time": "2024-05-31T13:23:43.790Z"
   },
   {
    "duration": 222,
    "start_time": "2024-05-31T13:23:43.796Z"
   },
   {
    "duration": 184,
    "start_time": "2024-05-31T13:23:44.020Z"
   },
   {
    "duration": 209,
    "start_time": "2024-05-31T13:23:44.206Z"
   },
   {
    "duration": 232,
    "start_time": "2024-05-31T13:23:44.416Z"
   },
   {
    "duration": 309,
    "start_time": "2024-05-31T13:23:44.650Z"
   },
   {
    "duration": 29,
    "start_time": "2024-05-31T13:23:44.960Z"
   },
   {
    "duration": 20,
    "start_time": "2024-05-31T13:23:44.991Z"
   },
   {
    "duration": 39,
    "start_time": "2024-05-31T13:23:45.012Z"
   },
   {
    "duration": 239,
    "start_time": "2024-05-31T13:23:45.053Z"
   },
   {
    "duration": 221,
    "start_time": "2024-05-31T13:23:45.295Z"
   },
   {
    "duration": 170,
    "start_time": "2024-05-31T13:23:45.518Z"
   },
   {
    "duration": 214,
    "start_time": "2024-05-31T13:23:45.689Z"
   },
   {
    "duration": 57,
    "start_time": "2024-05-31T13:23:45.905Z"
   },
   {
    "duration": 154,
    "start_time": "2024-05-31T13:23:45.964Z"
   },
   {
    "duration": 6,
    "start_time": "2024-05-31T13:23:46.119Z"
   },
   {
    "duration": 27,
    "start_time": "2024-05-31T13:23:46.126Z"
   },
   {
    "duration": 37,
    "start_time": "2024-05-31T13:23:46.154Z"
   },
   {
    "duration": 44,
    "start_time": "2024-05-31T23:43:41.045Z"
   },
   {
    "duration": 1200,
    "start_time": "2024-05-31T23:43:44.813Z"
   },
   {
    "duration": 1091,
    "start_time": "2024-05-31T23:43:46.015Z"
   },
   {
    "duration": 14,
    "start_time": "2024-05-31T23:43:47.107Z"
   },
   {
    "duration": 10,
    "start_time": "2024-05-31T23:43:47.122Z"
   },
   {
    "duration": 5,
    "start_time": "2024-05-31T23:43:47.133Z"
   },
   {
    "duration": 200,
    "start_time": "2024-05-31T23:43:47.139Z"
   },
   {
    "duration": 166,
    "start_time": "2024-05-31T23:43:47.340Z"
   },
   {
    "duration": 182,
    "start_time": "2024-05-31T23:43:47.508Z"
   },
   {
    "duration": 249,
    "start_time": "2024-05-31T23:43:47.691Z"
   },
   {
    "duration": 267,
    "start_time": "2024-05-31T23:43:47.942Z"
   },
   {
    "duration": 37,
    "start_time": "2024-05-31T23:43:48.211Z"
   },
   {
    "duration": 30,
    "start_time": "2024-05-31T23:43:48.249Z"
   },
   {
    "duration": 23,
    "start_time": "2024-05-31T23:43:48.281Z"
   },
   {
    "duration": 192,
    "start_time": "2024-05-31T23:43:48.305Z"
   },
   {
    "duration": 176,
    "start_time": "2024-05-31T23:43:48.498Z"
   },
   {
    "duration": 163,
    "start_time": "2024-05-31T23:43:48.675Z"
   },
   {
    "duration": 196,
    "start_time": "2024-05-31T23:43:48.839Z"
   },
   {
    "duration": 45,
    "start_time": "2024-05-31T23:43:49.036Z"
   },
   {
    "duration": 146,
    "start_time": "2024-05-31T23:43:49.082Z"
   },
   {
    "duration": 6,
    "start_time": "2024-05-31T23:43:49.229Z"
   },
   {
    "duration": 6,
    "start_time": "2024-05-31T23:43:49.236Z"
   },
   {
    "duration": 24,
    "start_time": "2024-05-31T23:43:49.244Z"
   },
   {
    "duration": 68,
    "start_time": "2024-05-31T23:45:24.425Z"
   },
   {
    "duration": 8,
    "start_time": "2024-05-31T23:46:57.685Z"
   },
   {
    "duration": 200,
    "start_time": "2024-05-31T23:47:07.085Z"
   },
   {
    "duration": 9,
    "start_time": "2024-05-31T23:47:21.339Z"
   },
   {
    "duration": 205,
    "start_time": "2024-05-31T23:49:01.360Z"
   },
   {
    "duration": 179,
    "start_time": "2024-05-31T23:49:51.579Z"
   },
   {
    "duration": 192,
    "start_time": "2024-05-31T23:52:54.243Z"
   },
   {
    "duration": 285,
    "start_time": "2024-05-31T23:54:24.864Z"
   },
   {
    "duration": 182,
    "start_time": "2024-05-31T23:55:14.377Z"
   },
   {
    "duration": 188,
    "start_time": "2024-05-31T23:56:24.884Z"
   },
   {
    "duration": 179,
    "start_time": "2024-05-31T23:57:27.475Z"
   },
   {
    "duration": 185,
    "start_time": "2024-05-31T23:57:30.308Z"
   },
   {
    "duration": 207,
    "start_time": "2024-05-31T23:57:33.101Z"
   },
   {
    "duration": 107,
    "start_time": "2024-06-01T00:01:38.029Z"
   },
   {
    "duration": 105,
    "start_time": "2024-06-01T00:01:54.464Z"
   },
   {
    "duration": 103,
    "start_time": "2024-06-01T00:02:35.408Z"
   },
   {
    "duration": 269,
    "start_time": "2024-06-01T00:03:15.120Z"
   },
   {
    "duration": 11,
    "start_time": "2024-06-01T00:04:08.396Z"
   },
   {
    "duration": 19,
    "start_time": "2024-06-01T00:04:25.781Z"
   },
   {
    "duration": 9,
    "start_time": "2024-06-01T00:04:54.960Z"
   },
   {
    "duration": 7,
    "start_time": "2024-06-01T00:05:02.987Z"
   },
   {
    "duration": 78,
    "start_time": "2024-06-01T10:58:00.779Z"
   },
   {
    "duration": 61,
    "start_time": "2024-06-01T10:58:10.773Z"
   },
   {
    "duration": 48,
    "start_time": "2024-06-01T10:58:25.885Z"
   },
   {
    "duration": 53,
    "start_time": "2024-06-01T10:58:44.685Z"
   },
   {
    "duration": 51,
    "start_time": "2024-06-01T10:59:00.233Z"
   },
   {
    "duration": 51,
    "start_time": "2024-06-01T11:05:53.182Z"
   },
   {
    "duration": 46,
    "start_time": "2024-06-01T11:12:48.546Z"
   },
   {
    "duration": 1419,
    "start_time": "2024-06-01T11:13:28.509Z"
   },
   {
    "duration": 71,
    "start_time": "2024-06-01T11:13:35.678Z"
   },
   {
    "duration": 3,
    "start_time": "2024-06-01T11:13:44.160Z"
   },
   {
    "duration": 1309,
    "start_time": "2024-06-01T11:13:44.165Z"
   },
   {
    "duration": 16,
    "start_time": "2024-06-01T11:13:45.476Z"
   },
   {
    "duration": 19,
    "start_time": "2024-06-01T11:13:45.493Z"
   },
   {
    "duration": 12,
    "start_time": "2024-06-01T11:13:45.514Z"
   },
   {
    "duration": 240,
    "start_time": "2024-06-01T11:13:45.528Z"
   },
   {
    "duration": 313,
    "start_time": "2024-06-01T11:13:45.769Z"
   },
   {
    "duration": 289,
    "start_time": "2024-06-01T11:13:46.083Z"
   },
   {
    "duration": 224,
    "start_time": "2024-06-01T11:13:46.374Z"
   },
   {
    "duration": 235,
    "start_time": "2024-06-01T11:13:46.600Z"
   },
   {
    "duration": 225,
    "start_time": "2024-06-01T11:13:46.839Z"
   },
   {
    "duration": 40,
    "start_time": "2024-06-01T11:13:47.066Z"
   },
   {
    "duration": 20,
    "start_time": "2024-06-01T11:13:47.108Z"
   },
   {
    "duration": 17,
    "start_time": "2024-06-01T11:13:47.129Z"
   },
   {
    "duration": 247,
    "start_time": "2024-06-01T11:13:47.147Z"
   },
   {
    "duration": 244,
    "start_time": "2024-06-01T11:13:47.395Z"
   },
   {
    "duration": 213,
    "start_time": "2024-06-01T11:13:47.641Z"
   },
   {
    "duration": 231,
    "start_time": "2024-06-01T11:13:47.856Z"
   },
   {
    "duration": 141,
    "start_time": "2024-06-01T11:13:48.089Z"
   },
   {
    "duration": 167,
    "start_time": "2024-06-01T11:13:48.232Z"
   },
   {
    "duration": 5,
    "start_time": "2024-06-01T11:13:48.401Z"
   },
   {
    "duration": 6,
    "start_time": "2024-06-01T11:13:48.407Z"
   },
   {
    "duration": 10,
    "start_time": "2024-06-01T11:13:48.414Z"
   },
   {
    "duration": 332,
    "start_time": "2024-06-01T11:15:43.841Z"
   },
   {
    "duration": 17,
    "start_time": "2024-06-01T11:21:23.097Z"
   },
   {
    "duration": 16,
    "start_time": "2024-06-01T11:21:41.381Z"
   },
   {
    "duration": 1249,
    "start_time": "2024-06-01T12:55:03.357Z"
   },
   {
    "duration": 1094,
    "start_time": "2024-06-01T12:55:04.608Z"
   },
   {
    "duration": 15,
    "start_time": "2024-06-01T12:55:05.704Z"
   },
   {
    "duration": 41,
    "start_time": "2024-06-01T12:55:05.721Z"
   },
   {
    "duration": 9,
    "start_time": "2024-06-01T12:55:05.763Z"
   },
   {
    "duration": 298,
    "start_time": "2024-06-01T12:55:05.774Z"
   },
   {
    "duration": 206,
    "start_time": "2024-06-01T12:55:06.073Z"
   },
   {
    "duration": 300,
    "start_time": "2024-06-01T12:55:06.280Z"
   },
   {
    "duration": 233,
    "start_time": "2024-06-01T12:55:06.582Z"
   },
   {
    "duration": 242,
    "start_time": "2024-06-01T12:55:06.817Z"
   },
   {
    "duration": 32,
    "start_time": "2024-06-01T12:55:07.061Z"
   },
   {
    "duration": 22,
    "start_time": "2024-06-01T12:55:07.095Z"
   },
   {
    "duration": 47,
    "start_time": "2024-06-01T12:55:07.118Z"
   },
   {
    "duration": 248,
    "start_time": "2024-06-01T12:55:07.167Z"
   },
   {
    "duration": 278,
    "start_time": "2024-06-01T12:55:07.417Z"
   },
   {
    "duration": 213,
    "start_time": "2024-06-01T12:55:07.697Z"
   },
   {
    "duration": 225,
    "start_time": "2024-06-01T12:55:07.911Z"
   },
   {
    "duration": 51,
    "start_time": "2024-06-01T12:55:08.137Z"
   },
   {
    "duration": 185,
    "start_time": "2024-06-01T12:55:08.190Z"
   },
   {
    "duration": 6,
    "start_time": "2024-06-01T12:55:08.377Z"
   },
   {
    "duration": 6,
    "start_time": "2024-06-01T12:55:08.385Z"
   },
   {
    "duration": 9,
    "start_time": "2024-06-01T12:55:08.392Z"
   },
   {
    "duration": 1489,
    "start_time": "2024-06-01T13:32:02.492Z"
   },
   {
    "duration": 1353,
    "start_time": "2024-06-01T13:32:03.983Z"
   },
   {
    "duration": 16,
    "start_time": "2024-06-01T13:32:05.338Z"
   },
   {
    "duration": 39,
    "start_time": "2024-06-01T13:32:05.356Z"
   },
   {
    "duration": 18,
    "start_time": "2024-06-01T13:32:05.399Z"
   },
   {
    "duration": 272,
    "start_time": "2024-06-01T13:32:05.420Z"
   },
   {
    "duration": 249,
    "start_time": "2024-06-01T13:32:05.695Z"
   },
   {
    "duration": 333,
    "start_time": "2024-06-01T13:32:05.945Z"
   },
   {
    "duration": 263,
    "start_time": "2024-06-01T13:32:06.280Z"
   },
   {
    "duration": 243,
    "start_time": "2024-06-01T13:32:06.544Z"
   },
   {
    "duration": 39,
    "start_time": "2024-06-01T13:32:06.789Z"
   },
   {
    "duration": 21,
    "start_time": "2024-06-01T13:32:06.830Z"
   },
   {
    "duration": 17,
    "start_time": "2024-06-01T13:32:06.853Z"
   },
   {
    "duration": 240,
    "start_time": "2024-06-01T13:32:06.898Z"
   },
   {
    "duration": 267,
    "start_time": "2024-06-01T13:32:07.140Z"
   },
   {
    "duration": 253,
    "start_time": "2024-06-01T13:32:07.409Z"
   },
   {
    "duration": 263,
    "start_time": "2024-06-01T13:32:07.664Z"
   },
   {
    "duration": 47,
    "start_time": "2024-06-01T13:32:07.929Z"
   },
   {
    "duration": 171,
    "start_time": "2024-06-01T13:32:08.000Z"
   },
   {
    "duration": 6,
    "start_time": "2024-06-01T13:32:08.173Z"
   },
   {
    "duration": 24,
    "start_time": "2024-06-01T13:32:08.192Z"
   },
   {
    "duration": 12,
    "start_time": "2024-06-01T13:32:08.217Z"
   }
  ],
  "kernelspec": {
   "display_name": "Python 3 (ipykernel)",
   "language": "python",
   "name": "python3"
  },
  "language_info": {
   "codemirror_mode": {
    "name": "ipython",
    "version": 3
   },
   "file_extension": ".py",
   "mimetype": "text/x-python",
   "name": "python",
   "nbconvert_exporter": "python",
   "pygments_lexer": "ipython3",
   "version": "3.9.5"
  },
  "toc": {
   "base_numbering": 1,
   "nav_menu": {},
   "number_sections": true,
   "sideBar": true,
   "skip_h1_title": true,
   "title_cell": "Table of Contents",
   "title_sidebar": "Contents",
   "toc_cell": false,
   "toc_position": {},
   "toc_section_display": true,
   "toc_window_display": false
  }
 },
 "nbformat": 4,
 "nbformat_minor": 5
}
